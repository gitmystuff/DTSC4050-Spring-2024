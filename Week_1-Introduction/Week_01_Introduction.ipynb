{
  "cells": [
    {
      "cell_type": "markdown",
      "metadata": {
        "id": "view-in-github",
        "colab_type": "text"
      },
      "source": [
        "<a href=\"https://colab.research.google.com/github/gitmystuff/DTSC4050/blob/main/Week_1-Introduction/Week_01_Introduction.ipynb\" target=\"_parent\"><img src=\"https://colab.research.google.com/assets/colab-badge.svg\" alt=\"Open In Colab\"/></a>"
      ]
    },
    {
      "cell_type": "markdown",
      "id": "1447dd83",
      "metadata": {
        "id": "1447dd83"
      },
      "source": [
        "# Week 1 - Introduction\n",
        "\n"
      ]
    },
    {
      "cell_type": "markdown",
      "source": [
        "## Data\n",
        "\n",
        "From Wikipedia (https://en.m.wikipedia.org/wiki/Data):\n",
        "* A set of values of qualitative or quantitative variables about one or more persons or objects\n",
        "* A datum (singular of data) is a single value of a single variable\n",
        "* Although the terms \"data\" and \"information\" are often used interchangeably, data are sometimes said to be transformed into information when they are viewed in context or in post-analysis\n",
        "* Data are measured, collected, reported, and analyzed, and used to create data visualizations such as graphs, tables or images\n",
        "* Data as a general concept refers to the fact that some existing information or knowledge is represented or coded in some form suitable for better usage or processing"
      ],
      "metadata": {
        "id": "kpEY4fZw9cYe"
      },
      "id": "kpEY4fZw9cYe"
    },
    {
      "cell_type": "markdown",
      "id": "6d20ec3c",
      "metadata": {
        "id": "6d20ec3c"
      },
      "source": [
        "## Science\n",
        "\n",
        "From Wikipedia (https://en.m.wikipedia.org/wiki/Science):\n",
        "* Modern science is commonly divided into three major branches: natural science, social science, and formal science\n",
        "* Logic, mathematics, statistics, and computer science are listed under formal science\n",
        "* Formal science is an area of study that generates knowledge using formal systems\n",
        "* Formal science is a priori, knowledge which is independent of experience\n",
        "* Scientific method involves using the scientific method, which seeks to objectively explain the events of nature in a reproducible way\n",
        "* The steps listed for the scientific method vary from text to text but usually include, a) define the problem, b) gather background information, c) form a hypothesis, d) make observations, e) test the hypothesis, and f) draw conclusions. https://www.ncbi.nlm.nih.gov/pmc/articles/PMC1635141"
      ]
    },
    {
      "cell_type": "markdown",
      "id": "dcaa9c60",
      "metadata": {
        "id": "dcaa9c60"
      },
      "source": [
        "## Data Science\n",
        "\n",
        "From Wikipedia (https://en.m.wikipedia.org/wiki/Data_science):\n",
        "* Data science is an interdisciplinary field that uses scientific methods, processes, algorithms and systems to extract knowledge and insights from noisy, structured and unstructured data, and apply knowledge and actionable insights from data across a broad range of application domains\n",
        "* SQL, Data Management, Programming, and Statistics"
      ]
    },
    {
      "cell_type": "markdown",
      "id": "6d0af2a1",
      "metadata": {
        "id": "6d0af2a1"
      },
      "source": [
        "## Domain\n",
        "* Data Analysis\n",
        "* Machine Learning\n",
        "* Artificial Intelligence\n",
        "* Math\n",
        "* Statistics\n",
        "* Computer Science\n",
        "* Information Technology\n",
        "* Business Knowledge"
      ]
    },
    {
      "cell_type": "markdown",
      "id": "0f4793e2",
      "metadata": {
        "id": "0f4793e2"
      },
      "source": [
        "## Top Ten Lists\n",
        "\n",
        "https://www.kdnuggets.com/2020/08/top-10-lists-data-science.html"
      ]
    },
    {
      "cell_type": "markdown",
      "id": "3c727ab1",
      "metadata": {
        "id": "3c727ab1"
      },
      "source": [
        "## Some Tools\n",
        "\n",
        "* R\n",
        "* SPSS\n",
        "* SAS\n",
        "* Excel\n",
        "* Power BI\n",
        "* Tableau\n",
        "* Python (Colab)\n",
        "* SQL"
      ]
    },
    {
      "cell_type": "markdown",
      "id": "00bfba26",
      "metadata": {
        "id": "00bfba26"
      },
      "source": [
        "## Statistical Learning vs Machine Learning\n",
        "\n",
        "<table>\n",
        "<tr>\n",
        "<th>Statistical Learning</th>\n",
        "<th>Machine Learning</th>\n",
        "</tr>\n",
        "<tr>\n",
        "<td style='text-align: left;'>\n",
        "<ul>\n",
        "<li>Statistical significance / tests</li>\n",
        "<li>Strong explanatory power</li>\n",
        "<li>ANOVA, t-test</li>\n",
        "<li>Model diagnostics, model building </li>\n",
        "<li>Model selection (forward selection, backward selection, stepwise selection)</li>\n",
        "<li>Evaluation (AIC, BIC)</li>\n",
        "<li>Standard transformations (e.g. Box-Cox)</li>\n",
        "<li>Residual analysis</li>\n",
        "<li>Generalized linear models (GLM)</li>\n",
        "<li>Longitudinal data, time series</li>\n",
        "<li>Experimental design</li>\n",
        "<li>Covariates, predictors, outcomes, independent / dependent variables</li>\n",
        "<li>Normal distribution</li>\n",
        "<li>Interpretation</li>\n",
        "<li>Regression Analysis </li>\n",
        "</ul>          \n",
        "</td>    \n",
        "<td style='text-align: left;'>\n",
        "<ul>\n",
        "<li>Loss function</li>\n",
        "<li>Minimizing the loss function</li>\n",
        "<li>Train and test sets</li>\n",
        "<li>High predictive accuracy</li>\n",
        "<li>Hyperparameters, generalization, overfitting, regularization</li>\n",
        "<li>Inputs and outputs (targets)</li>\n",
        "<li>Gaussian distribution</li>\n",
        "<li>Implementation</li>\n",
        "<li>Linear Regression</li>\n",
        "<li>Calculus</li>\n",
        "<li>Python</li>\n",
        "<li>Linear algebra (vectors, matrices)</li>\n",
        "<li>Probability</li>\n",
        "</ul>        \n",
        "</td>\n",
        "</tr>\n",
        "</table>"
      ]
    },
    {
      "cell_type": "markdown",
      "id": "b5cfbc70",
      "metadata": {
        "id": "b5cfbc70"
      },
      "source": [
        "## Data Science Process\n",
        "\n",
        "https://www.springboard.com/blog/wp-content/uploads/2022/05/data-science-life-cycle.png\n",
        "\n",
        "* Understanding the problem and getting the data\n",
        "* Data preparation and exploratory data analysis\n",
        "* Feature engineering\n",
        "* Feature selection\n",
        "* Model selection\n",
        "* Model training\n",
        "* Model testing\n",
        "* Model tuning\n",
        "* Reporting"
      ]
    },
    {
      "cell_type": "markdown",
      "id": "02e8c4d6",
      "metadata": {
        "id": "02e8c4d6"
      },
      "source": [
        "## Statistics\n",
        "\n",
        "* Drawing a sample from a population and inferring characteristics from that sample to the population\n",
        "* A statistic describes a sample, a parameter describes a population\n",
        "* Data is a human artifact\n",
        "* Limited in capacity to describe the world\n",
        "* Limited because of variablility\n",
        "* Average GDP per capita income is not the same as the average family income\n",
        "* One is GDP / population, other is sum(FAMILY income) / # of FAMILIES\n",
        "* https://www.econ.iastate.edu/ask-an-economist/why-does-gdp-capita-differ-average-family-income\n",
        "* We all get a 10% raise but my raise is 20 times more than yours\n",
        "* Upper mgmt (1 million a year) vs assembly line (50k a year)\n",
        "* Dr Death TV series, the need for statistical monitoring\n",
        "* The real Dr Death, Harold Shipman, serial killer vs mass murderer?\n",
        "* https://en.wikipedia.org/wiki/Harold_Shipman\n",
        "* At first elderly until a nurse expressed some concerns\n",
        "* Notice the patterns in last paragraph of https://en.wikipedia.org/wiki/Harold_Shipman#Detection\n",
        "* How many trees are there?\n",
        "* What is a tree?\n",
        "* Selected smaller biomes and counted the trees\n",
        "* Then aggregated the numbers and came up with about 3 trillion trees about half of what researchers think existed in earlier days\n",
        "* Measuring happiness, 2017, on a scale\n",
        "* Question the numbers that you encounter\n",
        "* Summary data - the average and deviations\n",
        "* Airplane seats and airplane bullet holes\n",
        "* https://dlm-econometrics.blogspot.com/2020/04/the-average-man.html\n",
        "* https://en.wikipedia.org/wiki/Survivorship_bias\n",
        "* Visualizations and story telling\n",
        "* Distinguishing between chance and pattern\n",
        "\n",
        "### Short History\n",
        "\n",
        "* Antiquity: how much land, how many people, how much gold\n",
        "* 1500s: Gerolamo Cardano and Games of Chance\n",
        "* 1650s: Blaise Pascal and Pierre de Fermat use probability for gambling, ages of death, pensions and annuities\n",
        "* Graunt and Petty (1662): produced the first life table, giving probabilities of survival to each age... using analysis of the mortality rolls to make the first statistically based estimation of the population of London. He knew that there were around 13,000 funerals per year in London and that three people died per eleven families per year. He estimated from the parish records that the average family size was 8 and calculated that the population of London was about 384,000; this is the first known use of a ratio estimator.\n",
        "* 1700s: the systematic collection of demographics and economic data (census and gdp), astronomy\n",
        "* Laplace estimated the population of France with a similar method; see Ratio estimator § History for details. Laplace (1774) is also credited for the fame of Bayes (1702 - 1761) as well as using a curve to show normal probabilities\n",
        "* Bernoulli (1778): a system of concurrent errors\n",
        "* 1800s: statistics broadened to the discipline concerned with the collection, summary, and analysis of data\n",
        "* Gauss (1809): method of least squares (behind Legendre, 1805 and Adrain, 1808)\n",
        "* Bessel (1815): median deviation from the mean\n",
        "* Quetelet (1850 ish): the average man, social statistics\n",
        "* Galton, Pearson, Fisher, Gosset (1900s): Classical Statistics\n",
        "* Keynes, Ramsey, Savage, Beranardo, Turing are names associated with Bayesian Statistics\n",
        "* Path Analysis, Causal Inference, Knowledge Graphs, Semantic Web, and Artificial Intelligence\n",
        "\n",
        "https://en.wikipedia.org/wiki/History_of_statistics\n"
      ]
    },
    {
      "cell_type": "markdown",
      "source": [
        "## Data Science and Python Online Books\n",
        "\n",
        "* https://www.statlearning.com/ (all lectures on YouTube)\n",
        "* https://jakevdp.github.io/PythonDataScienceHandbook/"
      ],
      "metadata": {
        "id": "0hQJVn_A_h01"
      },
      "id": "0hQJVn_A_h01"
    },
    {
      "cell_type": "markdown",
      "id": "6d59397d",
      "metadata": {
        "id": "6d59397d"
      },
      "source": [
        "## Books Borrowed From\n",
        "\n",
        "* Everybody Lies: Big Data, New Data, and What the Internet Can Tell Us About Who We Really Are by Seth Stephens-Davidowitz\n",
        "* Naked Statistics: Stripping the Dread from the Data 1st Edition by Charles Wheelan\n",
        "* Weapons of Math Destruction: How Big Data Increases Inequality and Threatens Democracy by Cathy O'Neil\n",
        "* The Art of Statistics: How to Learn from Data by David Spiegelhalter\n",
        "* The Drunkard's Walk: How Randomness Rules Our Lives by Leonard Mlodinow, Sean Pratt, et al.\n",
        "* The Master Algorithm: How the Quest for the Ultimate Learning Machine Will Remake Our World by Pedro Domingos\n",
        "* The Book of Why by Judea Pearl and Dana MacKenzie\n",
        "* The History of Statistics by Stephen Stigler\n",
        "* The End of Average by Todd Rose\n",
        "* Outliers by Malcom Gladwell\n",
        "* Freakonomics by Stephen J. Dubner and Steven Levitt"
      ]
    }
  ],
  "metadata": {
    "kernelspec": {
      "display_name": "Python 3 (ipykernel)",
      "language": "python",
      "name": "python3"
    },
    "language_info": {
      "codemirror_mode": {
        "name": "ipython",
        "version": 3
      },
      "file_extension": ".py",
      "mimetype": "text/x-python",
      "name": "python",
      "nbconvert_exporter": "python",
      "pygments_lexer": "ipython3",
      "version": "3.9.7"
    },
    "colab": {
      "provenance": [],
      "toc_visible": true,
      "include_colab_link": true
    }
  },
  "nbformat": 4,
  "nbformat_minor": 5
}