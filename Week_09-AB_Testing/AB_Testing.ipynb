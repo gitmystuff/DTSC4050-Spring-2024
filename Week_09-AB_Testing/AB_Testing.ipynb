{
  "cells": [
    {
      "cell_type": "markdown",
      "metadata": {
        "id": "view-in-github",
        "colab_type": "text"
      },
      "source": [
        "<a href=\"https://colab.research.google.com/github/gitmystuff/DTSC4050/blob/main/Week_09-AB_Testing/AB_Testing.ipynb\" target=\"_parent\"><img src=\"https://colab.research.google.com/assets/colab-badge.svg\" alt=\"Open In Colab\"/></a>"
      ]
    },
    {
      "cell_type": "markdown",
      "source": [
        "# AB Testing"
      ],
      "metadata": {
        "id": "OaDSGpUpCe6k"
      },
      "id": "OaDSGpUpCe6k"
    },
    {
      "cell_type": "markdown",
      "source": [
        "## Getting Started\n",
        "\n",
        "* Colab - get notebook from gitmystuff DTSC4050 repository\n",
        "* Save a Copy in Drive\n",
        "* Remove Copy of\n",
        "* Edit name\n",
        "* Take attendance\n",
        "* Clean up Colab Notebooks folder\n",
        "* Submit shared link"
      ],
      "metadata": {
        "id": "6na-OCmjCjZm"
      },
      "id": "6na-OCmjCjZm"
    },
    {
      "cell_type": "markdown",
      "source": [
        "## Readings\n",
        "\n",
        "* https://towardsdatascience.com/how-to-advance-in-data-science-1e587c32f7c9\n",
        "* https://towardsdatascience.com/how-to-create-a-successful-data-presentation-dbaf0f55bbb8\n",
        "* https://python.plainenglish.io/stop-cleaning-data-in-python-ac52c1ce6dff\n",
        "* https://eric-sandosham.medium.com/the-problem-with-data-governance-2570f0573f3a\n",
        "* https://towardsdatascience.com/rebuilding-the-portfolio-that-got-me-a-data-scientist-job-0bcdaf391915\n",
        "* https://breakingdefense.com/2024/03/the-difference-between-artificial-intelligence-and-machine-learning-and-why-it-matters/\n",
        "* https://www.kdnuggets.com/boost-your-data-science-skills-the-essential-sql-certifications-you-need\n",
        "* https://towardsdatascience.com/i-spent-96k-to-become-a-data-scientist-heres-5-crucial-lessons-all-beginners-must-know-7a13ef389285\n",
        "* https://python.plainenglish.io/use-and-to-make-your-python-function-parameters-look-neater-7ca80f874893\n",
        "* https://towardsdatascience.com/revisiting-the-death-of-data-science-2f1398ed2cbb\n",
        "* https://towardsdatascience.com/building-durable-data-pipelines-cf3cbf68a7e6\n",
        "* https://levelup.gitconnected.com/how-to-visualize-data-distributions-in-python-with-7-astonishing-techniques-d4916181ecd0\n",
        "* https://towardsdatascience.com/how-to-use-sqlalchemy-to-make-database-requests-asynchronously-e90a4c8c11b1\n",
        "* https://towardsdatascience.com/data-visualization-cheat-sheet-for-basic-machine-learning-algorithms-770c8e61729d\n",
        "* https://drlee.io/you-cant-understand-chatgpt-if-you-don-t-understand-word2vec-step-by-step-code-with-intuitions-dd47ebb596e4\n",
        "* https://towardsdatascience.com/how-to-learn-the-math-needed-for-data-science-86c6643b0c59\n",
        "* https://towardsdatascience.com/structure-and-relationships-graph-neural-networks-and-a-pytorch-implementation-c9d83b71c041\n",
        "* https://levelup.gitconnected.com/llms-meet-sql-revolutionizing-data-querying-with-natural-language-processing-52487337f043\n",
        "* https://towardsdatascience.com/markov-chain-monte-carlo-made-simple-once-and-for-all-e86e8384186c\n"
      ],
      "metadata": {
        "id": "P0Nk5z5MC9To"
      },
      "id": "P0Nk5z5MC9To"
    },
    {
      "cell_type": "markdown",
      "source": [
        "## Portfolio Building\n",
        "\n",
        "* https://www.linkedin.com/advice/3/what-best-ways-build-data-reporting-portfolio-skills-data-analytics-vnd9e\n",
        "* How to make a great data report i can use on my portfolio"
      ],
      "metadata": {
        "id": "tNEjO5hoDDV5"
      },
      "id": "tNEjO5hoDDV5"
    },
    {
      "cell_type": "markdown",
      "source": [
        "## Top Ten Data Science Jobs\n",
        "\n",
        "* Data analytics\n",
        "* Machine learning\n",
        "* Data visualization\n",
        "* Data extraction\n",
        "* Data engineering\n",
        "* Data processing\n",
        "* Data mining\n",
        "* Experimentation and testing\n",
        "* Deep learning\n",
        "* Generative AI modeling\n",
        "\n",
        "https://www.fastcompany.com/91064126/fastest-growing-in-demand-job-skills-2024-generative-ai-modeling"
      ],
      "metadata": {
        "id": "t0z8WwLCpx9a"
      },
      "id": "t0z8WwLCpx9a"
    },
    {
      "cell_type": "markdown",
      "source": [
        "## Scipy Distributions\n",
        "\n",
        "* https://docs.scipy.org/doc/scipy/reference/stats.html#continuous-distributions\n",
        "* https://towardsdatascience.com/probability-distributions-with-pythons-scipy-3da89bf60565\n",
        "* https://www.itl.nist.gov/div898/handbook/eda/section3/eda364.htm\n",
        "* https://docs.scipy.org/doc/scipy/reference/generated/scipy.stats.kurtosis.html"
      ],
      "metadata": {
        "id": "DN86RuAMDdy5"
      },
      "id": "DN86RuAMDdy5"
    },
    {
      "cell_type": "code",
      "source": [
        "from scipy.stats import (\n",
        "    norm, beta, expon, gamma, genextreme, logistic, lognorm, triang, uniform, fatiguelife,\n",
        "    gengamma, gennorm, dweibull, dgamma, gumbel_r, powernorm, rayleigh, weibull_max, weibull_min,\n",
        "    laplace, alpha, genexpon, bradford, betaprime, burr, fisk, genpareto, hypsecant,\n",
        "    halfnorm, halflogistic, invgauss, invgamma, levy, loglaplace, loggamma, maxwell,\n",
        "    mielke, ncx2, ncf, nct, nakagami, pareto, lomax, powerlognorm, powerlaw, rice,\n",
        "    semicircular, trapezoid, rice, invweibull, foldnorm, foldcauchy, cosine, exponpow,\n",
        "    exponweib, wald, wrapcauchy, truncexpon, truncnorm, t, rdist\n",
        "    )\n",
        "\n",
        "distributions = [\n",
        "    norm, beta, expon, gamma, genextreme, logistic, lognorm, triang, uniform, fatiguelife,\n",
        "    gengamma, gennorm, dweibull, dgamma, gumbel_r, powernorm, rayleigh, weibull_max, weibull_min,\n",
        "    laplace, alpha, genexpon, bradford, betaprime, burr, fisk, genpareto, hypsecant,\n",
        "    halfnorm, halflogistic, invgauss, invgamma, levy, loglaplace, loggamma, maxwell,\n",
        "    mielke, ncx2, ncf, nct, nakagami, pareto, lomax, powerlognorm, powerlaw, rice,\n",
        "    semicircular, trapezoid, rice, invweibull, foldnorm, foldcauchy, cosine, exponpow,\n",
        "    exponweib, wald, wrapcauchy, truncexpon, truncnorm, t, rdist\n",
        "    ]"
      ],
      "metadata": {
        "id": "fuRJ2r9zDe69"
      },
      "id": "fuRJ2r9zDe69",
      "execution_count": null,
      "outputs": []
    },
    {
      "cell_type": "code",
      "source": [
        "import scipy.stats as stats\n",
        "\n",
        "dist_continu = [d for d in dir(stats) if isinstance(getattr(stats, d), stats.rv_continuous)]\n",
        "dist_discrete = [d for d in dir(stats) if isinstance(getattr(stats, d), stats.rv_discrete)]\n",
        "print('number of continuous distributions: %d' % len(dist_continu))\n",
        "print('number of discrete distributions:   %d' % len(dist_discrete))"
      ],
      "metadata": {
        "colab": {
          "base_uri": "https://localhost:8080/"
        },
        "id": "Z4mwZuW7DhxQ",
        "outputId": "890d7079-3d21-4645-892f-8a16aa8b3dd4"
      },
      "id": "Z4mwZuW7DhxQ",
      "execution_count": null,
      "outputs": [
        {
          "output_type": "stream",
          "name": "stdout",
          "text": [
            "number of continuous distributions: 107\n",
            "number of discrete distributions:   19\n"
          ]
        }
      ]
    },
    {
      "cell_type": "code",
      "source": [
        "loc=2\n",
        "scale=6\n",
        "dist = beta\n",
        "sample = dist.rvs(loc, scale, size=10000)\n",
        "print(dist.stats(loc, scale, moments='mvsk'))"
      ],
      "metadata": {
        "colab": {
          "base_uri": "https://localhost:8080/"
        },
        "id": "S82dBHYGDrwS",
        "outputId": "b50e1201-132e-4506-baa6-0df3479fc4c3"
      },
      "id": "S82dBHYGDrwS",
      "execution_count": null,
      "outputs": [
        {
          "output_type": "stream",
          "name": "stdout",
          "text": [
            "(0.25, 0.020833333333333332, 0.692820323027551, 0.10909090909090909)\n"
          ]
        }
      ]
    },
    {
      "cell_type": "code",
      "source": [
        "import matplotlib.pyplot as plt\n",
        "import seaborn as sns\n",
        "\n",
        "a, b = 2, 6\n",
        "# a, b = 2.31, 0.627\n",
        "dist = beta.rvs(a, b, size=10000)\n",
        "sns.histplot(dist, kde=True);"
      ],
      "metadata": {
        "colab": {
          "base_uri": "https://localhost:8080/",
          "height": 430
        },
        "id": "nQZpqa05FT2r",
        "outputId": "1ef20016-eb1e-4013-9416-f4362b429297"
      },
      "id": "nQZpqa05FT2r",
      "execution_count": null,
      "outputs": [
        {
          "output_type": "display_data",
          "data": {
            "text/plain": [
              "<Figure size 640x480 with 1 Axes>"
            ],
            "image/png": "[encoded data removed]"
          },
          "metadata": {}
        }
      ]
    },
    {
      "cell_type": "markdown",
      "source": [
        "Notes:\n",
        "\n",
        "* https://stackoverflow.com/questions/60613233/what-does-frozen-distribution-mean-in-scipy\n",
        "* https://docs.scipy.org/doc/scipy/tutorial/stats.html\n",
        "* https://docs.scipy.org/doc/scipy/reference/generated/scipy.stats.beta.html"
      ],
      "metadata": {
        "id": "puhBvjGZH8UN"
      },
      "id": "puhBvjGZH8UN"
    },
    {
      "cell_type": "markdown",
      "id": "0ace9043",
      "metadata": {
        "id": "0ace9043"
      },
      "source": [
        "## What is AB Testing\n",
        "\n",
        "https://www.linkedin.com/advice/3/how-can-you-showcase-ab-testing-tools-platforms-your\n",
        "\n",
        "* A/B testing, also known as split testing, refers to a randomized experimentation process wherein two or more versions of a variable (web page, page element, etc.) are shown to different segments of website visitors at the same time to determine which version leaves the maximum impact and drives business metrics.\n",
        "* Random Controlled Trials\n",
        "\n",
        "https://vwo.com/ab-testing/\n",
        "\n",
        "Free AB Testing Course: https://www.udacity.com/course/ab-testing--ud257\n",
        "\n",
        "### A/B Cheat Sheet:\n",
        "\n",
        "https://towardsdatascience.com/25-a-b-testing-concepts-interview-cheat-sheet-c998a501f911\n",
        "\n",
        "Descriptive / Summary Statistics\n",
        "\n",
        "* Population\n",
        "* Sample\n",
        "* Sample Mean\n",
        "* Sample Variability\n",
        "\n",
        "Experiment Design\n",
        "\n",
        "* Null Hypothesis\n",
        "* Key Metrics\n",
        "* Lifetime Value (LTV)\n",
        "* Objectives and Key Results (OKR)\n",
        "* Overall Evaluation Criteria (OEC)\n",
        "* Gaurdrail Metrics\n",
        "* Randomization Unit\n",
        "* Interference\n",
        "\n",
        "A/B Test Statistics and Sample Size Calculation\n",
        "\n",
        "* Confidence Level\n",
        "* Margin of Error\n",
        "* Confidence Interval\n",
        "* Type I Error\n",
        "* Type II Error\n",
        "* p-Value\n",
        "* Statistical Significance\n",
        "* Statistical Power\n",
        "* Minimum Detectable Effect\n",
        "* Practical Significance\n",
        "* Sample Size and Duration\n",
        "\n",
        "Threats to Experiment Validity\n",
        "\n",
        "* Novelty Effect\n",
        "* Primary Effect\n",
        "* Seasonality\n",
        "* Day of the Week\n",
        "\n",
        "### Dictionary of Terms\n",
        "\n",
        "https://marketingexperiments.com/a-b-testing/marketing-and-online-testing-dictionary\n",
        "\n",
        "### Populations, Samples, Means\n",
        "\n",
        "* Population: everyone who is part of the experiment\n",
        "* The means of the control group and the treatment group\n",
        "* Group size needs to be statistically appropriate / significant"
      ]
    },
    {
      "cell_type": "markdown",
      "id": "48242722",
      "metadata": {
        "id": "48242722"
      },
      "source": [
        "## Test of Means\n",
        "\n",
        "https://www.ncbi.nlm.nih.gov/pmc/articles/PMC3116565/\n",
        "\n",
        "Many, if not most experiments are designed to compare means. The experiment may involve only one sample mean that is to be compared to a specific value. Or the experiment could be testing differences among many different experimental conditions, and the experimenter could be interested in comparing each mean with each of the other means.\n",
        "\n",
        "https://onlinestatbook.com/2/tests_of_means/testing_means.html\n",
        "\n",
        "### Assumptions\n",
        "\n",
        "* Groups are normally distributed (no significant outliers)\n",
        "* Groups are independent\n",
        "* Equal variance between groups\n",
        "* Rule of thumb: equal variances if the ratio is less than 4 (larger / smaller)\n",
        "* Scipy.ttest_ind equal_var: if True, perform a standard independent 2 sample t-test that assumes equal population variances. If False, perform Welch’s t-test, which does not assume equal population variances. This is True by default.\n",
        "* Scipy.ttest_ind alternative: two-sided, less, greater\n",
        "\n",
        "The loc and scale parameters let you adjust the location and scale of a distribution. For example, to model IQ data, you'd build iq = scipy.stats.norm(loc=100, scale=15) because IQs are constructed so as to have a mean of 100 and a standard deviation of 15. Why don't we just call them mean and sd? It helps to have a more generalized concept because not every distribution has a mean.\n",
        "\n",
        "https://stats.stackexchange.com/questions/560281/what-is-the-meaning-of-loc-and-scale-for-the-distributions-in-scipy-stats\n",
        "\n",
        "Parametric tests (has assumptions about the distribution such as mean and standard deviation)\n",
        "- z-test\n",
        "- t-test\n",
        "- ANOVA: Used when there are more than two means (technically 2+ means)\n",
        "\n",
        "Non-parametric tests (does not assume anything about the distribution)\n",
        "- Chi-square\n",
        "- Mann-Whitney U-test\n",
        "- Kruskel-Wallis H-test: tests the null hypothesis that the population median of all of the groups are equal. It is a non-parametric version of ANOVA"
      ]
    },
    {
      "cell_type": "code",
      "execution_count": null,
      "id": "f4e84364",
      "metadata": {
        "id": "f4e84364",
        "outputId": "76b2f0c2-50e9-466c-9f08-de20eff1d2bc"
      },
      "outputs": [
        {
          "data": {
            "image/png": "[encoded data removed]",
            "text/plain": [
              "<Figure size 640x480 with 1 Axes>"
            ]
          },
          "metadata": {},
          "output_type": "display_data"
        }
      ],
      "source": [
        "import numpy as np\n",
        "import matplotlib.pyplot as plt\n",
        "from scipy.stats import norm\n",
        "\n",
        "x = np.arange(-3, 3, 0.001)\n",
        "plt.plot(x, norm.pdf(x, loc=0, scale=1));"
      ]
    },
    {
      "cell_type": "code",
      "execution_count": null,
      "id": "485464f8",
      "metadata": {
        "id": "485464f8",
        "outputId": "a7ca3272-4bdc-4298-83c4-64604304d944"
      },
      "outputs": [
        {
          "name": "stdout",
          "output_type": "stream",
          "text": [
            "ShapiroResult(statistic=0.9895373582839966, pvalue=0.6272982954978943)\n",
            "ShapiroResult(statistic=0.99293053150177, pvalue=0.8838319182395935)\n",
            "Variances:  0.8625217251420803 0.9462824279415554\n",
            "Ratio <=4:  1.0971114122205763 True\n",
            "Ttest_indResult(statistic=-0.21987399938714705, pvalue=0.8261958076469594)\n"
          ]
        },
        {
          "data": {
            "image/png": "[encoded data removed]",
            "text/plain": [
              "<Figure size 640x480 with 1 Axes>"
            ]
          },
          "metadata": {},
          "output_type": "display_data"
        }
      ],
      "source": [
        "import numpy as np\n",
        "import seaborn as sns\n",
        "import matplotlib.pyplot as plt\n",
        "from scipy.stats import shapiro\n",
        "from scipy import stats\n",
        "\n",
        "# generate data\n",
        "s = 100\n",
        "mu = 0\n",
        "std = 1\n",
        "x1 = sorted(np.random.normal(loc=0, scale=1, size=s))\n",
        "x2 = sorted(np.random.normal(loc=mu, scale=std, size=s))\n",
        "\n",
        "# normal data\n",
        "print(shapiro(x1))\n",
        "print(shapiro(x2))\n",
        "\n",
        "# check variance\n",
        "print('Variances: ', np.var(x1), np.var(x2))\n",
        "\n",
        "ratio = max([np.var(x1), np.var(x2)]) / min([np.var(x1), np.var(x2)])\n",
        "eqvar = bool(ratio <= 4)\n",
        "print('Ratio <=4: ', ratio, eqvar)\n",
        "\n",
        "# test of means\n",
        "print(stats.ttest_ind(x1, x2, equal_var=eqvar))\n",
        "\n",
        "fig, ax = plt.subplots()\n",
        "sns.kdeplot(x1, label='x1', fill=True, ax=ax)\n",
        "sns.kdeplot(x2, label='x2', fill=True, ax=ax)\n",
        "plt.legend()\n",
        "plt.show()"
      ]
    },
    {
      "cell_type": "code",
      "source": [
        "import numpy as np\n",
        "from scipy import stats\n",
        "import matplotlib.pyplot as plt\n",
        "import seaborn as sns\n",
        "rng = np.random.default_rng()\n",
        "\n",
        "rsv2_mean = 0.2\n",
        "fig, ax = plt.subplots(figsize=(12, 6))\n",
        "pop1 = stats.norm.rvs(loc=0, scale=1, size=10000, random_state=rng)\n",
        "pop2 = stats.norm.rvs(loc=rsv2_mean, scale=1, size=10000, random_state=rng)\n",
        "rvs1 = np.random.choice(pop1, size=1000, replace=True)\n",
        "rvs2 = np.random.choice(pop2, size=1000, replace=True)\n",
        "\n",
        "print(stats.ttest_ind(rvs1, rvs2, alternative='less'))\n",
        "print(f'critical value={stats.t.ppf(0.05, 1998)}')\n",
        "\n",
        "sns.kdeplot(rvs1, ax=ax)\n",
        "sns.kdeplot(rvs2, ax=ax)\n",
        "\n",
        "plt.vlines(stats.t.ppf(0.05, 1998), ymin=-.02, ymax=.05, color='blue')\n",
        "plt.vlines(stats.ttest_ind(rvs1, rvs2, alternative='less')[0], ymin=-.02, ymax=.05, color='orange')\n",
        "\n",
        "plt.grid(True)"
      ],
      "metadata": {
        "colab": {
          "base_uri": "https://localhost:8080/",
          "height": 388
        },
        "id": "gNvwP2oSf4Ty",
        "outputId": "66d3d783-d330-48c6-ae7f-5c53f92c2cc4"
      },
      "id": "gNvwP2oSf4Ty",
      "execution_count": null,
      "outputs": [
        {
          "output_type": "stream",
          "name": "stdout",
          "text": [
            "TtestResult(statistic=-4.169834554924701, pvalue=1.589254246591469e-05, df=1998.0)\n",
            "critical value=-1.6456166300576662\n"
          ]
        },
        {
          "output_type": "display_data",
          "data": {
            "text/plain": [
              "<Figure size 1200x600 with 1 Axes>"
            ],
            "image/png": "[encoded data removed]"
          },
          "metadata": {}
        }
      ]
    },
    {
      "cell_type": "markdown",
      "source": [
        "## Test Statistic\n",
        "\n",
        "* https://microbenotes.com/t-test/"
      ],
      "metadata": {
        "id": "NeZfW9a6kOZM"
      },
      "id": "NeZfW9a6kOZM"
    },
    {
      "cell_type": "code",
      "source": [
        "(np.mean(rvs1 - np.mean(rvs2)))/np.sqrt(np.std(rvs1)/1000+np.std(rvs2)/1000)"
      ],
      "metadata": {
        "colab": {
          "base_uri": "https://localhost:8080/"
        },
        "id": "5BIe8qvAkyKe",
        "outputId": "561972b7-173d-453f-b01d-c08057bcf21b"
      },
      "id": "5BIe8qvAkyKe",
      "execution_count": null,
      "outputs": [
        {
          "output_type": "execute_result",
          "data": {
            "text/plain": [
              "-4.2380086173266385"
            ]
          },
          "metadata": {},
          "execution_count": 19
        }
      ]
    },
    {
      "cell_type": "markdown",
      "id": "efd3c4d5",
      "metadata": {
        "id": "efd3c4d5"
      },
      "source": [
        "## Hypothesis Testing\n",
        "\n",
        "* Null and Alternative Hypothesis\n",
        "* Null hypothesis: Mean 1 = Mean 2\n",
        "* Alternate hypothesis: Mean 1 $\\ne$ Mean 2\n",
        "\n",
        "#### Two-Sample Hypothesis Testing\n",
        "\n",
        "* Two-Tailed Test\n",
        "* For a two tailed null hypothesis we see the symbol $=$\n",
        "* For a two tailed alt hypothesis we see the symbol $\\ne$\n",
        "* For a one tailed null hypothesis we see $\\leq$ or $\\geq$\n",
        "* For a one tailed alt hypothesis we see $<$ or $>$\n",
        "\n",
        "### Our Hypothesis\n",
        "\n",
        "Is the mean of sample 1 different from the mean of sample 2? In business, AB testing is driven by success. Academics will document differences that may not be important to business.\n",
        "\n",
        "Please review https://www.statisticshowto.com/probability-and-statistics/hypothesis-testing/one-tailed-test-or-two/\n",
        "\n",
        "- For a one tailed null hypothesis we see $\\leq$ or $\\geq$\n",
        "- For a one tailed alt hypothesis we see $<$ or $>$\n",
        "- For a two tailed null hypothesis we see the symbol $=$\n",
        "- For a two tailed alt hypothesis we see the symbol $\\ne$\n",
        "\n",
        "**For a One Tailed Test**\n",
        "- Null Hypothesis – There is no significant difference between the means of groups\n",
        "- Alternate Hypothesis – There is a significant difference between the means of groups in that the mean of the group is less or greater than some x\n",
        "\n",
        "**For a Two Tailed Test**\n",
        "- Null Hypothesis – There is no significant difference between the means of groups\n",
        "- Alternate Hypothesis – There is a significant difference between the means of groups either greater than x or less than x\n",
        "\n",
        "For example,\n",
        "\n",
        "**For a One Tailed Test**\n",
        "- a null hypothesis might be $\\bar{x}_1 \\geq \\bar{x}_2$,\n",
        "- and the alt hypothesis would be $\\bar{x}_1 < \\bar{x}_2$\n",
        "\n",
        "**For a Two Tailed Test**\n",
        "- a null hypothesis might be $\\bar{x}_1 = \\bar{x}_2$,\n",
        "- and the alt hypothesis would be $\\bar{x}_1 \\ne \\bar{x}_2$\n",
        "\n",
        "Remember, we never accept the null hypothesis, we either reject it or fail to reject it."
      ]
    },
    {
      "cell_type": "markdown",
      "id": "c0722134",
      "metadata": {
        "id": "c0722134"
      },
      "source": [
        "### Confidence Intervals\n",
        "\n",
        "$\\mu \\pm margin error$\n",
        "\n",
        "where the margin of error is a statistic expressing the amount of random sampling error in the results of a survey. The larger the margin of error, the less confidence one should have that a poll result would reflect the result of a census of the entire population.\n",
        "\n",
        "https://en.wikipedia.org/wiki/Margin_of_error\n",
        "\n",
        "Confidence intervals are used to express how likely $\\bar{x}$ falls within a range of values. If the hypothesized value falls in the tail outside of the one-directional area of interest, we reject the null hypothesis. If our hypothesized value falls outside of the two-tailed interval, we reject the null hypothesis.\n",
        "\n",
        "In frequentist statistics, a confidence interval (CI) is a range of estimates for an unknown parameter. A confidence interval is computed at a designated confidence level. The 95% level is most common, but other levels (such as 90% or 99%) are sometimes used. The confidence level represents the long-run proportion of correspondingly computed intervals that end up containing the true value of the parameter. For example, out of all confidence intervals computed at the 95% level, 95% of them should contain the parameter's true value.\n",
        "\n",
        "https://en.wikipedia.org/wiki/Confidence_interval"
      ]
    },
    {
      "cell_type": "markdown",
      "id": "67a4fbc4",
      "metadata": {
        "id": "67a4fbc4"
      },
      "source": [
        "#### One Tail"
      ]
    },
    {
      "cell_type": "code",
      "execution_count": null,
      "id": "fb1d876b",
      "metadata": {
        "id": "fb1d876b",
        "outputId": "379e3960-6d91-4c01-e79e-a1f382b5b10e"
      },
      "outputs": [
        {
          "data": {
            "image/png": "[encoded data removed]",
            "text/plain": [
              "<Figure size 640x480 with 1 Axes>"
            ]
          },
          "metadata": {},
          "output_type": "display_data"
        }
      ],
      "source": [
        "import numpy as np\n",
        "from scipy import stats\n",
        "import matplotlib.pyplot as plt\n",
        "\n",
        "x = np.arange(-3, 3, 0.001)\n",
        "\n",
        "pdf = stats.norm.pdf(x,loc=0,scale=1)\n",
        "plt.plot(x, pdf)\n",
        "\n",
        "z = 1.645 # 95% CI\n",
        "uci = z\n",
        "\n",
        "plt.fill_between(x, pdf, where=(x < uci), alpha=0.5)\n",
        "plt.text(uci, 0, uci, ha='center', fontsize=20)\n",
        "plt.text(-0.4, .2, f'95%', fontsize=20)\n",
        "plt.text(-1.1, .15, f'fail to reject', fontsize=20)\n",
        "plt.grid(True)"
      ]
    },
    {
      "cell_type": "markdown",
      "id": "8e2677f6",
      "metadata": {
        "id": "8e2677f6"
      },
      "source": [
        "Note: A null hypothesis is either true or false. Unfortunately, we do not know which is the case, and we almost never will. It is important to realize that there is no probability that the null hypothesis is true or that it is false, because there is no element of chance.\n",
        "\n",
        "http://strata.uga.edu/8370/lecturenotes/errors.html#:~:text=A%20null%20hypothesis%20is%20either,is%20no%20element%20of%20chance."
      ]
    },
    {
      "cell_type": "markdown",
      "id": "32620997",
      "metadata": {
        "id": "32620997"
      },
      "source": [
        "#### Two Tail"
      ]
    },
    {
      "cell_type": "code",
      "execution_count": null,
      "id": "1e0c531e",
      "metadata": {
        "id": "1e0c531e",
        "outputId": "04dca599-99b7-4ea8-dec9-dda4c86800bd"
      },
      "outputs": [
        {
          "data": {
            "image/png": "[encoded data removed]",
            "text/plain": [
              "<Figure size 640x480 with 1 Axes>"
            ]
          },
          "metadata": {},
          "output_type": "display_data"
        }
      ],
      "source": [
        "import numpy as np\n",
        "from scipy import stats\n",
        "import matplotlib.pyplot as plt\n",
        "\n",
        "x = np.arange(-3, 3, 0.001)\n",
        "\n",
        "pdf = stats.norm.pdf(x,loc=0,scale=1)\n",
        "plt.plot(x, pdf)\n",
        "\n",
        "z = 1.96 # 95% CI\n",
        "lci = -z\n",
        "uci = z\n",
        "\n",
        "plt.fill_between(x, pdf, where=(lci < x) & (x < uci), alpha=0.5)\n",
        "plt.text(lci, 0, lci, ha='center', fontsize=20)\n",
        "plt.text(uci, 0, uci, ha='center', fontsize=20)\n",
        "plt.text(-0.4, .2, f'95%', fontsize=20)\n",
        "plt.grid(True)"
      ]
    },
    {
      "cell_type": "markdown",
      "id": "90f9a38e",
      "metadata": {
        "id": "90f9a38e"
      },
      "source": [
        "### Alpha (Significance Levels)\n",
        "\n",
        "The significance level or alpha level is the probability of making the wrong decision when the null hypothesis is true. Alpha levels (sometimes just called “significance levels”) are used in hypothesis tests. Usually, these tests are run with an alpha level of .05 (5%), but other levels commonly used are .01 and .10.\n",
        "\n",
        "https://www.statisticshowto.com/probability-and-statistics/statistics-definitions/what-is-an-alpha-level/\n",
        "\n",
        "Stephanie Glen. \"Alpha Level (Significance Level): What is it?\" From StatisticsHowTo.com: Elementary Statistics for the rest of us! https://www.statisticshowto.com/probability-and-statistics/statistics-definitions/what-is-an-alpha-level/"
      ]
    },
    {
      "cell_type": "markdown",
      "id": "def212ba",
      "metadata": {
        "id": "def212ba"
      },
      "source": [
        "#### One Tail"
      ]
    },
    {
      "cell_type": "code",
      "execution_count": null,
      "id": "43d59884",
      "metadata": {
        "id": "43d59884",
        "outputId": "5496d103-f80a-4300-8871-6d41ed88e5e1"
      },
      "outputs": [
        {
          "data": {
            "image/png": "[encoded data removed]",
            "text/plain": [
              "<Figure size 640x480 with 1 Axes>"
            ]
          },
          "metadata": {},
          "output_type": "display_data"
        }
      ],
      "source": [
        "import numpy as np\n",
        "from scipy import stats\n",
        "import matplotlib.pyplot as plt\n",
        "\n",
        "x = np.arange(-3, 3, 0.001)\n",
        "\n",
        "pdf = stats.norm.pdf(x,loc=0,scale=1)\n",
        "plt.plot(x, pdf)\n",
        "\n",
        "z = 1.645 # 95% CI\n",
        "uci = z\n",
        "\n",
        "plt.fill_between(x, pdf, where=(x > uci), alpha=0.5)\n",
        "plt.text(uci, 0, uci, ha='center', fontsize=20)\n",
        "plt.text(uci, .05, f'5%', fontsize=20)\n",
        "plt.grid(True)"
      ]
    },
    {
      "cell_type": "markdown",
      "id": "088c8c47",
      "metadata": {
        "id": "088c8c47"
      },
      "source": [
        "#### Two Tail"
      ]
    },
    {
      "cell_type": "code",
      "execution_count": null,
      "id": "db89285e",
      "metadata": {
        "id": "db89285e",
        "outputId": "e4bbcad5-2b96-4a80-c0dd-b44195822bc9"
      },
      "outputs": [
        {
          "data": {
            "image/png": "[encoded data removed]",
            "text/plain": [
              "<Figure size 640x480 with 1 Axes>"
            ]
          },
          "metadata": {},
          "output_type": "display_data"
        }
      ],
      "source": [
        "import numpy as np\n",
        "from scipy import stats\n",
        "import matplotlib.pyplot as plt\n",
        "\n",
        "x = np.arange(-3, 3, 0.001)\n",
        "\n",
        "pdf = stats.norm.pdf(x,loc=0,scale=1)\n",
        "plt.plot(x, pdf)\n",
        "\n",
        "z = 1.96 # 95% CI\n",
        "lci = -z\n",
        "uci = z\n",
        "\n",
        "plt.fill_between(x, pdf, where=(lci > x) | (x > uci), alpha=0.5)\n",
        "plt.text(lci, 0, lci, ha='center', fontsize=20)\n",
        "plt.text(uci, 0, uci, ha='center', fontsize=20)\n",
        "# plt.text(-0.4, .2, f'95%', fontsize=20)\n",
        "plt.text(lci-.5, 0.05, f'2.5%', ha='center', fontsize=20)\n",
        "plt.text(uci+.5, 0.05, f'2.5%', ha='center', fontsize=20)\n",
        "plt.grid(True)"
      ]
    },
    {
      "cell_type": "markdown",
      "id": "8f6b239c",
      "metadata": {
        "id": "8f6b239c"
      },
      "source": [
        "### Test Statistic\n",
        "\n",
        "In order to make a decision whether to reject the null hypothesis a test statistic is calculated. The decision is made on the basis of the numerical value of the test statistic. There are two approaches how to derive at that decision: The critical value approach and the p-value approach.\n",
        "\n",
        "https://www.geo.fu-berlin.de/en/v/soga/Basics-of-statistics/Hypothesis-Tests/Introduction-to-Hypothesis-Testing/Critical-Value-and-the-p-Value-Approach/index.html"
      ]
    },
    {
      "cell_type": "markdown",
      "source": [
        "#### Critical Value\n",
        "\n",
        "Compare test statistic with critical value\n",
        "\n",
        "Critical value example:\n",
        "\n",
        "* 1.96\n",
        "\n"
      ],
      "metadata": {
        "id": "S81I5xvdw1nD"
      },
      "id": "S81I5xvdw1nD"
    },
    {
      "cell_type": "markdown",
      "id": "2767fc4b",
      "metadata": {
        "id": "2767fc4b"
      },
      "source": [
        "#### P-Value\n",
        "\n",
        "For a p value test:\n",
        "* Get the test statistic\n",
        "* Use it to determine the p-value\n",
        "* Compare the p-value to the level of significance\n",
        "* If the p-value is low the null must go! Reject $H_0$\n",
        "* If the p-value is high the null must fly! Fail to reject $H_0$\n",
        "\n",
        "\"The p value is the evidence against a null hypothesis. The smaller the p-value, the stronger the evidence that you should reject the null hypothesis.\"\n",
        "\n",
        "Stephanie Glen. \"P-Value in Statistical Hypothesis Tests: What is it?\" From StatisticsHowTo.com: Elementary Statistics for the rest of us! https://www.statisticshowto.com/probability-and-statistics/statistics-definitions/p-value/\n",
        "\n",
        "The lower the p value, the more predictive the feature is in principle. When we run tests, we are often concerned with the alpha level to help us reject or fail to reject the null hypothesis. The alpha level is (1 - our confidence interval), so if we wanted to have a confidence level of 95% we would use a alpha value of 5%. If our p value is less than the alpha value then the evidence points to rejecting the null hypothesis. If our p values is less than the alpha value then we can say our results are statistcally significant. We found something that is probably not the result of chance. But beware."
      ]
    },
    {
      "cell_type": "markdown",
      "source": [
        "#### Critical Value vs P-Value Example"
      ],
      "metadata": {
        "id": "eJyABqTxxM5P"
      },
      "id": "eJyABqTxxM5P"
    },
    {
      "cell_type": "code",
      "execution_count": null,
      "id": "cfde33e0",
      "metadata": {
        "id": "cfde33e0",
        "outputId": "0939f7f3-2e8f-4b9f-ef15-817cdbe8b85c"
      },
      "outputs": [
        {
          "name": "stdout",
          "output_type": "stream",
          "text": [
            "Is the difference in means statistically different? 6.200000000000003\n",
            "Ttest_indResult(statistic=3.66471338901182, pvalue=0.0017726115401606776)\n"
          ]
        }
      ],
      "source": [
        "import numpy as np\n",
        "import random\n",
        "\n",
        "class1 = [random.randint(90, 100) for i in range(10)]\n",
        "class2 = [random.randint(83, 93) for i in range(10)]\n",
        "\n",
        "print('Is the difference in means statistically different?', np.mean(class1) - np.mean(class2))\n",
        "\n",
        "print(stats.ttest_ind(class1, class2))"
      ]
    },
    {
      "cell_type": "code",
      "execution_count": null,
      "id": "6b8eca6a",
      "metadata": {
        "id": "6b8eca6a",
        "outputId": "bae02aa0-ce1f-4f56-c339-e4c788db5e8b"
      },
      "outputs": [
        {
          "name": "stdout",
          "output_type": "stream",
          "text": [
            "Is the difference in means statistically different? -2.799999999999997\n",
            "Ttest_indResult(statistic=-2.2449944320643627, pvalue=0.03757090118554456)\n"
          ]
        }
      ],
      "source": [
        "import numpy as np\n",
        "\n",
        "class1 = [random.randint(90, 100) for i in range(10)]\n",
        "class2 = [random.randint(91, 101) for i in range(10)]\n",
        "\n",
        "print('Is the difference in means statistically different?', np.mean(class1) - np.mean(class2))\n",
        "\n",
        "print(stats.ttest_ind(class1, class2))"
      ]
    },
    {
      "cell_type": "markdown",
      "id": "2f88bd2f",
      "metadata": {
        "id": "2f88bd2f"
      },
      "source": [
        "### Type I and Type II Errors\n",
        "\n",
        "- Hypothesis testing is used against results that are already known\n",
        "- Type I error: Reject null hypothesis that should have been supported\n",
        "- $H_0$: There is no fire. Pull the fire alarm, when there is no fire\n",
        "- Type II error: Fail to reject a null hypothesis that should have been rejected\n",
        "- $H_0$: There is no fire. Failed to pull the fire alarm, when there is a fire\n",
        "\n",
        "* https://economics.stackexchange.com/questions/27677/type-i-error-type-ii-error-pregnancy-test-analogy-is-it-legit\n",
        "* https://medium.com/statistical-guess/statistical-power-8184cdfd19ec\n",
        "\n",
        "Lower alpha means a smaller reject region, less chance to reject and higher alpha means a larger reject region, more chance to reject"
      ]
    },
    {
      "cell_type": "markdown",
      "id": "7297ad82",
      "metadata": {
        "id": "7297ad82"
      },
      "source": [
        "### P Value vs Alpha\n",
        "\n",
        "Alpha, the significance level, is the probability that you will make the mistake of rejecting the null hypothesis when in fact it is true. The p-value measures the probability of getting a more extreme value than the one you got from the experiment. If the p-value is greater than alpha, we fail to reject the null hypothesis.\n",
        "\n",
        "https://www.spcforexcel.com/knowledge/basic-statistics/interpretation-alpha-and-p-value"
      ]
    },
    {
      "cell_type": "markdown",
      "id": "6f284b61",
      "metadata": {
        "id": "6f284b61"
      },
      "source": [
        "### Misuse of P-Value\n",
        "\n",
        "\"The general definition of a P value may help one to understand why statistical tests tell us much less than what many think they do: Not only does a P value not tell us whether the hypothesis targeted for testing is true or not; it says nothing specifically related to that hypothesis unless we can be completely assured that every other assumption used for its computation is correct—an assurance that is lacking in far too many studies.\"\n",
        "\n",
        "Greenland, S., Senn, S. J., Rothman, K. J., Carlin, J. B., Poole, C., Goodman, S. N., & Altman, D. G. (2016). Statistical tests, P values, confidence intervals, and power: a guide to misinterpretations. European journal of epidemiology, 31(4), 337–350. https://doi.org/10.1007/s10654-016-0149-3\n",
        "\n",
        "* P-Hacking\n",
        "\n",
        "Data dredging (also known as data snooping or p-hacking) is the misuse of data analysis to find patterns in data that can be presented as statistically significant, thus dramatically increasing and understating the risk of false positives. This is done by performing many statistical tests on the data and only reporting those that come back with significant results.\n",
        "\n",
        "https://en.wikipedia.org/wiki/Data_dredging\n",
        "\n",
        "The following list clarifies some issues that are commonly misunderstood regarding p-values:\n",
        "\n",
        "* The p-value is not the probability that the null hypothesis is true, or the probability that the alternative hypothesis is false. A p-value can indicate the degree of compatibility between a dataset and a particular hypothetical explanation (such as a null hypothesis). Specifically, the p-value can be taken as the prior probability of obtaining an effect that is at least as extreme as the observed effect, given that the null hypothesis is true. This should not be confused with the posterior probability that the null hypothesis is true given the observed effect (see prosecutor's fallacy). In fact, frequentist statistics does not attach probabilities to hypotheses.\n",
        "* The p-value is not the probability that the observed effects were produced by random chance alone. The p-value is computed under the assumption that a certain model, usually the null hypothesis, is true. This means that the p-value is a statement about the relation of the data to that hypothesis.\n",
        "* The 0.05 significance level is merely a convention. The 0.05 significance level (alpha level) is often used as the boundary between a statistically significant and a statistically non-significant p-value. However, this does not imply that there is generally a scientific reason to consider results on opposite sides of any threshold as qualitatively different.\n",
        "* The p-value does not indicate the size or importance of the observed effect. A small p-value can be observed for an effect that is not meaningful or important. In fact, the larger the sample size, the smaller the minimum effect needed to produce a statistically significant p-value (see effect size). Visualizing effect sizes is a critical component of a data-analysis method called estimation statistics.\n",
        "\n",
        "https://en.wikipedia.org/wiki/Misuse_of_p-values\n",
        "\n",
        "READ THIS: https://www.ncbi.nlm.nih.gov/pmc/articles/PMC5738950/"
      ]
    },
    {
      "cell_type": "markdown",
      "id": "7a5fad79",
      "metadata": {
        "id": "7a5fad79"
      },
      "source": [
        "### Statistical Power (Sensitivity)\n",
        "\n",
        "https://psychology.iresearchnet.com/industrial-organizational-psychology/i-o-psychology-theories/statistical-power/#google_vignette\n",
        "\n",
        "Beta is directly related to the power of a test. Power relates to how likely a test is to distinguish an actual effect from one you could expect to happen by chance alone. Beta plus the power of a test is always equal to 1. Usually, researchers will refer to the power of a test (e.g. a power of .8), leaving the beta level (.2 in this case) as implied.\n",
        "\n",
        "https://www.statisticshowto.com/beta-level/\n",
        "\n",
        "The statistical power of a binary hypothesis test is the probability that the test correctly rejects the null hypothesis $H_{0}$ when a specific alternative hypothesis $H_{a}$ is true. It is commonly denoted by $1-\\beta$ , and represents the chances of a \"true positive\" detection conditional on the actual existence of an effect to detect. Statistical power ranges from 0 to 1, and as the power of a test increases, the probability $\\beta$  of making a type II error by wrongly failing to reject the null hypothesis decreases.\n",
        "\n",
        "https://en.wikipedia.org/wiki/Power_of_a_test"
      ]
    },
    {
      "cell_type": "markdown",
      "id": "37e980de",
      "metadata": {
        "id": "37e980de"
      },
      "source": [
        "## AB Terms"
      ]
    },
    {
      "cell_type": "markdown",
      "id": "2233bd78",
      "metadata": {
        "id": "2233bd78"
      },
      "source": [
        "### Overall Evaluation Criteria (OEC)\n",
        "\n",
        "An Overall Evaluation Criterion (OEC) is a (usually composite) quantitative measure of the experiment's objective. Other names include Response or Dependent Variable, Outcome Variable, Evaluation metric, Performance metric.\n",
        "\n",
        "https://www.analytics-toolkit.com/glossary/overall-evaluation-criterion/"
      ]
    },
    {
      "cell_type": "markdown",
      "id": "e34239a0",
      "metadata": {
        "id": "e34239a0"
      },
      "source": [
        "### Gaurdrail Metrics\n",
        "\n",
        "Business metrics designed to indirectly measure business value and provide alerts about any potentially misleading or erroneous results and analysis.\n",
        "\n",
        "https://www.split.io/glossary/guardrail-metrics/"
      ]
    },
    {
      "cell_type": "markdown",
      "id": "a43885bc",
      "metadata": {
        "id": "a43885bc"
      },
      "source": [
        "### Randomization Unit\n",
        "\n",
        "A who or what randomly assigned to a group.\n",
        "\n",
        "https://ianwhitestone.work/choosing-randomization-unit/"
      ]
    },
    {
      "cell_type": "markdown",
      "id": "0d781e3b",
      "metadata": {
        "id": "0d781e3b"
      },
      "source": [
        "### Data Leakage (Interference)\n",
        "\n",
        "The behavior of the control group is influenced by the treatment given to the test group.\n",
        "\n",
        "https://towardsdatascience.com/25-a-b-testing-concepts-interview-cheat-sheet-c998a501f911"
      ]
    },
    {
      "cell_type": "markdown",
      "id": "c349d919",
      "metadata": {
        "id": "c349d919"
      },
      "source": [
        "### SUTVA Assumptions\n",
        "\n",
        "The Stable Unit Treatment Value Assumption (SUTVA) is a key assumption that is usually made in causal inference. Reference 1 gives a clear definition of SUTVA, which points out that SUTVA is really two assumptions rolled into one:\n",
        "\n",
        "* The potential outcomes for any unit do not vary with the treatments assigned to other units.\n",
        "* For each unit, there are no different forms or versions of each treatment level, which lead to different potential outcomes.\n",
        "\n",
        "https://statisticaloddsandends.wordpress.com/2021/06/08/what-is-the-stable-unit-treatment-value-assumption-sutva/"
      ]
    },
    {
      "cell_type": "markdown",
      "id": "8792cbab",
      "metadata": {
        "id": "8792cbab"
      },
      "source": [
        "### Practical, or Substantive, Significance\n",
        "\n",
        "The fact that an estimated regression coefficient is “statistically significant” (i.e., you can reject the null hypothesis that the true β is 0 with a high level of confidence) does not mean that your independent variable is substantively important."
      ]
    },
    {
      "cell_type": "markdown",
      "id": "b933dcb4",
      "metadata": {
        "id": "b933dcb4"
      },
      "source": [
        "### Minimum Detectable Effect\n",
        "\n",
        "Minimum Detectable Effect = Practical Significance Level\n",
        "\n",
        "Minimum detectable effect (MDE) is a calculation that estimates the smallest improvement you are willing to be able to detect. It determines how \"sensitive\" an experiment is. Use MDE to estimate how long an experiment will take given the following:\n",
        "\n",
        "* Baseline conversion rate\n",
        "* Statistical significance\n",
        "* Traffic allocation\n",
        "\n",
        "https://support.optimizely.com/hc/en-us/articles/4410288881293-Use-minimum-detectable-effect-MDE-when-designing-an-experiment\n",
        "\n",
        "Minimum effect is a business decision more than anything else, not really a data scientist decision. At work, it will typically be a product manager decision. After all, for that you need to take into account things like engineering costs, time, and opportunity-cost of not using those resources to run other tests. And that requires a comprehensive company vision which is typical of product managers, or VP/Director of product in smaller companies.\n",
        "\n",
        "https://productds.com/wp-content/uploads/Sample_size.html"
      ]
    },
    {
      "cell_type": "markdown",
      "id": "5364cf34",
      "metadata": {
        "id": "5364cf34"
      },
      "source": [
        "### Effect Size\n",
        "\n",
        "In statistics, an effect size is a value measuring the strength of the relationship between two variables in a population, or a sample-based estimate of that quantity. It can refer to the value of a statistic calculated from a sample of data, the value of a parameter for a hypothetical population, or to the equation that operationalizes how statistics or parameters lead to the effect size value.\n",
        "\n",
        "https://en.wikipedia.org/wiki/Effect_size\n",
        "\n",
        "https://www.simplypsychology.org/effect-size.html"
      ]
    },
    {
      "cell_type": "markdown",
      "id": "42b2c63a",
      "metadata": {
        "id": "42b2c63a"
      },
      "source": [
        "### Sample Size\n",
        "\n",
        "How long should we run the experiment? How many customers do we need?\n",
        "\n",
        "Requires:\n",
        "\n",
        "* MDE\n",
        "* Power\n",
        "* Significance\n",
        "\n",
        "https://www.evanmiller.org/ab-testing/sample-size.html"
      ]
    },
    {
      "cell_type": "code",
      "execution_count": null,
      "id": "d25e9bd0",
      "metadata": {
        "id": "d25e9bd0",
        "outputId": "9b260228-2c65-4a9f-8811-5f8145ea7636"
      },
      "outputs": [
        {
          "name": "stdout",
          "output_type": "stream",
          "text": [
            "Effect Size: -0.0491\n",
            "Sample Size: 6507\n"
          ]
        }
      ],
      "source": [
        "# power analysis\n",
        "import statsmodels.stats.api as sms\n",
        "\n",
        "effect_size = sms.proportion_effectsize(0.20, 0.22) # baseline = .20, MDE = 2%\n",
        "print(f'Effect Size: {effect_size.round(4)}')\n",
        "\n",
        "size = sms.NormalIndPower().solve_power(\n",
        "    effect_size,\n",
        "    power=0.8,\n",
        "    alpha=0.05,\n",
        "    ratio=1\n",
        "    )\n",
        "\n",
        "print(f'Sample Size: {round(size)}')"
      ]
    },
    {
      "cell_type": "markdown",
      "id": "e1d239f3",
      "metadata": {
        "id": "e1d239f3"
      },
      "source": [
        "### Pooled Variance\n",
        "\n",
        "Pooled variance (also called combined, composite, or overall variance) is a way to estimate common variance when you believe that different populations have the same variances.\n",
        "\n",
        "https://www.statisticshowto.com/pooled-variance/\n",
        "\n",
        "Stephanie Glen. \"Pooled Variance\" From StatisticsHowTo.com: Elementary Statistics for the rest of us! https://www.statisticshowto.com/pooled-variance/\n",
        "\n",
        "The standard error of a sample is another name for the standard deviation of a sample (it tells you how spread out your data is from some the mean). A pooled standard error accounts for two sample variances and assumes that both of the variances from the two samples are equal. It’s called a “pooled” standard error because you’re pooling the data from both samples into one. There’s a slight difference between standard deviation and pooled sample standard error:\n",
        "\n",
        "* When we are talking about a population, we talk about standard deviations.\n",
        "* When we talk about a sample we call it a standard error.\n",
        "\n",
        "https://www.statisticshowto.com/find-pooled-sample-standard-error/\n",
        "\n",
        "Stephanie Glen. \"Pooled Sample Standard Error: How to Calculate it\" From StatisticsHowTo.com: Elementary Statistics for the rest of us! https://www.statisticshowto.com/find-pooled-sample-standard-error/\n",
        "\n",
        "**More Reading**\n",
        "\n",
        "* https://sphweb.bumc.bu.edu/otlt/mph-modules/bs/bs704_confidence_intervals/bs704_confidence_intervals5.html\n",
        "* https://statisticsbyjim.com/hypothesis-testing/confidence-intervals-compare-means/"
      ]
    },
    {
      "cell_type": "markdown",
      "id": "955b4273",
      "metadata": {
        "id": "955b4273"
      },
      "source": [
        "## Scenario\n",
        "\n",
        "We have a web page with a learn more button. We know that there is 13% conversion rate when new visitors click on the learn more button. The web team has designed a new page with a new look for the `Learn More` button in hopes of a 2% conversion rate increase. You've been asked to run an A/B test.\n",
        "\n",
        "* Control group uses old page\n",
        "* Treatment group uses new page\n",
        "* Groups are independent\n",
        "* Conversion is dependent\n",
        "* $H_0$: base conversion rate = new conversion rate (the conversion rate of visitors to the old site)\n",
        "* $H_a$: base conversion rate $\\neq$ new conversion rate (the conversion rate of visitors to the new site)\n",
        "* Two tailed even though we have base conversion rate because we are comparing groups and want to control for other variables so that we can attribute any differences to the design\n",
        "\n",
        "Readings:\n",
        "\n",
        "* https://www.statsmodels.org/devel/generated/statsmodels.stats.proportion.proportions_ztest.html\n",
        "* https://www.statsmodels.org/dev/generated/statsmodels.stats.proportion.proportion_confint.html\n",
        "* https://www.kaggle.com/code/kishantongrao/ab-test-all/notebook\n",
        "* https://www.kaggle.com/code/russelllaros/ab-testing-for-click-through-rate-optimization\n"
      ]
    },
    {
      "cell_type": "code",
      "execution_count": null,
      "id": "598d782a",
      "metadata": {
        "id": "598d782a",
        "outputId": "e84bc975-b2d4-4161-efba-7c86efcd0813"
      },
      "outputs": [
        {
          "name": "stdout",
          "output_type": "stream",
          "text": [
            "MDE:  -0.0576728617308947\n",
            "Sample Size:  4719\n"
          ]
        }
      ],
      "source": [
        "# get the sample size\n",
        "import statsmodels.stats.api as sms\n",
        "from math import ceil\n",
        "\n",
        "effect_size = sms.proportion_effectsize(0.13, 0.15) # p hacking?\n",
        "# effect_size = sms.proportion_effectsize(0.116, 0.136)\n",
        "sample_size = sms.NormalIndPower().solve_power(\n",
        "    effect_size, # minimum detectable effect\n",
        "    power=0.8,\n",
        "    alpha=0.05,\n",
        "    ratio=1\n",
        "    )\n",
        "\n",
        "sample_size = int(sample_size)\n",
        "print('MDE: ', effect_size)\n",
        "print('Sample Size: ', sample_size)"
      ]
    },
    {
      "cell_type": "code",
      "execution_count": null,
      "id": "f66e3d5d",
      "metadata": {
        "id": "f66e3d5d",
        "outputId": "239cc549-e099-4d13-9d5a-a0958dfaf65b"
      },
      "outputs": [
        {
          "name": "stdout",
          "output_type": "stream",
          "text": [
            "(294478, 5)\n",
            "   user_id                   timestamp      group landing_page  converted\n",
            "0   851104  2017-01-21 22:11:48.556739    control     old_page          0\n",
            "1   804228  2017-01-12 08:01:45.159739    control     old_page          0\n",
            "2   661590  2017-01-11 16:55:06.154213  treatment     new_page          0\n",
            "3   853541  2017-01-08 18:28:03.143765  treatment     new_page          0\n",
            "4   864975  2017-01-21 01:52:26.210827    control     old_page          1\n"
          ]
        }
      ],
      "source": [
        "# https://www.kaggle.com/datasets/zhangluyuan/ab-testing?select=ab_data.csv\n",
        "import pandas as pd\n",
        "\n",
        "df = pd.read_csv('https://raw.githubusercontent.com/gitmystuff/Datasets/main/ab_data.csv')\n",
        "print(df.shape)\n",
        "print(df.head())"
      ]
    },
    {
      "cell_type": "code",
      "execution_count": null,
      "id": "5a704b1b",
      "metadata": {
        "id": "5a704b1b",
        "outputId": "be2694a1-f79f-45a5-be7f-d7cec012c245"
      },
      "outputs": [
        {
          "name": "stdout",
          "output_type": "stream",
          "text": [
            "Repeat users: 3894\n"
          ]
        },
        {
          "data": {
            "text/plain": [
              "(286690, 5)"
            ]
          },
          "execution_count": 27,
          "metadata": {},
          "output_type": "execute_result"
        }
      ],
      "source": [
        "# delete repeat users\n",
        "session_counts = df['user_id'].value_counts(ascending=False)\n",
        "repeat_users = session_counts[session_counts > 1].count()\n",
        "print(f'Repeat users: {repeat_users}')\n",
        "\n",
        "users_to_drop = session_counts[session_counts > 1].index\n",
        "df = df[~df['user_id'].isin(users_to_drop)]\n",
        "df.shape"
      ]
    },
    {
      "cell_type": "code",
      "execution_count": null,
      "id": "ce555eb3",
      "metadata": {
        "id": "ce555eb3",
        "outputId": "0ea3cdcc-5ff4-4681-b159-1402b267f355"
      },
      "outputs": [
        {
          "name": "stdout",
          "output_type": "stream",
          "text": [
            "   user_id                   timestamp    group landing_page  converted\n",
            "0   663037  2017-01-05 02:13:38.063443  control     old_page          0\n",
            "1   932826  2017-01-13 04:50:06.941679  control     old_page          1\n",
            "2   922999  2017-01-04 07:19:23.813317  control     old_page          0\n",
            "3   857826  2017-01-19 02:27:37.678241  control     old_page          0\n",
            "4   762926  2017-01-18 17:50:59.261406  control     old_page          0\n",
            "control      4719\n",
            "treatment    4719\n",
            "Name: group, dtype: int64\n"
          ]
        }
      ],
      "source": [
        "# sample database\n",
        "control_sample = df[df['group'] == 'control'].sample(n=sample_size, random_state=42)\n",
        "treatment_sample = df[df['group'] == 'treatment'].sample(n=sample_size, random_state=42)\n",
        "\n",
        "ab_test = pd.concat([control_sample, treatment_sample], axis=0)\n",
        "ab_test.reset_index(drop=True, inplace=True)\n",
        "\n",
        "print(ab_test.head())\n",
        "print(ab_test['group'].value_counts())"
      ]
    },
    {
      "cell_type": "code",
      "execution_count": null,
      "id": "79b2cc30",
      "metadata": {
        "id": "79b2cc30",
        "outputId": "6e59b246-d96e-48a4-b11a-ae02546c7b64"
      },
      "outputs": [
        {
          "name": "stdout",
          "output_type": "stream",
          "text": [
            "<class 'pandas.core.frame.DataFrame'>\n",
            "Int64Index: 4719 entries, 293433 to 68819\n",
            "Data columns (total 5 columns):\n",
            " #   Column        Non-Null Count  Dtype \n",
            "---  ------        --------------  ----- \n",
            " 0   user_id       4719 non-null   int64 \n",
            " 1   timestamp     4719 non-null   object\n",
            " 2   group         4719 non-null   object\n",
            " 3   landing_page  4719 non-null   object\n",
            " 4   converted     4719 non-null   int64 \n",
            "dtypes: int64(2), object(3)\n",
            "memory usage: 221.2+ KB\n"
          ]
        }
      ],
      "source": [
        "control_sample.info()"
      ]
    },
    {
      "cell_type": "code",
      "execution_count": null,
      "id": "0e167a27",
      "metadata": {
        "id": "0e167a27",
        "outputId": "05df82b5-4f02-454d-e69f-f73b564faefe"
      },
      "outputs": [
        {
          "data": {
            "text/html": [
              "<style type=\"text/css\">\n",
              "</style>\n",
              "<table id=\"T_793ad\">\n",
              "  <thead>\n",
              "    <tr>\n",
              "      <th class=\"blank level0\" >&nbsp;</th>\n",
              "      <th id=\"T_793ad_level0_col0\" class=\"col_heading level0 col0\" >conversion_rate</th>\n",
              "      <th id=\"T_793ad_level0_col1\" class=\"col_heading level0 col1\" >std_deviation</th>\n",
              "      <th id=\"T_793ad_level0_col2\" class=\"col_heading level0 col2\" >std_error</th>\n",
              "    </tr>\n",
              "    <tr>\n",
              "      <th class=\"index_name level0\" >group</th>\n",
              "      <th class=\"blank col0\" >&nbsp;</th>\n",
              "      <th class=\"blank col1\" >&nbsp;</th>\n",
              "      <th class=\"blank col2\" >&nbsp;</th>\n",
              "    </tr>\n",
              "  </thead>\n",
              "  <tbody>\n",
              "    <tr>\n",
              "      <th id=\"T_793ad_level0_row0\" class=\"row_heading level0 row0\" >control</th>\n",
              "      <td id=\"T_793ad_row0_col0\" class=\"data row0 col0\" >0.115</td>\n",
              "      <td id=\"T_793ad_row0_col1\" class=\"data row0 col1\" >0.320</td>\n",
              "      <td id=\"T_793ad_row0_col2\" class=\"data row0 col2\" >0.005</td>\n",
              "    </tr>\n",
              "    <tr>\n",
              "      <th id=\"T_793ad_level0_row1\" class=\"row_heading level0 row1\" >treatment</th>\n",
              "      <td id=\"T_793ad_row1_col0\" class=\"data row1 col0\" >0.129</td>\n",
              "      <td id=\"T_793ad_row1_col1\" class=\"data row1 col1\" >0.335</td>\n",
              "      <td id=\"T_793ad_row1_col2\" class=\"data row1 col2\" >0.005</td>\n",
              "    </tr>\n",
              "  </tbody>\n",
              "</table>\n"
            ],
            "text/plain": [
              "<pandas.io.formats.style.Styler at 0x1a1ee9f27f0>"
            ]
          },
          "execution_count": 30,
          "metadata": {},
          "output_type": "execute_result"
        }
      ],
      "source": [
        "# conversion rates\n",
        "import numpy as np\n",
        "import scipy.stats as stats\n",
        "\n",
        "conversion_rates = ab_test.groupby('group')['converted']\n",
        "std_p = lambda x: np.std(x, ddof=0) # standard deviation\n",
        "se_p = lambda x: stats.sem(x, ddof=0) # standard error\n",
        "\n",
        "conversion_rates = conversion_rates.agg([np.mean, std_p, se_p])\n",
        "conversion_rates.columns = ['conversion_rate', 'std_deviation', 'std_error']\n",
        "conversion_rates.style.format('{:.3f}')"
      ]
    },
    {
      "cell_type": "markdown",
      "id": "b7c107d4",
      "metadata": {
        "id": "b7c107d4"
      },
      "source": [
        "### Test of Proportions\n",
        "\n",
        "$z = \\frac{\\hat{p} - p}{\\sqrt{\\frac{p (1 - p)}{n}}}$"
      ]
    },
    {
      "cell_type": "code",
      "execution_count": null,
      "id": "85d923db",
      "metadata": {
        "id": "85d923db",
        "outputId": "f2a23108-e0b3-41c7-8d8e-125f2929a30c"
      },
      "outputs": [
        {
          "name": "stdout",
          "output_type": "stream",
          "text": [
            "p: 0.044\n",
            "control group ci (95%): [0.106 - 0.125]\n",
            "treatment group ci (95%): [0.119 - 0.139]\n"
          ]
        }
      ],
      "source": [
        "# test of proportions; never use t\n",
        "from scipy import stats\n",
        "from statsmodels.stats.proportion import proportions_ztest, proportion_confint\n",
        "\n",
        "control_group = ab_test[ab_test['group'] == 'control']['converted']\n",
        "treatment_group = ab_test[ab_test['group'] == 'treatment']['converted']\n",
        "n_con = control_group.count()\n",
        "n_treat = treatment_group.count()\n",
        "successes = [control_group.sum(), treatment_group.sum()]\n",
        "n_obs = [n_con, n_treat]\n",
        "\n",
        "_, pval = proportions_ztest(successes, nobs=n_obs)\n",
        "(lower_con, lower_treat), (upper_con, upper_treat) = proportion_confint(successes, nobs=n_obs, alpha=0.05)\n",
        "\n",
        "print(f'p: {pval:.3f}')\n",
        "print(f'control group ci (95%): [{lower_con:.3f} - {upper_con:.3f}]')\n",
        "print(f'treatment group ci (95%): [{lower_treat:.3f} - {upper_treat:.3f}]')"
      ]
    },
    {
      "cell_type": "markdown",
      "id": "92218ac7",
      "metadata": {
        "id": "92218ac7"
      },
      "source": [
        "### Using the t-Test"
      ]
    },
    {
      "cell_type": "code",
      "execution_count": null,
      "id": "8c7a2ecb",
      "metadata": {
        "id": "8c7a2ecb",
        "outputId": "45d9d219-7cc1-4666-c417-12a20c0d1751"
      },
      "outputs": [
        {
          "data": {
            "text/plain": [
              "Ttest_indResult(statistic=2.0111480870601284, pvalue=0.02216910137484345)"
            ]
          },
          "execution_count": 32,
          "metadata": {},
          "output_type": "execute_result"
        }
      ],
      "source": [
        "# don't know population; always use t\n",
        "from scipy import stats\n",
        "\n",
        "stats.ttest_ind(treatment_group, control_group, equal_var=eqvar, alternative='greater')"
      ]
    },
    {
      "cell_type": "markdown",
      "id": "79f93620",
      "metadata": {
        "id": "79f93620"
      },
      "source": [
        "### Conclusions\n",
        "\n",
        "* p-value (0.044) < $\\alpha$ (0.05)\n",
        "* our treatment ci upper bound is only 0.139, short of the desired 0.15\n",
        "* statistically significant but not practically significant\n",
        "* the new design did not work"
      ]
    },
    {
      "cell_type": "markdown",
      "id": "39137882",
      "metadata": {
        "id": "39137882"
      },
      "source": [
        "## Metrics"
      ]
    },
    {
      "cell_type": "markdown",
      "id": "e78de06e",
      "metadata": {
        "id": "e78de06e"
      },
      "source": [
        "### Discrete Metrics (Binomial Metrics)\n",
        "\n",
        "Only two values are possible (0 or 1)\n",
        "\n",
        "* Click-Through-Rate: Does a user click after seeing something\n",
        "* Conversion Rate: Does a user become a customer after seeing something\n",
        "* Click-Through-Probability: The probability a user clicks on the next step\n",
        "* Bounce Rate: Percentage of people that land on your page and then leave"
      ]
    },
    {
      "cell_type": "markdown",
      "id": "83bc499a",
      "metadata": {
        "id": "83bc499a"
      },
      "source": [
        "### Continuous Metrics\n",
        "\n",
        "* Average Revenue Per User\n",
        "* Average Session Duration\n",
        "* Average Order Value"
      ]
    },
    {
      "cell_type": "markdown",
      "id": "b4f61638",
      "metadata": {
        "id": "b4f61638"
      },
      "source": [
        "### Binomial Distribution\n",
        "\n",
        "Successes and Fails\n",
        "\n",
        "Formula:<br />\n",
        "$P(x: n,p) = \\binom {n}{x} p^x (1 - p)^{(n-x)}$\n",
        "\n",
        "* n trials\n",
        "* x successes\n",
        "\n",
        "According to StatisticsHowTo (2022):\n",
        "\n",
        "> A binomial distribution can be thought of as simply the probability of a SUCCESS or FAILURE outcome in an experiment or survey that is repeated multiple times. The binomial is a type of distribution that has two possible outcomes (the prefix “bi” means two, or twice). For example, a coin toss has only two possible outcomes: heads or tails and taking a test could have two possible outcomes: pass or fail.\n",
        "\n",
        "https://www.statisticshowto.com/probability-and-statistics/binomial-theorem/binomial-distribution-formula/\n",
        "\n",
        "Stephanie Glen. \"Binomial Distribution: Formula, What it is, How to use it\" From StatisticsHowTo.com: Elementary Statistics for the rest of us! https://www.statisticshowto.com/probability-and-statistics/binomial-theorem/binomial-distribution-formula/"
      ]
    },
    {
      "cell_type": "code",
      "execution_count": null,
      "id": "4b57bf3e",
      "metadata": {
        "id": "4b57bf3e",
        "outputId": "4e4c5368-7967-40c4-a73e-9e2bde806e44"
      },
      "outputs": [
        {
          "data": {
            "image/png": "[encoded data removed]",
            "text/plain": [
              "<Figure size 640x480 with 1 Axes>"
            ]
          },
          "metadata": {},
          "output_type": "display_data"
        }
      ],
      "source": [
        "# binomial distribution\n",
        "import numpy as np\n",
        "import matplotlib.pyplot as plt\n",
        "from scipy import stats\n",
        "# binom.pmf(x, n, p, loc)\n",
        "\n",
        "n = 10\n",
        "p = 0.5\n",
        "trials = list(range(1, n + 1))\n",
        "probs = [stats.binom.pmf(x, n, p) for x in trials]\n",
        "\n",
        "plt.bar(trials, probs)\n",
        "plt.xlabel('Trials')\n",
        "plt.ylabel('Probability')\n",
        "plt.show()"
      ]
    },
    {
      "cell_type": "code",
      "execution_count": null,
      "id": "e46b7610",
      "metadata": {
        "id": "e46b7610",
        "outputId": "fb720ec5-05bf-45f9-ec3b-5bc9aa1941cb"
      },
      "outputs": [
        {
          "data": {
            "text/plain": [
              "0.24609375000000003"
            ]
          },
          "execution_count": 11,
          "metadata": {},
          "output_type": "execute_result"
        }
      ],
      "source": [
        "# define success - getting heads; A fair coins is flipped 10 times. What is the probability of getting 5 heads?\n",
        "from scipy import stats\n",
        "\n",
        "stats.binom.pmf(5, 10, .5)"
      ]
    },
    {
      "cell_type": "markdown",
      "id": "3cf4a0d2",
      "metadata": {
        "id": "3cf4a0d2"
      },
      "source": [
        "### Normal Distribution\n",
        "\n",
        "Compare the formula for the normal distribution as shown below\n",
        "\n",
        "$\n",
        "\\frac{1}{\\sqrt{2\\pi\\sigma^2}}\\large{e^\\frac{-(x-\\mu)^2}{2\\sigma^2}}\n",
        "$\n",
        "\n",
        "with the python code below\n",
        "\n",
        "1/(np.sqrt(2 * np.pi * sigma&ast;&ast;2)) * np.exp( - (x - mu)&ast;&ast;2 / (2 * sigma&ast;&ast;2))\n",
        "\n",
        "Let's break the code down:\n",
        "* x = our set of numbers\n",
        "* mu = mean\n",
        "* sigma&ast;&ast;2 (sigma squared) = variance of x (sigma = std)\n",
        "* exp = exponential\n",
        "* 1 is our numerator\n",
        "* np.sqrt(2 * np.pi * sigma&ast;&ast;2) = $\\sqrt{2\\pi\\sigma^2}$ NOTE: the two asterisk designate a power such as squared\n",
        "* np.exp( - (x - mu)&ast;&ast;2 / (2 * sigma&ast;&ast;2)) = $\\large{e^\\frac{-(x-\\mu)^2}{2\\sigma^2}}$"
      ]
    },
    {
      "cell_type": "code",
      "execution_count": null,
      "id": "3fa4623d",
      "metadata": {
        "id": "3fa4623d",
        "outputId": "70865cff-7e63-46b9-84af-1e4e4e684f62"
      },
      "outputs": [
        {
          "data": {
            "image/png": "[encoded data removed]",
            "text/plain": [
              "<Figure size 640x480 with 1 Axes>"
            ]
          },
          "metadata": {},
          "output_type": "display_data"
        }
      ],
      "source": [
        "# standard normal distribution with numpy\n",
        "mu = 0\n",
        "sigma = 1\n",
        "x = np.random.normal(0, 1, 1000)\n",
        "count, bins, ignored = plt.hist(x, density=True, bins=25)\n",
        "\n",
        "# plot the distribution curve\n",
        "plt.plot(bins, 1/(np.sqrt(2 * np.pi * sigma**2)) * np.exp( - (bins - mu)**2 / (2 * sigma**2) ), linewidth=3, color='k')\n",
        "plt.xlabel('Standard Deviations')\n",
        "plt.ylabel('Probabilities')\n",
        "plt.axvline(x=mu, color='red', label='Mean')\n",
        "plt.title('Normal Standard Distribution')\n",
        "plt.legend()\n",
        "plt.show()"
      ]
    },
    {
      "cell_type": "markdown",
      "id": "283490ea",
      "metadata": {
        "id": "283490ea"
      },
      "source": [
        "### Conversion Rates\n",
        "\n",
        "* Conversion rate: Conversion rates are calculated by simply taking the number of conversions and dividing that by the number of total ad interactions that can be tracked to a conversion during the same time period. For example, if you had 50 conversions from 1,000 interactions, your conversion rate would be 5%, since 50 ÷ 1,000 = 5%. https://support.google.com/google-ads/answer/2684489?hl=en\n",
        "* Baseline conversion rate: Current conversion rate represented as a percentage\n",
        "* A conversion can refer to any desired action that you want the user to take. This can include anything from a click on a button to making a purchase and becoming a customer. Websites and apps often have multiple conversion goals, and each will have its own conversion rate.\n",
        "\n",
        "https://www.optimizely.com/optimization-glossary/conversion-rate/"
      ]
    },
    {
      "cell_type": "markdown",
      "id": "d2140d09",
      "metadata": {
        "id": "d2140d09"
      },
      "source": [
        "### One Tail vs Two Tail AB Tests in Terms of CVR\n",
        "\n",
        "Both Control and Treatment have equal conversion rates:\n",
        "* null Control(A) $=$ Treatment(B)\n",
        "* alt Control(A) $\\ne$ Treatment(B)\n",
        "\n",
        "Treatment group's conversion rate is no better than the Control group's and could be worse:\n",
        "* null Control(A) $\\geq$ Treatment(B)\n",
        "* alt Control(A) $\\lt$ Treatment(B)\n",
        "\n",
        "One tail tests look for an improvement in customer experience\n",
        "\n",
        "https://dominicsando.medium.com/why-two-sided-testing-is-reducing-your-a-b-testing-programs-impact-by-25-11d72276446a"
      ]
    },
    {
      "cell_type": "markdown",
      "id": "fa98f5f5",
      "metadata": {
        "id": "fa98f5f5"
      },
      "source": [
        "### Lift\n",
        "\n",
        "Lift indicates if the treatment is better than the control. Lift is a percentage of how the treatment compares to the null hypothesis (control group).\n",
        "\n",
        "Formula:\n",
        "* (test - control) / control (* 100)\n",
        "\n",
        "https://henrykpano.medium.com/a-b-testing-calculating-lift-rate-of-a-test-3d071514deb4"
      ]
    },
    {
      "cell_type": "markdown",
      "id": "22f5bf61",
      "metadata": {
        "id": "22f5bf61"
      },
      "source": [
        "## The Tests\n",
        "\n",
        "* https://miro.medium.com/v2/resize:fit:1100/format:webp/1*Vzkwzrs4DOmBBa1LymW-PQ.png"
      ]
    },
    {
      "cell_type": "markdown",
      "id": "ba51b278",
      "metadata": {
        "id": "ba51b278"
      },
      "source": [
        "###  The t-Test\n",
        "\n",
        "https://www.reddit.com/r/statistics/comments/13h9jmu/q_what_is_the_correct_way_to_write_ttest/\n",
        "\n",
        "A t-test is any statistical hypothesis test in which the test statistic follows a Student's t-distribution under the null hypothesis. It is most commonly applied when the test statistic would follow a normal distribution if the value of a scaling term in the test statistic were known (typically, the scaling term is unknown and therefore a nuisance parameter). When the scaling term is estimated based on the data, the test statistic—under certain conditions—follows a Student's t distribution. The t-test's most common application is to test whether the means of two populations are different.\n",
        "\n",
        "https://en.wikipedia.org/wiki/Student%27s_t-test\n",
        "\n",
        "### The Student's t-Statistic (A Test Statistic)\n",
        "\n",
        "* Developed by William Gosset in 1908 while working at the Guiness brewery but couldn't use his name, his employer preferred staff to use pen names when publishing scientific papers\n",
        "* Used to determine how far the statistic is from 0 (the mean) in respect to standard errors\n",
        "* The standard deviation reflects variability within a sample, while the standard error estimates the variability across samples of a population https://www.scribbr.com/statistics/standard-error/\n",
        "* Standard error of the mean (SEM) measures how far the sample mean (average) of the data is likely to be from the true population mean. The SEM is always smaller than the SD. https://www.investopedia.com/ask/answers/042415/what-difference-between-standard-error-means-and-standard-deviation.asp\n",
        "* The standard deviation of sample means, is called the standard error. The standard error tells you how accurate the mean of any given sample from that population is likely to be compared to the true population mean. When the standard error increases, i.e. the means are more spread out, it becomes more likely that any given mean is an inaccurate representation of the true population mean. https://s4be.cochrane.org/blog/2018/09/26/a-beginners-guide-to-standard-deviation-and-standard-error/\n",
        "* Given a t-value and the sample size, software can provide a precise p-value\n",
        "* For large samples, t-values +- 2 standard errors corresponds to p-value < 0.05\n",
        "\n",
        "### Standard Error\n",
        "\n",
        "$se = \\frac{\\sigma}{\\sqrt{n}}$\n",
        "\n",
        "Confidence Intervals: $\\bar{x} \\pm z*\\frac{\\sigma}{\\sqrt{n}}$\n",
        "\n",
        "If the population standard deviation is not known, you can substitute the sample standard deviation, s, in the numerator to approximate the standard error.\n",
        "\n",
        "https://www.investopedia.com/terms/s/standard-error.asp\n",
        "\n",
        "The standard error (SE) of a statistic (usually an estimate of a parameter) is the standard deviation of its sampling distribution or an estimate of that standard deviation. If the statistic is the sample mean, it is called the standard error of the mean (SEM). The sampling distribution of a mean is generated by repeated sampling from the same population and recording of the sample means obtained. This forms a distribution of different means, and this distribution has its own mean and variance. Mathematically, the variance of the sampling mean distribution obtained is equal to the variance of the population divided by the sample size. This is because as the sample size increases, sample means cluster more closely around the population mean.\n",
        "\n",
        "https://en.wikipedia.org/wiki/Standard_error\n",
        "\n",
        "The standard deviation reflects variability within a sample, while the standard error estimates the variability across samples of a population https://www.scribbr.com/statistics/standard-error/\n",
        "\n",
        "### t-Test\n",
        "\n",
        "Note: Standard deviation is the square root of the variance\n",
        "\n",
        "- When we use z scores with a normal distribution, we have to know the population's standard deviation\n",
        "- If we don't know the population standard deviation, Student's T-Distribution\n",
        "- Student's t-test determines if there is a significant difference between two sets of data\n",
        "- Can't just compare means due to variance and outliers\n",
        "- t-test also considers sample variances"
      ]
    },
    {
      "cell_type": "markdown",
      "id": "f21d5a80",
      "metadata": {
        "id": "f21d5a80"
      },
      "source": [
        "### z-Test\n",
        "\n",
        "* Observations are normally distributed or the sample is large\n",
        "* Variances are known\n",
        "* $t = \\frac{\\bar{x}_1 - \\bar{x}_2}{\\sqrt{\\frac{{s^2_1}}{n_1} + \\frac{{s^2_2}}{n_2}}}$\n",
        "* https://docs.scipy.org/doc/scipy/reference/generated/scipy.stats.ttest_ind.html\n",
        "\n",
        "Before we perform the test, we need to decide if we’ll assume the two populations have equal variances or not. As a rule of thumb, we can assume the populations have equal variances if the ratio of the larger sample variance to the smaller sample variance is less than 4:1... The ratio of the larger sample variance to the smaller sample variance is 12.26 / 7.73 = 1.586, which is less than 4. This means we can assume that the population variances are equal."
      ]
    },
    {
      "cell_type": "markdown",
      "id": "48c64853",
      "metadata": {
        "id": "48c64853"
      },
      "source": [
        "### One Sample t Test\n",
        "\n",
        "- We don't know the population standard deviation\n",
        "- Tests null hypothesis that population mean is equal to a specified $\\mu$ based on a sample mean $\\bar{x}$\n",
        "- $H_0$: Sample mean = Population mean\n",
        "\n",
        "In statistics, the t-statistic is the ratio of the departure of the estimated value of a parameter from its hypothesized value to its standard error.\n",
        "\n",
        "https://en.wikipedia.org/wiki/T-statistic\n",
        "\n",
        "t-statistic formula:\n",
        "- $t = \\frac{\\bar{x} - \\mu}{s/\\sqrt{n}}$"
      ]
    },
    {
      "cell_type": "code",
      "execution_count": null,
      "id": "ee847f75",
      "metadata": {
        "id": "ee847f75",
        "outputId": "953cabac-82c3-4634-8185-3e8466b3a938"
      },
      "outputs": [
        {
          "name": "stdout",
          "output_type": "stream",
          "text": [
            "Ttest_1sampResult(statistic=array([-58.75126205, -49.03537986]), pvalue=array([8.96143907e-79, 2.93573776e-71]))\n"
          ]
        }
      ],
      "source": [
        "# one sample t test\n",
        "from scipy import stats\n",
        "\n",
        "rvs = stats.norm.rvs(loc=0, scale=1, size=(100, 2))\n",
        "print(stats.ttest_1samp(rvs, popmean=5.0))"
      ]
    },
    {
      "cell_type": "markdown",
      "id": "af016310",
      "metadata": {
        "id": "af016310"
      },
      "source": [
        "Returns:\n",
        "\n",
        "* The t-statistic\n",
        "* The p-value associated with the given alternative"
      ]
    },
    {
      "cell_type": "markdown",
      "id": "c1124f0f",
      "metadata": {
        "id": "c1124f0f"
      },
      "source": [
        "### Independent Two-Sample t-Test\n",
        "\n",
        "- $H_0$: $\\bar{x_1} = \\bar{x_2}$\n",
        "- Are two samples from the class equal?\n",
        "\n",
        "t-statistic can have:\n",
        "- equal sample sizes, equal variance\n",
        "- unequal sample sizes, equal variance\n",
        "- equal of unequal sample sizes, unequal variance (Welch's t-test)\n",
        "\n",
        "t = signal/noise = difference in means/sample variability = $\\frac{(\\bar{x_1} - \\bar{x_2})}{\\sqrt{\\frac{s_1^2}{n_1}+\\frac{s_2^2}{n_2}}}$\n",
        "\n",
        "Compared to a t-score:\n",
        "- $t$ = t-statistic\n",
        "- $t_{df, \\alpha}$ = t-critical\n",
        "- df = degrees of freedom\n",
        "- General formula for df = n1 + n2 - 2 for equal variance or\n",
        "- Also see Welch-Satterthwaite Formula\n",
        "- $\\alpha$ = significance level"
      ]
    },
    {
      "cell_type": "code",
      "execution_count": null,
      "id": "13585371",
      "metadata": {
        "id": "13585371",
        "outputId": "36f6da20-e5d7-41c8-f102-35ea257f939f"
      },
      "outputs": [
        {
          "name": "stdout",
          "output_type": "stream",
          "text": [
            "Ttest_indResult(statistic=-0.18368314574911773, pvalue=0.854299343608305)\n"
          ]
        }
      ],
      "source": [
        "# independent t test\n",
        "from scipy import stats\n",
        "\n",
        "rvs1 = stats.norm.rvs(loc=5, scale=10, size=500)\n",
        "rvs2 = stats.norm.rvs(loc=5, scale=10, size=500)\n",
        "print(stats.ttest_ind(rvs1,rvs2)) # assumes that the populations have identical variances by default"
      ]
    },
    {
      "cell_type": "markdown",
      "source": [
        "### Paired / Repeated t-Test"
      ],
      "metadata": {
        "id": "37HWK2z_Q1Re"
      },
      "id": "37HWK2z_Q1Re"
    },
    {
      "cell_type": "markdown",
      "id": "abf528b9",
      "metadata": {
        "id": "abf528b9"
      },
      "source": [
        "### Shapiro-Wilk\n",
        "\n",
        "https://www.ncbi.nlm.nih.gov/pmc/articles/PMC6676026/\n",
        "\n",
        "The Shapiro–Wilk test is a test of normality. It was published in 1965 by Samuel Sanford Shapiro and Martin Wilk.\n",
        "\n",
        "https://en.wikipedia.org/wiki/Shapiro%E2%80%93Wilk_test\n",
        "\n",
        "If the p-value of the test is greater than α = .05, then the data is assumed to be normally distributed."
      ]
    },
    {
      "cell_type": "code",
      "execution_count": null,
      "id": "30ad145f",
      "metadata": {
        "id": "30ad145f",
        "outputId": "21ed504e-6604-4bc7-ea30-66f16288aef5"
      },
      "outputs": [
        {
          "data": {
            "text/plain": [
              "ShapiroResult(statistic=0.9985637664794922, pvalue=0.5967608094215393)"
            ]
          },
          "execution_count": 15,
          "metadata": {},
          "output_type": "execute_result"
        }
      ],
      "source": [
        "import math\n",
        "import numpy as np\n",
        "from scipy.stats import shapiro\n",
        "\n",
        "x = np.random.normal(0, 1, 1000)\n",
        "shapiro(x)"
      ]
    },
    {
      "cell_type": "markdown",
      "id": "9e896179",
      "metadata": {
        "id": "9e896179"
      },
      "source": [
        "### Kolmogorov-Smirnov Test\n",
        "\n",
        "In statistics, the Kolmogorov–Smirnov test (K–S test or KS test) is a nonparametric test of the equality of continuous (or discontinuous), one-dimensional probability distributions that can be used to compare a sample with a reference probability distribution (one-sample K–S test), or to compare two samples (two-sample K–S test). In essence, the test answers the question \"What is the probability that this collection of samples could have been drawn from that probability distribution?\" or, in the second case, \"**What is the probability that these two sets of samples were drawn from the same (but unknown) probability distribution?**\". It is named after Andrey Kolmogorov and Nikolai Smirnov.\n",
        "\n",
        "Tests for normality.\n",
        "\n",
        "[5]\n",
        "\n",
        "### A/A Testing\n",
        "\n",
        "* Split the users into two groups and give them both the treatment\n",
        "* The idea here is to validate the test setup by seeing that you get roughly the same performance from each variant. You’re testing the same thing against itself, to see if there’s noise in the data, instead of signal\n",
        "\n",
        "https://cxl.com/blog/aa-testing-waste-time/"
      ]
    },
    {
      "cell_type": "code",
      "execution_count": null,
      "id": "30f64bac",
      "metadata": {
        "id": "30f64bac",
        "outputId": "496f75df-4910-47cd-ba09-7d181c8f611e"
      },
      "outputs": [
        {
          "data": {
            "text/plain": [
              "KstestResult(statistic=0.0077316647579848685, pvalue=0.5855876471810593)"
            ]
          },
          "execution_count": 16,
          "metadata": {},
          "output_type": "execute_result"
        }
      ],
      "source": [
        "# A/A test\n",
        "import numpy as np\n",
        "import random\n",
        "from scipy import stats\n",
        "\n",
        "population = np.random.normal(loc = 0, scale = 1, size = 30)\n",
        "p_values = []\n",
        "\n",
        "for i in range(10000):\n",
        "    g1 = []\n",
        "    g2 = []\n",
        "    for j in population:\n",
        "        rnd_num = random.random()\n",
        "        g2.append(j) if rnd_num <= 0.5 else g1.append(j)\n",
        "\n",
        "    result = stats.ttest_ind(g1, g2)\n",
        "    p_values.append(result.pvalue)\n",
        "\n",
        "stats.kstest(p_values, 'uniform')"
      ]
    },
    {
      "cell_type": "markdown",
      "id": "1cbe1dee",
      "metadata": {
        "id": "1cbe1dee"
      },
      "source": [
        "### Sample Ratio Mismatch Using Chi-Square\n",
        "\n",
        "Are group sizes significantly different from expected values?"
      ]
    },
    {
      "cell_type": "code",
      "execution_count": null,
      "id": "7afe134f",
      "metadata": {
        "id": "7afe134f",
        "outputId": "3d89f59e-d0d6-45e8-ee87-8bdc0b3457de"
      },
      "outputs": [
        {
          "data": {
            "text/plain": [
              "Power_divergenceResult(statistic=2.7607361963190185, pvalue=0.0966037727627497)"
            ]
          },
          "execution_count": 17,
          "metadata": {},
          "output_type": "execute_result"
        }
      ],
      "source": [
        "import numpy as np\n",
        "from scipy.stats import chisquare\n",
        "\n",
        "g1 = 4000\n",
        "g2 = 4150\n",
        "expv = np.mean([g1, g2])\n",
        "chisquare([g1, g2], f_exp=[expv, expv])"
      ]
    },
    {
      "cell_type": "markdown",
      "id": "b05b16a9",
      "metadata": {
        "id": "b05b16a9"
      },
      "source": [
        "### Fisher's Exact Test\n",
        "\n",
        "Although in practice it is employed when sample sizes are small, it is valid for all sample sizes. It is named after its inventor, Ronald Fisher, and is one of a class of exact tests, so called because the significance of the deviation from a null hypothesis (e.g., P-value) can be calculated exactly, rather than relying on an approximation that becomes exact in the limit as the sample size grows to infinity, as with many statistical tests.\n",
        "\n",
        "Fisher's exact test is a statistical test used to **determine if there are nonrandom associations between two categorical variables**.\n",
        "\n",
        "https://mathworld.wolfram.com/FishersExactTest.html"
      ]
    },
    {
      "cell_type": "code",
      "execution_count": null,
      "id": "2b3df35a",
      "metadata": {
        "id": "2b3df35a",
        "outputId": "f3846b1d-6e6c-4a85-a7ce-7b506cb84f1b"
      },
      "outputs": [
        {
          "name": "stdout",
          "output_type": "stream",
          "text": [
            "Data\n",
            "x: [1 0 0 1 1 1 1 0 1 0 1 0 0 1 1 1 1 1 1]\n",
            "y: [0 0 0 0 0 0 1 0 0 0 0 0 0 0 1 1 1 0 0 0 0]\n",
            "\n",
            "Contingency Table\n",
            "         A   B\n",
            "stay     6  17\n",
            "bounce  13   4\n",
            "\n",
            "p: 0.003\n"
          ]
        }
      ],
      "source": [
        "import numpy as np\n",
        "import pandas as pd\n",
        "from scipy.stats import hypergeom\n",
        "from scipy.stats import fisher_exact\n",
        "\n",
        "np.random.seed(42)\n",
        "\n",
        "x = np.random.binomial(n=1, p=0.7, size=19)\n",
        "y = np.random.binomial(n=1, p=0.3, size=21)\n",
        "\n",
        "_, (a, c) = np.unique(x, return_counts=True)\n",
        "_, (b, d) = np.unique(y, return_counts=True)\n",
        "\n",
        "ct = pd.DataFrame(data=[[a, b], [c, d]], index=['stay', 'bounce'], columns=['A', 'B'])\n",
        "\n",
        "m = ct.values\n",
        "print('Data')\n",
        "print(f'x: {x}')\n",
        "print(f'y: {y}')\n",
        "print('\\nContingency Table')\n",
        "print(ct)\n",
        "\n",
        "table = np.array([[m[0, 0], m[0, 1]], [m[1, 0], m[1, 1]]])\n",
        "_, p = fisher_exact(table, alternative='two-sided')\n",
        "print(f'\\np: {p:.3f}')"
      ]
    },
    {
      "cell_type": "markdown",
      "id": "963e4a3c",
      "metadata": {
        "id": "963e4a3c"
      },
      "source": [
        "### Pearson's Chi-Squared Test\n",
        "\n",
        "A statistical test applied to sets of categorical data to evaluate how likely it is that any observed difference between the sets arose by chance.\n",
        "\n",
        "https://en.wikipedia.org/wiki/Pearson%27s_chi-squared_test"
      ]
    },
    {
      "cell_type": "code",
      "execution_count": null,
      "id": "05993e25",
      "metadata": {
        "id": "05993e25",
        "outputId": "dd485c82-8ec5-4a0a-c9a7-5e84cdda5eb2"
      },
      "outputs": [
        {
          "name": "stdout",
          "output_type": "stream",
          "text": [
            "Political Affiliation  Democrat  Other  Republican  Total\n",
            "Age Group                                                \n",
            "18-29                        68      4         141    213\n",
            "30-44                       159      7         179    345\n",
            "45-65                       216      4         220    440\n",
            "65 & older                   86      4         101    191\n",
            "Total                       529     19         641   1189\n",
            "\n",
            "Approach 1: The p-value approach to hypothesis testing in the decision rule\n",
            "chisquare-score is: 19.481729605501187  and p value is: 0.0034228899561198345\n",
            "Null Hypothesis is rejected.\n",
            "--------------------------------------------------------------------------------------\n",
            "Approach 2: The critical value approach to hypothesis testing in the decision rule\n",
            "chisquare-score is: 19.481729605501187  and critical value is: 12.591587243743977\n",
            "Null Hypothesis is rejected.\n"
          ]
        }
      ],
      "source": [
        "# https://towardsdatascience.com/chi-square-test-with-python-d8ba98117626\n",
        "import pandas as pd\n",
        "import scipy.stats as stats\n",
        "\n",
        "# create sample data according to survey\n",
        "data = [['18-29', 'Republican'] for i in range(141)] + \\\n",
        "        [['18-29', 'Democrat'] for i in range(68)] + \\\n",
        "        [['18-29', 'Other'] for i in range(4)] + \\\n",
        "        [['30-44', 'Republican'] for i in range(179)] + \\\n",
        "        [['30-44', 'Democrat'] for i in range(159)] + \\\n",
        "        [['30-44', 'Other'] for i in range(7)] + \\\n",
        "        [['45-65', 'Republican'] for i in range(220)] + \\\n",
        "        [['45-65', 'Democrat'] for i in range(216)] + \\\n",
        "        [['45-65', 'Other'] for i in range(4)] + \\\n",
        "        [['65 & older', 'Republican'] for i in range(101)] + \\\n",
        "        [['65 & older', 'Democrat'] for i in range(86)] + \\\n",
        "        [['65 & older', 'Other'] for i in range(4)]\n",
        "df = pd.DataFrame(data, columns = ['Age Group', 'Political Affiliation'])\n",
        "\n",
        "# create contingency table\n",
        "data_crosstab = pd.crosstab(df['Age Group'],\n",
        "                            df['Political Affiliation'],\n",
        "                           margins=True, margins_name=\"Total\")\n",
        "\n",
        "# significance level\n",
        "alpha = 0.05\n",
        "\n",
        "# Calcualtion of Chisquare\n",
        "chi_square = 0\n",
        "rows = df['Age Group'].unique()\n",
        "columns = df['Political Affiliation'].unique()\n",
        "for i in columns:\n",
        "    for j in rows:\n",
        "        O = data_crosstab[i][j]\n",
        "        E = data_crosstab[i]['Total'] * data_crosstab['Total'][j] / data_crosstab['Total']['Total']\n",
        "        chi_square += (O-E)**2/E\n",
        "\n",
        "print(data_crosstab)\n",
        "print()\n",
        "\n",
        "# The p-value approach\n",
        "print(\"Approach 1: The p-value approach to hypothesis testing in the decision rule\")\n",
        "p_value = 1 - stats.chi2.cdf(chi_square, (len(rows)-1)*(len(columns)-1))\n",
        "conclusion = \"Failed to reject the null hypothesis.\"\n",
        "if p_value <= alpha:\n",
        "    conclusion = \"Null Hypothesis is rejected.\"\n",
        "\n",
        "print(\"chisquare-score is:\", chi_square, \" and p value is:\", p_value)\n",
        "print(conclusion)\n",
        "\n",
        "# The critical value approach\n",
        "print(\"--------------------------------------------------------------------------------------\")\n",
        "print(\"Approach 2: The critical value approach to hypothesis testing in the decision rule\")\n",
        "critical_value = stats.chi2.ppf(1-alpha, (len(rows)-1)*(len(columns)-1))\n",
        "conclusion = \"Failed to reject the null hypothesis.\"\n",
        "if chi_square > critical_value:\n",
        "    conclusion = \"Null Hypothesis is rejected.\"\n",
        "\n",
        "print(\"chisquare-score is:\", chi_square, \" and critical value is:\", critical_value)\n",
        "print(conclusion)"
      ]
    },
    {
      "cell_type": "code",
      "execution_count": null,
      "id": "be2e3d53",
      "metadata": {
        "id": "be2e3d53",
        "outputId": "45ef8b31-9c3f-423a-c0b1-8b62b149f06e"
      },
      "outputs": [
        {
          "name": "stdout",
          "output_type": "stream",
          "text": [
            "LeveneResult(statistic=0.10171036138963314, pvalue=0.7506502410783215)\n",
            "4:1 ratio: 1.1435038598268332\n",
            "Ttest_indResult(statistic=-0.11253381760304303, pvalue=0.910693020615128)\n"
          ]
        }
      ],
      "source": [
        "from scipy import stats\n",
        "\n",
        "g1 = np.random.normal(0, 1, 37)\n",
        "g2 = np.random.normal(0, 1, 42)\n",
        "\n",
        "variances = [np.var(g1), np.var(g2)]\n",
        "\n",
        "print(stats.levene(g1, g2)) # p > 0.05 signifies eq var\n",
        "print(f'4:1 ratio: {max(variances) / min(variances)}')\n",
        "\n",
        "# zval = (g1.mean() - g2.mean()) / np.sqrt(np.var(g1)/len(x) + np.var(g2)/len(y))\n",
        "# print(zval)\n",
        "# print((stats.norm.cdf(zval) * 2).round(3)) # * 2 for two tailed assignment 5\n",
        "# print((stats.norm.sf(abs(zval)) * 2).round(3)) # assignment 8\n",
        "print(stats.ttest_ind(g1, g2, equal_var=True, alternative='two-sided'))"
      ]
    },
    {
      "cell_type": "markdown",
      "id": "f42dda20",
      "metadata": {
        "id": "f42dda20"
      },
      "source": [
        "### Levene Test\n",
        "\n",
        "Levene's test ( Levene 1960) is used to test if **k samples have equal variances**. Equal variances across samples is called homogeneity of variance. Some statistical tests, for example the analysis of variance, assume that variances are equal across groups or samples. The Levene test can be used to verify that assumption.\n",
        "\n",
        "https://www.itl.nist.gov/div898/handbook/eda/section3/eda35a.htm"
      ]
    },
    {
      "cell_type": "markdown",
      "id": "4fff6cec",
      "metadata": {
        "id": "4fff6cec"
      },
      "source": [
        "### Student's t-Test Two Sided\n",
        "\n",
        "* The observations are normally distributed or the sample size is large\n",
        "* The sampling distributions have similar variances, $\\sigma^2_x \\approx \\sigma^2_y$"
      ]
    },
    {
      "cell_type": "code",
      "execution_count": null,
      "id": "b5f5176b",
      "metadata": {
        "id": "b5f5176b",
        "outputId": "70718e26-8710-4871-f9ab-02070e9f4663"
      },
      "outputs": [
        {
          "name": "stdout",
          "output_type": "stream",
          "text": [
            "LeveneResult(statistic=0.1975584620228295, pvalue=0.6599983245710374)\n",
            "4:1 ratio: 1.4183288079511378\n",
            "Ttest_indResult(statistic=1.030952472472328, pvalue=0.3110850809924013)\n"
          ]
        }
      ],
      "source": [
        "from scipy import stats\n",
        "\n",
        "g1 = np.random.normal(0, 1, 17)\n",
        "g2 = np.random.normal(0, 1, 14)\n",
        "\n",
        "variances = [np.var(g1), np.var(g2)]\n",
        "\n",
        "print(stats.levene(g1, g2)) # p > 0.05 signifies eq var\n",
        "print(f'4:1 ratio: {max(variances) / min(variances)}')\n",
        "\n",
        "print(stats.ttest_ind(g1, g2, equal_var=True, alternative='two-sided'))"
      ]
    },
    {
      "cell_type": "markdown",
      "id": "7ad0c62e",
      "metadata": {
        "id": "7ad0c62e"
      },
      "source": [
        "### Welch's t-Test\n",
        "\n",
        "* Variance's are not similar so we can't use pooled variance\n",
        "* Welch's t-test **removes assumption of similar variances**\n",
        "* t statistic is slightly different with different number of degrees of freedom - $\\nu$"
      ]
    },
    {
      "cell_type": "code",
      "execution_count": null,
      "id": "b131aade",
      "metadata": {
        "id": "b131aade",
        "outputId": "e79a9662-501c-4f0e-e596-f22a01243179"
      },
      "outputs": [
        {
          "name": "stdout",
          "output_type": "stream",
          "text": [
            "LeveneResult(statistic=57.813200094086724, pvalue=1.596138781192925e-12)\n",
            "4:1 ratio: 9.798707655597791\n",
            "Ttest_indResult(statistic=-158.35895168479274, pvalue=1.1775863203818505e-147)\n"
          ]
        }
      ],
      "source": [
        "from scipy import stats\n",
        "\n",
        "g1 = np.random.normal(0, 1, 78)\n",
        "g2 = np.random.normal(50, 3, 102)\n",
        "\n",
        "variances = [np.var(g1), np.var(g2)]\n",
        "\n",
        "print(stats.levene(g1, g2)) # p > 0.05 signifies eq var\n",
        "print(f'4:1 ratio: {max(variances) / min(variances)}')\n",
        "\n",
        "print(stats.ttest_ind(g1, g2, equal_var=False, alternative='two-sided'))"
      ]
    },
    {
      "cell_type": "markdown",
      "id": "a9b0682e",
      "metadata": {
        "id": "a9b0682e"
      },
      "source": [
        "### Mann-Whitney U Test\n",
        "\n",
        "In statistics, the Mann–Whitney U test (also called the Mann–Whitney–Wilcoxon (MWW/MWU), Wilcoxon rank-sum test, or Wilcoxon–Mann–Whitney test) is a nonparametric test of the null hypothesis that, for randomly selected values X and Y from two populations, the probability of X being greater than Y is equal to the probability of Y being greater than X.\n",
        "\n",
        "A measure of the central tendencies of the two groups (means or medians; since the Mann–Whitney U test is an ordinal test, medians are usually recommended)\n",
        "\n",
        "https://en.wikipedia.org/wiki/Mann%E2%80%93Whitney_U_test"
      ]
    },
    {
      "cell_type": "code",
      "execution_count": null,
      "id": "f5f439d9",
      "metadata": {
        "id": "f5f439d9",
        "outputId": "ecc5cde3-670a-4561-aa46-c2ee383e3ede"
      },
      "outputs": [
        {
          "name": "stdout",
          "output_type": "stream",
          "text": [
            "Mann-Whitney U Test: u - 298.000, p - 0.002\n"
          ]
        }
      ],
      "source": [
        "from scipy.stats import mannwhitneyu\n",
        "\n",
        "mwu = mannwhitneyu(x, y, use_continuity=False, alternative='two-sided')\n",
        "print(f'Mann-Whitney U Test: u - {mwu.statistic:.3f}, p - {mwu.pvalue:.3f}')"
      ]
    },
    {
      "cell_type": "markdown",
      "id": "513411c4",
      "metadata": {
        "id": "513411c4"
      },
      "source": [
        "### Data Distribution vs Stats Distribution\n",
        "\n",
        "* Tests that rely on the assumption of normally distributed test statistics can also be applied if the original sampling distribution is highly non-normal\n",
        "* The distribution of the test statistic is asymptotically normal as the sample size increases (central limit theorem)\n",
        "* This is very useful in the common case of A/B tests that produce observations that are zero-inflated and/or multimodal\n",
        "\n",
        "If we have enough samples, tests derived under normality assumptions like Z-test, Student’s t-test, and Welch’s t-test can still be applied for observations that signficantly deviate from normality. Indeed, thanks to the central limit theorem, the distribution of the test statistics tends to normality as the sample size increases. In the zero-inflated and multimodal example we are considering, even a sample size of 40 produces a distribution that is well approximated by a normal distribution."
      ]
    },
    {
      "cell_type": "code",
      "execution_count": null,
      "id": "40ee153a",
      "metadata": {
        "id": "40ee153a",
        "outputId": "9eeb4a33-cd9e-4045-ce40-7fcfb22b053c"
      },
      "outputs": [
        {
          "data": {
            "image/png": "[encoded data removed]",
            "text/plain": [
              "<Figure size 700x500 with 4 Axes>"
            ]
          },
          "metadata": {},
          "output_type": "display_data"
        }
      ],
      "source": [
        "import matplotlib.pyplot as plt\n",
        "\n",
        "p = np.array([245, 0, 0, 0, 0, 0, 0, 0, 0,  1, 3, 1, 3, 2, 9, 18, 22, 10, 6, 2, 2, 1, 2, 1, 1])\n",
        "a = np.arange(len(p))\n",
        "p = p / p.sum()\n",
        "loc = (p*np.arange(len(p))).sum()\n",
        "nn = [1, 10, 20, 40]\n",
        "f, axx = plt.subplots(2, 2, figsize=(7, 5))\n",
        "\n",
        "for i, n in enumerate(nn):\n",
        "    r, c = divmod(i, 2)\n",
        "    x = p\n",
        "    ax = axx[r, c]\n",
        "    for _ in range(n):\n",
        "        x = np.convolve(x, p)\n",
        "\n",
        "    ax.bar(np.arange(len(x))/n, x*n, width=1/n)\n",
        "    ax.set_ylim([0, 0.51])\n",
        "    ax.vlines(loc, 0, 0.51, 'r')\n",
        "    ax.set_xlabel('statistic')\n",
        "    ax.set_ylabel('prob density')\n",
        "    ax.set_title(f'sample size {n}')\n",
        "\n",
        "f.tight_layout();"
      ]
    },
    {
      "cell_type": "markdown",
      "id": "fef287b6",
      "metadata": {
        "id": "fef287b6"
      },
      "source": [
        "## References\n",
        "\n",
        "1. https://towardsdatascience.com/a-b-testing-a-complete-guide-to-statistical-testing-e3f1db140499\n",
        "2. https://classroom.udacity.com/courses/ud257/lessons/456f424d-0cbc-481c-a0ab-a6217013f46e/concepts/d87d2932-962d-4c1d-9fdb-c5ac754783b7\n",
        "3. https://www.dataquest.io/blog/a-b-testing-the-definitive-guide-to-improving-your-product/\n",
        "4. https://en.wikipedia.org/wiki/Bounce_rate\n",
        "5. https://en.wikipedia.org/wiki/Kolmogorov%E2%80%93Smirnov_test\n",
        "6. https://www.analytics-toolkit.com/glossary/sample-ratio-mismatch/\n",
        "7. https://en.wikipedia.org/wiki/Fisher's_exact_test\n",
        "8. https://www.statology.org/two-sample-t-test-python/\n",
        "9. https://en.wikipedia.org/wiki/Mann%E2%80%93Whitney_U_test\n",
        "10. https://towardsdatascience.com/ab-testing-with-python-e5964dd66143\n",
        "\n",
        "### Don't Use t-Tests for AB Testing Article\n",
        "\n",
        "* https://towardsdatascience.com/dont-use-a-t-test-for-a-b-testing-e4d2ef7ab9b6"
      ]
    }
  ],
  "metadata": {
    "kernelspec": {
      "display_name": "Python 3 (ipykernel)",
      "language": "python",
      "name": "python3"
    },
    "language_info": {
      "codemirror_mode": {
        "name": "ipython",
        "version": 3
      },
      "file_extension": ".py",
      "mimetype": "text/x-python",
      "name": "python",
      "nbconvert_exporter": "python",
      "pygments_lexer": "ipython3",
      "version": "3.9.7"
    },
    "colab": {
      "provenance": [],
      "toc_visible": true,
      "include_colab_link": true
    }
  },
  "nbformat": 4,
  "nbformat_minor": 5
}