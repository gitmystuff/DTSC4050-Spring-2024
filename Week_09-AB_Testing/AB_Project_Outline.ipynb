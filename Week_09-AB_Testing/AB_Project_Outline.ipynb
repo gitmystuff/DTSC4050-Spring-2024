{
  "nbformat": 4,
  "nbformat_minor": 0,
  "metadata": {
    "colab": {
      "provenance": [],
      "toc_visible": true,
      "authorship_tag": "ABX9TyMwJrGVjZlX0/2vAjQ6ShB3",
      "include_colab_link": true
    },
    "kernelspec": {
      "name": "python3",
      "display_name": "Python 3"
    },
    "language_info": {
      "name": "python"
    }
  },
  "cells": [
    {
      "cell_type": "markdown",
      "metadata": {
        "id": "view-in-github",
        "colab_type": "text"
      },
      "source": [
        "<a href=\"https://colab.research.google.com/github/gitmystuff/DTSC4050/blob/main/Week_09-AB_Testing/AB_Project_Outline.ipynb\" target=\"_parent\"><img src=\"https://colab.research.google.com/assets/colab-badge.svg\" alt=\"Open In Colab\"/></a>"
      ]
    },
    {
      "cell_type": "markdown",
      "source": [
        "# Title\n",
        "\n",
        "Your Name\n",
        "\n",
        "Resources:\n",
        "\n",
        "* https://towardsdatascience.com/how-to-structure-your-data-science-notebook-to-be-easy-to-follow-2d3c2777e6e0"
      ],
      "metadata": {
        "id": "BovmLSH2rJHa"
      }
    },
    {
      "cell_type": "markdown",
      "source": [
        "## Introduction"
      ],
      "metadata": {
        "id": "9pHof4VHrQuj"
      }
    },
    {
      "cell_type": "markdown",
      "source": [
        "### The Problem / Understanding the Context"
      ],
      "metadata": {
        "id": "ProXNUZssIAJ"
      }
    },
    {
      "cell_type": "markdown",
      "source": [
        "### Main Goals"
      ],
      "metadata": {
        "id": "ySkhM3P7sNNC"
      }
    },
    {
      "cell_type": "markdown",
      "source": [
        "### Questions to Address"
      ],
      "metadata": {
        "id": "GiU4TNj6sPXf"
      }
    },
    {
      "cell_type": "markdown",
      "source": [
        "### End Product"
      ],
      "metadata": {
        "id": "C4xKp_9DsUlB"
      }
    },
    {
      "cell_type": "markdown",
      "source": [
        "### Prior Knowledge"
      ],
      "metadata": {
        "id": "oI6IIxJ3sXZS"
      }
    },
    {
      "cell_type": "markdown",
      "source": [
        "## Data Preparation\n",
        "\n",
        "* Document"
      ],
      "metadata": {
        "id": "TuGi7gGvrhkZ"
      }
    },
    {
      "cell_type": "markdown",
      "source": [
        "### Fields and Meanings"
      ],
      "metadata": {
        "id": "PIHd0LeMsnRf"
      }
    },
    {
      "cell_type": "markdown",
      "source": [
        "### List of Modifications"
      ],
      "metadata": {
        "id": "46Qszi6dsxa4"
      }
    },
    {
      "cell_type": "markdown",
      "source": [
        "### Data Cleaning"
      ],
      "metadata": {
        "id": "GF--sKiUsrQ_"
      }
    },
    {
      "cell_type": "markdown",
      "source": [
        "### Enriching\n",
        "\n",
        "* Do we have enough / what we need"
      ],
      "metadata": {
        "id": "6RzpFT2jtb_X"
      }
    },
    {
      "cell_type": "markdown",
      "source": [
        "### Data Consistency"
      ],
      "metadata": {
        "id": "W5vkIEGotli1"
      }
    },
    {
      "cell_type": "markdown",
      "source": [
        "### Missing Values"
      ],
      "metadata": {
        "id": "xUANLxXZsvZr"
      }
    },
    {
      "cell_type": "markdown",
      "source": [
        "### Scaling"
      ],
      "metadata": {
        "id": "5Umqvl9xtKfi"
      }
    },
    {
      "cell_type": "markdown",
      "source": [
        "### Justification"
      ],
      "metadata": {
        "id": "zXfkWeBPs54j"
      }
    },
    {
      "cell_type": "markdown",
      "source": [
        "## Exploratory Data Analysis\n",
        "\n",
        "* Create one subsection of each question raised\n",
        "* Document"
      ],
      "metadata": {
        "id": "D9M1keO6rscV"
      }
    },
    {
      "cell_type": "markdown",
      "source": [
        "### Statistics"
      ],
      "metadata": {
        "id": "7lKc8d_EtspM"
      }
    },
    {
      "cell_type": "markdown",
      "source": [
        "### Visualizations"
      ],
      "metadata": {
        "id": "lkG04jbDt_-I"
      }
    },
    {
      "cell_type": "markdown",
      "source": [
        "### Support Your Answers"
      ],
      "metadata": {
        "id": "3ManfcUEuDBz"
      }
    },
    {
      "cell_type": "markdown",
      "source": [
        "### Story Telling"
      ],
      "metadata": {
        "id": "pOmyanoOuV0z"
      }
    },
    {
      "cell_type": "markdown",
      "source": [
        "## Modeling / Analytical Features\n",
        "\n",
        "* Production level modeling should not be done in a notebook\n",
        "* Use modular structured code\n",
        "* Document"
      ],
      "metadata": {
        "id": "r5bTSS8RrwUe"
      }
    },
    {
      "cell_type": "markdown",
      "source": [
        "### Train Test Split"
      ],
      "metadata": {
        "id": "RoklsdEculnd"
      }
    },
    {
      "cell_type": "markdown",
      "source": [
        "### Fine Tuning"
      ],
      "metadata": {
        "id": "mWf4sEGguqFl"
      }
    },
    {
      "cell_type": "markdown",
      "source": [
        "### Model Comparisons"
      ],
      "metadata": {
        "id": "6sE6d6-4utkf"
      }
    },
    {
      "cell_type": "markdown",
      "source": [
        "### Assessment and Usefulness"
      ],
      "metadata": {
        "id": "6NLfHbICuyD9"
      }
    },
    {
      "cell_type": "markdown",
      "source": [
        "## Conclusion\n",
        "\n",
        "* Document"
      ],
      "metadata": {
        "id": "Bfq67o_8ryQW"
      }
    },
    {
      "cell_type": "markdown",
      "source": [
        "### Summary of Findings"
      ],
      "metadata": {
        "id": "hfleImk2u4MZ"
      }
    },
    {
      "cell_type": "markdown",
      "source": [
        "### Additional Information"
      ],
      "metadata": {
        "id": "HNYmZzYAu6j9"
      }
    },
    {
      "cell_type": "markdown",
      "source": [
        "### Strengths and Weaknesses\n",
        "\n",
        "* List at least one weakness / limitation\n",
        "* Can we trust the statistics"
      ],
      "metadata": {
        "id": "A0v-cn2vu96X"
      }
    },
    {
      "cell_type": "markdown",
      "source": [
        "## Going Forward\n",
        "\n",
        "* Since this is AB testing, usually a test between means, talk about linear regression and its benefits\n",
        "* How are we addressing current trends and breakthroughs"
      ],
      "metadata": {
        "id": "VKCX9-OpuEQu"
      }
    }
  ]
}