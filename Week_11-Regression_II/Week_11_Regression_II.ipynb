{
  "cells": [
    {
      "cell_type": "markdown",
      "metadata": {
        "id": "view-in-github",
        "colab_type": "text"
      },
      "source": [
        "<a href=\"https://colab.research.google.com/github/gitmystuff/DTSC4050/blob/main/Week_11-Regression_II/Week_11_Regression_II.ipynb\" target=\"_parent\"><img src=\"https://colab.research.google.com/assets/colab-badge.svg\" alt=\"Open In Colab\"/></a>"
      ]
    },
    {
      "cell_type": "markdown",
      "source": [
        "# Week 11: Regression II"
      ],
      "metadata": {
        "id": "OVr8WuT8b1U0"
      },
      "id": "OVr8WuT8b1U0"
    },
    {
      "cell_type": "markdown",
      "source": [
        "## Getting Started\n",
        "\n",
        "* Colab - get notebook from gitmystuff DTSC4050 repository\n",
        "* Save a Copy in Drive\n",
        "* Remove Copy of\n",
        "* Edit name\n",
        "* Take attendance\n",
        "* Clean up Colab Notebooks folder\n",
        "* Submit shared link"
      ],
      "metadata": {
        "id": "uRfFylCjbyMy"
      },
      "id": "uRfFylCjbyMy"
    },
    {
      "cell_type": "markdown",
      "id": "48532040",
      "metadata": {
        "id": "48532040"
      },
      "source": [
        "## Types of Regression\n",
        "\n",
        "* Simple Linear Regression\n",
        "* Multiple Linear Regression\n",
        "* Polynomial Regression\n",
        "* Support Vector Regression\n",
        "* Decision Tree Regression\n",
        "* Random Forest Regression\n",
        "\n",
        "**SEE MORE REGRESSION**"
      ]
    },
    {
      "cell_type": "markdown",
      "id": "17118446",
      "metadata": {
        "id": "17118446"
      },
      "source": [
        "## Simple Linear Regression\n",
        "\n",
        "In statistics, linear regression is a linear approach for modelling the relationship between a scalar response and one or more explanatory variable (also known as dependent and independent variables). The case of one explanatory variable is called simple linear regression; for more than one, the process is called multiple linear regression. This term is distinct from multivariate linear regression, where multiple correlated dependent variables are predicted, rather than a single scalar variable.\n",
        "\n",
        "https://en.wikipedia.org/wiki/Linear_regression\n",
        "\n",
        "### Controlling for Other Factors\n",
        "\n",
        "* Controlling for other factors, holding other factors constant, accounting for other factors, keeping other factors fixed, one unit increase in X1 is, on average, associated with b units increast in y\n",
        "* Example: Income, getting a store credit card, and monthly spending - controlling for income  would compare the average monthly spending with those that get a store credit card and those that don't get a store credit card\n",
        "\n",
        "https://towardsdatascience.com/what-does-it-mean-to-control-for-something-in-multiple-regression-744880620988\n",
        "\n",
        "* Any given experiment has numerous control variables, and it's important for a scientist to try to hold all variables constant except for the independent variable. If a control variable changes during an experiment, it may invalidate the correlation between the dependent and independent variables. When possible, control variables should be identified, measured, and recorded.\n",
        "\n",
        "https://www.thoughtco.com/controlled-variable-definition-609094\n",
        "\n",
        "### Confounding Variables\n",
        "\n",
        "* Confounding Variables: a (third) variable that influences both independent and dependent variables, alcohol and lung cancer (smoking), low blood pressure and mortality (heart disease), ice cream and sunburn (summer sun)\n",
        "* Features of no significance\n",
        "* Lurking variable: An extraneous variable that is not included in statistical analysis, unknown, uncontrolled for, diet soda and traffic accidents (caffeine or population growth)\n",
        "* Ordinary Least Squares: limiting the residual\n",
        "* Relationship models\n",
        "\n",
        "### Hypothesis Testing\n",
        "\n",
        "* To predict future values for the y variable\n",
        "* To infer if the trend is statistically significant\n",
        "\n",
        "This is important to remember because it means that your data does not have to meet the requirements for a linear regression hypothesis test if you are using the regression to predict future values. You need to meet the hypothesis test assumptions if you are trying to determine if there is an actual trend (aka the trend is statistically significant).\n",
        "\n",
        "https://towardsdatascience.com/how-to-simplify-hypothesis-testing-for-linear-regression-in-python-8b43f6917c86\n",
        "\n",
        "For simple linear regression, the chief null hypothesis is H0 : β1 = 0, and the corresponding alternative hypothesis is H1 : β1 = 0. If this null hypothesis is true, then, from E(Y) = β0 + β1x, we can see that the population mean of Y is β0 for every x value, which tells us that x has no effect on Y.\n",
        "\n",
        "https://www.stat.cmu.edu/~hseltman/309/Book/chapter9.pdf\n",
        "\n",
        "### Assumptions\n",
        "\n",
        "* There is a linear regression relation between Y and X\n",
        "* The error terms (residuals) are normally distributed\n",
        "* The variance of the error terms is constant over all X values (homoscedasticity)\n",
        "* The error terms are independent\n",
        "* **ASSUMPTIONS**\n",
        "\n",
        "### Don't Kill When Doing Your Research\n",
        "\n",
        "* https://my.clevelandclinic.org/health/articles/16979-estrogen--hormones\n",
        "* Guard against using explanatory variables that are affected by the outcome of the dependent variable , the outcome we are trying to explain\n",
        "* The explanatory variable should explain the dependent variable not the other way around\n",
        "* Golf and mortality"
      ]
    },
    {
      "cell_type": "markdown",
      "source": [
        "### Slope Intercept Equation\n",
        "\n",
        "$y = mx + b$\n",
        "\n",
        "$m = \\frac{y_2-y_1}{x_2-x_1} = \\frac{\\Delta y}{\\Delta x} = \\frac{dy}{dx}$\n",
        "\n",
        "* the latter is Leibniz's notation\n",
        "* https://www.khanacademy.org/math/ap-calculus-ab/ab-differentiation-1-new/ab-2-1/a/derivative-notation-review"
      ],
      "metadata": {
        "id": "cp5ti-wJTLvI"
      },
      "id": "cp5ti-wJTLvI"
    },
    {
      "cell_type": "markdown",
      "id": "2a28391a",
      "metadata": {
        "id": "2a28391a"
      },
      "source": [
        "### The Math\n",
        "\n",
        "$y = mx + b$\n",
        "\n",
        "* $m = \\frac{N * \\sum{(xy)} - \\sum{x}\\sum{y}}{N * \\sum{x^2} - (\\sum{x})^2}$\n",
        "* $b = \\frac{\\sum{y} - m * \\sum{x}}{N}$"
      ]
    },
    {
      "cell_type": "code",
      "execution_count": null,
      "id": "7b5f0d69",
      "metadata": {
        "id": "7b5f0d69",
        "outputId": "1c732494-dd59-4def-faff-cee66ee73d8b",
        "colab": {
          "base_uri": "https://localhost:8080/"
        }
      },
      "outputs": [
        {
          "output_type": "stream",
          "name": "stdout",
          "text": [
            "   x  y  x^2  xy\n",
            "0  1  1    1   1\n",
            "1  2  3    4   6\n",
            "2  3  2    9   6\n",
            "3  4  3   16  12\n",
            "4  5  5   25  25\n",
            "[15, 14, 55, 50]\n",
            "m: 0.8\n",
            "b: 0.4\n"
          ]
        }
      ],
      "source": [
        "# https://www.mathsisfun.com/data/least-squares-regression.html\n",
        "import numpy as np\n",
        "import pandas as pd\n",
        "\n",
        "x = np.array([1, 2, 3, 4, 5])\n",
        "y = np.array([1, 3, 2, 3, 5])\n",
        "\n",
        "def xy(r):\n",
        "    return r.x * r.y\n",
        "\n",
        "m_table = pd.DataFrame({'x': x, 'y': y})\n",
        "m_table['x^2'] = m_table['x'].apply(lambda x: x**2)\n",
        "m_table['xy'] = m_table.apply(xy, axis=1)\n",
        "print(m_table.head())\n",
        "\n",
        "N = len(x)\n",
        "sums = list(m_table.sum())\n",
        "print(sums)\n",
        "m = (N * sums[3] - sums[0] * sums[1]) / (N * sums[2] - sums[0]**2)\n",
        "print('m:', m)\n",
        "b = (sums[1]-m*sums[0])/N\n",
        "print('b:', b)"
      ]
    },
    {
      "cell_type": "markdown",
      "id": "7f4e815f",
      "metadata": {
        "id": "7f4e815f"
      },
      "source": [
        "### Correlation vs Simple Linear Regression\n",
        "\n",
        "* A correlation analysis provides information on the strength and direction of the linear relationship between two variables, while a simple linear regression analysis estimates parameters in a linear equation that can be used to predict values of one variable based on the other.\n",
        "* If x and y have the same standard deviation then r equals slope\n",
        "* $y_i = \\alpha + \\beta x_i + \\epsilon_i$\n",
        "* $y = \\alpha + \\beta x$\n",
        "\n",
        "The parameters for linear regression are $\\alpha$ and $\\beta$ and $e$. The error term, $e$, represents the rest of $y$ that $X$ cannot explain. If we look at $y = f(X) + e$ and assume that the function of $e$ is iid, then the sum of $e$ will be zero and is usually left off of the equation.\n",
        "\n",
        "The sum of the residuals always equals zero (assuming that your line is actually the line of 'best fit...' The mean of residuals is also equal to zero, as the mean = the sum of the residuals / the number of items. The sum is zero, so 0/n will always equal zero.\n",
        "\n",
        "Stephanie Glen. \"Residual Values (Residuals) in Regression Analysis\" From StatisticsHowTo.com: Elementary Statistics for the rest of us! https://www.statisticshowto.com/residual/\n",
        "\n",
        "* $\\hat{\\alpha} = \\bar{y} - (\\hat{\\beta}\\bar{x})$\n",
        "* $\\hat{\\beta} = \\frac{\\sum^N_{i=1}(x_i - \\bar{x})(y_i - \\bar{y})}{\\sum^N_{i=1}(x_i - \\bar{x})^2}$\n",
        "* $ = \\frac{s_{xy}}{s^2_x}$\n",
        "* $ = r_{xy}\\frac{s_y}{s_x}$\n",
        "* $ r_{xy} = \\frac{cov(x,y)}{\\sigma_x\\sigma_y} = \\frac{\\frac{1}{N}\\sum(x-\\bar{x})(y-\\bar{y})}{\\sqrt\\frac{\\sum(x-\\bar{x})^2}{N}\\sqrt\\frac{\\sum(y-\\bar{y})^2}{N}}  = \\frac{\\sum(x-\\bar{x})(y-\\bar{y})}{\\sqrt{\\sum(x-\\bar{x})^2}\\sqrt{\\sum(y-\\bar{y})^2}}$\n",
        "\n",
        "where\n",
        "\n",
        "* $\\bar{x}$ and $\\bar{y}$ as the average of $x_i$ and $y_i$, respectively\n",
        "* $r_{xy}$ is the **sample correlation coefficient** between x and y\n",
        "* $s_x$ and $s_y$ is the **uncorrected sample standard deviations** of x and y\n",
        "* $s_{x}^2$ and $s_{x,y}$ is the **sample variance** and **sample covariance**, respectively\n",
        "\n",
        "**Sample Correlation Coefficient**: In statistics, correlation or dependence is any statistical relationship, whether causal or not, between two random variables or bivariate data. Although in the broadest sense, \"correlation\" may indicate any type of association, in statistics it normally refers to the degree to which a pair of variables are linearly related. The sample correlation coefficient can be used to estimate the population Pearson correlation\n",
        "\n",
        "https://en.wikipedia.org/wiki/Correlation#Sample_correlation_coefficient\n",
        "\n",
        "**Uncorrected Sample Standard Deviation**: In statistics, the standard deviation is a measure of the amount of variation or dispersion of a set of values. A low standard deviation indicates that the values tend to be close to the mean (also called the expected value) of the set, while a high standard deviation indicates that the values are spread out over a wider range. The formula for the population standard deviation (of a finite population) can be applied to the sample, using the size of the sample as the size of the population (though the actual population size from which the sample is drawn may be much larger). This estimator, denoted by sN, is known as the uncorrected sample standard deviation, or sometimes the standard deviation of the sample (considered as the entire population), and is defined as follows:\n",
        "\n",
        "$s_N = \\sqrt{\\frac{1}{N}\\sum{(x-\\bar{x})^2}}$\n",
        "\n",
        "https://en.wikipedia.org/wiki/Standard_deviation#Uncorrected_sample_standard_deviation\n",
        "\n",
        "### Residuals\n",
        "\n",
        "https://www.statology.org/residual-sum-of-squares-in-excel/\n",
        "\n",
        "### Bias\n",
        "\n",
        "According to Wikipedia (2022):\n",
        "\n",
        "In statistics, Bessel's correction is the use of n − 1 instead of n in the formula for the sample variance and sample standard deviation, where n is the number of observations in a sample. This method corrects the bias in the estimation of the population variance. It also partially corrects the bias in the estimation of the population standard deviation. However, the correction often increases the mean squared error in these estimations. This technique is named after Friedrich Bessel (para 1).\n",
        "\n",
        "Bessel's correction. (June 13, 2022). In *Wikipedia*. https://en.wikipedia.org/wiki/Bessel%27s_correction\n",
        "\n",
        "* What is bias? https://stats.libretexts.org/Bookshelves/Applied_Statistics/Book%3A_Answering_Questions_with_Data_-__Introductory_Statistics_for_Psychology_Students_(Crump)/04%3A_Probability_Sampling_and_Estimation/4.13%3A_Estimating_population_parameters\n",
        "* What are degrees of freedom? https://www.statisticshowto.com/probability-and-statistics/hypothesis-testing/degrees-of-freedom/\n",
        "\n",
        "### Biased\n",
        "\n",
        "**Standard Deviation of the Population**: $\\sigma = \\sqrt{\\frac{1}{N}\\sum(x-\\bar{x})^2}$\n",
        "\n",
        "**Uncorrected Sample Standard Deviation**: $sN = \\sqrt{\\frac{1}{N}\\sum(x-\\bar{x})^2}$\n",
        "\n",
        "### Unbiased\n",
        "\n",
        "**Standard Deviation of the Sample**: $s = \\sqrt{\\frac{1}{n-1}\\sum(x-\\bar{x})^2}$\n",
        "\n",
        "**SEE BESSEL'S CORRECTION**"
      ]
    },
    {
      "cell_type": "markdown",
      "id": "14a38ea7",
      "metadata": {
        "id": "14a38ea7"
      },
      "source": [
        "### Linear Interpolation\n",
        "\n",
        "a type of estimation, a method of constructing (finding) new data points based on the range of a discrete set of known data points.\n",
        "\n",
        "https://en.wikipedia.org/wiki/Interpolation\n",
        "\n",
        "linear interpolation is a method of curve fitting using linear polynomials to construct new data points within the range of a discrete set of known data points\n",
        "\n",
        "https://en.wikipedia.org/wiki/Linear_interpolation\n",
        "\n",
        "$y = y_0 + (x - x_0) \\frac{y_1-y_0}{x_1-x_0}$\n",
        "\n",
        "### Line of Best Fit\n",
        "\n",
        "$y = \\alpha + \\beta x$\n",
        "\n",
        "The following plots the line of best fit. We'll break it down using the formulas for $\\widehat{\\alpha }$ and $\\widehat{\\beta}$. The points are plotted along with the line of best fit. The red lines indicate how much error there is with the actual values (the green points) and the predicted values (the black points) that forms the line of best fit."
      ]
    },
    {
      "cell_type": "code",
      "execution_count": null,
      "id": "e1d64c98",
      "metadata": {
        "id": "e1d64c98",
        "outputId": "af9b6cac-4ac9-4843-ae40-288395408c61",
        "colab": {
          "base_uri": "https://localhost:8080/",
          "height": 499
        }
      },
      "outputs": [
        {
          "output_type": "stream",
          "name": "stdout",
          "text": [
            "a= 0.4 b= 0.8\n",
            "x values: [1 2 3 4 5]\n",
            "y values: [1 3 2 3 5]\n",
            "predicted values: [1.2, 2.0, 2.8, 3.6, 4.4]\n"
          ]
        },
        {
          "output_type": "display_data",
          "data": {
            "text/plain": [
              "<Figure size 640x480 with 1 Axes>"
            ],
            "image/png": "[encoded data removed]"
          },
          "metadata": {}
        }
      ],
      "source": [
        "# plot x, y coordinates\n",
        "import matplotlib.pyplot as plt\n",
        "import numpy as np\n",
        "\n",
        "x = np.array([1, 2, 3, 4, 5])\n",
        "y = np.array([1, 3, 2, 3, 5])\n",
        "\n",
        "# create basic scatterplot\n",
        "plt.plot(x, y, 'go',)\n",
        "\n",
        "# obtain a and b of linear regression line\n",
        "b, a = np.polyfit(x, y, 1)\n",
        "print('a=', a.round(1), 'b=', b.round(1))\n",
        "\n",
        "# predicted values\n",
        "y_hat = [round(a + (b*x), 2) for x in x]\n",
        "print(f'x values: {x}')\n",
        "print(f'y values: {y}')\n",
        "print(f'predicted values: {y_hat}')\n",
        "plt.plot(x, y_hat, 'ko')\n",
        "\n",
        "# add linear regression line to scatterplot\n",
        "plt.plot(x, a+b*x, 'b')\n",
        "\n",
        "# ax.vlines(x,y,y)\n",
        "plt.vlines(x, y, a+b*x, 'r')\n",
        "\n",
        "plt.show()"
      ]
    },
    {
      "cell_type": "markdown",
      "id": "94750343",
      "metadata": {
        "id": "94750343"
      },
      "source": [
        "Let's do some math and solve for $\\beta$ using the formula\n",
        "\n",
        "$\\widehat{\\beta} = \\frac{s_{x,y}}{s^2_x} = r_{xy}\\frac{s_y}{s_x} = \\frac{\\sum{(x - \\bar{x})(y - \\bar{y})}}{\\sum(x - \\bar{x})^2}$\n",
        "\n",
        "where:\n",
        "* $\\bar{x}$ and $\\bar{y}$ are the averages of x and y\n",
        "* $r_{xy}$ is the sample variance\n",
        "* $s_x$ and $s_y$ are the sample standard deviation (uncorrected)\n",
        "* $s_{x,y}$ and $s^2_x$ are the sample variance and sample covariance"
      ]
    },
    {
      "cell_type": "code",
      "execution_count": null,
      "id": "bf5e92c2",
      "metadata": {
        "id": "bf5e92c2",
        "outputId": "b9c26e69-d930-40d5-93a3-cd5598ca4636",
        "colab": {
          "base_uri": "https://localhost:8080/"
        }
      },
      "outputs": [
        {
          "output_type": "execute_result",
          "data": {
            "text/plain": [
              "3.0"
            ]
          },
          "metadata": {},
          "execution_count": 3
        }
      ],
      "source": [
        "# our data\n",
        "X = [1, 2, 3, 4, 5]\n",
        "\n",
        "# find the mean of X\n",
        "# x_mean = (1 + 2 + 3 + 4 + 5) / 5 or using list comprehension\n",
        "x_mean = sum(i for i in x) / len(x)\n",
        "\n",
        "#print x_mean\n",
        "x_mean"
      ]
    },
    {
      "cell_type": "code",
      "execution_count": null,
      "id": "6aec0412",
      "metadata": {
        "id": "6aec0412",
        "outputId": "07e8fe80-b8cd-4f95-e416-88f5a961d25f",
        "colab": {
          "base_uri": "https://localhost:8080/"
        }
      },
      "outputs": [
        {
          "output_type": "execute_result",
          "data": {
            "text/plain": [
              "2.8"
            ]
          },
          "metadata": {},
          "execution_count": 4
        }
      ],
      "source": [
        "# print the mean of y\n",
        "y = [1, 3, 2, 3, 5]\n",
        "y_mean = sum(i for i in y) / len(y)\n",
        "y_mean"
      ]
    },
    {
      "cell_type": "markdown",
      "id": "0de7da0f",
      "metadata": {
        "id": "0de7da0f"
      },
      "source": [
        "Recall the $\\beta$ formula according to Wikipedia\n",
        "\n",
        "$\\widehat{\\beta} = \\frac{\\sum{(x - \\bar{x})(y - \\bar{y})}}{\\sum(x - \\bar{x})^2}$\n",
        "\n",
        "So, solving for the numerator of $\\widehat{\\beta}$ we would use: $\\sum(x-\\bar{x})(y-\\bar{y})$\n",
        "\n",
        "Since the dataset is small we can do something like this: <br />\n",
        "((1 - 3) * (1 - 2.8)) +<br />\n",
        "((2 - 3) * (3 - 2.8)) +<br />\n",
        "((3 - 3) * (2 - 2.8)) +<br />\n",
        "((4 - 3) * (3 - 2.8)) +<br />\n",
        "((5 - 3) * (5 - 2.8)) = 8"
      ]
    },
    {
      "cell_type": "code",
      "execution_count": null,
      "id": "800fdba6",
      "metadata": {
        "id": "800fdba6",
        "outputId": "473fc8ac-de72-4a86-d972-fa4ba6ecd88e",
        "colab": {
          "base_uri": "https://localhost:8080/"
        }
      },
      "outputs": [
        {
          "output_type": "execute_result",
          "data": {
            "text/plain": [
              "8.0"
            ]
          },
          "metadata": {},
          "execution_count": 5
        }
      ],
      "source": [
        "# print the numerator the pythonic way\n",
        "numerator = sum([(i - x_mean) * (j - y_mean) for i, j in zip(x, y)])\n",
        "numerator"
      ]
    },
    {
      "cell_type": "markdown",
      "id": "6395afd3",
      "metadata": {
        "id": "6395afd3"
      },
      "source": [
        "Recall the $\\beta$ formula according to Wikipedia\n",
        "\n",
        "$\\widehat{\\beta} = \\frac{\\sum{(x - \\bar{x})(y - \\bar{y})}}{\\sum(x - \\bar{x})^2}$\n",
        "\n",
        "So, solving for the denominator of $\\widehat{\\beta}$ we would use: $\\sum(x - \\bar{x})^2$"
      ]
    },
    {
      "cell_type": "code",
      "execution_count": null,
      "id": "c38a2037",
      "metadata": {
        "id": "c38a2037",
        "outputId": "5d03d314-8959-4346-d053-2a8da32a4814",
        "colab": {
          "base_uri": "https://localhost:8080/"
        }
      },
      "outputs": [
        {
          "output_type": "execute_result",
          "data": {
            "text/plain": [
              "10.0"
            ]
          },
          "metadata": {},
          "execution_count": 6
        }
      ],
      "source": [
        "# get the denominator\n",
        "denominator = sum((i - x_mean)**2 for i in x)\n",
        "denominator"
      ]
    },
    {
      "cell_type": "markdown",
      "id": "c8c68bb0",
      "metadata": {
        "id": "c8c68bb0"
      },
      "source": [
        "So, $\\beta$, or specifically $\\widehat{\\beta}$, is equal to the numerator divided by the denominator"
      ]
    },
    {
      "cell_type": "code",
      "execution_count": null,
      "id": "1a003ad9",
      "metadata": {
        "id": "1a003ad9",
        "outputId": "dc280d9a-d400-4fa4-fbd1-a023d348cd66",
        "colab": {
          "base_uri": "https://localhost:8080/"
        }
      },
      "outputs": [
        {
          "output_type": "execute_result",
          "data": {
            "text/plain": [
              "0.8"
            ]
          },
          "metadata": {},
          "execution_count": 7
        }
      ],
      "source": [
        "beta = numerator / denominator\n",
        "beta"
      ]
    },
    {
      "cell_type": "markdown",
      "id": "057dd937",
      "metadata": {
        "id": "057dd937"
      },
      "source": [
        "To find $\\alpha$ we use the formula $\\widehat{\\alpha} = \\bar{y} - \\beta \\bar{x}$"
      ]
    },
    {
      "cell_type": "code",
      "execution_count": null,
      "id": "d5021be7",
      "metadata": {
        "id": "d5021be7",
        "outputId": "ae626da0-5cd8-4874-d018-b83c1297cdfb",
        "colab": {
          "base_uri": "https://localhost:8080/"
        }
      },
      "outputs": [
        {
          "output_type": "execute_result",
          "data": {
            "text/plain": [
              "0.4"
            ]
          },
          "metadata": {},
          "execution_count": 8
        }
      ],
      "source": [
        "# calculate alpha\n",
        "alpha = round(y_mean - (beta * x_mean), 2)\n",
        "alpha"
      ]
    },
    {
      "cell_type": "markdown",
      "id": "b8a84f83",
      "metadata": {
        "id": "b8a84f83"
      },
      "source": [
        "$y = a + \\beta X$\n",
        "\n",
        "Our linear regression equation is solved: <br />\n",
        "y = 0.4 + 0.8(X)"
      ]
    },
    {
      "cell_type": "markdown",
      "id": "c5658481",
      "metadata": {
        "id": "c5658481"
      },
      "source": [
        "## Least Squares\n",
        "\n",
        "The method of least squares is a standard approach in regression analysis to approximate the solution of overdetermined systems (sets of equations in which there are more equations than unknowns) by minimizing the sum of the squares of the residuals (a residual being: the difference between an observed value, and the fitted value provided by a model) made in the results of each individual equation.\n",
        "\n",
        "https://en.wikipedia.org/wiki/Least_squares\n",
        "\n",
        "### The Constant\n",
        "\n",
        "In linear regression you need that constants to have lines which are not constrained to pass through origin. Think of linear model y=b1x1+b2x2+.... If all xi are 0, y must be 0, you need an additional parameter to pass that constraint\n",
        "\n",
        "https://datascience.stackexchange.com/questions/55598/why-we-add-a-constant-value-column-in-our-dataframe-sometimes\n",
        "\n",
        "... our regression slopes would be less useful (without the constant).\n",
        "\n",
        "1. Imagine the equation for a line: y=mx + b -> take the constant out and you have y=mx which means that the slope will have to account for a larger explanation than with the constant.\n",
        "2. think of the constant as the “baseline” of the data and the explanatory values (the beta slopes) as the things that can affect this mean. For example, ...suppose a particular leaf will average 2 inches long (constant), but with different weather conditions, the leaf will either grow (+ length) or grow (- length). Without the constant, all the data will point to the weather conditions having a tremendous weight on the regressions - mathematically showing y = weather conditions times slope.\n",
        "\n",
        "In a nut shell, it’s there to assist in providing an accurate view of the slope values.\n",
        "\n",
        "https://www.quora.com/In-regression-why-do-we-include-a-constant-term (Hamilton Goff)\n",
        "\n",
        "The constant term prevents this overall bias by forcing the residual mean to equal zero. Imagine that you can move the regression line up or down to the point where the residual mean equals zero. For example, if the regression produces residuals with a positive average, just move the line up until the mean equals zero.\n",
        "\n",
        "https://statisticsbyjim.com/regression/interpret-constant-y-intercept-regression/"
      ]
    },
    {
      "cell_type": "code",
      "execution_count": null,
      "id": "03333762",
      "metadata": {
        "id": "03333762",
        "outputId": "bc17d41d-d2c5-4656-b0b1-8dba92701f20",
        "colab": {
          "base_uri": "https://localhost:8080/",
          "height": 447
        }
      },
      "outputs": [
        {
          "output_type": "display_data",
          "data": {
            "text/plain": [
              "<Figure size 640x480 with 1 Axes>"
            ],
            "image/png": "[encoded data removed]"
          },
          "metadata": {}
        },
        {
          "output_type": "stream",
          "name": "stdout",
          "text": [
            "y = 0.4 + 0.8(X)\n"
          ]
        }
      ],
      "source": [
        "# using scipy\n",
        "import scipy.stats as stats\n",
        "\n",
        "x = np.array([1, 2, 3, 4, 5])\n",
        "y = np.array([1, 3, 2, 3, 5])\n",
        "\n",
        "model = stats.linregress(x, y)\n",
        "\n",
        "plt.plot(x, y, 'go', label='original data')\n",
        "plt.plot(x, model.intercept + model.slope*x, 'b', label='fitted line')\n",
        "plt.legend()\n",
        "plt.show()\n",
        "\n",
        "print(f'y = {model.intercept:.2} + {model.slope:.2}(X)')"
      ]
    },
    {
      "cell_type": "code",
      "execution_count": null,
      "id": "5159157e",
      "metadata": {
        "id": "5159157e",
        "outputId": "0b8ba435-c3ef-4432-d964-5ce8df02d601",
        "colab": {
          "base_uri": "https://localhost:8080/"
        }
      },
      "outputs": [
        {
          "output_type": "stream",
          "name": "stdout",
          "text": [
            "y = 0.4 + 0.8X\n"
          ]
        }
      ],
      "source": [
        "# use numpy linear algebra least squares\n",
        "import numpy as np\n",
        "\n",
        "x = np.array([1, 2, 3, 4, 5])\n",
        "y = np.array([1, 3, 2, 3, 5])\n",
        "\n",
        "x = np.vstack([np.ones(len(x)), x]).T\n",
        "a, b = np.linalg.lstsq(x, y, rcond=None)[0]\n",
        "print(f'y = {a:0.1f} + {b:0.1f}X')"
      ]
    },
    {
      "cell_type": "markdown",
      "id": "f8c0ce75",
      "metadata": {
        "id": "f8c0ce75"
      },
      "source": [
        "## Linear Regression with Scikit-learn\n",
        "\n",
        "Scikit-learn (formerly scikits.learn and also known as sklearn) is a free software machine learning library for the Python programming language. It features various classification, regression and clustering algorithms including support vector machines, random forests, gradient boosting, k-means and DBSCAN, and is designed to interoperate with the Python numerical and scientific libraries NumPy and SciPy.\n",
        "\n",
        "https://en.wikipedia.org/wiki/Scikit-learn\n",
        "\n",
        "As mentioned, Scikit-learn provides us with a linear regression model that we can use as demonstrated in the next cell."
      ]
    },
    {
      "cell_type": "code",
      "execution_count": null,
      "id": "c1ba706b",
      "metadata": {
        "id": "c1ba706b",
        "outputId": "5405aa77-5579-4b37-f9af-844f6604b1d9",
        "colab": {
          "base_uri": "https://localhost:8080/"
        }
      },
      "outputs": [
        {
          "output_type": "stream",
          "name": "stdout",
          "text": [
            "y = 0.4 + 0.8(X)\n"
          ]
        }
      ],
      "source": [
        "# using sklearn\n",
        "from sklearn.linear_model import LinearRegression\n",
        "\n",
        "x = np.array([1, 2, 3, 4, 5])\n",
        "y = np.array([1, 3, 2, 3, 5])\n",
        "x = x.reshape(-1, 1)\n",
        "\n",
        "model = LinearRegression()\n",
        "model.fit(x, y)\n",
        "print(f'y = {model.intercept_:.2} + {model.coef_[0]:.2}(X)')"
      ]
    },
    {
      "cell_type": "markdown",
      "id": "747b9656",
      "metadata": {
        "id": "747b9656"
      },
      "source": [
        "## Linear Algebra\n",
        "\n",
        "* $y_i = \\theta^TX_i + \\epsilon_i$\n",
        "* $h_\\theta(x) = \\theta_0 + \\theta_1x_1$\n",
        "* $\\theta = (X^T * X)^{-1} * X^T * y$\n",
        "* Dot product - https://en.wikipedia.org/wiki/Dot_product\n",
        "* Inverse - https://www.mathsisfun.com/algebra/matrix-inverse.html\n",
        "* To multiply an m×n matrix by an n×p matrix, the ns must be the same,\n",
        "and the result is an m×p matrix.\n",
        "\n",
        "https://towardsdatascience.com/performing-linear-regression-using-the-normal-equation-6372ed3c57\n"
      ]
    },
    {
      "cell_type": "markdown",
      "id": "21aa8502",
      "metadata": {
        "id": "21aa8502"
      },
      "source": [
        "### Matrix Multiplication\n",
        "\n",
        "In mathematics, particularly in linear algebra, matrix multiplication is a binary operation that produces a matrix from two matrices. For matrix multiplication, the number of columns in the first matrix must be equal to the number of rows in the second matrix. The resulting matrix, known as the matrix product, has the number of rows of the first and the number of columns of the second matrix. The product of matrices A and B is denoted as AB.\n",
        "\n",
        "https://en.wikipedia.org/wiki/Matrix_multiplication\n",
        "\n",
        "m = rows; n = columns; (m, n) can be multiplied with another (m, n) if n from first matrix is equal to m for second matrix"
      ]
    },
    {
      "cell_type": "code",
      "execution_count": null,
      "id": "1ba53c59",
      "metadata": {
        "id": "1ba53c59",
        "outputId": "dfa20bf1-a362-4465-ae67-40bc8a58267f",
        "colab": {
          "base_uri": "https://localhost:8080/"
        }
      },
      "outputs": [
        {
          "output_type": "execute_result",
          "data": {
            "text/plain": [
              "array([1, 2, 3, 4, 5])"
            ]
          },
          "metadata": {},
          "execution_count": 12
        }
      ],
      "source": [
        "# Let's look at the x data\n",
        "x = np.array([1, 2, 3, 4, 5])\n",
        "x"
      ]
    },
    {
      "cell_type": "code",
      "execution_count": null,
      "id": "5196da57",
      "metadata": {
        "id": "5196da57",
        "outputId": "c5a49299-e3ea-41af-f706-2f7394dd6651",
        "colab": {
          "base_uri": "https://localhost:8080/"
        }
      },
      "outputs": [
        {
          "output_type": "execute_result",
          "data": {
            "text/plain": [
              "array([1, 3, 2, 3, 5])"
            ]
          },
          "metadata": {},
          "execution_count": 13
        }
      ],
      "source": [
        "# Look at the y data\n",
        "y = np.array([1, 3, 2, 3, 5])\n",
        "y"
      ]
    },
    {
      "cell_type": "markdown",
      "id": "cbfc5a0f",
      "metadata": {
        "id": "cbfc5a0f"
      },
      "source": [
        "To be able to multiply two matrices, the number of columns in the first matrix must equal the number of rows in the second matrix (array)."
      ]
    },
    {
      "cell_type": "code",
      "execution_count": null,
      "id": "5a5e27cc",
      "metadata": {
        "id": "5a5e27cc",
        "outputId": "caadbe2a-f5df-468f-a744-796994d68ea8",
        "colab": {
          "base_uri": "https://localhost:8080/"
        }
      },
      "outputs": [
        {
          "output_type": "execute_result",
          "data": {
            "text/plain": [
              "array([[1],\n",
              "       [2],\n",
              "       [3],\n",
              "       [4],\n",
              "       [5]])"
            ]
          },
          "metadata": {},
          "execution_count": 14
        }
      ],
      "source": [
        "# Reshape x so that the columns in x equals the number of rows in y\n",
        "x = x.reshape(-1, 1)\n",
        "x"
      ]
    },
    {
      "cell_type": "code",
      "execution_count": null,
      "id": "9b3b3b57",
      "metadata": {
        "id": "9b3b3b57",
        "outputId": "946731bd-48cd-4c1f-c351-ba33a94d6886",
        "colab": {
          "base_uri": "https://localhost:8080/"
        }
      },
      "outputs": [
        {
          "output_type": "stream",
          "name": "stdout",
          "text": [
            "[[1]\n",
            " [2]\n",
            " [3]\n",
            " [4]\n",
            " [5]]\n",
            "[1 3 2 3 5]\n",
            "\n",
            "x matrix\n",
            "[[1 1]\n",
            " [1 2]\n",
            " [1 3]\n",
            " [1 4]\n",
            " [1 5]]\n",
            "\n",
            "[[1 1 1 1 1]\n",
            " [1 2 3 4 5]]\n",
            "[[1 1]\n",
            " [1 2]\n",
            " [1 3]\n",
            " [1 4]\n",
            " [1 5]]\n",
            "[1, 1, 1, 1, 1] * [1, 1, 1, 1, 1] = 5\n",
            "[1, 1, 1, 1, 1] * [1, 2, 3, 4, 5] = 15\n",
            "[1, 2, 3, 4, 5] * [1, 1, 1, 1, 1] = 15\n",
            "[1, 2, 3, 4, 5] * [1, 2, 3, 4, 5] = 55\n",
            "\n",
            "x.T.dot(x)\n",
            "[[ 5 15]\n",
            " [15 55]]\n",
            "\n",
            "inverse\n",
            "[[ 55 -15]\n",
            " [-15   5]]\n",
            "1/(5*55 - 15*15) * x.T.dot(x) where a and d are swapped and b and c are negative = 1/(275-225) = 1/50\n",
            "\n",
            "[[ 1.1 -0.3]\n",
            " [-0.3  0.1]]\n",
            "[[1 1 1 1 1]\n",
            " [1 2 3 4 5]]\n",
            "[[ 0.8  0.5  0.2 -0.1 -0.4]\n",
            " [-0.2 -0.1  0.   0.1  0.2]]\n",
            "\n",
            "dot(y)\n",
            "[[ 0.8  0.5  0.2 -0.1 -0.4]\n",
            " [-0.2 -0.1  0.   0.1  0.2]]\n",
            "[1 3 2 3 5]\n",
            "[0.8, 0.5, 0.2, -0.1, -0.4] * [1, 3, 2, 3, 5] = .8 + 1.5 + .4 - .3 - 2 = .4\n",
            "[-0.2, -0.1, 0, 0.1, 0.2] * [1, 3, 2, 3, 5] = -.2 - .3 + 0 + .3 + 1 = .8\n",
            "[0.4 0.8]\n",
            "\n",
            "weights =  [0.4 0.8]\n"
          ]
        }
      ],
      "source": [
        "import numpy as np\n",
        "\n",
        "x = np.array([1, 2, 3, 4, 5])\n",
        "y = np.array([1, 3, 2, 3, 5])\n",
        "x = x.reshape(-1, 1)\n",
        "\n",
        "print(x)\n",
        "print(y)\n",
        "print()\n",
        "\n",
        "x = np.append(arr = np.ones((5, 1)).astype(int), values = x, axis = 1)\n",
        "print('x matrix')\n",
        "print(x)\n",
        "print()\n",
        "\n",
        "print(x.T)\n",
        "print(x)\n",
        "print('[1, 1, 1, 1, 1] * [1, 1, 1, 1, 1] = 5')\n",
        "print('[1, 1, 1, 1, 1] * [1, 2, 3, 4, 5] = 15')\n",
        "print('[1, 2, 3, 4, 5] * [1, 1, 1, 1, 1] = 15')\n",
        "print('[1, 2, 3, 4, 5] * [1, 2, 3, 4, 5] = 55')\n",
        "print()\n",
        "\n",
        "print('x.T.dot(x)')\n",
        "print(x.T.dot(x))\n",
        "print()\n",
        "\n",
        "print('inverse')\n",
        "print(np.array([[55, -15], [-15, 5]]))\n",
        "print('1/(5*55 - 15*15) * x.T.dot(x) where a and d are swapped and b and c are negative = 1/(275-225) = 1/50')\n",
        "print()\n",
        "\n",
        "print(np.linalg.inv(x.T.dot(x)))\n",
        "print(x.T)\n",
        "wy = np.linalg.inv(x.T.dot(x)).dot(x.T)\n",
        "print(wy)\n",
        "print()\n",
        "print('dot(y)')\n",
        "print(wy)\n",
        "print(y)\n",
        "print('[0.8, 0.5, 0.2, -0.1, -0.4] * [1, 3, 2, 3, 5] = .8 + 1.5 + .4 - .3 - 2 = .4')\n",
        "print('[-0.2, -0.1, 0, 0.1, 0.2] * [1, 3, 2, 3, 5] = -.2 - .3 + 0 + .3 + 1 = .8')\n",
        "print(wy.dot(y))\n",
        "print()\n",
        "print('weights = ', np.linalg.inv(x.T.dot(x)).dot(x.T).dot(y))"
      ]
    },
    {
      "cell_type": "markdown",
      "id": "2bdf60d9",
      "metadata": {
        "id": "2bdf60d9"
      },
      "source": [
        "### Why Matrix Multiplication?\n",
        "\n",
        "Linear algebra is often used in data science / machine learning which includes matrix multiplication. To stay within the scope of this course we will simply say that because of the large number of features that X can potentially represent, it is more efficient to use matrix multiplication.\n",
        "\n",
        "Because matrix multiplication is such a central operation in many numerical algorithms, much work has been invested in making matrix multiplication algorithms efficient. Applications of matrix multiplication in computational problems are found in many fields including scientific computing and pattern recognition and in seemingly unrelated problems such as counting the paths through a graph.\n",
        "\n",
        "https://en.wikipedia.org/wiki/Matrix_multiplication_algorithm\n",
        "\n",
        "Please review the following links to learn more:\n",
        "\n",
        "* https://en.wikipedia.org/wiki/Linear_algebra\n",
        "* https://online.stat.psu.edu/stat462/node/132/\n",
        "* https://www.mathsisfun.com/algebra/matrix-multiplying.html"
      ]
    },
    {
      "cell_type": "markdown",
      "source": [
        "### The Derivative\n",
        "\n",
        "The derivative is a fundamental tool of calculus that quantifies the sensitivity of change of a function's output with respect to its input. The derivative of a function of a single variable at a chosen input value, when it exists, is the slope of the tangent line to the graph of the function at that point. The tangent line is the best linear approximation of the function near that input value. For this reason, the derivative is often described as the instantaneous rate of change, the ratio of the instantaneous change in the dependent variable to that of the independent variable.[1] The process of finding a derivative is called differentiation.\n",
        "\n",
        "https://en.wikipedia.org/wiki/Derivative\n",
        "\n",
        "A partial derivative of a function of several variables is its derivative with respect to one of those variables, with the others held constant (as opposed to the total derivative, in which all variables are allowed to vary). Partial derivatives are used in vector calculus and differential geometry.\n",
        "\n",
        "https://en.wikipedia.org/wiki/Partial_derivative\n",
        "\n",
        "* We find the derivative of a function using the Power Rule\n",
        "* The derivative of $f(x) = x^2$ is $f'(x) = 2x$\n",
        "* The partial derivative of $f(x, y) = x^2 + y^3$ is $f'(x) = 2x + 0 = 2x$\n",
        "* In this case we find the partial derivative with respect to x and hold y as a constant\n",
        "* The derivative of a constant is 0\n",
        "\n",
        "https://www.mathsisfun.com/calculus/derivatives-partial.html\n",
        "\n",
        "* **Gradient Descent**"
      ],
      "metadata": {
        "id": "uM25rCZJx_73"
      },
      "id": "uM25rCZJx_73"
    },
    {
      "cell_type": "markdown",
      "source": [
        "## Astronomy\n",
        "\n"
      ],
      "metadata": {
        "id": "mmYgp61luJ8s"
      },
      "id": "mmYgp61luJ8s"
    },
    {
      "cell_type": "markdown",
      "id": "e628248c",
      "metadata": {
        "id": "e628248c"
      },
      "source": [
        "## Multiple Linear Regression\n",
        "\n",
        "https://www.investopedia.com/terms/m/mlr.asp\n",
        "\n",
        "$y = \\beta_0 + \\beta_1 x_1 + \\beta_2 x_2 ... + \\beta_n x_n + \\epsilon$\n",
        "\n",
        "where:\n",
        "* y = dependent variable\n",
        "* x = explanatory  variable\n",
        "* $\\beta_0$ = intercept\n",
        "* $\\beta_n$ = slope coefficients\n",
        "* $\\epsilon$ = the model's error term\n",
        "\n",
        "### Confounding Variables\n",
        "\n",
        "* https://sphweb.bumc.bu.edu/otlt/mph-modules/bs/bs704_multivariable/bs704_multivariable7.html\n",
        "\n",
        "### Closed Form\n",
        "\n",
        "* http://faculty.cas.usf.edu/mbrannick/regression/Part3/Reg2.html\n",
        "\n",
        "### Assumptions of Linear Regression\n",
        "\n",
        "* Linearity: There is a linear relationship between the independent variable and the dependent variable\n",
        "* No Multicollinearity: Features should not be highly correlated\n",
        "* Normality: The residuals are normally distributed\n",
        "* Homoscedasticity: The residuals have an even distribution around the mean and across the spread\n",
        "* Independence: There is no correlation between residuals; there is no trend, no pattern, no structure in residuals\n",
        "* Time series may violate independence\n",
        "* Elements that are randomly assigned to features may violate independence\n",
        "* All relevant explanatory variables must be used\n",
        "* Features cannot be correlated with error term\n",
        "\n",
        "Become familiar with the plots provided in the following links:\n",
        "* https://www.analyticsvidhya.com/blog/2016/07/deeper-regression-analysis-assumptions-plots-solutions/\n",
        "* https://www.jmp.com/en_us/statistics-knowledge-portal/what-is-regression/simple-linear-regression-assumptions.html"
      ]
    },
    {
      "cell_type": "markdown",
      "source": [
        "## Mario Kart"
      ],
      "metadata": {
        "id": "v16tw3gTfyhb"
      },
      "id": "v16tw3gTfyhb"
    },
    {
      "cell_type": "markdown",
      "id": "392210be",
      "metadata": {
        "id": "392210be"
      },
      "source": [
        "### Data Preparation"
      ]
    },
    {
      "cell_type": "markdown",
      "source": [
        "<pre>\n",
        "! git clone https://github.com/GithubName/ProjectName.git\n",
        "</pre>\n",
        "\n",
        "<pre>\n",
        "import pandas as pd\n",
        "from dtsc4050.version import __version__\n",
        "import dtsc4050.utils as utils\n",
        "\n",
        "df = pd.read_csv('https://raw.githubusercontent.com/gitmystuff/Datasets/main/mariokart.csv', index_col=0)\n",
        "\n",
        "print(__version__)\n",
        "print(utils.functions.hello_4050())\n",
        "print(utils.functions.identify_consts(df))\n",
        "print(utils.functions.identify_quasi_consts(df))\n",
        "print(utils.functions.check_row_duplicates(df))\n",
        "print(utils.functions.check_col_duplicates(df))\n",
        "</pre>\n",
        "\n",
        "* Initialize git\n",
        "* .gitignore - https://ask.replit.com/t/how-to-move-replit-to-github-this-is-the-step/92373\n",
        "* In Replit, drop Git tab down and look for Create Repository...\n"
      ],
      "metadata": {
        "id": "QyAmWiTeC8l_"
      },
      "id": "QyAmWiTeC8l_"
    },
    {
      "cell_type": "code",
      "source": [
        "# import pandas as pd\n",
        "# import numpy as np\n",
        "# import random\n",
        "# import re\n",
        "# from sklearn.datasets import make_regression\n",
        "# import matplotlib.pyplot as plt\n",
        "\n",
        "# def make_null(r, w):\n",
        "#     rtn = random.choices([np.nan, r], weights=[w, 100-w])\n",
        "#     return re.sub(r\"[\\[\\]]\",'', str(rtn))\n",
        "\n",
        "# X, y = make_regression(n_samples=100, n_features=10, n_informative=6)\n",
        "# cols = ['Wiggler', 'Lakito', 'Tanooki Mario', 'Dry Bones', 'Lemmy Koopa', 'Toadette', 'Wario', 'Cat Peach', 'King Boo', 'Inkling', 'Baby Daisy', 'Luigi', 'Toad', 'Yoshi', 'Bowser', 'Donkey Kong', 'Princess Peach', 'Isabelle', 'Koopa Troopa', 'Mario', 'Chain Chomp', 'MII', 'Birdo', 'Baby Mario']\n",
        "# random.shuffle(cols)\n",
        "# variables = cols[:10]\n",
        "# df = pd.DataFrame(data=X, columns=variables)\n",
        "# print(df.info())\n",
        "# print(cols[10])\n",
        "# df[cols[10]] = round(df[cols[0]], 4)\n",
        "# df[cols[11]] = df[cols[0]]\n",
        "# df[cols[12]] = 0.03\n",
        "# df[cols[13]] = 0.07\n",
        "\n",
        "# df[cols[14]] = np.random.normal(0, 1, 100)\n",
        "# df[cols[15]] = np.random.normal(0, 1, 100)\n",
        "# df[cols[16]] = np.random.normal(0, 1, 100)\n",
        "\n",
        "# df[cols[14]] = df[cols[14]].apply(lambda r: abs(r) if (r < -0.02) else r)\n",
        "# df[cols[15]] = df[cols[15]].apply(lambda r: abs(r)*-1 if (r > 0.01) else r)\n",
        "# df[cols[16]] = df[cols[16]].apply(lambda r: abs(r) if (r < -0.01) else r)\n",
        "\n",
        "# cats = [random.choice(['fast', 'medium', 'slow']) for i in range(100)]\n",
        "# df[cols[17]] = cats\n",
        "# cats = [random.choice(['disagree', 'kind of disagree', 'neutral', 'kind of agree', 'agree']) for i in range(100)]\n",
        "# df[cols[18]] = cats\n",
        "# cats = [random.choice(['yes', 'no']) for i in range(100)]\n",
        "# df[cols[19]] = cats\n",
        "# cats = [random.choice(['up', 'down']) for i in range(100)]\n",
        "# df[cols[20]] = cats\n",
        "\n",
        "# df[cols[21]] = random.sample(range(10000, 30000), 100)\n",
        "# df[cols[22]] = random.sample(range(1000, 3000), 100)\n",
        "# df[cols[21]] = df[cols[21]].apply(make_null, args=(2,))\n",
        "# df[cols[22]] = df[cols[22]].apply(make_null, args=(2,))\n",
        "\n",
        "# df['Mario Kart'] = y\n",
        "\n",
        "# dupes = df.loc[0:7]\n",
        "# df = df.append(dupes, ignore_index = True)\n",
        "# df = df.sample(frac=1).reset_index(drop=True)\n",
        "\n",
        "# # df.to_csv('mariokart.csv')\n",
        "\n",
        "# print(df.shape)\n",
        "# print(df.info())\n",
        "# df.head()"
      ],
      "metadata": {
        "id": "x2UR9NByHZWs"
      },
      "id": "x2UR9NByHZWs",
      "execution_count": null,
      "outputs": []
    },
    {
      "cell_type": "code",
      "execution_count": null,
      "id": "dab62915",
      "metadata": {
        "id": "dab62915"
      },
      "outputs": [],
      "source": [
        "# # get data\n",
        "# import pandas as pd\n",
        "\n",
        "# df = pd.read_csv('https://raw.githubusercontent.com/gitmystuff/Datasets/main/mariokart.csv', index_col=0)\n",
        "# print(df.shape)\n",
        "# print(df.info())\n",
        "# df.head()"
      ]
    },
    {
      "cell_type": "markdown",
      "id": "d34d69e2",
      "metadata": {
        "id": "d34d69e2"
      },
      "source": [
        "### Constants"
      ]
    },
    {
      "cell_type": "code",
      "execution_count": null,
      "id": "09b37e55",
      "metadata": {
        "id": "09b37e55"
      },
      "outputs": [],
      "source": [
        "# # replace missing values and then check how many unique values are in each variable\n",
        "# few_values = [\n",
        "#     val for val in df.columns if len(df[val].fillna(0).unique()) == 1\n",
        "# ]\n",
        "\n",
        "# few_values"
      ]
    },
    {
      "cell_type": "markdown",
      "id": "7ca36293",
      "metadata": {
        "id": "7ca36293"
      },
      "source": [
        "### Quasi Constants"
      ]
    },
    {
      "cell_type": "code",
      "execution_count": null,
      "id": "e5a2898d",
      "metadata": {
        "id": "e5a2898d"
      },
      "outputs": [],
      "source": [
        "# # quasi constant values (sometimes these may be boolean features)\n",
        "# for val in df.columns.sort_values():\n",
        "#     if (len(df[val].unique()) < 3):\n",
        "#         print(df[val].value_counts())"
      ]
    },
    {
      "cell_type": "markdown",
      "id": "10dbfa47",
      "metadata": {
        "id": "10dbfa47"
      },
      "source": [
        "### Duplicates"
      ]
    },
    {
      "cell_type": "code",
      "execution_count": null,
      "id": "e84f7dec",
      "metadata": {
        "id": "e84f7dec"
      },
      "outputs": [],
      "source": [
        "# # duplicate rows\n",
        "# df[df.duplicated(keep=False)]"
      ]
    },
    {
      "cell_type": "code",
      "execution_count": null,
      "id": "54e22e51",
      "metadata": {
        "id": "54e22e51"
      },
      "outputs": [],
      "source": [
        "# # drop duplicate rows\n",
        "# df.drop_duplicates(inplace=True)"
      ]
    },
    {
      "cell_type": "code",
      "execution_count": null,
      "id": "a902121b",
      "metadata": {
        "id": "a902121b"
      },
      "outputs": [],
      "source": [
        "# # check of duplicate columns\n",
        "# duplicate_features = []\n",
        "# for i in range(0, len(df.columns)):\n",
        "#     orig = df.columns[i]\n",
        "\n",
        "#     for dupe in df.columns[i + 1:]:\n",
        "#         if df[orig].equals(df[dupe]):\n",
        "#             duplicate_features.append(dupe)\n",
        "#             print(f'{orig} looks the same as {dupe}')\n",
        "\n",
        "# duplicate_features"
      ]
    },
    {
      "cell_type": "markdown",
      "id": "870b5c37",
      "metadata": {
        "id": "870b5c37"
      },
      "source": [
        "### Drop Weak Features"
      ]
    },
    {
      "cell_type": "code",
      "execution_count": null,
      "id": "fad28284",
      "metadata": {
        "id": "fad28284"
      },
      "outputs": [],
      "source": [
        "# # drop the variables that are duplicated or low in variance\n",
        "# df.drop(['Luigi', 'Baby Mario', 'Birdo'], axis=1, inplace=True)\n",
        "# df.info()"
      ]
    },
    {
      "cell_type": "markdown",
      "id": "8886e5c5",
      "metadata": {
        "id": "8886e5c5"
      },
      "source": [
        "### Missing Data"
      ]
    },
    {
      "cell_type": "code",
      "execution_count": null,
      "id": "5a350ea4",
      "metadata": {
        "id": "5a350ea4"
      },
      "outputs": [],
      "source": [
        "# # check for nulls\n",
        "# df.isnull().sum()"
      ]
    },
    {
      "cell_type": "code",
      "execution_count": null,
      "id": "176f15aa",
      "metadata": {
        "id": "176f15aa"
      },
      "outputs": [],
      "source": [
        "# # look at the shape of variables that are numerical\n",
        "# import matplotlib.pyplot as plt\n",
        "\n",
        "# df.hist()\n",
        "# plt.tight_layout();"
      ]
    },
    {
      "cell_type": "code",
      "execution_count": null,
      "id": "57107293",
      "metadata": {
        "id": "57107293"
      },
      "outputs": [],
      "source": [
        "# # impute missing values with mean and median\n",
        "# df['Toad'].fillna(round(df['Toad'].mean(), 2), inplace=True)\n",
        "# df['Koopa Troopa'].fillna(round(df['Koopa Troopa'].mean(), 2), inplace=True)\n",
        "# df['Bowser'].fillna(round(df['Bowser'].mean(), 2), inplace=True)\n",
        "# df['Donkey Kong'].fillna(df['Donkey Kong'].median(), inplace=True)\n",
        "# df['Princess Peach'].fillna(df['Princess Peach'].median(), inplace=True)\n",
        "# df['Isabelle'].fillna(df['Isabelle'].median(), inplace=True)\n",
        "# df.isnull().sum()"
      ]
    },
    {
      "cell_type": "code",
      "execution_count": null,
      "id": "f3e06040",
      "metadata": {
        "id": "f3e06040"
      },
      "outputs": [],
      "source": [
        "# # impute missing values with mode\n",
        "# print(df['Wario'].value_counts(dropna=False))"
      ]
    },
    {
      "cell_type": "code",
      "execution_count": null,
      "id": "bec4b1cd",
      "metadata": {
        "id": "bec4b1cd"
      },
      "outputs": [],
      "source": [
        "# # replace work_status with mode (not employed)\n",
        "# df['Wario'].fillna(df['Wario'].mode()[0], inplace=True)\n",
        "# df.isnull().sum()"
      ]
    },
    {
      "cell_type": "markdown",
      "id": "d6138e07",
      "metadata": {
        "id": "d6138e07"
      },
      "source": [
        "### Train Test Split"
      ]
    },
    {
      "cell_type": "code",
      "execution_count": null,
      "id": "28979deb",
      "metadata": {
        "id": "28979deb"
      },
      "outputs": [],
      "source": [
        "# # train test split\n",
        "# from sklearn.model_selection import train_test_split\n",
        "\n",
        "# X_train, X_test, y_train, y_test = train_test_split(df.drop(['Mario Kart'], axis=1), df['Mario Kart'], test_size=.2, random_state=42)\n",
        "\n",
        "# print(X_train.shape)\n",
        "# print(X_test.shape)"
      ]
    },
    {
      "cell_type": "markdown",
      "id": "f9bdbd25",
      "metadata": {
        "id": "f9bdbd25"
      },
      "source": [
        "### Outliers"
      ]
    },
    {
      "cell_type": "code",
      "execution_count": null,
      "id": "1be2d1fd",
      "metadata": {
        "id": "1be2d1fd"
      },
      "outputs": [],
      "source": [
        "# # quartiles\n",
        "# for feat in X_train._get_numeric_data().columns[1:]:\n",
        "#     q1 = X_train[feat].quantile(0.25)\n",
        "#     q3 = X_train[feat].quantile(0.75)\n",
        "#     iqr = q3 - q1\n",
        "#     lower_fence = (q1 - 1.5 * iqr)\n",
        "#     upper_fence = (q3 + 1.5 * iqr)\n",
        "#     lower_count = X_train[feat][X_train[feat] < lower_fence].count()\n",
        "#     upper_count = X_train[feat][X_train[feat] > upper_fence].count()\n",
        "#     print(f'{feat} outliers = {lower_count + upper_count}: lower_fence: {lower_fence}, upper_fence: {upper_fence}, lower_count: {lower_count}, upper_count: {upper_count}')"
      ]
    },
    {
      "cell_type": "code",
      "execution_count": null,
      "id": "44d4de39",
      "metadata": {
        "id": "44d4de39"
      },
      "outputs": [],
      "source": [
        "# # Assignment boxplot\n",
        "# X_train.boxplot(column=['Koopa Troopa']);"
      ]
    },
    {
      "cell_type": "markdown",
      "source": [
        "### Scaling"
      ],
      "metadata": {
        "id": "nZFVXw2_VGUG"
      },
      "id": "nZFVXw2_VGUG"
    },
    {
      "cell_type": "code",
      "source": [
        "# check df.min(), df.max()"
      ],
      "metadata": {
        "id": "CqxULbnjXMIc"
      },
      "id": "CqxULbnjXMIc",
      "execution_count": null,
      "outputs": []
    },
    {
      "cell_type": "code",
      "source": [
        "# # standardize feature (whatever you do for X_train, do for X_test)\n",
        "# from sklearn.preprocessing import StandardScaler\n",
        "\n",
        "# feat = str(X_train._get_numeric_data().idxmax(1)[0])\n",
        "# scaler = StandardScaler()\n",
        "# X_train[feat] = scaler.fit_transform(X_train[[feat]].values)\n",
        "# X_test[feat] = scaler.fit_transform(X_test[[feat]].values)"
      ],
      "metadata": {
        "id": "89-9bEl-QcYq"
      },
      "id": "89-9bEl-QcYq",
      "execution_count": null,
      "outputs": []
    },
    {
      "cell_type": "code",
      "source": [
        "# # normalize feature (whatever you do for X_train, do for X_test)\n",
        "# from sklearn.preprocessing import MinMaxScaler\n",
        "\n",
        "# feat = str(X_train._get_numeric_data().idxmax(1)[0])\n",
        "# scaler = MinMaxScaler()\n",
        "# X_train[feat] = scaler.fit_transform(X_train[[feat]].values)\n",
        "# X_test[feat] = scaler.fit_transform(X_test[[feat]].values)"
      ],
      "metadata": {
        "id": "Le8WNAHhXC1B"
      },
      "id": "Le8WNAHhXC1B",
      "execution_count": null,
      "outputs": []
    },
    {
      "cell_type": "markdown",
      "id": "840fa7c0",
      "metadata": {
        "id": "840fa7c0"
      },
      "source": [
        "## Exploratory Data Analysis"
      ]
    },
    {
      "cell_type": "markdown",
      "source": [
        "### Interesting Stats?"
      ],
      "metadata": {
        "id": "FqSMCL1zVba1"
      },
      "id": "FqSMCL1zVba1"
    },
    {
      "cell_type": "markdown",
      "source": [
        "### Interesting Visuals?"
      ],
      "metadata": {
        "id": "FN-sGpo8Ve56"
      },
      "id": "FN-sGpo8Ve56"
    },
    {
      "cell_type": "markdown",
      "source": [
        "### What's the Story?\n",
        "\n",
        "* https://en.wikipedia.org/wiki/Mario_Kart"
      ],
      "metadata": {
        "id": "Xvi3ADpeVU2-"
      },
      "id": "Xvi3ADpeVU2-"
    },
    {
      "cell_type": "code",
      "execution_count": null,
      "id": "bf423b5d",
      "metadata": {
        "id": "bf423b5d"
      },
      "outputs": [],
      "source": [
        "# # describe\n",
        "# X_train.describe()"
      ]
    },
    {
      "cell_type": "markdown",
      "id": "235da52d",
      "metadata": {
        "id": "235da52d"
      },
      "source": [
        "## Correlation\n",
        "\n",
        "* Correlation heat map\n",
        "* Correlation with code\n",
        "* Variance Threshold\n",
        "* Variance Inflation Factor\n",
        "* Removing Multicollinearity and Re Imaging\n",
        "* Re-enginnering Multicollinearity Features\n",
        "\n",
        "**SEE CORRELATION**"
      ]
    },
    {
      "cell_type": "markdown",
      "id": "17fb2da2",
      "metadata": {
        "id": "17fb2da2"
      },
      "source": [
        "### Correlation and the Gradient\n",
        "\n",
        "* If the standard deviation for x and y are the same then the gradient is Pearson's correlation\n",
        "* **PEARSON's R and the GRADIENT**"
      ]
    },
    {
      "cell_type": "markdown",
      "id": "68556ab3",
      "metadata": {
        "id": "68556ab3"
      },
      "source": [
        "### Multicollinearity"
      ]
    },
    {
      "cell_type": "code",
      "execution_count": null,
      "id": "df9f9a14",
      "metadata": {
        "id": "df9f9a14"
      },
      "outputs": [],
      "source": [
        "# # correlation heat map\n",
        "# import numpy as np\n",
        "# import seaborn as sns\n",
        "# from scipy import stats\n",
        "\n",
        "# # correlation matrix\n",
        "# sns.set(style=\"white\")\n",
        "\n",
        "# # compute the correlation matrix\n",
        "# corr = X_train.corr()\n",
        "\n",
        "# # generate a mask for the upper triangle\n",
        "# mask = np.zeros_like(corr, dtype=bool)\n",
        "# mask[np.triu_indices_from(mask)] = True\n",
        "\n",
        "# # set up the matplotlib figure\n",
        "# # f, ax = plt.subplots()\n",
        "# f = plt.figure(figsize=(8, 8))\n",
        "\n",
        "# # generate a custom diverging colormap\n",
        "# cmap = sns.diverging_palette(220, 10, as_cmap=True)\n",
        "\n",
        "# # draw the heatmap with the mask and correct aspect ratio\n",
        "# sns.heatmap(corr, mask=mask, cmap=cmap, vmax=.3, center=0,\n",
        "#             square=True, linewidths=.5, cbar_kws={\"shrink\": .5}, annot=True);\n",
        "\n",
        "# plt.tight_layout()"
      ]
    },
    {
      "cell_type": "code",
      "execution_count": null,
      "id": "5f28a678",
      "metadata": {
        "id": "5f28a678"
      },
      "outputs": [],
      "source": [
        "# # delete one of the features out of the pair(s) that show multicollinearity\n",
        "# # whatever you do for X_train, do for X_test\n",
        "# X_train.drop(['Mii', 'Donkey Kong'], axis=1, inplace=True)\n",
        "# X_test.drop(['Mii', 'Donkey Kong'], axis=1, inplace=True)"
      ]
    },
    {
      "cell_type": "code",
      "execution_count": null,
      "id": "b5ff0872",
      "metadata": {
        "id": "b5ff0872"
      },
      "outputs": [],
      "source": [
        "# # sns pairplot\n",
        "# import seaborn as sns\n",
        "\n",
        "# eda_data = X_train.copy()\n",
        "# eda_data['Mario Kart'] = y_train\n",
        "\n",
        "# sns.pairplot(data=eda_data, corner=True);"
      ]
    },
    {
      "cell_type": "code",
      "execution_count": null,
      "id": "bac54182",
      "metadata": {
        "id": "bac54182"
      },
      "outputs": [],
      "source": [
        "# # scatter plots showing correlation\n",
        "# import pandas as pd\n",
        "# import seaborn as sns\n",
        "\n",
        "# sns.pairplot(data=eda_data, x_vars=['Toad', 'Isabelle', 'Koopa Troopa', 'Mario'], y_vars='Mario Kart',\n",
        "#              kind='reg',\n",
        "#              height=5,\n",
        "#              aspect=0.8,\n",
        "#              plot_kws={'line_kws':{'color':'red'}, 'scatter_kws': {'alpha': 0.5}});"
      ]
    },
    {
      "cell_type": "code",
      "execution_count": null,
      "id": "5c32dc3f",
      "metadata": {
        "id": "5c32dc3f"
      },
      "outputs": [],
      "source": [
        "# # correlation with target\n",
        "# X_train.corrwith(y_train).plot.bar(\n",
        "#         title = 'Correlation with Final Grade (Target)', rot = 45, grid = True);"
      ]
    },
    {
      "cell_type": "markdown",
      "id": "9a4c1fba",
      "metadata": {
        "id": "9a4c1fba"
      },
      "source": [
        "## Feature Engineering"
      ]
    },
    {
      "cell_type": "markdown",
      "id": "5fe6160e",
      "metadata": {
        "id": "5fe6160e"
      },
      "source": [
        "### Bi-Label Mapping"
      ]
    },
    {
      "cell_type": "code",
      "execution_count": null,
      "id": "69946260",
      "metadata": {
        "id": "69946260"
      },
      "outputs": [],
      "source": [
        "# # bi-label mapping\n",
        "# # whatever you do for X_train, do for X_test\n",
        "# X_train['Inkling'] = X_train['Inkling'].map({'up':1,'down':0})\n",
        "# X_test['Inkling'] = X_test['Inkling'].map({'up':1,'down':0})\n",
        "\n",
        "# X_train['King Boo'] = X_train['King Boo'].map({'yes':1,'no':0})\n",
        "# X_test['King Boo'] = X_test['King Boo'].map({'yes':1,'no':0})"
      ]
    },
    {
      "cell_type": "markdown",
      "id": "0deb8836",
      "metadata": {
        "id": "0deb8836"
      },
      "source": [
        "### One-Hot Encoding\n",
        "\n",
        "#### Dummy Trap\n",
        "\n",
        "The dummy variable trap is a scenario in which the independent variables become multicollinear after addition of dummy variables. The value of one variable can be predicted from the values of other variable(s)."
      ]
    },
    {
      "cell_type": "code",
      "execution_count": null,
      "id": "fd04552a",
      "metadata": {
        "id": "fd04552a"
      },
      "outputs": [],
      "source": [
        "# # use sklearn one hot encoder\n",
        "# from sklearn.preprocessing import OneHotEncoder\n",
        "\n",
        "# ohe = OneHotEncoder(categories='auto', drop='first', sparse=False, handle_unknown='ignore')\n",
        "\n",
        "# cat_features = ['Wario', 'Cat Peach']\n",
        "# ohe_train = ohe.fit_transform(X_train[cat_features])\n",
        "# ohe_train = pd.DataFrame(ohe_train, columns=ohe.get_feature_names_out(cat_features))\n",
        "# ohe_train.index = X_train.index\n",
        "# X_train = X_train.join(ohe_train)\n",
        "# X_train.drop(cat_features, axis=1, inplace=True)\n",
        "\n",
        "# ohe_test = ohe.transform(X_test[cat_features])\n",
        "# ohe_test = pd.DataFrame(ohe_test, columns=ohe.get_feature_names_out(cat_features))\n",
        "# ohe_test.index = X_test.index\n",
        "# X_test = X_test.join(ohe_test)\n",
        "# X_test.drop(cat_features, axis=1, inplace=True)\n",
        "\n",
        "# print(X_train.shape)\n",
        "# print(X_test.shape)\n",
        "# print(X_train.info())"
      ]
    },
    {
      "cell_type": "markdown",
      "id": "57715b14",
      "metadata": {
        "id": "57715b14"
      },
      "source": [
        "### One-Hot Encoding Alternatives\n",
        "\n",
        "* Frequency Encoding\n",
        "* Mean Encoding"
      ]
    },
    {
      "cell_type": "code",
      "execution_count": null,
      "id": "089e0105",
      "metadata": {
        "id": "089e0105"
      },
      "outputs": [],
      "source": [
        "# # identify features with more than 5 features and use frequency encoding\n",
        "# freq_feats = []\n",
        "\n",
        "# for feat in freq_feats:\n",
        "#     freq = X_train.groupby(feat).size()/len(X_train)\n",
        "#     X_train.loc[:, feat] = X_train[feat].map(freq)\n",
        "#     freq = X_test.groupby(feat).size()/len(X_test)\n",
        "#     X_test.loc[:, feat] = X_test[feat].map(freq)"
      ]
    },
    {
      "cell_type": "markdown",
      "id": "d0011692",
      "metadata": {
        "id": "d0011692"
      },
      "source": [
        "## Metrics\n",
        "\n",
        "###  MSE\n",
        "\n",
        "$\\frac{1}{n}\\sum(y-\\hat{y})^2$\n",
        "\n",
        "vs.\n",
        "\n",
        "### Variance (sample)\n",
        "\n",
        "$\\frac{1}{n-1}\\sum(x-\\bar{x})^2$\n",
        "\n",
        "In statistics, the mean squared error (MSE) or mean squared deviation (MSD) of an estimator (of a procedure for estimating an unobserved quantity) measures the average of the squares of the errors—that is, the average squared difference between the estimated values and the actual value. MSE is a risk function, corresponding to the expected value of the squared error loss. The fact that MSE is almost always strictly positive (and not zero) is because of randomness or because the estimator does not account for information that could produce a more accurate estimate... The MSE can be written as the sum of the variance of the estimator and the squared bias of the estimator, providing a useful way to calculate the MSE and implying that in the case of unbiased estimators, the MSE and variance are equivalent.\n",
        "\n",
        "https://en.wikipedia.org/wiki/Mean_squared_error\n",
        "\n",
        "In datasets with a small spread all values are very close to the mean, resulting in a small variance and standard deviation. Where a dataset is more dispersed, values are spread further away from the mean, leading to a larger variance and standard deviation.\n",
        "\n",
        "https://www.abs.gov.au/websitedbs/D3310114.nsf/home/statistical+language+-+measures+of+spread\n",
        "\n",
        "### R Squared\n",
        "\n",
        "* $SS_{res} = \\sum{(y - \\hat{y})^2}$\n",
        "* $SS_{tot} = \\sum{(y - \\bar{y})^2}$\n",
        "* $R^2 = 1 - \\frac{SS_{res}}{SS_{tot}}$\n",
        "\n",
        "In statistics, the Pearson correlation coefficient ― also known as Pearson's r ― is a measure of linear correlation between two sets of data. It is the ratio between the covariance of two variables and the product of their standard deviations; thus it is essentially a normalized measurement of the covariance, such that the result always has a value between −1 and 1. As with covariance itself, the measure can only reflect a linear correlation of variables, and ignores many other types of relationship or correlation. As a simple example, one would expect the age and height of a sample of teenagers from a high school to have a Pearson correlation coefficient significantly greater than 0, but less than 1 (as 1 would represent an unrealistically perfect correlation).\n",
        "\n",
        "https://en.wikipedia.org/wiki/Pearson_correlation_coefficient\n",
        "\n",
        "In statistics, the coefficient of determination, denoted R2 or r2 and pronounced \"R squared\", is the proportion of the variation in the dependent variable that is predictable from the independent variable(s).\n",
        "\n",
        "https://en.wikipedia.org/wiki/Coefficient_of_determination\n",
        "\n",
        "* r shows correlation between x and y\n",
        "* r squared shows strength of model, the proportion of the variance y that can be explained by X in a linear regression model\n",
        "* **R-Squared, R, r, TSS ESS and RSS**\n",
        "\n",
        "### Adjusted R Squared\n",
        "\n",
        "Features are considered\n",
        "\n",
        "* $Adj R^2 = 1 - (1 - R^2)\\frac{n-1}{n-p-1}$ where p = number of features and n = size of dataset\n",
        "* $R^2$ will never decrease adding more features\n",
        "* Adj R squared accounts for relevant features\n",
        "* Adjusted $R^2$ will be influenced by an increase of $p$\n",
        "\n",
        "### MSE or R Squared\n",
        "\n",
        "It is recommended to use R-Squared or rather adjusted R-Squared for evaluating the model performance of the regression models. This is primarily because R-Squared captures the fraction of variance of actual values captured by the regression model and tends to give a better picture of the quality of the regression model. Also, MSE values differ based on whether the values of the response variable are scaled or not. A better measure instead of MSE is the root mean squared error (RMSE) which takes care of the fact related to whether the values of the response variable are scaled or not.\n",
        "\n",
        "https://vitalflux.com/mean-square-error-r-squared-which-one-to-use/\n",
        "\n",
        "### Cost or Loss Function\n",
        "\n",
        "In mathematical optimization and decision theory, a loss function or cost function (sometimes also called an error function) is a function that maps an event or values of one or more variables onto a real number intuitively representing some \"cost\" associated with the event. An optimization problem seeks to minimize a loss function. An objective function is either a loss function or its opposite (in specific domains, variously called a reward function, a profit function, a utility function, a fitness function, etc.), in which case it is to be maximized.\n",
        "\n",
        "We often use MSE as our cost function in linear regression $mse = \\frac{\\sum(y-\\hat{y})^2}{n}$.\n",
        "\n",
        "https://en.wikipedia.org/wiki/Loss_function"
      ]
    },
    {
      "cell_type": "code",
      "execution_count": null,
      "id": "4016cd78",
      "metadata": {
        "scrolled": false,
        "id": "4016cd78",
        "outputId": "1a3381cc-9b31-41a4-d9b7-c441579b1c53",
        "colab": {
          "base_uri": "https://localhost:8080/",
          "height": 469
        }
      },
      "outputs": [
        {
          "output_type": "display_data",
          "data": {
            "text/plain": [
              "<Figure size 640x480 with 1 Axes>"
            ],
            "image/png": "[encoded data removed]"
          },
          "metadata": {}
        },
        {
          "output_type": "stream",
          "name": "stdout",
          "text": [
            "The mean of our data is 0.02.\n"
          ]
        }
      ],
      "source": [
        "# visualizing deviations from the mean squared\n",
        "import numpy as np\n",
        "import matplotlib.pyplot as plt\n",
        "from scipy.stats.distributions import norm\n",
        "\n",
        "data = norm.rvs(size=10000)\n",
        "x = sorted(np.array(data))\n",
        "y = [(i - np.mean(x))**2 for i in x]\n",
        "plt.title('Squared Deviations')\n",
        "plt.plot(x, y)\n",
        "plt.grid()\n",
        "plt.show()\n",
        "\n",
        "print(f'The mean of our data is {round(np.mean(data), 2)}.')"
      ]
    },
    {
      "cell_type": "markdown",
      "id": "f9216cbf",
      "metadata": {
        "id": "f9216cbf"
      },
      "source": [
        "## Statsmodels and Ordinary Least Squares\n",
        "\n",
        "In statistics, ordinary least squares (OLS) is a type of linear least squares method for estimating the unknown parameters in a linear regression model. OLS chooses the parameters of a linear function of a set of explanatory variables by the principle of least squares: minimizing the sum of the squares of the differences between the observed dependent variable (values of the variable being observed) in the given dataset and those predicted by the linear function of the independent variable.\n",
        "\n",
        "https://en.wikipedia.org/wiki/Ordinary_least_squares\n",
        "\n",
        "## Adding a Constant (or Intercept)\n",
        "\n",
        "As a rule, the constant term is always included in the set of regressors X ...\n",
        "\n",
        "https://en.wikipedia.org/wiki/Ordinary_least_squares\n",
        "\n",
        "The intercept (often labeled the constant) is the expected mean value of y when all X=0.\n",
        "\n",
        "https://www.theanalysisfactor.com/interpreting-the-intercept-in-a-regression-model/\n",
        "\n",
        "Immediately above, we saw a key reason why you should include the constant in your regression model. It guarantees that your residuals have a mean of zero. Additionally, if you don’t include the constant, the regression line is forced to go through the origin. This means that all of the predictors and the response variable must equal zero at that point. If your fitted line doesn’t naturally go through the origin, your regression coefficients and predictions will be biased if you don't include the constant.\n",
        "\n",
        "https://blog.minitab.com/en/adventures-in-statistics-2/regression-analysis-how-to-interpret-the-constant-y-intercept"
      ]
    },
    {
      "cell_type": "code",
      "execution_count": null,
      "id": "21b03bcd",
      "metadata": {
        "id": "21b03bcd"
      },
      "outputs": [],
      "source": [
        "# # delete a bunch for\n",
        "# # whatever you do for X_train, do for X_test\n",
        "# drop_demo = ['Cat Peach_neutral',\n",
        "#               'Cat Peach_kind of disagree',\n",
        "#               'Cat Peach_kind of agree',\n",
        "#               'Cat Peach_disagree',\n",
        "#               'Wario_\\'slow\\'',\n",
        "#               'Wario_\\'medium\\'',\n",
        "#               'Chain Chomp',\n",
        "#               'Inkling'\n",
        "#              ]\n",
        "\n",
        "# X_train.drop(drop_demo, axis=1, inplace=True)\n",
        "# X_test.drop(drop_demo, axis=1, inplace=True)"
      ]
    },
    {
      "cell_type": "code",
      "execution_count": null,
      "id": "fba7ee95",
      "metadata": {
        "id": "fba7ee95"
      },
      "outputs": [],
      "source": [
        "# import statsmodels.api as sm\n",
        "\n",
        "# # what ever we do for X_train, do for X_test\n",
        "# X_train.insert(0, 'const', 1)\n",
        "# X_test.insert(0, 'const', 1)\n",
        "# model = sm.OLS(y_train, X_train).fit()\n",
        "# model.summary()"
      ]
    },
    {
      "cell_type": "markdown",
      "id": "009ce3f4",
      "metadata": {
        "id": "009ce3f4"
      },
      "source": [
        "### OLS Regression Results Explanation\n",
        "\n",
        "* Endog(enous): Similar to the dependent variable\n",
        "* Exog(enous): Similar to the independent variable\n",
        "* https://www.statisticshowto.com/endogenous-variable/\n",
        "* https://medium.com/swlh/interpreting-linear-regression-through-statsmodels-summary-4796d359035a\n",
        "\n",
        "### Model Info\n",
        "* Dep. Varialble: the response variable, dependent, outcome, etc.\n",
        "* Model: what model are we using (ordinary least squares) for the training\n",
        "* Method: how the parameters (coefficients) were calculated\n",
        "* No. Observations: the number of observations, rows... (n)\n",
        "* DF Residuals: degrees of freedom of the residuals\n",
        "* DF Model: number of parameters in the model excluding the constant if present\n",
        "* Covariance Type: deals with violations of assumptions\n",
        "\n",
        "### Goodness of Fit\n",
        "* R-Squared: coefficient of determination, how well the regression fits the data\n",
        "* Adj R-Squared: R-squared adjustment based on number of parameters and df residuals\n",
        "* F statistic: a measure of how significant the fit is\n",
        "* Prop F statistic: the probability that you would get the F stat given the null hypothesis\n",
        "* Log-Liklihood: can be used to compare the fit of different coefficients, the higher valur is better\n",
        "* AIC: Akaike Information Criterion is used to compare models, a lower score is better (doesn't address features, just the overall model)\n",
        "* BIC: Bayesian Information Criterion is similar to AIC but uses a higher penalty\n",
        "\n",
        "### Coefficients\n",
        "* coef: the estimated value of the coefficient\n",
        "* std error: the basic standard error of the estimate of the coefficient\n",
        "* t: the t-statistic value, how significant the coefficient is\n",
        "* P>|t|: the p-value, indicates a statistically significant relationship to the dependent variable if less than the confidence level, usually 0.05\n",
        "* 95% confidence interval: the lower and upper values\n",
        "\n",
        "### Statistical Tests\n",
        "* Skewness: A measure of the symmetry of the data about the mean\n",
        "* Kurtosis: A measure of the shape of the data\n",
        "* Omnibus: D'Angostino's test provides a combined test for the presence of skewness and kurtosis\n",
        "* Prob(Omnibus): probability of Omnibus\n",
        "* Jarque-Bera: Another test for skewness and kurtosis\n",
        "* Prob(Jarque-Bera): probability of Jarque-Bera\n",
        "* Durbin-Watson: A test for the presence of autocorrelation, if the errors aren't independent\n",
        "* Cond No: A test for multicollinearity"
      ]
    },
    {
      "cell_type": "markdown",
      "id": "5f34b1a6",
      "metadata": {
        "id": "5f34b1a6"
      },
      "source": [
        "## Stepwise Procedures\n",
        "\n",
        "* Backward Elimination: involves starting with all candidate variables, testing the deletion of each variable using a chosen model fit criterion, deleting the variable (if any) whose loss gives the most statistically insignificant deterioration of the model fit, and repeating this process until no further variables can be deleted without a statistically insignificant loss of fit.\n",
        "* Forward Selection: involves starting with no variables in the model, testing the addition of each variable using a chosen model fit criterion, adding the variable (if any) whose inclusion gives the most statistically significant improvement of the fit, and repeating this process until none improves the model to a statistically significant extent.\n",
        "* Mixed Selection: a combination of the above, testing at each step for variables to be included or excluded."
      ]
    },
    {
      "cell_type": "markdown",
      "id": "e161bcbc",
      "metadata": {
        "id": "e161bcbc"
      },
      "source": [
        "### Backward Elimination Process\n",
        "\n",
        "* Note Adj R-squared\n",
        "* AIC\n",
        "* BIC\n",
        "* Note P>|t| greater than 0.05\n",
        "\n",
        "Let's get rid of the feature with the highest P>|t| and run it again to see if anything improves\n",
        "\n",
        "**AIC**: The Akaike information criterion (AIC) is an estimator of prediction error and thereby relative quality of statistical models for a given set of data. Given a collection of models for the data, AIC estimates the quality of each model, relative to each of the other models. Thus, AIC provides a means for model selection.\n",
        "\n",
        "https://en.wikipedia.org/wiki/Akaike_information_criterion\n",
        "\n",
        "**BIC**: In statistics, the Bayesian information criterion (BIC) or Schwarz information criterion (also SIC, SBC, SBIC) is a criterion for model selection among a finite set of models; models with lower BIC are generally preferred. It is based, in part, on the likelihood function and it is closely related to the Akaike information criterion (AIC).\n",
        "\n",
        "https://en.wikipedia.org/wiki/Bayesian_information_criterion"
      ]
    },
    {
      "cell_type": "code",
      "execution_count": null,
      "id": "9da05092",
      "metadata": {
        "scrolled": false,
        "id": "9da05092"
      },
      "outputs": [],
      "source": [
        "# # review model summary\n",
        "# model.summary()"
      ]
    },
    {
      "cell_type": "markdown",
      "id": "a91cecba",
      "metadata": {
        "id": "a91cecba"
      },
      "source": [
        "### Term Review\n",
        "\n",
        "### Const\n",
        "\n",
        "The constant, y intercept, takes care of the bias in the data (a constant difference which is there for all observations). Recall bias plot in Bessel's Correction, it forces the residuals to have that crucial zero mean.\n",
        "\n",
        "https://statisticsbyjim.com/regression/interpret-constant-y-intercept-regression/\n",
        "\n",
        "### Coefficient\n",
        "\n",
        "The standardized simple linear regression coefficient is equal to the correlation coefficient (r). In the OLS summary, the coefficient shows the amount y changes for a unit increase in x. In this way it represents the degree to which the line slopes upwards or downwards.\n",
        "\n",
        "### Standard Error\n",
        "\n",
        "The standard error of a coefficient indicates the accuracy of the estimated ordinary least squares (OLS) coefficient with respect to its population parameter. Each standard error is the square root of the variance of the corresponding coefficient.\n",
        "\n",
        "https://medium.com/swlh/interpreting-linear-regression-through-statsmodels-summary-4796d359035a\n",
        "\n",
        "### t - Statistic\n",
        "\n",
        "Dividing the coefficient by its standard error calculates a t-value. If the p-value associated with this t-statistic is less than your alpha level, you conclude that the coefficient is significantly different from zero.\n",
        "\n",
        "https://support.minitab.com/en-us/minitab/20/help-and-how-to/statistical-modeling/regression/supporting-topics/regression-models/what-is-the-standard-error-of-the-coefficient/\n",
        "\n",
        "Associated with a t-test such as in a test of means, the comparison of the means of two samples\n",
        "\n",
        "### P > |t|\n",
        "\n",
        "For each test, the t-value is a way to quantify the difference between the population means and the p-value is the probability of obtaining a t-value with an absolute value at least as large as the one we actually observed in the sample data if the null hypothesis is actually true.\n",
        "\n",
        "https://www.statology.org/t-value-vs-p-value/\n",
        "\n",
        "### .025 ~ .975\n",
        "\n",
        "Measurements of values of our coefficients within 95% of our data, or within two standard deviations. Outside of these values can generally be considered outliers."
      ]
    },
    {
      "cell_type": "code",
      "execution_count": null,
      "id": "49f4b06a",
      "metadata": {
        "id": "49f4b06a"
      },
      "outputs": [],
      "source": [
        "# model = sm.OLS(y_train, X_train.drop(['King Boo'], axis=1)).fit()\n",
        "# model.summary()"
      ]
    },
    {
      "cell_type": "code",
      "execution_count": null,
      "id": "306663c9",
      "metadata": {
        "id": "306663c9"
      },
      "outputs": [],
      "source": [
        "# model = sm.OLS(y_train, X_train.drop(['King Boo', 'Princess Peach'], axis=1)).fit()\n",
        "# model.summary()"
      ]
    },
    {
      "cell_type": "markdown",
      "id": "245ed4b5",
      "metadata": {
        "id": "245ed4b5"
      },
      "source": [
        "### Forward Selection Process\n",
        "\n",
        "Start with the lowest alphas\n",
        "\n",
        "* Note Adj r-squared\n",
        "* AIC\n",
        "* BIC\n",
        "\n",
        "**AIC**: The Akaike information criterion (AIC) is an estimator of prediction error and thereby relative quality of statistical models for a given set of data. Given a collection of models for the data, AIC estimates the quality of each model, relative to each of the other models. Thus, AIC provides a means for model selection.\n",
        "\n",
        "https://en.wikipedia.org/wiki/Akaike_information_criterion\n",
        "\n",
        "**BIC**: In statistics, the Bayesian information criterion (BIC) or Schwarz information criterion (also SIC, SBC, SBIC) is a criterion for model selection among a finite set of models; models with lower BIC are generally preferred. It is based, in part, on the likelihood function and it is closely related to the Akaike information criterion (AIC).\n",
        "\n",
        "https://en.wikipedia.org/wiki/Bayesian_information_criterion"
      ]
    },
    {
      "cell_type": "code",
      "execution_count": null,
      "id": "5345723c",
      "metadata": {
        "id": "5345723c"
      },
      "outputs": [],
      "source": [
        "# # forward selection\n",
        "# model = sm.OLS(y_train, X_train[['Toad']]).fit()\n",
        "# model.summary()"
      ]
    },
    {
      "cell_type": "code",
      "execution_count": null,
      "id": "98aaf6cd",
      "metadata": {
        "id": "98aaf6cd"
      },
      "outputs": [],
      "source": [
        "# # forward selection\n",
        "# model = sm.OLS(y_train, X_train[['Toad', 'Isabelle']]).fit()\n",
        "# model.summary()"
      ]
    },
    {
      "cell_type": "markdown",
      "id": "73b2fd88",
      "metadata": {
        "id": "73b2fd88"
      },
      "source": [
        "AIC and BIC both are trending up"
      ]
    },
    {
      "cell_type": "markdown",
      "id": "bc51a40a",
      "metadata": {
        "id": "bc51a40a"
      },
      "source": [
        "## Regularization\n",
        "\n",
        "* Penalizes complex models to avoid overfitting\n",
        "* More on overfitting and underfitting next week\n",
        "\n",
        "https://blog.datadive.net/selecting-good-features-part-ii-linear-models-and-regularization/\n",
        "\n",
        "In mathematics, statistics, finance, computer science, particularly in machine learning and inverse problems, regularization is the process of adding information in order to solve an ill-posed problem or to prevent overfitting. Regularization can be applied to objective functions in ill-posed optimization problems. The regularization term, or penalty, imposes a cost on the optimization function to make the optimal solution unique.\n",
        "\n",
        "https://en.wikipedia.org/wiki/Regularization_(mathematics)\n",
        "\n"
      ]
    },
    {
      "cell_type": "markdown",
      "id": "b8a620f6",
      "metadata": {
        "id": "b8a620f6"
      },
      "source": [
        "### Lasso / l1 Regularization\n",
        "\n",
        "* $\\alpha = \\sum|w_i|$\n",
        "* Forces weak features to have zero coefficients\n",
        "* Performs feature selection\n",
        "* Models can be unstable (coefficients fluctuate significantly on data changes with correlated features)"
      ]
    },
    {
      "cell_type": "code",
      "execution_count": null,
      "id": "78759f41",
      "metadata": {
        "id": "78759f41"
      },
      "outputs": [],
      "source": [
        "# # lasso example\n",
        "# from sklearn.linear_model import Lasso\n",
        "# from sklearn.preprocessing import StandardScaler\n",
        "\n",
        "# scaler = StandardScaler()\n",
        "# X = scaler.fit_transform(X_train)\n",
        "# y = y_train\n",
        "# names = X_train.columns\n",
        "\n",
        "# lasso = Lasso(alpha=8)\n",
        "# lasso.fit(X, y)\n",
        "\n",
        "# d = {'Feature': names, 'Coeff': lasso.coef_}\n",
        "# lasso_df = pd.DataFrame(d)\n",
        "# print(lasso_df[1:])"
      ]
    },
    {
      "cell_type": "markdown",
      "id": "cf8e5e1b",
      "metadata": {
        "id": "cf8e5e1b"
      },
      "source": [
        "### Selected Features\n"
      ]
    },
    {
      "cell_type": "code",
      "execution_count": null,
      "id": "50224eae",
      "metadata": {
        "id": "50224eae"
      },
      "outputs": [],
      "source": [
        "# # what ever you do for X_train do for X_test\n",
        "# X_train = X_train[selected_features]\n",
        "# X_test = X_test[selected_features]"
      ]
    },
    {
      "cell_type": "code",
      "execution_count": null,
      "id": "b178aecd",
      "metadata": {
        "id": "b178aecd"
      },
      "outputs": [],
      "source": [
        "# X_train.insert(0, 'const', 1)\n",
        "# X_test.insert(0, 'const', 1)\n",
        "# model = sm.OLS(y_train, X_train).fit()\n",
        "# model.summary()"
      ]
    },
    {
      "cell_type": "markdown",
      "id": "97a820f6",
      "metadata": {
        "id": "97a820f6"
      },
      "source": [
        "## Sklearn Linear Regression Model"
      ]
    },
    {
      "cell_type": "code",
      "execution_count": null,
      "id": "31956a4c",
      "metadata": {
        "id": "31956a4c"
      },
      "outputs": [],
      "source": [
        "# # create and train the model\n",
        "# from sklearn.linear_model import LinearRegression\n",
        "\n",
        "# model = LinearRegression()\n",
        "# model.fit(X_train.drop('const', axis=1), y_train)\n",
        "\n",
        "# # test set prediction results\n",
        "# yhat = model.predict(X_test.drop('const', axis=1))\n",
        "# print('r squared: ', model.score(X_train.drop('const', axis=1), y_train))"
      ]
    },
    {
      "cell_type": "code",
      "execution_count": null,
      "id": "1e0d9334",
      "metadata": {
        "id": "1e0d9334"
      },
      "outputs": [],
      "source": [
        "# # view the coefficients and intercept\n",
        "# print(model.intercept_)\n",
        "# print(list(zip(X_train.drop('const', axis=1), model.coef_)))"
      ]
    },
    {
      "cell_type": "markdown",
      "id": "41ba2624",
      "metadata": {
        "id": "41ba2624"
      },
      "source": [
        "### Interpreting the Coefficient\n",
        "\n",
        "* **COEFFICIENT INTERPRETATION**"
      ]
    },
    {
      "cell_type": "markdown",
      "id": "912e7468",
      "metadata": {
        "id": "912e7468"
      },
      "source": [
        "## Confidence Intervals\n",
        "\n",
        "* In a normal distribution, the confidence interval represents the spread of values where the null hypothesis is true, usually 95% or two standard deviations"
      ]
    },
    {
      "cell_type": "code",
      "execution_count": null,
      "id": "cf7986d5",
      "metadata": {
        "id": "cf7986d5"
      },
      "outputs": [],
      "source": [
        "# # scatter plots showing correlation\n",
        "# import pandas as pd\n",
        "# import seaborn as sns\n",
        "\n",
        "# sns.pairplot(data=eda_data, x_vars=X_train.drop('const', axis=1).columns, y_vars='Mario Kart',\n",
        "#              kind='reg',\n",
        "#              height=5,\n",
        "#              aspect=0.8,\n",
        "#              plot_kws={'line_kws':{'color':'red'}, 'scatter_kws': {'alpha': 0.5}});"
      ]
    },
    {
      "cell_type": "markdown",
      "id": "2a7673a0",
      "metadata": {
        "id": "2a7673a0"
      },
      "source": [
        "The shaded red areas represent our 95% confidence intervals.\n",
        "\n",
        "* Confidence intervals tend to be wider the more variability in a distribution\n",
        "* Confidence intervals tend to be narrower the larger the sample size is\n",
        "* Confidence intervals tend to be narrower when our accuracy is higher\n",
        "\n",
        "Looking at the scatterplots, which of the features have linear characteristics? Which of the lines of best fit are closer to being parallel to the x axis?"
      ]
    },
    {
      "cell_type": "markdown",
      "id": "ab8bb893",
      "metadata": {
        "id": "ab8bb893"
      },
      "source": [
        "### Measures of Center, Spread, and Shape"
      ]
    },
    {
      "cell_type": "code",
      "execution_count": null,
      "id": "7d96ebef",
      "metadata": {
        "id": "7d96ebef"
      },
      "outputs": [],
      "source": [
        "# import matplotlib.pyplot as plt\n",
        "# import seaborn as sns\n",
        "\n",
        "# sns.regplot(data=eda_data, x='Isabelle', y='Mario Kart'); # recommended to not use ci with large data\n",
        "# plt.axvline(x=eda_data['Isabelle'].mean(), color='green')\n",
        "# plt.axhline(y=eda_data['Mario Kart'].mean(), color='green');"
      ]
    },
    {
      "cell_type": "code",
      "execution_count": null,
      "id": "3a4f77e8",
      "metadata": {
        "id": "3a4f77e8"
      },
      "outputs": [],
      "source": [
        "# import matplotlib.pyplot as plt\n",
        "\n",
        "# X_train.drop('const', axis=1).hist()\n",
        "# plt.tight_layout();"
      ]
    },
    {
      "cell_type": "markdown",
      "id": "c7e69cd5",
      "metadata": {
        "id": "c7e69cd5"
      },
      "source": [
        "## Prediction Intervals\n",
        "\n",
        "You should use a prediction interval instead of a confidence intervals for predictions. Using the confidence interval will likely introduce error, meaning that values will fall outside that interval more often than you predict.\n",
        "\n",
        "Stephanie Glen. \"Prediction Interval: Simple Definition, Examples\" From StatisticsHowTo.com: Elementary Statistics for the rest of us! https://www.statisticshowto.com/prediction-interval/"
      ]
    },
    {
      "cell_type": "code",
      "execution_count": null,
      "id": "127e8654",
      "metadata": {
        "id": "127e8654"
      },
      "outputs": [],
      "source": [
        "# # build OLS model and print summary\n",
        "# import statsmodels.api as sm\n",
        "\n",
        "# # eda_data.insert(0, 'const', 1)\n",
        "# intervals_model = sm.OLS(eda_data['Mario Kart'], eda_data['Isabelle'])\n",
        "# results = intervals_model.fit()\n",
        "# print(results.summary())"
      ]
    },
    {
      "cell_type": "code",
      "execution_count": null,
      "id": "603c3c5b",
      "metadata": {
        "id": "603c3c5b"
      },
      "outputs": [],
      "source": [
        "# # make predictions\n",
        "# predictions = results.get_prediction(eda_data['Isabelle']).summary_frame(alpha=0.05)\n",
        "# predictions[:1]"
      ]
    },
    {
      "cell_type": "code",
      "execution_count": null,
      "id": "97a482a2",
      "metadata": {
        "scrolled": false,
        "id": "97a482a2"
      },
      "outputs": [],
      "source": [
        "# sns.regplot(x='Isabelle', y='Mario Kart',\n",
        "#             data=eda_data,\n",
        "#             scatter_kws={'color': 'blue', 'alpha': 0.5},\n",
        "#             label='observed',\n",
        "#             line_kws={'label': 'regression'},\n",
        "#             color='red')\n",
        "# plt.plot(eda_data['Isabelle'], predictions['obs_ci_upper'], label='prediction', color='green')\n",
        "# plt.plot(eda_data['Isabelle'], predictions['obs_ci_lower'], color='green')\n",
        "# plt.legend();"
      ]
    },
    {
      "cell_type": "markdown",
      "id": "3e050c06",
      "metadata": {
        "id": "3e050c06"
      },
      "source": [
        "## Imputation Using Prediction\n",
        "\n",
        "* **IMPUTATION USING PREDICTION**"
      ]
    }
  ],
  "metadata": {
    "kernelspec": {
      "display_name": "Python 3 (ipykernel)",
      "language": "python",
      "name": "python3"
    },
    "language_info": {
      "codemirror_mode": {
        "name": "ipython",
        "version": 3
      },
      "file_extension": ".py",
      "mimetype": "text/x-python",
      "name": "python",
      "nbconvert_exporter": "python",
      "pygments_lexer": "ipython3",
      "version": "3.9.7"
    },
    "colab": {
      "provenance": [],
      "include_colab_link": true
    }
  },
  "nbformat": 4,
  "nbformat_minor": 5
}