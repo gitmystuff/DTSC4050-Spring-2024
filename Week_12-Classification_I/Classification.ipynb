{
  "cells": [
    {
      "cell_type": "markdown",
      "metadata": {
        "id": "view-in-github",
        "colab_type": "text"
      },
      "source": [
        "<a href=\"https://colab.research.google.com/github/gitmystuff/DTSC4050/blob/main/Week_12-Classification_I/Classification.ipynb\" target=\"_parent\"><img src=\"https://colab.research.google.com/assets/colab-badge.svg\" alt=\"Open In Colab\"/></a>"
      ]
    },
    {
      "cell_type": "markdown",
      "id": "14d5dfc8",
      "metadata": {
        "id": "14d5dfc8"
      },
      "source": [
        "# Week 12: Classification\n",
        "\n",
        "Your Name"
      ]
    },
    {
      "cell_type": "markdown",
      "source": [
        "## Getting Started\n",
        "\n",
        "* Colab - get notebook from gitmystuff DTSC4050 repository\n",
        "* Save a Copy in Drive\n",
        "* Remove Copy of\n",
        "* Edit name\n",
        "* Take attendance\n",
        "* Clean up Colab Notebooks folder\n",
        "* Submit shared link\n",
        "\n",
        "## Gradio\n",
        "\n",
        "* Check out Gradio - https://www.gradio.app/"
      ],
      "metadata": {
        "id": "A3G6lZ76KRm0"
      },
      "id": "A3G6lZ76KRm0"
    },
    {
      "cell_type": "markdown",
      "id": "c470c72e",
      "metadata": {
        "id": "c470c72e"
      },
      "source": [
        "## Review\n",
        "\n",
        "* The Rs - https://github.com/gitmystuff/DSChunks/blob/main/R-Squared%2C%20R%2C%20r%2C%20TSS%2C%20ESS%2C%20and%20RSS.ipynb\n",
        "* Uniform distribution (discrete variables) - https://www.investopedia.com/terms/u/uniform-distribution.asp\n",
        "* Normal distribution - https://www.mathsisfun.com/data/standard-normal-distribution.html\n",
        "* Standard normal distribution (-3 - 3)"
      ]
    },
    {
      "cell_type": "code",
      "execution_count": null,
      "id": "c9a5dfee",
      "metadata": {
        "id": "c9a5dfee",
        "outputId": "82b6c1ad-823a-4be1-ceaf-ac0d62cbeebc",
        "colab": {
          "base_uri": "https://localhost:8080/",
          "height": 404
        }
      },
      "outputs": [
        {
          "output_type": "stream",
          "name": "stdout",
          "text": [
            "          0         1         2         3         4\n",
            "0  0.402902  0.960903 -0.870188 -0.419200  1.520967\n",
            "1  1.064328 -0.364877 -0.796369 -1.791535  0.132643\n",
            "2 -0.154708 -0.446160  1.865299 -0.080931  0.499125\n",
            "3 -0.033197 -1.077033  1.169030  2.493238 -0.091310\n",
            "4  0.592281 -0.513239  0.022820  0.466411  0.280354\n"
          ]
        },
        {
          "output_type": "execute_result",
          "data": {
            "text/plain": [
              "                 0            1            2            3            4\n",
              "count  1000.000000  1000.000000  1000.000000  1000.000000  1000.000000\n",
              "mean     -0.036452    -0.035556    -0.003842    -0.008361    -0.055521\n",
              "std       0.965858     1.001163     0.985551     0.957921     1.020080\n",
              "min      -4.091841    -3.286912    -3.055051    -2.713844    -3.847997\n",
              "25%      -0.631097    -0.714862    -0.661674    -0.628731    -0.726941\n",
              "50%      -0.048880    -0.001409     0.009109    -0.012733    -0.018620\n",
              "75%       0.612405     0.643901     0.644719     0.656083     0.618010\n",
              "max       3.265404     3.820195     3.023975     2.917924     3.056094"
            ],
            "text/html": [
              "\n",
              "  <div id=\"df-61107c38-f868-4eb6-9ec2-efce3f7fb7d1\" class=\"colab-df-container\">\n",
              "    <div>\n",
              "<style scoped>\n",
              "    .dataframe tbody tr th:only-of-type {\n",
              "        vertical-align: middle;\n",
              "    }\n",
              "\n",
              "    .dataframe tbody tr th {\n",
              "        vertical-align: top;\n",
              "    }\n",
              "\n",
              "    .dataframe thead th {\n",
              "        text-align: right;\n",
              "    }\n",
              "</style>\n",
              "<table border=\"1\" class=\"dataframe\">\n",
              "  <thead>\n",
              "    <tr style=\"text-align: right;\">\n",
              "      <th></th>\n",
              "      <th>0</th>\n",
              "      <th>1</th>\n",
              "      <th>2</th>\n",
              "      <th>3</th>\n",
              "      <th>4</th>\n",
              "    </tr>\n",
              "  </thead>\n",
              "  <tbody>\n",
              "    <tr>\n",
              "      <th>count</th>\n",
              "      <td>1000.000000</td>\n",
              "      <td>1000.000000</td>\n",
              "      <td>1000.000000</td>\n",
              "      <td>1000.000000</td>\n",
              "      <td>1000.000000</td>\n",
              "    </tr>\n",
              "    <tr>\n",
              "      <th>mean</th>\n",
              "      <td>-0.036452</td>\n",
              "      <td>-0.035556</td>\n",
              "      <td>-0.003842</td>\n",
              "      <td>-0.008361</td>\n",
              "      <td>-0.055521</td>\n",
              "    </tr>\n",
              "    <tr>\n",
              "      <th>std</th>\n",
              "      <td>0.965858</td>\n",
              "      <td>1.001163</td>\n",
              "      <td>0.985551</td>\n",
              "      <td>0.957921</td>\n",
              "      <td>1.020080</td>\n",
              "    </tr>\n",
              "    <tr>\n",
              "      <th>min</th>\n",
              "      <td>-4.091841</td>\n",
              "      <td>-3.286912</td>\n",
              "      <td>-3.055051</td>\n",
              "      <td>-2.713844</td>\n",
              "      <td>-3.847997</td>\n",
              "    </tr>\n",
              "    <tr>\n",
              "      <th>25%</th>\n",
              "      <td>-0.631097</td>\n",
              "      <td>-0.714862</td>\n",
              "      <td>-0.661674</td>\n",
              "      <td>-0.628731</td>\n",
              "      <td>-0.726941</td>\n",
              "    </tr>\n",
              "    <tr>\n",
              "      <th>50%</th>\n",
              "      <td>-0.048880</td>\n",
              "      <td>-0.001409</td>\n",
              "      <td>0.009109</td>\n",
              "      <td>-0.012733</td>\n",
              "      <td>-0.018620</td>\n",
              "    </tr>\n",
              "    <tr>\n",
              "      <th>75%</th>\n",
              "      <td>0.612405</td>\n",
              "      <td>0.643901</td>\n",
              "      <td>0.644719</td>\n",
              "      <td>0.656083</td>\n",
              "      <td>0.618010</td>\n",
              "    </tr>\n",
              "    <tr>\n",
              "      <th>max</th>\n",
              "      <td>3.265404</td>\n",
              "      <td>3.820195</td>\n",
              "      <td>3.023975</td>\n",
              "      <td>2.917924</td>\n",
              "      <td>3.056094</td>\n",
              "    </tr>\n",
              "  </tbody>\n",
              "</table>\n",
              "</div>\n",
              "    <div class=\"colab-df-buttons\">\n",
              "\n",
              "  <div class=\"colab-df-container\">\n",
              "    <button class=\"colab-df-convert\" onclick=\"convertToInteractive('df-61107c38-f868-4eb6-9ec2-efce3f7fb7d1')\"\n",
              "            title=\"Convert this dataframe to an interactive table.\"\n",
              "            style=\"display:none;\">\n",
              "\n",
              "  <svg xmlns=\"http://www.w3.org/2000/svg\" height=\"24px\" viewBox=\"0 -960 960 960\">\n",
              "    <path d=\"M120-120v-720h720v720H120Zm60-500h600v-160H180v160Zm220 220h160v-160H400v160Zm0 220h160v-160H400v160ZM180-400h160v-160H180v160Zm440 0h160v-160H620v160ZM180-180h160v-160H180v160Zm440 0h160v-160H620v160Z\"/>\n",
              "  </svg>\n",
              "    </button>\n",
              "\n",
              "  <style>\n",
              "    .colab-df-container {\n",
              "      display:flex;\n",
              "      gap: 12px;\n",
              "    }\n",
              "\n",
              "    .colab-df-convert {\n",
              "      background-color: #E8F0FE;\n",
              "      border: none;\n",
              "      border-radius: 50%;\n",
              "      cursor: pointer;\n",
              "      display: none;\n",
              "      fill: #1967D2;\n",
              "      height: 32px;\n",
              "      padding: 0 0 0 0;\n",
              "      width: 32px;\n",
              "    }\n",
              "\n",
              "    .colab-df-convert:hover {\n",
              "      background-color: #E2EBFA;\n",
              "      box-shadow: 0px 1px 2px rgba(60, 64, 67, 0.3), 0px 1px 3px 1px rgba(60, 64, 67, 0.15);\n",
              "      fill: #174EA6;\n",
              "    }\n",
              "\n",
              "    .colab-df-buttons div {\n",
              "      margin-bottom: 4px;\n",
              "    }\n",
              "\n",
              "    [theme=dark] .colab-df-convert {\n",
              "      background-color: #3B4455;\n",
              "      fill: #D2E3FC;\n",
              "    }\n",
              "\n",
              "    [theme=dark] .colab-df-convert:hover {\n",
              "      background-color: #434B5C;\n",
              "      box-shadow: 0px 1px 3px 1px rgba(0, 0, 0, 0.15);\n",
              "      filter: drop-shadow(0px 1px 2px rgba(0, 0, 0, 0.3));\n",
              "      fill: #FFFFFF;\n",
              "    }\n",
              "  </style>\n",
              "\n",
              "    <script>\n",
              "      const buttonEl =\n",
              "        document.querySelector('#df-61107c38-f868-4eb6-9ec2-efce3f7fb7d1 button.colab-df-convert');\n",
              "      buttonEl.style.display =\n",
              "        google.colab.kernel.accessAllowed ? 'block' : 'none';\n",
              "\n",
              "      async function convertToInteractive(key) {\n",
              "        const element = document.querySelector('#df-61107c38-f868-4eb6-9ec2-efce3f7fb7d1');\n",
              "        const dataTable =\n",
              "          await google.colab.kernel.invokeFunction('convertToInteractive',\n",
              "                                                    [key], {});\n",
              "        if (!dataTable) return;\n",
              "\n",
              "        const docLinkHtml = 'Like what you see? Visit the ' +\n",
              "          '<a target=\"_blank\" href=https://colab.research.google.com/notebooks/data_table.ipynb>data table notebook</a>'\n",
              "          + ' to learn more about interactive tables.';\n",
              "        element.innerHTML = '';\n",
              "        dataTable['output_type'] = 'display_data';\n",
              "        await google.colab.output.renderOutput(dataTable, element);\n",
              "        const docLink = document.createElement('div');\n",
              "        docLink.innerHTML = docLinkHtml;\n",
              "        element.appendChild(docLink);\n",
              "      }\n",
              "    </script>\n",
              "  </div>\n",
              "\n",
              "\n",
              "<div id=\"df-8ec5fc06-7a8b-4f98-94c2-821ca5b38682\">\n",
              "  <button class=\"colab-df-quickchart\" onclick=\"quickchart('df-8ec5fc06-7a8b-4f98-94c2-821ca5b38682')\"\n",
              "            title=\"Suggest charts\"\n",
              "            style=\"display:none;\">\n",
              "\n",
              "<svg xmlns=\"http://www.w3.org/2000/svg\" height=\"24px\"viewBox=\"0 0 24 24\"\n",
              "     width=\"24px\">\n",
              "    <g>\n",
              "        <path d=\"M19 3H5c-1.1 0-2 .9-2 2v14c0 1.1.9 2 2 2h14c1.1 0 2-.9 2-2V5c0-1.1-.9-2-2-2zM9 17H7v-7h2v7zm4 0h-2V7h2v10zm4 0h-2v-4h2v4z\"/>\n",
              "    </g>\n",
              "</svg>\n",
              "  </button>\n",
              "\n",
              "<style>\n",
              "  .colab-df-quickchart {\n",
              "      --bg-color: #E8F0FE;\n",
              "      --fill-color: #1967D2;\n",
              "      --hover-bg-color: #E2EBFA;\n",
              "      --hover-fill-color: #174EA6;\n",
              "      --disabled-fill-color: #AAA;\n",
              "      --disabled-bg-color: #DDD;\n",
              "  }\n",
              "\n",
              "  [theme=dark] .colab-df-quickchart {\n",
              "      --bg-color: #3B4455;\n",
              "      --fill-color: #D2E3FC;\n",
              "      --hover-bg-color: #434B5C;\n",
              "      --hover-fill-color: #FFFFFF;\n",
              "      --disabled-bg-color: #3B4455;\n",
              "      --disabled-fill-color: #666;\n",
              "  }\n",
              "\n",
              "  .colab-df-quickchart {\n",
              "    background-color: var(--bg-color);\n",
              "    border: none;\n",
              "    border-radius: 50%;\n",
              "    cursor: pointer;\n",
              "    display: none;\n",
              "    fill: var(--fill-color);\n",
              "    height: 32px;\n",
              "    padding: 0;\n",
              "    width: 32px;\n",
              "  }\n",
              "\n",
              "  .colab-df-quickchart:hover {\n",
              "    background-color: var(--hover-bg-color);\n",
              "    box-shadow: 0 1px 2px rgba(60, 64, 67, 0.3), 0 1px 3px 1px rgba(60, 64, 67, 0.15);\n",
              "    fill: var(--button-hover-fill-color);\n",
              "  }\n",
              "\n",
              "  .colab-df-quickchart-complete:disabled,\n",
              "  .colab-df-quickchart-complete:disabled:hover {\n",
              "    background-color: var(--disabled-bg-color);\n",
              "    fill: var(--disabled-fill-color);\n",
              "    box-shadow: none;\n",
              "  }\n",
              "\n",
              "  .colab-df-spinner {\n",
              "    border: 2px solid var(--fill-color);\n",
              "    border-color: transparent;\n",
              "    border-bottom-color: var(--fill-color);\n",
              "    animation:\n",
              "      spin 1s steps(1) infinite;\n",
              "  }\n",
              "\n",
              "  @keyframes spin {\n",
              "    0% {\n",
              "      border-color: transparent;\n",
              "      border-bottom-color: var(--fill-color);\n",
              "      border-left-color: var(--fill-color);\n",
              "    }\n",
              "    20% {\n",
              "      border-color: transparent;\n",
              "      border-left-color: var(--fill-color);\n",
              "      border-top-color: var(--fill-color);\n",
              "    }\n",
              "    30% {\n",
              "      border-color: transparent;\n",
              "      border-left-color: var(--fill-color);\n",
              "      border-top-color: var(--fill-color);\n",
              "      border-right-color: var(--fill-color);\n",
              "    }\n",
              "    40% {\n",
              "      border-color: transparent;\n",
              "      border-right-color: var(--fill-color);\n",
              "      border-top-color: var(--fill-color);\n",
              "    }\n",
              "    60% {\n",
              "      border-color: transparent;\n",
              "      border-right-color: var(--fill-color);\n",
              "    }\n",
              "    80% {\n",
              "      border-color: transparent;\n",
              "      border-right-color: var(--fill-color);\n",
              "      border-bottom-color: var(--fill-color);\n",
              "    }\n",
              "    90% {\n",
              "      border-color: transparent;\n",
              "      border-bottom-color: var(--fill-color);\n",
              "    }\n",
              "  }\n",
              "</style>\n",
              "\n",
              "  <script>\n",
              "    async function quickchart(key) {\n",
              "      const quickchartButtonEl =\n",
              "        document.querySelector('#' + key + ' button');\n",
              "      quickchartButtonEl.disabled = true;  // To prevent multiple clicks.\n",
              "      quickchartButtonEl.classList.add('colab-df-spinner');\n",
              "      try {\n",
              "        const charts = await google.colab.kernel.invokeFunction(\n",
              "            'suggestCharts', [key], {});\n",
              "      } catch (error) {\n",
              "        console.error('Error during call to suggestCharts:', error);\n",
              "      }\n",
              "      quickchartButtonEl.classList.remove('colab-df-spinner');\n",
              "      quickchartButtonEl.classList.add('colab-df-quickchart-complete');\n",
              "    }\n",
              "    (() => {\n",
              "      let quickchartButtonEl =\n",
              "        document.querySelector('#df-8ec5fc06-7a8b-4f98-94c2-821ca5b38682 button');\n",
              "      quickchartButtonEl.style.display =\n",
              "        google.colab.kernel.accessAllowed ? 'block' : 'none';\n",
              "    })();\n",
              "  </script>\n",
              "</div>\n",
              "\n",
              "    </div>\n",
              "  </div>\n"
            ],
            "application/vnd.google.colaboratory.intrinsic+json": {
              "type": "dataframe",
              "summary": "{\n  \"name\": \"df\",\n  \"rows\": 8,\n  \"fields\": [\n    {\n      \"column\": 0,\n      \"properties\": {\n        \"dtype\": \"number\",\n        \"std\": 353.55748499098536,\n        \"min\": -4.091840821688678,\n        \"max\": 1000.0,\n        \"num_unique_values\": 8,\n        \"samples\": [\n          -0.036451922626758025,\n          -0.04887961826890831,\n          1000.0\n        ],\n        \"semantic_type\": \"\",\n        \"description\": \"\"\n      }\n    },\n    {\n      \"column\": 1,\n      \"properties\": {\n        \"dtype\": \"number\",\n        \"std\": 353.4868036983083,\n        \"min\": -3.2869118695086037,\n        \"max\": 1000.0,\n        \"num_unique_values\": 8,\n        \"samples\": [\n          -0.03555604282531236,\n          -0.0014090946158117005,\n          1000.0\n        ],\n        \"semantic_type\": \"\",\n        \"description\": \"\"\n      }\n    },\n    {\n      \"column\": 2,\n      \"properties\": {\n        \"dtype\": \"number\",\n        \"std\": 353.50984926022335,\n        \"min\": -3.055050574523743,\n        \"max\": 1000.0,\n        \"num_unique_values\": 8,\n        \"samples\": [\n          -0.0038417095605118644,\n          0.009108787271794691,\n          1000.0\n        ],\n        \"semantic_type\": \"\",\n        \"description\": \"\"\n      }\n    },\n    {\n      \"column\": 3,\n      \"properties\": {\n        \"dtype\": \"number\",\n        \"std\": 353.49790610080936,\n        \"min\": -2.713843750174981,\n        \"max\": 1000.0,\n        \"num_unique_values\": 8,\n        \"samples\": [\n          -0.008360824422697036,\n          -0.012732978271893437,\n          1000.0\n        ],\n        \"semantic_type\": \"\",\n        \"description\": \"\"\n      }\n    },\n    {\n      \"column\": 4,\n      \"properties\": {\n        \"dtype\": \"number\",\n        \"std\": 353.5563856344682,\n        \"min\": -3.8479965542818912,\n        \"max\": 1000.0,\n        \"num_unique_values\": 8,\n        \"samples\": [\n          -0.055520961800991815,\n          -0.018619978497436025,\n          1000.0\n        ],\n        \"semantic_type\": \"\",\n        \"description\": \"\"\n      }\n    }\n  ]\n}"
            }
          },
          "metadata": {},
          "execution_count": 1
        }
      ],
      "source": [
        "import pandas as pd\n",
        "import numpy as np\n",
        "from sklearn.datasets import make_regression\n",
        "\n",
        "X, y = make_regression(n_samples=1000, n_features=5)\n",
        "df = pd.DataFrame(data=X)\n",
        "print(df.head())\n",
        "df.describe()"
      ]
    },
    {
      "cell_type": "markdown",
      "id": "1148ca0d",
      "metadata": {
        "id": "1148ca0d"
      },
      "source": [
        "## Binary Logistic Regression\n",
        "\n",
        "### Linear Regression\n",
        "\n",
        "$y = \\beta_0 + \\beta_1X_1 + ... + \\beta_nX_n$"
      ]
    },
    {
      "cell_type": "code",
      "execution_count": null,
      "id": "2978d9d0",
      "metadata": {
        "scrolled": false,
        "id": "2978d9d0",
        "outputId": "b0de5d8f-c57f-43d4-f47d-3a9308242c70",
        "colab": {
          "base_uri": "https://localhost:8080/",
          "height": 725
        }
      },
      "outputs": [
        {
          "output_type": "stream",
          "name": "stdout",
          "text": [
            "          x          y\n",
            "0 -0.326512 -25.150605\n",
            "1 -0.522020  -5.470236\n",
            "2 -0.551027 -10.546930\n",
            "3  0.884829  40.679828\n",
            "4 -0.345267  -5.599149\n",
            "\n",
            " Dataframe after scaling\n",
            "          x         y\n",
            "0 -0.320566 -0.590245\n",
            "1 -0.506339 -0.154883\n",
            "2 -0.533902 -0.267187\n",
            "3  0.830459  0.866033\n",
            "4 -0.338387 -0.157734\n",
            "\n",
            "x, y scatter plot with line of best fit as per our line equation\n",
            "y = -0.09693279422457744 + 0.8816270278336275X\n"
          ]
        },
        {
          "output_type": "display_data",
          "data": {
            "text/plain": [
              "<Figure size 640x480 with 1 Axes>"
            ],
            "image/png": "[encoded data removed]"
          },
          "metadata": {}
        }
      ],
      "source": [
        "# create and train the model\n",
        "import pandas as pd\n",
        "import matplotlib.pyplot as plt\n",
        "from sklearn.linear_model import LinearRegression\n",
        "from sklearn.datasets import make_regression\n",
        "from sklearn.model_selection import train_test_split\n",
        "from sklearn.preprocessing import StandardScaler\n",
        "\n",
        "X, y = make_regression(n_samples=50, n_features=1, noise=10)\n",
        "df = pd.DataFrame(data=X, columns=['x'])\n",
        "df['y'] = y\n",
        "print(df.head())\n",
        "\n",
        "scaler = StandardScaler()\n",
        "df[['x', 'y']] = scaler.fit_transform(df[['x', 'y']])\n",
        "print('\\n Dataframe after scaling')\n",
        "print(df.head())\n",
        "\n",
        "# decision threshold = .5\n",
        "df['class'] = df['y'].apply(lambda x: 0 if x <= 0 else 1)\n",
        "\n",
        "X_train, X_test, y_train, y_test = train_test_split(df.drop(['y'], axis=1), df['y'], test_size=.2, random_state=42)\n",
        "\n",
        "model = LinearRegression()\n",
        "model.fit(X_train, y_train)\n",
        "\n",
        "# test set prediction results\n",
        "predictions = model.predict(X_test)\n",
        "print('\\nx, y scatter plot with line of best fit as per our line equation')\n",
        "print(f'y = {model.intercept_} + {model.coef_[0]}X')\n",
        "\n",
        "plt.scatter(X_train['x'], y_train, label='data')\n",
        "plt.plot(X_train['x'], model.intercept_ + model.coef_[0] * X_train['x'], color='red', label='fitted line')\n",
        "# plt.axhline(0.5, color='green', linestyle='dashed', label='threshold')\n",
        "plt.legend();"
      ]
    },
    {
      "cell_type": "code",
      "execution_count": null,
      "id": "d3595b5e",
      "metadata": {
        "id": "d3595b5e",
        "outputId": "b54bba4a-ca0b-401d-b9a4-a39416688f2c",
        "colab": {
          "base_uri": "https://localhost:8080/",
          "height": 430
        }
      },
      "outputs": [
        {
          "output_type": "display_data",
          "data": {
            "text/plain": [
              "<Figure size 640x480 with 1 Axes>"
            ],
            "image/png": "[encoded data removed]"
          },
          "metadata": {}
        }
      ],
      "source": [
        "# does a line of best fit over a binary dependent variable make sense?\n",
        "plt.scatter(X_train['x'], X_train['class'], label='data')\n",
        "plt.plot(X_train['x'], model.intercept_ + model.coef_[0] * X_train['x'], color='red', label='fitted line')\n",
        "plt.axhline(.5, color='green', linestyle='dashed', label='threshold')\n",
        "# plt.axvline(0, color='gray', label='y=0')\n",
        "plt.legend();"
      ]
    },
    {
      "cell_type": "markdown",
      "id": "5a120381",
      "metadata": {
        "id": "5a120381"
      },
      "source": [
        "### The Sigmoid\n",
        "\n",
        "Sigmoid curves are common in statistics as cumulative distribution functions (which go from 0 to 1), such as the integrals of the logistic density, the normal density, and Student's t probability density functions. The logistic sigmoid function is invertible, and its inverse is the logit function.\n",
        "\n",
        "https://en.wikipedia.org/wiki/Sigmoid_function\n",
        "\n",
        "Sigmoidal growth is a modification of exponential growth in which the percent change gets smaller as the population approaches the carrying capacity.\n",
        "\n",
        "http://matcmath.org/textbooks/quantitativereasoning/sigmoidal-growth/"
      ]
    },
    {
      "cell_type": "code",
      "execution_count": null,
      "id": "261a96c5",
      "metadata": {
        "id": "261a96c5",
        "outputId": "ba2ffa4b-565f-4d42-badb-d16527623cee",
        "colab": {
          "base_uri": "https://localhost:8080/",
          "height": 569
        }
      },
      "outputs": [
        {
          "output_type": "stream",
          "name": "stdout",
          "text": [
            "          x  class\n",
            "0 -0.320566      0\n",
            "1 -0.506339      0\n",
            "2 -0.533902      0\n",
            "3  0.830459      1\n",
            "4 -0.338387      0\n",
            "\n",
            "An S curve that is bound by 1 and 0\n"
          ]
        },
        {
          "output_type": "display_data",
          "data": {
            "text/plain": [
              "<Figure size 640x480 with 1 Axes>"
            ],
            "image/png": "[encoded data removed]"
          },
          "metadata": {}
        }
      ],
      "source": [
        "# what we'd really like\n",
        "import numpy as np\n",
        "import matplotlib.pyplot as plt\n",
        "import scipy.stats as stats\n",
        "\n",
        "# df with x and class\n",
        "print(df.drop('y', axis=1).head())\n",
        "\n",
        "x = np.linspace(-2, 2, 100)\n",
        "s = .3 # scale parameter\n",
        "print('\\nAn S curve that is bound by 1 and 0')\n",
        "plt.scatter(X_train['x'], X_train['class'], label='data')\n",
        "plt.plot(x, 1 / (1 + np.exp(-(np.mean(x)/s + (1/s)*x))), color='red', label='sigmoid')\n",
        "plt.axhline(.5, color='green', linestyle='dashed', label='threshold')\n",
        "plt.axvline(0, color='gray', alpha=0.5)\n",
        "plt.legend()\n",
        "plt.show()"
      ]
    },
    {
      "cell_type": "markdown",
      "id": "26f380ec",
      "metadata": {
        "id": "26f380ec"
      },
      "source": [
        "### Probability\n",
        "\n",
        "Probability = observed outcomes/possible outcomes\n",
        "\n",
        "$P(y=1) = \\beta_0 + \\beta_1 X$\n",
        "\n",
        "The probability of y = 1 is determined by a threshold and in this equation, x is unbounded, $(-\\infty, +\\infty)$, on the x axis, but y is either 0 or 1, and not very informative in regards to x and our threshold. With binary classification we want to show a better relationship with x.\n",
        "\n",
        "### What is this Thing Called Threshold?\n",
        "\n",
        "Logistic regression returns a probability. You can use the returned probability \"as is\" (for example, the probability that the user will click on this ad is 0.00023) or convert the returned probability to a binary value (for example, this email is spam).\n",
        "\n",
        "A logistic regression model that returns 0.9995 for a particular email message is predicting that it is very likely to be spam. Conversely, another email message with a prediction score of 0.0003 on that same logistic regression model is very likely not spam. However, what about an email message with a prediction score of 0.6? In order to map a logistic regression value to a binary category, you must define a classification threshold (also called the decision threshold). A value above that threshold indicates \"spam\"; a value below indicates \"not spam.\" It is tempting to assume that the classification threshold should always be 0.5, but thresholds are problem-dependent, and are therefore values that you must tune.\n",
        "\n",
        "https://developers.google.com/machine-learning/crash-course/classification/thresholding"
      ]
    },
    {
      "cell_type": "markdown",
      "id": "d229df66",
      "metadata": {
        "id": "d229df66"
      },
      "source": [
        "**Review our line of best fit given x and y**"
      ]
    },
    {
      "cell_type": "code",
      "execution_count": null,
      "id": "ad14ecf0",
      "metadata": {
        "id": "ad14ecf0",
        "outputId": "b7588a11-ae7e-43f4-a8a9-14d83d4f6eb6",
        "colab": {
          "base_uri": "https://localhost:8080/",
          "height": 482
        }
      },
      "outputs": [
        {
          "output_type": "stream",
          "name": "stdout",
          "text": [
            "\n",
            "x, y scatter plot with line of best fit as per our line equation\n",
            "y = -0.09693279422457744 + 0.8816270278336275X\n"
          ]
        },
        {
          "output_type": "display_data",
          "data": {
            "text/plain": [
              "<Figure size 640x480 with 1 Axes>"
            ],
            "image/png": "[encoded data removed]"
          },
          "metadata": {}
        }
      ],
      "source": [
        "print('\\nx, y scatter plot with line of best fit as per our line equation')\n",
        "print(f'y = {model.intercept_} + {model.coef_[0]}X')\n",
        "\n",
        "plt.scatter(X_train['x'], y_train, label='data')\n",
        "plt.plot(X_train['x'], model.intercept_ + model.coef_[0] * X_train['x'], color='red', label='fitted line')\n",
        "plt.axhline(0.5, color='green', linestyle='dashed', label='threshold')\n",
        "plt.legend();"
      ]
    },
    {
      "cell_type": "markdown",
      "id": "35b645fe",
      "metadata": {
        "id": "35b645fe"
      },
      "source": [
        "### Odds\n",
        "\n",
        "$\\large{\\frac{p}{1 - p}} = \\beta_0 + \\beta_1 X$\n",
        "\n",
        "Odds are positive so we have a range of 0, $+ \\infty$ so we use log"
      ]
    },
    {
      "cell_type": "code",
      "execution_count": null,
      "id": "13ce34c8",
      "metadata": {
        "id": "13ce34c8",
        "outputId": "3c54dd40-afc0-436a-964d-3293c60cdd79",
        "colab": {
          "base_uri": "https://localhost:8080/",
          "height": 349
        }
      },
      "outputs": [
        {
          "output_type": "stream",
          "name": "stdout",
          "text": [
            "Defining odds based on a probability represented by a decimals\n"
          ]
        },
        {
          "output_type": "execute_result",
          "data": {
            "text/plain": [
              "   Probs      Odds\n",
              "0    0.1  0.111111\n",
              "1    0.2  0.250000\n",
              "2    0.3  0.428571\n",
              "3    0.4  0.666667\n",
              "4    0.5  1.000000\n",
              "5    0.6  1.500000\n",
              "6    0.7  2.333333\n",
              "7    0.8  4.000000\n",
              "8    0.9  9.000000"
            ],
            "text/html": [
              "\n",
              "  <div id=\"df-66c78cde-3011-4666-8be5-ebe82e44ca5b\" class=\"colab-df-container\">\n",
              "    <div>\n",
              "<style scoped>\n",
              "    .dataframe tbody tr th:only-of-type {\n",
              "        vertical-align: middle;\n",
              "    }\n",
              "\n",
              "    .dataframe tbody tr th {\n",
              "        vertical-align: top;\n",
              "    }\n",
              "\n",
              "    .dataframe thead th {\n",
              "        text-align: right;\n",
              "    }\n",
              "</style>\n",
              "<table border=\"1\" class=\"dataframe\">\n",
              "  <thead>\n",
              "    <tr style=\"text-align: right;\">\n",
              "      <th></th>\n",
              "      <th>Probs</th>\n",
              "      <th>Odds</th>\n",
              "    </tr>\n",
              "  </thead>\n",
              "  <tbody>\n",
              "    <tr>\n",
              "      <th>0</th>\n",
              "      <td>0.1</td>\n",
              "      <td>0.111111</td>\n",
              "    </tr>\n",
              "    <tr>\n",
              "      <th>1</th>\n",
              "      <td>0.2</td>\n",
              "      <td>0.250000</td>\n",
              "    </tr>\n",
              "    <tr>\n",
              "      <th>2</th>\n",
              "      <td>0.3</td>\n",
              "      <td>0.428571</td>\n",
              "    </tr>\n",
              "    <tr>\n",
              "      <th>3</th>\n",
              "      <td>0.4</td>\n",
              "      <td>0.666667</td>\n",
              "    </tr>\n",
              "    <tr>\n",
              "      <th>4</th>\n",
              "      <td>0.5</td>\n",
              "      <td>1.000000</td>\n",
              "    </tr>\n",
              "    <tr>\n",
              "      <th>5</th>\n",
              "      <td>0.6</td>\n",
              "      <td>1.500000</td>\n",
              "    </tr>\n",
              "    <tr>\n",
              "      <th>6</th>\n",
              "      <td>0.7</td>\n",
              "      <td>2.333333</td>\n",
              "    </tr>\n",
              "    <tr>\n",
              "      <th>7</th>\n",
              "      <td>0.8</td>\n",
              "      <td>4.000000</td>\n",
              "    </tr>\n",
              "    <tr>\n",
              "      <th>8</th>\n",
              "      <td>0.9</td>\n",
              "      <td>9.000000</td>\n",
              "    </tr>\n",
              "  </tbody>\n",
              "</table>\n",
              "</div>\n",
              "    <div class=\"colab-df-buttons\">\n",
              "\n",
              "  <div class=\"colab-df-container\">\n",
              "    <button class=\"colab-df-convert\" onclick=\"convertToInteractive('df-66c78cde-3011-4666-8be5-ebe82e44ca5b')\"\n",
              "            title=\"Convert this dataframe to an interactive table.\"\n",
              "            style=\"display:none;\">\n",
              "\n",
              "  <svg xmlns=\"http://www.w3.org/2000/svg\" height=\"24px\" viewBox=\"0 -960 960 960\">\n",
              "    <path d=\"M120-120v-720h720v720H120Zm60-500h600v-160H180v160Zm220 220h160v-160H400v160Zm0 220h160v-160H400v160ZM180-400h160v-160H180v160Zm440 0h160v-160H620v160ZM180-180h160v-160H180v160Zm440 0h160v-160H620v160Z\"/>\n",
              "  </svg>\n",
              "    </button>\n",
              "\n",
              "  <style>\n",
              "    .colab-df-container {\n",
              "      display:flex;\n",
              "      gap: 12px;\n",
              "    }\n",
              "\n",
              "    .colab-df-convert {\n",
              "      background-color: #E8F0FE;\n",
              "      border: none;\n",
              "      border-radius: 50%;\n",
              "      cursor: pointer;\n",
              "      display: none;\n",
              "      fill: #1967D2;\n",
              "      height: 32px;\n",
              "      padding: 0 0 0 0;\n",
              "      width: 32px;\n",
              "    }\n",
              "\n",
              "    .colab-df-convert:hover {\n",
              "      background-color: #E2EBFA;\n",
              "      box-shadow: 0px 1px 2px rgba(60, 64, 67, 0.3), 0px 1px 3px 1px rgba(60, 64, 67, 0.15);\n",
              "      fill: #174EA6;\n",
              "    }\n",
              "\n",
              "    .colab-df-buttons div {\n",
              "      margin-bottom: 4px;\n",
              "    }\n",
              "\n",
              "    [theme=dark] .colab-df-convert {\n",
              "      background-color: #3B4455;\n",
              "      fill: #D2E3FC;\n",
              "    }\n",
              "\n",
              "    [theme=dark] .colab-df-convert:hover {\n",
              "      background-color: #434B5C;\n",
              "      box-shadow: 0px 1px 3px 1px rgba(0, 0, 0, 0.15);\n",
              "      filter: drop-shadow(0px 1px 2px rgba(0, 0, 0, 0.3));\n",
              "      fill: #FFFFFF;\n",
              "    }\n",
              "  </style>\n",
              "\n",
              "    <script>\n",
              "      const buttonEl =\n",
              "        document.querySelector('#df-66c78cde-3011-4666-8be5-ebe82e44ca5b button.colab-df-convert');\n",
              "      buttonEl.style.display =\n",
              "        google.colab.kernel.accessAllowed ? 'block' : 'none';\n",
              "\n",
              "      async function convertToInteractive(key) {\n",
              "        const element = document.querySelector('#df-66c78cde-3011-4666-8be5-ebe82e44ca5b');\n",
              "        const dataTable =\n",
              "          await google.colab.kernel.invokeFunction('convertToInteractive',\n",
              "                                                    [key], {});\n",
              "        if (!dataTable) return;\n",
              "\n",
              "        const docLinkHtml = 'Like what you see? Visit the ' +\n",
              "          '<a target=\"_blank\" href=https://colab.research.google.com/notebooks/data_table.ipynb>data table notebook</a>'\n",
              "          + ' to learn more about interactive tables.';\n",
              "        element.innerHTML = '';\n",
              "        dataTable['output_type'] = 'display_data';\n",
              "        await google.colab.output.renderOutput(dataTable, element);\n",
              "        const docLink = document.createElement('div');\n",
              "        docLink.innerHTML = docLinkHtml;\n",
              "        element.appendChild(docLink);\n",
              "      }\n",
              "    </script>\n",
              "  </div>\n",
              "\n",
              "\n",
              "<div id=\"df-3cce8cc4-3013-4de1-b801-0449bffaee99\">\n",
              "  <button class=\"colab-df-quickchart\" onclick=\"quickchart('df-3cce8cc4-3013-4de1-b801-0449bffaee99')\"\n",
              "            title=\"Suggest charts\"\n",
              "            style=\"display:none;\">\n",
              "\n",
              "<svg xmlns=\"http://www.w3.org/2000/svg\" height=\"24px\"viewBox=\"0 0 24 24\"\n",
              "     width=\"24px\">\n",
              "    <g>\n",
              "        <path d=\"M19 3H5c-1.1 0-2 .9-2 2v14c0 1.1.9 2 2 2h14c1.1 0 2-.9 2-2V5c0-1.1-.9-2-2-2zM9 17H7v-7h2v7zm4 0h-2V7h2v10zm4 0h-2v-4h2v4z\"/>\n",
              "    </g>\n",
              "</svg>\n",
              "  </button>\n",
              "\n",
              "<style>\n",
              "  .colab-df-quickchart {\n",
              "      --bg-color: #E8F0FE;\n",
              "      --fill-color: #1967D2;\n",
              "      --hover-bg-color: #E2EBFA;\n",
              "      --hover-fill-color: #174EA6;\n",
              "      --disabled-fill-color: #AAA;\n",
              "      --disabled-bg-color: #DDD;\n",
              "  }\n",
              "\n",
              "  [theme=dark] .colab-df-quickchart {\n",
              "      --bg-color: #3B4455;\n",
              "      --fill-color: #D2E3FC;\n",
              "      --hover-bg-color: #434B5C;\n",
              "      --hover-fill-color: #FFFFFF;\n",
              "      --disabled-bg-color: #3B4455;\n",
              "      --disabled-fill-color: #666;\n",
              "  }\n",
              "\n",
              "  .colab-df-quickchart {\n",
              "    background-color: var(--bg-color);\n",
              "    border: none;\n",
              "    border-radius: 50%;\n",
              "    cursor: pointer;\n",
              "    display: none;\n",
              "    fill: var(--fill-color);\n",
              "    height: 32px;\n",
              "    padding: 0;\n",
              "    width: 32px;\n",
              "  }\n",
              "\n",
              "  .colab-df-quickchart:hover {\n",
              "    background-color: var(--hover-bg-color);\n",
              "    box-shadow: 0 1px 2px rgba(60, 64, 67, 0.3), 0 1px 3px 1px rgba(60, 64, 67, 0.15);\n",
              "    fill: var(--button-hover-fill-color);\n",
              "  }\n",
              "\n",
              "  .colab-df-quickchart-complete:disabled,\n",
              "  .colab-df-quickchart-complete:disabled:hover {\n",
              "    background-color: var(--disabled-bg-color);\n",
              "    fill: var(--disabled-fill-color);\n",
              "    box-shadow: none;\n",
              "  }\n",
              "\n",
              "  .colab-df-spinner {\n",
              "    border: 2px solid var(--fill-color);\n",
              "    border-color: transparent;\n",
              "    border-bottom-color: var(--fill-color);\n",
              "    animation:\n",
              "      spin 1s steps(1) infinite;\n",
              "  }\n",
              "\n",
              "  @keyframes spin {\n",
              "    0% {\n",
              "      border-color: transparent;\n",
              "      border-bottom-color: var(--fill-color);\n",
              "      border-left-color: var(--fill-color);\n",
              "    }\n",
              "    20% {\n",
              "      border-color: transparent;\n",
              "      border-left-color: var(--fill-color);\n",
              "      border-top-color: var(--fill-color);\n",
              "    }\n",
              "    30% {\n",
              "      border-color: transparent;\n",
              "      border-left-color: var(--fill-color);\n",
              "      border-top-color: var(--fill-color);\n",
              "      border-right-color: var(--fill-color);\n",
              "    }\n",
              "    40% {\n",
              "      border-color: transparent;\n",
              "      border-right-color: var(--fill-color);\n",
              "      border-top-color: var(--fill-color);\n",
              "    }\n",
              "    60% {\n",
              "      border-color: transparent;\n",
              "      border-right-color: var(--fill-color);\n",
              "    }\n",
              "    80% {\n",
              "      border-color: transparent;\n",
              "      border-right-color: var(--fill-color);\n",
              "      border-bottom-color: var(--fill-color);\n",
              "    }\n",
              "    90% {\n",
              "      border-color: transparent;\n",
              "      border-bottom-color: var(--fill-color);\n",
              "    }\n",
              "  }\n",
              "</style>\n",
              "\n",
              "  <script>\n",
              "    async function quickchart(key) {\n",
              "      const quickchartButtonEl =\n",
              "        document.querySelector('#' + key + ' button');\n",
              "      quickchartButtonEl.disabled = true;  // To prevent multiple clicks.\n",
              "      quickchartButtonEl.classList.add('colab-df-spinner');\n",
              "      try {\n",
              "        const charts = await google.colab.kernel.invokeFunction(\n",
              "            'suggestCharts', [key], {});\n",
              "      } catch (error) {\n",
              "        console.error('Error during call to suggestCharts:', error);\n",
              "      }\n",
              "      quickchartButtonEl.classList.remove('colab-df-spinner');\n",
              "      quickchartButtonEl.classList.add('colab-df-quickchart-complete');\n",
              "    }\n",
              "    (() => {\n",
              "      let quickchartButtonEl =\n",
              "        document.querySelector('#df-3cce8cc4-3013-4de1-b801-0449bffaee99 button');\n",
              "      quickchartButtonEl.style.display =\n",
              "        google.colab.kernel.accessAllowed ? 'block' : 'none';\n",
              "    })();\n",
              "  </script>\n",
              "</div>\n",
              "\n",
              "    </div>\n",
              "  </div>\n"
            ],
            "application/vnd.google.colaboratory.intrinsic+json": {
              "type": "dataframe",
              "variable_name": "probs",
              "summary": "{\n  \"name\": \"probs\",\n  \"rows\": 9,\n  \"fields\": [\n    {\n      \"column\": \"Probs\",\n      \"properties\": {\n        \"dtype\": \"number\",\n        \"std\": 0.2738612787525831,\n        \"min\": 0.1,\n        \"max\": 0.9,\n        \"num_unique_values\": 9,\n        \"samples\": [\n          0.8,\n          0.2,\n          0.6\n        ],\n        \"semantic_type\": \"\",\n        \"description\": \"\"\n      }\n    },\n    {\n      \"column\": \"Odds\",\n      \"properties\": {\n        \"dtype\": \"number\",\n        \"std\": 2.8516194712972305,\n        \"min\": 0.11111111111111112,\n        \"max\": 9.000000000000002,\n        \"num_unique_values\": 9,\n        \"samples\": [\n          4.000000000000001,\n          0.25,\n          1.4999999999999998\n        ],\n        \"semantic_type\": \"\",\n        \"description\": \"\"\n      }\n    }\n  ]\n}"
            }
          },
          "metadata": {},
          "execution_count": 7
        }
      ],
      "source": [
        "# https://www.statisticshowto.com/log-odds/\n",
        "import pandas as pd\n",
        "import math\n",
        "\n",
        "print('Defining odds based on a probability represented by a decimals')\n",
        "d = {'Probs': [.1, .2, .3, .4, .5, .6, .7, .8, .9]}\n",
        "probs = pd.DataFrame(d)\n",
        "probs['Odds'] = probs['Probs']/(1 - probs['Probs'])\n",
        "probs.head(9)"
      ]
    },
    {
      "cell_type": "markdown",
      "id": "e4f74cd1",
      "metadata": {
        "id": "e4f74cd1"
      },
      "source": [
        "### Log Odds\n",
        "\n",
        "We use the log of odds so that we can get to $(-\\infty, +\\infty)$\n",
        "\n",
        "$\\large{log(\\frac{p}{1 - p}}) = \\beta_0 + \\beta_1 X$\n",
        "\n",
        "Now our range is unrestricted $- \\infty, + \\infty$ where the odds for and odds against meet at 0 with potential symmetrical range 0 to infinity. See images at https://towardsdatascience.com/https-towardsdatascience-com-what-and-why-of-log-odds-64ba988bf704\n",
        "\n",
        "In binomial logistic regression, the dependent variable takes only two values, which can be coded 0 and 1. So, it can't be that $Y=b0+b1X$ because that could result in any value. The logit transformation solves this problem.\n",
        "\n",
        "We take the odds to make the value continuous. We take the odds ratio to get a parameter estimate and we take the log of that ratio to make the variable range from negative infinity to infinity and be symmetric around 0 instead of 1.\n",
        "\n",
        "Peter Flom (https://stats.stackexchange.com/users/686/peter-flom), Why $\\log(\\frac{p}{1-p}) = b_0+b_1x $ in Logistic regression, URL (version: 2017-09-25): https://stats.stackexchange.com/q/304844"
      ]
    },
    {
      "cell_type": "code",
      "execution_count": null,
      "id": "a3d33c98",
      "metadata": {
        "id": "a3d33c98",
        "outputId": "80df4541-6737-48e2-c184-c56593e60d74",
        "colab": {
          "base_uri": "https://localhost:8080/"
        }
      },
      "outputs": [
        {
          "output_type": "stream",
          "name": "stdout",
          "text": [
            ".2/.8 = 0.25\n",
            "log(.25) = -1.3862943611198906\n"
          ]
        }
      ],
      "source": [
        "# log odds example\n",
        "import math\n",
        "\n",
        "p = .2\n",
        "odds = p/(1-p)\n",
        "print('.2/.8 =', odds)\n",
        "print('log(.25) =', math.log(odds))"
      ]
    },
    {
      "cell_type": "code",
      "execution_count": null,
      "id": "ef2ce66a",
      "metadata": {
        "id": "ef2ce66a",
        "outputId": "c3227328-324f-42b7-f0c8-dd25a415ced0",
        "colab": {
          "base_uri": "https://localhost:8080/",
          "height": 331
        }
      },
      "outputs": [
        {
          "output_type": "execute_result",
          "data": {
            "text/plain": [
              "   Probs      Odds  Log Odds\n",
              "0    0.1  0.111111 -2.197225\n",
              "1    0.2  0.250000 -1.386294\n",
              "2    0.3  0.428571 -0.847298\n",
              "3    0.4  0.666667 -0.405465\n",
              "4    0.5  1.000000  0.000000\n",
              "5    0.6  1.500000  0.405465\n",
              "6    0.7  2.333333  0.847298\n",
              "7    0.8  4.000000  1.386294\n",
              "8    0.9  9.000000  2.197225"
            ],
            "text/html": [
              "\n",
              "  <div id=\"df-aab8283b-b550-40f4-b2d6-eeec3c49c9e3\" class=\"colab-df-container\">\n",
              "    <div>\n",
              "<style scoped>\n",
              "    .dataframe tbody tr th:only-of-type {\n",
              "        vertical-align: middle;\n",
              "    }\n",
              "\n",
              "    .dataframe tbody tr th {\n",
              "        vertical-align: top;\n",
              "    }\n",
              "\n",
              "    .dataframe thead th {\n",
              "        text-align: right;\n",
              "    }\n",
              "</style>\n",
              "<table border=\"1\" class=\"dataframe\">\n",
              "  <thead>\n",
              "    <tr style=\"text-align: right;\">\n",
              "      <th></th>\n",
              "      <th>Probs</th>\n",
              "      <th>Odds</th>\n",
              "      <th>Log Odds</th>\n",
              "    </tr>\n",
              "  </thead>\n",
              "  <tbody>\n",
              "    <tr>\n",
              "      <th>0</th>\n",
              "      <td>0.1</td>\n",
              "      <td>0.111111</td>\n",
              "      <td>-2.197225</td>\n",
              "    </tr>\n",
              "    <tr>\n",
              "      <th>1</th>\n",
              "      <td>0.2</td>\n",
              "      <td>0.250000</td>\n",
              "      <td>-1.386294</td>\n",
              "    </tr>\n",
              "    <tr>\n",
              "      <th>2</th>\n",
              "      <td>0.3</td>\n",
              "      <td>0.428571</td>\n",
              "      <td>-0.847298</td>\n",
              "    </tr>\n",
              "    <tr>\n",
              "      <th>3</th>\n",
              "      <td>0.4</td>\n",
              "      <td>0.666667</td>\n",
              "      <td>-0.405465</td>\n",
              "    </tr>\n",
              "    <tr>\n",
              "      <th>4</th>\n",
              "      <td>0.5</td>\n",
              "      <td>1.000000</td>\n",
              "      <td>0.000000</td>\n",
              "    </tr>\n",
              "    <tr>\n",
              "      <th>5</th>\n",
              "      <td>0.6</td>\n",
              "      <td>1.500000</td>\n",
              "      <td>0.405465</td>\n",
              "    </tr>\n",
              "    <tr>\n",
              "      <th>6</th>\n",
              "      <td>0.7</td>\n",
              "      <td>2.333333</td>\n",
              "      <td>0.847298</td>\n",
              "    </tr>\n",
              "    <tr>\n",
              "      <th>7</th>\n",
              "      <td>0.8</td>\n",
              "      <td>4.000000</td>\n",
              "      <td>1.386294</td>\n",
              "    </tr>\n",
              "    <tr>\n",
              "      <th>8</th>\n",
              "      <td>0.9</td>\n",
              "      <td>9.000000</td>\n",
              "      <td>2.197225</td>\n",
              "    </tr>\n",
              "  </tbody>\n",
              "</table>\n",
              "</div>\n",
              "    <div class=\"colab-df-buttons\">\n",
              "\n",
              "  <div class=\"colab-df-container\">\n",
              "    <button class=\"colab-df-convert\" onclick=\"convertToInteractive('df-aab8283b-b550-40f4-b2d6-eeec3c49c9e3')\"\n",
              "            title=\"Convert this dataframe to an interactive table.\"\n",
              "            style=\"display:none;\">\n",
              "\n",
              "  <svg xmlns=\"http://www.w3.org/2000/svg\" height=\"24px\" viewBox=\"0 -960 960 960\">\n",
              "    <path d=\"M120-120v-720h720v720H120Zm60-500h600v-160H180v160Zm220 220h160v-160H400v160Zm0 220h160v-160H400v160ZM180-400h160v-160H180v160Zm440 0h160v-160H620v160ZM180-180h160v-160H180v160Zm440 0h160v-160H620v160Z\"/>\n",
              "  </svg>\n",
              "    </button>\n",
              "\n",
              "  <style>\n",
              "    .colab-df-container {\n",
              "      display:flex;\n",
              "      gap: 12px;\n",
              "    }\n",
              "\n",
              "    .colab-df-convert {\n",
              "      background-color: #E8F0FE;\n",
              "      border: none;\n",
              "      border-radius: 50%;\n",
              "      cursor: pointer;\n",
              "      display: none;\n",
              "      fill: #1967D2;\n",
              "      height: 32px;\n",
              "      padding: 0 0 0 0;\n",
              "      width: 32px;\n",
              "    }\n",
              "\n",
              "    .colab-df-convert:hover {\n",
              "      background-color: #E2EBFA;\n",
              "      box-shadow: 0px 1px 2px rgba(60, 64, 67, 0.3), 0px 1px 3px 1px rgba(60, 64, 67, 0.15);\n",
              "      fill: #174EA6;\n",
              "    }\n",
              "\n",
              "    .colab-df-buttons div {\n",
              "      margin-bottom: 4px;\n",
              "    }\n",
              "\n",
              "    [theme=dark] .colab-df-convert {\n",
              "      background-color: #3B4455;\n",
              "      fill: #D2E3FC;\n",
              "    }\n",
              "\n",
              "    [theme=dark] .colab-df-convert:hover {\n",
              "      background-color: #434B5C;\n",
              "      box-shadow: 0px 1px 3px 1px rgba(0, 0, 0, 0.15);\n",
              "      filter: drop-shadow(0px 1px 2px rgba(0, 0, 0, 0.3));\n",
              "      fill: #FFFFFF;\n",
              "    }\n",
              "  </style>\n",
              "\n",
              "    <script>\n",
              "      const buttonEl =\n",
              "        document.querySelector('#df-aab8283b-b550-40f4-b2d6-eeec3c49c9e3 button.colab-df-convert');\n",
              "      buttonEl.style.display =\n",
              "        google.colab.kernel.accessAllowed ? 'block' : 'none';\n",
              "\n",
              "      async function convertToInteractive(key) {\n",
              "        const element = document.querySelector('#df-aab8283b-b550-40f4-b2d6-eeec3c49c9e3');\n",
              "        const dataTable =\n",
              "          await google.colab.kernel.invokeFunction('convertToInteractive',\n",
              "                                                    [key], {});\n",
              "        if (!dataTable) return;\n",
              "\n",
              "        const docLinkHtml = 'Like what you see? Visit the ' +\n",
              "          '<a target=\"_blank\" href=https://colab.research.google.com/notebooks/data_table.ipynb>data table notebook</a>'\n",
              "          + ' to learn more about interactive tables.';\n",
              "        element.innerHTML = '';\n",
              "        dataTable['output_type'] = 'display_data';\n",
              "        await google.colab.output.renderOutput(dataTable, element);\n",
              "        const docLink = document.createElement('div');\n",
              "        docLink.innerHTML = docLinkHtml;\n",
              "        element.appendChild(docLink);\n",
              "      }\n",
              "    </script>\n",
              "  </div>\n",
              "\n",
              "\n",
              "<div id=\"df-768bd4ee-95cb-42a3-874b-86097c6af590\">\n",
              "  <button class=\"colab-df-quickchart\" onclick=\"quickchart('df-768bd4ee-95cb-42a3-874b-86097c6af590')\"\n",
              "            title=\"Suggest charts\"\n",
              "            style=\"display:none;\">\n",
              "\n",
              "<svg xmlns=\"http://www.w3.org/2000/svg\" height=\"24px\"viewBox=\"0 0 24 24\"\n",
              "     width=\"24px\">\n",
              "    <g>\n",
              "        <path d=\"M19 3H5c-1.1 0-2 .9-2 2v14c0 1.1.9 2 2 2h14c1.1 0 2-.9 2-2V5c0-1.1-.9-2-2-2zM9 17H7v-7h2v7zm4 0h-2V7h2v10zm4 0h-2v-4h2v4z\"/>\n",
              "    </g>\n",
              "</svg>\n",
              "  </button>\n",
              "\n",
              "<style>\n",
              "  .colab-df-quickchart {\n",
              "      --bg-color: #E8F0FE;\n",
              "      --fill-color: #1967D2;\n",
              "      --hover-bg-color: #E2EBFA;\n",
              "      --hover-fill-color: #174EA6;\n",
              "      --disabled-fill-color: #AAA;\n",
              "      --disabled-bg-color: #DDD;\n",
              "  }\n",
              "\n",
              "  [theme=dark] .colab-df-quickchart {\n",
              "      --bg-color: #3B4455;\n",
              "      --fill-color: #D2E3FC;\n",
              "      --hover-bg-color: #434B5C;\n",
              "      --hover-fill-color: #FFFFFF;\n",
              "      --disabled-bg-color: #3B4455;\n",
              "      --disabled-fill-color: #666;\n",
              "  }\n",
              "\n",
              "  .colab-df-quickchart {\n",
              "    background-color: var(--bg-color);\n",
              "    border: none;\n",
              "    border-radius: 50%;\n",
              "    cursor: pointer;\n",
              "    display: none;\n",
              "    fill: var(--fill-color);\n",
              "    height: 32px;\n",
              "    padding: 0;\n",
              "    width: 32px;\n",
              "  }\n",
              "\n",
              "  .colab-df-quickchart:hover {\n",
              "    background-color: var(--hover-bg-color);\n",
              "    box-shadow: 0 1px 2px rgba(60, 64, 67, 0.3), 0 1px 3px 1px rgba(60, 64, 67, 0.15);\n",
              "    fill: var(--button-hover-fill-color);\n",
              "  }\n",
              "\n",
              "  .colab-df-quickchart-complete:disabled,\n",
              "  .colab-df-quickchart-complete:disabled:hover {\n",
              "    background-color: var(--disabled-bg-color);\n",
              "    fill: var(--disabled-fill-color);\n",
              "    box-shadow: none;\n",
              "  }\n",
              "\n",
              "  .colab-df-spinner {\n",
              "    border: 2px solid var(--fill-color);\n",
              "    border-color: transparent;\n",
              "    border-bottom-color: var(--fill-color);\n",
              "    animation:\n",
              "      spin 1s steps(1) infinite;\n",
              "  }\n",
              "\n",
              "  @keyframes spin {\n",
              "    0% {\n",
              "      border-color: transparent;\n",
              "      border-bottom-color: var(--fill-color);\n",
              "      border-left-color: var(--fill-color);\n",
              "    }\n",
              "    20% {\n",
              "      border-color: transparent;\n",
              "      border-left-color: var(--fill-color);\n",
              "      border-top-color: var(--fill-color);\n",
              "    }\n",
              "    30% {\n",
              "      border-color: transparent;\n",
              "      border-left-color: var(--fill-color);\n",
              "      border-top-color: var(--fill-color);\n",
              "      border-right-color: var(--fill-color);\n",
              "    }\n",
              "    40% {\n",
              "      border-color: transparent;\n",
              "      border-right-color: var(--fill-color);\n",
              "      border-top-color: var(--fill-color);\n",
              "    }\n",
              "    60% {\n",
              "      border-color: transparent;\n",
              "      border-right-color: var(--fill-color);\n",
              "    }\n",
              "    80% {\n",
              "      border-color: transparent;\n",
              "      border-right-color: var(--fill-color);\n",
              "      border-bottom-color: var(--fill-color);\n",
              "    }\n",
              "    90% {\n",
              "      border-color: transparent;\n",
              "      border-bottom-color: var(--fill-color);\n",
              "    }\n",
              "  }\n",
              "</style>\n",
              "\n",
              "  <script>\n",
              "    async function quickchart(key) {\n",
              "      const quickchartButtonEl =\n",
              "        document.querySelector('#' + key + ' button');\n",
              "      quickchartButtonEl.disabled = true;  // To prevent multiple clicks.\n",
              "      quickchartButtonEl.classList.add('colab-df-spinner');\n",
              "      try {\n",
              "        const charts = await google.colab.kernel.invokeFunction(\n",
              "            'suggestCharts', [key], {});\n",
              "      } catch (error) {\n",
              "        console.error('Error during call to suggestCharts:', error);\n",
              "      }\n",
              "      quickchartButtonEl.classList.remove('colab-df-spinner');\n",
              "      quickchartButtonEl.classList.add('colab-df-quickchart-complete');\n",
              "    }\n",
              "    (() => {\n",
              "      let quickchartButtonEl =\n",
              "        document.querySelector('#df-768bd4ee-95cb-42a3-874b-86097c6af590 button');\n",
              "      quickchartButtonEl.style.display =\n",
              "        google.colab.kernel.accessAllowed ? 'block' : 'none';\n",
              "    })();\n",
              "  </script>\n",
              "</div>\n",
              "\n",
              "    </div>\n",
              "  </div>\n"
            ],
            "application/vnd.google.colaboratory.intrinsic+json": {
              "type": "dataframe",
              "variable_name": "probs",
              "summary": "{\n  \"name\": \"probs\",\n  \"rows\": 9,\n  \"fields\": [\n    {\n      \"column\": \"Probs\",\n      \"properties\": {\n        \"dtype\": \"number\",\n        \"std\": 0.2738612787525831,\n        \"min\": 0.1,\n        \"max\": 0.9,\n        \"num_unique_values\": 9,\n        \"samples\": [\n          0.8,\n          0.2,\n          0.6\n        ],\n        \"semantic_type\": \"\",\n        \"description\": \"\"\n      }\n    },\n    {\n      \"column\": \"Odds\",\n      \"properties\": {\n        \"dtype\": \"number\",\n        \"std\": 2.8516194712972305,\n        \"min\": 0.11111111111111112,\n        \"max\": 9.000000000000002,\n        \"num_unique_values\": 9,\n        \"samples\": [\n          4.000000000000001,\n          0.25,\n          1.4999999999999998\n        ],\n        \"semantic_type\": \"\",\n        \"description\": \"\"\n      }\n    },\n    {\n      \"column\": \"Log Odds\",\n      \"properties\": {\n        \"dtype\": \"number\",\n        \"std\": 1.3812968107029922,\n        \"min\": -2.197224577336219,\n        \"max\": 2.1972245773362196,\n        \"num_unique_values\": 9,\n        \"samples\": [\n          1.3862943611198908,\n          -1.3862943611198906,\n          0.4054651081081642\n        ],\n        \"semantic_type\": \"\",\n        \"description\": \"\"\n      }\n    }\n  ]\n}"
            }
          },
          "metadata": {},
          "execution_count": 9
        }
      ],
      "source": [
        "# add log odds to our probs dataframe\n",
        "probs['Log Odds'] = probs['Odds'].apply(lambda x: math.log(x))\n",
        "probs.head(9)"
      ]
    },
    {
      "cell_type": "markdown",
      "id": "46528e0c",
      "metadata": {
        "id": "46528e0c"
      },
      "source": [
        "### Logistic Function Proof\n",
        "\n",
        "* $p(y=1) = \\beta_0 + \\beta_1x$\n",
        "* $\\frac{p}{1 - p} = \\beta_0 + \\beta_1x$ # bounded by 0\n",
        "* $log(\\frac{p}{1 - p}) = \\beta_0 + \\beta_1x$ # what we want because it is unbounded\n",
        "* $e^{ln[\\frac{p}{1-p}]} = e^{\\beta_0 + \\beta_1x}$\n",
        "* $\\frac{p}{1-p} = e^{\\beta_0 + \\beta_1x}$\n",
        "* $p = e^{\\beta_0 + \\beta_1x} - pe^{\\beta_0 + \\beta_1x}$\n",
        "* $= p[\\frac{e^{\\beta_0 + \\beta_1x}}{p} - e^{\\beta_0 + \\beta_1x}]$\n",
        "* $p[1 + e^{\\beta_0 + \\beta_1x}] = e^{\\beta_0 + \\beta_1x}$\n",
        "* $= \\frac{e^{\\beta_0 + \\beta_1x}}{1 + e^{\\beta_0 + \\beta_1x}}$\n",
        "* $= \\large{\\frac{1}{1 + e^{-(\\beta_0 + \\beta_1x + ...)}}}$\n",
        "* $= \\large{\\frac{1}{1 + e^{-(x)}}}$\n",
        "\n",
        "### Why the Exponential\n",
        "\n",
        "Exponentials are also used to express growth which is instrumental with the sigmoid function. The function $y = e^x$ gives a curve at which the slope at any value x is also the value of y, which means the derivative is equal to the function itself, or $f'(x) = e^x$ and $f(x) = e^x$.\n",
        "\n",
        "https://www.ml-science.com/eulers-number\n",
        "\n",
        "### Summary\n",
        "\n",
        "Logistic functions are used in logistic regression to model how the probability $p$ of an event may be affected by one or more explanatory variables: an example would be to have the model $p = f(a + bx)$, where $x$ is the explanatory variable, $a$ and $b$ are model parameters to be fitted, and $f$ is the standard logistic function.\n",
        "\n",
        "https://en.wikipedia.org/wiki/Logistic_function#In_statistics_and_machine_learning\n",
        "\n",
        "* $f(x) = \\large{\\frac{1}{1 + e^{-(x)}}}$\n",
        "\n",
        "https://www.analyticsvidhya.com/blog/2021/08/conceptual-understanding-of-logistic-regression-for-data-science-beginners/"
      ]
    },
    {
      "cell_type": "markdown",
      "id": "a9ab21a9",
      "metadata": {
        "id": "a9ab21a9"
      },
      "source": [
        "## Make Classification Example with 2 Features"
      ]
    },
    {
      "cell_type": "code",
      "execution_count": null,
      "id": "8c95d264",
      "metadata": {
        "id": "8c95d264",
        "outputId": "2d752fd3-d9f2-4e41-de22-ec9773eb8c20",
        "colab": {
          "base_uri": "https://localhost:8080/",
          "height": 206
        }
      },
      "outputs": [
        {
          "output_type": "execute_result",
          "data": {
            "text/plain": [
              "   Feature_1  Feature_2  Class\n",
              "0   0.601034   1.535353      1\n",
              "1   0.755945  -1.172352      0\n",
              "2   1.354479  -0.948528      0\n",
              "3   3.103090   0.233485      0\n",
              "4   0.753178   0.787514      1"
            ],
            "text/html": [
              "\n",
              "  <div id=\"df-208a6de4-72e7-4b29-a337-caa31945a193\" class=\"colab-df-container\">\n",
              "    <div>\n",
              "<style scoped>\n",
              "    .dataframe tbody tr th:only-of-type {\n",
              "        vertical-align: middle;\n",
              "    }\n",
              "\n",
              "    .dataframe tbody tr th {\n",
              "        vertical-align: top;\n",
              "    }\n",
              "\n",
              "    .dataframe thead th {\n",
              "        text-align: right;\n",
              "    }\n",
              "</style>\n",
              "<table border=\"1\" class=\"dataframe\">\n",
              "  <thead>\n",
              "    <tr style=\"text-align: right;\">\n",
              "      <th></th>\n",
              "      <th>Feature_1</th>\n",
              "      <th>Feature_2</th>\n",
              "      <th>Class</th>\n",
              "    </tr>\n",
              "  </thead>\n",
              "  <tbody>\n",
              "    <tr>\n",
              "      <th>0</th>\n",
              "      <td>0.601034</td>\n",
              "      <td>1.535353</td>\n",
              "      <td>1</td>\n",
              "    </tr>\n",
              "    <tr>\n",
              "      <th>1</th>\n",
              "      <td>0.755945</td>\n",
              "      <td>-1.172352</td>\n",
              "      <td>0</td>\n",
              "    </tr>\n",
              "    <tr>\n",
              "      <th>2</th>\n",
              "      <td>1.354479</td>\n",
              "      <td>-0.948528</td>\n",
              "      <td>0</td>\n",
              "    </tr>\n",
              "    <tr>\n",
              "      <th>3</th>\n",
              "      <td>3.103090</td>\n",
              "      <td>0.233485</td>\n",
              "      <td>0</td>\n",
              "    </tr>\n",
              "    <tr>\n",
              "      <th>4</th>\n",
              "      <td>0.753178</td>\n",
              "      <td>0.787514</td>\n",
              "      <td>1</td>\n",
              "    </tr>\n",
              "  </tbody>\n",
              "</table>\n",
              "</div>\n",
              "    <div class=\"colab-df-buttons\">\n",
              "\n",
              "  <div class=\"colab-df-container\">\n",
              "    <button class=\"colab-df-convert\" onclick=\"convertToInteractive('df-208a6de4-72e7-4b29-a337-caa31945a193')\"\n",
              "            title=\"Convert this dataframe to an interactive table.\"\n",
              "            style=\"display:none;\">\n",
              "\n",
              "  <svg xmlns=\"http://www.w3.org/2000/svg\" height=\"24px\" viewBox=\"0 -960 960 960\">\n",
              "    <path d=\"M120-120v-720h720v720H120Zm60-500h600v-160H180v160Zm220 220h160v-160H400v160Zm0 220h160v-160H400v160ZM180-400h160v-160H180v160Zm440 0h160v-160H620v160ZM180-180h160v-160H180v160Zm440 0h160v-160H620v160Z\"/>\n",
              "  </svg>\n",
              "    </button>\n",
              "\n",
              "  <style>\n",
              "    .colab-df-container {\n",
              "      display:flex;\n",
              "      gap: 12px;\n",
              "    }\n",
              "\n",
              "    .colab-df-convert {\n",
              "      background-color: #E8F0FE;\n",
              "      border: none;\n",
              "      border-radius: 50%;\n",
              "      cursor: pointer;\n",
              "      display: none;\n",
              "      fill: #1967D2;\n",
              "      height: 32px;\n",
              "      padding: 0 0 0 0;\n",
              "      width: 32px;\n",
              "    }\n",
              "\n",
              "    .colab-df-convert:hover {\n",
              "      background-color: #E2EBFA;\n",
              "      box-shadow: 0px 1px 2px rgba(60, 64, 67, 0.3), 0px 1px 3px 1px rgba(60, 64, 67, 0.15);\n",
              "      fill: #174EA6;\n",
              "    }\n",
              "\n",
              "    .colab-df-buttons div {\n",
              "      margin-bottom: 4px;\n",
              "    }\n",
              "\n",
              "    [theme=dark] .colab-df-convert {\n",
              "      background-color: #3B4455;\n",
              "      fill: #D2E3FC;\n",
              "    }\n",
              "\n",
              "    [theme=dark] .colab-df-convert:hover {\n",
              "      background-color: #434B5C;\n",
              "      box-shadow: 0px 1px 3px 1px rgba(0, 0, 0, 0.15);\n",
              "      filter: drop-shadow(0px 1px 2px rgba(0, 0, 0, 0.3));\n",
              "      fill: #FFFFFF;\n",
              "    }\n",
              "  </style>\n",
              "\n",
              "    <script>\n",
              "      const buttonEl =\n",
              "        document.querySelector('#df-208a6de4-72e7-4b29-a337-caa31945a193 button.colab-df-convert');\n",
              "      buttonEl.style.display =\n",
              "        google.colab.kernel.accessAllowed ? 'block' : 'none';\n",
              "\n",
              "      async function convertToInteractive(key) {\n",
              "        const element = document.querySelector('#df-208a6de4-72e7-4b29-a337-caa31945a193');\n",
              "        const dataTable =\n",
              "          await google.colab.kernel.invokeFunction('convertToInteractive',\n",
              "                                                    [key], {});\n",
              "        if (!dataTable) return;\n",
              "\n",
              "        const docLinkHtml = 'Like what you see? Visit the ' +\n",
              "          '<a target=\"_blank\" href=https://colab.research.google.com/notebooks/data_table.ipynb>data table notebook</a>'\n",
              "          + ' to learn more about interactive tables.';\n",
              "        element.innerHTML = '';\n",
              "        dataTable['output_type'] = 'display_data';\n",
              "        await google.colab.output.renderOutput(dataTable, element);\n",
              "        const docLink = document.createElement('div');\n",
              "        docLink.innerHTML = docLinkHtml;\n",
              "        element.appendChild(docLink);\n",
              "      }\n",
              "    </script>\n",
              "  </div>\n",
              "\n",
              "\n",
              "<div id=\"df-f3071a97-84c7-470c-884f-43fe5381af73\">\n",
              "  <button class=\"colab-df-quickchart\" onclick=\"quickchart('df-f3071a97-84c7-470c-884f-43fe5381af73')\"\n",
              "            title=\"Suggest charts\"\n",
              "            style=\"display:none;\">\n",
              "\n",
              "<svg xmlns=\"http://www.w3.org/2000/svg\" height=\"24px\"viewBox=\"0 0 24 24\"\n",
              "     width=\"24px\">\n",
              "    <g>\n",
              "        <path d=\"M19 3H5c-1.1 0-2 .9-2 2v14c0 1.1.9 2 2 2h14c1.1 0 2-.9 2-2V5c0-1.1-.9-2-2-2zM9 17H7v-7h2v7zm4 0h-2V7h2v10zm4 0h-2v-4h2v4z\"/>\n",
              "    </g>\n",
              "</svg>\n",
              "  </button>\n",
              "\n",
              "<style>\n",
              "  .colab-df-quickchart {\n",
              "      --bg-color: #E8F0FE;\n",
              "      --fill-color: #1967D2;\n",
              "      --hover-bg-color: #E2EBFA;\n",
              "      --hover-fill-color: #174EA6;\n",
              "      --disabled-fill-color: #AAA;\n",
              "      --disabled-bg-color: #DDD;\n",
              "  }\n",
              "\n",
              "  [theme=dark] .colab-df-quickchart {\n",
              "      --bg-color: #3B4455;\n",
              "      --fill-color: #D2E3FC;\n",
              "      --hover-bg-color: #434B5C;\n",
              "      --hover-fill-color: #FFFFFF;\n",
              "      --disabled-bg-color: #3B4455;\n",
              "      --disabled-fill-color: #666;\n",
              "  }\n",
              "\n",
              "  .colab-df-quickchart {\n",
              "    background-color: var(--bg-color);\n",
              "    border: none;\n",
              "    border-radius: 50%;\n",
              "    cursor: pointer;\n",
              "    display: none;\n",
              "    fill: var(--fill-color);\n",
              "    height: 32px;\n",
              "    padding: 0;\n",
              "    width: 32px;\n",
              "  }\n",
              "\n",
              "  .colab-df-quickchart:hover {\n",
              "    background-color: var(--hover-bg-color);\n",
              "    box-shadow: 0 1px 2px rgba(60, 64, 67, 0.3), 0 1px 3px 1px rgba(60, 64, 67, 0.15);\n",
              "    fill: var(--button-hover-fill-color);\n",
              "  }\n",
              "\n",
              "  .colab-df-quickchart-complete:disabled,\n",
              "  .colab-df-quickchart-complete:disabled:hover {\n",
              "    background-color: var(--disabled-bg-color);\n",
              "    fill: var(--disabled-fill-color);\n",
              "    box-shadow: none;\n",
              "  }\n",
              "\n",
              "  .colab-df-spinner {\n",
              "    border: 2px solid var(--fill-color);\n",
              "    border-color: transparent;\n",
              "    border-bottom-color: var(--fill-color);\n",
              "    animation:\n",
              "      spin 1s steps(1) infinite;\n",
              "  }\n",
              "\n",
              "  @keyframes spin {\n",
              "    0% {\n",
              "      border-color: transparent;\n",
              "      border-bottom-color: var(--fill-color);\n",
              "      border-left-color: var(--fill-color);\n",
              "    }\n",
              "    20% {\n",
              "      border-color: transparent;\n",
              "      border-left-color: var(--fill-color);\n",
              "      border-top-color: var(--fill-color);\n",
              "    }\n",
              "    30% {\n",
              "      border-color: transparent;\n",
              "      border-left-color: var(--fill-color);\n",
              "      border-top-color: var(--fill-color);\n",
              "      border-right-color: var(--fill-color);\n",
              "    }\n",
              "    40% {\n",
              "      border-color: transparent;\n",
              "      border-right-color: var(--fill-color);\n",
              "      border-top-color: var(--fill-color);\n",
              "    }\n",
              "    60% {\n",
              "      border-color: transparent;\n",
              "      border-right-color: var(--fill-color);\n",
              "    }\n",
              "    80% {\n",
              "      border-color: transparent;\n",
              "      border-right-color: var(--fill-color);\n",
              "      border-bottom-color: var(--fill-color);\n",
              "    }\n",
              "    90% {\n",
              "      border-color: transparent;\n",
              "      border-bottom-color: var(--fill-color);\n",
              "    }\n",
              "  }\n",
              "</style>\n",
              "\n",
              "  <script>\n",
              "    async function quickchart(key) {\n",
              "      const quickchartButtonEl =\n",
              "        document.querySelector('#' + key + ' button');\n",
              "      quickchartButtonEl.disabled = true;  // To prevent multiple clicks.\n",
              "      quickchartButtonEl.classList.add('colab-df-spinner');\n",
              "      try {\n",
              "        const charts = await google.colab.kernel.invokeFunction(\n",
              "            'suggestCharts', [key], {});\n",
              "      } catch (error) {\n",
              "        console.error('Error during call to suggestCharts:', error);\n",
              "      }\n",
              "      quickchartButtonEl.classList.remove('colab-df-spinner');\n",
              "      quickchartButtonEl.classList.add('colab-df-quickchart-complete');\n",
              "    }\n",
              "    (() => {\n",
              "      let quickchartButtonEl =\n",
              "        document.querySelector('#df-f3071a97-84c7-470c-884f-43fe5381af73 button');\n",
              "      quickchartButtonEl.style.display =\n",
              "        google.colab.kernel.accessAllowed ? 'block' : 'none';\n",
              "    })();\n",
              "  </script>\n",
              "</div>\n",
              "\n",
              "    </div>\n",
              "  </div>\n"
            ],
            "application/vnd.google.colaboratory.intrinsic+json": {
              "type": "dataframe",
              "variable_name": "df",
              "summary": "{\n  \"name\": \"df\",\n  \"rows\": 1000,\n  \"fields\": [\n    {\n      \"column\": \"Feature_1\",\n      \"properties\": {\n        \"dtype\": \"number\",\n        \"std\": 1.0714569315977736,\n        \"min\": -2.472717702217064,\n        \"max\": 4.138715401007325,\n        \"num_unique_values\": 1000,\n        \"samples\": [\n          1.1992559530937783,\n          -0.754406799818248,\n          0.9684204319145272\n        ],\n        \"semantic_type\": \"\",\n        \"description\": \"\"\n      }\n    },\n    {\n      \"column\": \"Feature_2\",\n      \"properties\": {\n        \"dtype\": \"number\",\n        \"std\": 1.2253779533983864,\n        \"min\": -2.850971449868199,\n        \"max\": 3.3428640695115917,\n        \"num_unique_values\": 1000,\n        \"samples\": [\n          0.5298011758785475,\n          -1.9574384670977232,\n          -0.5409698353978326\n        ],\n        \"semantic_type\": \"\",\n        \"description\": \"\"\n      }\n    },\n    {\n      \"column\": \"Class\",\n      \"properties\": {\n        \"dtype\": \"number\",\n        \"std\": 0,\n        \"min\": 0,\n        \"max\": 1,\n        \"num_unique_values\": 2,\n        \"samples\": [\n          0,\n          1\n        ],\n        \"semantic_type\": \"\",\n        \"description\": \"\"\n      }\n    }\n  ]\n}"
            }
          },
          "metadata": {},
          "execution_count": 10
        }
      ],
      "source": [
        "# Create dataset\n",
        "import pandas as pd\n",
        "from sklearn.datasets import make_classification\n",
        "\n",
        "n = 1000 # number of observations\n",
        "f = 2 # number of features\n",
        "inform = 2 # number of meaningful features\n",
        "\n",
        "# unpack X and y\n",
        "features, binary_class = make_classification(n_samples=n, n_features=f,\n",
        "                                             n_informative=inform, n_redundant=0,\n",
        "                                             n_clusters_per_class=1, random_state=42)\n",
        "\n",
        "# Create a dataframe of the features and add the binary class (label, output)\n",
        "df = pd.DataFrame(features)\n",
        "df.columns = ['Feature_1', 'Feature_2']\n",
        "df['Class'] = binary_class\n",
        "df.head()"
      ]
    },
    {
      "cell_type": "markdown",
      "id": "ff77ac97",
      "metadata": {
        "id": "ff77ac97"
      },
      "source": [
        "### Logistic Model\n",
        "\n",
        "In statistics, the logistic model (or logit model) is a statistical model that models the probability of an event taking place by having the log-odds for the event be a linear combination of one or more independent variables. In regression analysis, logistic regression (or logit regression) is estimating the parameters of a logistic model (the coefficients in the linear combination).\n",
        "\n",
        "* $p = \\large{\\frac{1}{1 + e^{-(\\beta_0 + \\beta_1x)}}}$\n",
        "\n",
        "* https://en.wikipedia.org/wiki/Logistic_regression\n",
        "* https://en.m.wikipedia.org/wiki/Logistic_function"
      ]
    },
    {
      "cell_type": "code",
      "execution_count": null,
      "id": "3a10fed6",
      "metadata": {
        "id": "3a10fed6",
        "outputId": "3570b69f-1dab-47b0-aaa8-3f76c99b5c6c",
        "colab": {
          "base_uri": "https://localhost:8080/",
          "height": 324
        }
      },
      "outputs": [
        {
          "output_type": "stream",
          "name": "stdout",
          "text": [
            "Optimization terminated successfully.\n",
            "         Current function value: 0.242088\n",
            "         Iterations 8\n"
          ]
        },
        {
          "output_type": "execute_result",
          "data": {
            "text/plain": [
              "<class 'statsmodels.iolib.summary.Summary'>\n",
              "\"\"\"\n",
              "                           Logit Regression Results                           \n",
              "==============================================================================\n",
              "Dep. Variable:                  Class   No. Observations:                 1000\n",
              "Model:                          Logit   Df Residuals:                      997\n",
              "Method:                           MLE   Df Model:                            2\n",
              "Date:                Tue, 09 Apr 2024   Pseudo R-squ.:                  0.6507\n",
              "Time:                        15:48:26   Log-Likelihood:                -242.09\n",
              "converged:                       True   LL-Null:                       -693.15\n",
              "Covariance Type:            nonrobust   LLR p-value:                1.283e-196\n",
              "==============================================================================\n",
              "                 coef    std err          z      P>|z|      [0.025      0.975]\n",
              "------------------------------------------------------------------------------\n",
              "Intercept      1.1197      0.365      3.070      0.002       0.405       1.834\n",
              "Feature_1     -0.4561      0.171     -2.673      0.008      -0.790      -0.122\n",
              "Feature_2      3.4780      0.237     14.649      0.000       3.013       3.943\n",
              "==============================================================================\n",
              "\"\"\""
            ],
            "text/html": [
              "<table class=\"simpletable\">\n",
              "<caption>Logit Regression Results</caption>\n",
              "<tr>\n",
              "  <th>Dep. Variable:</th>         <td>Class</td>      <th>  No. Observations:  </th>   <td>  1000</td>  \n",
              "</tr>\n",
              "<tr>\n",
              "  <th>Model:</th>                 <td>Logit</td>      <th>  Df Residuals:      </th>   <td>   997</td>  \n",
              "</tr>\n",
              "<tr>\n",
              "  <th>Method:</th>                 <td>MLE</td>       <th>  Df Model:          </th>   <td>     2</td>  \n",
              "</tr>\n",
              "<tr>\n",
              "  <th>Date:</th>            <td>Tue, 09 Apr 2024</td> <th>  Pseudo R-squ.:     </th>   <td>0.6507</td>  \n",
              "</tr>\n",
              "<tr>\n",
              "  <th>Time:</th>                <td>15:48:26</td>     <th>  Log-Likelihood:    </th>  <td> -242.09</td> \n",
              "</tr>\n",
              "<tr>\n",
              "  <th>converged:</th>             <td>True</td>       <th>  LL-Null:           </th>  <td> -693.15</td> \n",
              "</tr>\n",
              "<tr>\n",
              "  <th>Covariance Type:</th>     <td>nonrobust</td>    <th>  LLR p-value:       </th> <td>1.283e-196</td>\n",
              "</tr>\n",
              "</table>\n",
              "<table class=\"simpletable\">\n",
              "<tr>\n",
              "      <td></td>         <th>coef</th>     <th>std err</th>      <th>z</th>      <th>P>|z|</th>  <th>[0.025</th>    <th>0.975]</th>  \n",
              "</tr>\n",
              "<tr>\n",
              "  <th>Intercept</th> <td>    1.1197</td> <td>    0.365</td> <td>    3.070</td> <td> 0.002</td> <td>    0.405</td> <td>    1.834</td>\n",
              "</tr>\n",
              "<tr>\n",
              "  <th>Feature_1</th> <td>   -0.4561</td> <td>    0.171</td> <td>   -2.673</td> <td> 0.008</td> <td>   -0.790</td> <td>   -0.122</td>\n",
              "</tr>\n",
              "<tr>\n",
              "  <th>Feature_2</th> <td>    3.4780</td> <td>    0.237</td> <td>   14.649</td> <td> 0.000</td> <td>    3.013</td> <td>    3.943</td>\n",
              "</tr>\n",
              "</table>"
            ],
            "text/latex": "\\begin{center}\n\\begin{tabular}{lclc}\n\\toprule\n\\textbf{Dep. Variable:}   &      Class       & \\textbf{  No. Observations:  } &     1000    \\\\\n\\textbf{Model:}           &      Logit       & \\textbf{  Df Residuals:      } &      997    \\\\\n\\textbf{Method:}          &       MLE        & \\textbf{  Df Model:          } &        2    \\\\\n\\textbf{Date:}            & Tue, 09 Apr 2024 & \\textbf{  Pseudo R-squ.:     } &   0.6507    \\\\\n\\textbf{Time:}            &     15:48:26     & \\textbf{  Log-Likelihood:    } &   -242.09   \\\\\n\\textbf{converged:}       &       True       & \\textbf{  LL-Null:           } &   -693.15   \\\\\n\\textbf{Covariance Type:} &    nonrobust     & \\textbf{  LLR p-value:       } & 1.283e-196  \\\\\n\\bottomrule\n\\end{tabular}\n\\begin{tabular}{lcccccc}\n                    & \\textbf{coef} & \\textbf{std err} & \\textbf{z} & \\textbf{P$> |$z$|$} & \\textbf{[0.025} & \\textbf{0.975]}  \\\\\n\\midrule\n\\textbf{Intercept}  &       1.1197  &        0.365     &     3.070  &         0.002        &        0.405    &        1.834     \\\\\n\\textbf{Feature\\_1} &      -0.4561  &        0.171     &    -2.673  &         0.008        &       -0.790    &       -0.122     \\\\\n\\textbf{Feature\\_2} &       3.4780  &        0.237     &    14.649  &         0.000        &        3.013    &        3.943     \\\\\n\\bottomrule\n\\end{tabular}\n%\\caption{Logit Regression Results}\n\\end{center}"
          },
          "metadata": {},
          "execution_count": 11
        }
      ],
      "source": [
        "# get our parameters\n",
        "from statsmodels.formula.api import logit\n",
        "\n",
        "model = logit(formula='Class ~ Feature_1 + Feature_2', data=df).fit()\n",
        "model.summary()"
      ]
    },
    {
      "cell_type": "code",
      "execution_count": null,
      "id": "1da9328a",
      "metadata": {
        "id": "1da9328a",
        "outputId": "b723cc42-4e09-4a04-bb19-cca99f73a6e0",
        "colab": {
          "base_uri": "https://localhost:8080/",
          "height": 275
        }
      },
      "outputs": [
        {
          "output_type": "stream",
          "name": "stdout",
          "text": [
            "Intercept    1.119669\n",
            "Feature_1   -0.456101\n",
            "Feature_2    3.478029\n",
            "dtype: float64\n"
          ]
        },
        {
          "output_type": "execute_result",
          "data": {
            "text/plain": [
              "   Feature_1  Feature_2  Class         p  Predicted        Odds  Log Odds\n",
              "0   0.601034   1.535353      1  0.997945          1  485.673902  6.185537\n",
              "1   0.755945  -1.172352      0  0.035482          0    0.036788 -3.302593\n",
              "2   1.354479  -0.948528      0  0.057480          0    0.060985 -2.797120\n",
              "3   3.103090   0.233485      0  0.626309          1    1.676007  0.516414\n",
              "4   0.753178   0.787514      1  0.971116          1   33.620678  3.515141"
            ],
            "text/html": [
              "\n",
              "  <div id=\"df-9e9fff9b-f844-4387-9e41-a60850503461\" class=\"colab-df-container\">\n",
              "    <div>\n",
              "<style scoped>\n",
              "    .dataframe tbody tr th:only-of-type {\n",
              "        vertical-align: middle;\n",
              "    }\n",
              "\n",
              "    .dataframe tbody tr th {\n",
              "        vertical-align: top;\n",
              "    }\n",
              "\n",
              "    .dataframe thead th {\n",
              "        text-align: right;\n",
              "    }\n",
              "</style>\n",
              "<table border=\"1\" class=\"dataframe\">\n",
              "  <thead>\n",
              "    <tr style=\"text-align: right;\">\n",
              "      <th></th>\n",
              "      <th>Feature_1</th>\n",
              "      <th>Feature_2</th>\n",
              "      <th>Class</th>\n",
              "      <th>p</th>\n",
              "      <th>Predicted</th>\n",
              "      <th>Odds</th>\n",
              "      <th>Log Odds</th>\n",
              "    </tr>\n",
              "  </thead>\n",
              "  <tbody>\n",
              "    <tr>\n",
              "      <th>0</th>\n",
              "      <td>0.601034</td>\n",
              "      <td>1.535353</td>\n",
              "      <td>1</td>\n",
              "      <td>0.997945</td>\n",
              "      <td>1</td>\n",
              "      <td>485.673902</td>\n",
              "      <td>6.185537</td>\n",
              "    </tr>\n",
              "    <tr>\n",
              "      <th>1</th>\n",
              "      <td>0.755945</td>\n",
              "      <td>-1.172352</td>\n",
              "      <td>0</td>\n",
              "      <td>0.035482</td>\n",
              "      <td>0</td>\n",
              "      <td>0.036788</td>\n",
              "      <td>-3.302593</td>\n",
              "    </tr>\n",
              "    <tr>\n",
              "      <th>2</th>\n",
              "      <td>1.354479</td>\n",
              "      <td>-0.948528</td>\n",
              "      <td>0</td>\n",
              "      <td>0.057480</td>\n",
              "      <td>0</td>\n",
              "      <td>0.060985</td>\n",
              "      <td>-2.797120</td>\n",
              "    </tr>\n",
              "    <tr>\n",
              "      <th>3</th>\n",
              "      <td>3.103090</td>\n",
              "      <td>0.233485</td>\n",
              "      <td>0</td>\n",
              "      <td>0.626309</td>\n",
              "      <td>1</td>\n",
              "      <td>1.676007</td>\n",
              "      <td>0.516414</td>\n",
              "    </tr>\n",
              "    <tr>\n",
              "      <th>4</th>\n",
              "      <td>0.753178</td>\n",
              "      <td>0.787514</td>\n",
              "      <td>1</td>\n",
              "      <td>0.971116</td>\n",
              "      <td>1</td>\n",
              "      <td>33.620678</td>\n",
              "      <td>3.515141</td>\n",
              "    </tr>\n",
              "  </tbody>\n",
              "</table>\n",
              "</div>\n",
              "    <div class=\"colab-df-buttons\">\n",
              "\n",
              "  <div class=\"colab-df-container\">\n",
              "    <button class=\"colab-df-convert\" onclick=\"convertToInteractive('df-9e9fff9b-f844-4387-9e41-a60850503461')\"\n",
              "            title=\"Convert this dataframe to an interactive table.\"\n",
              "            style=\"display:none;\">\n",
              "\n",
              "  <svg xmlns=\"http://www.w3.org/2000/svg\" height=\"24px\" viewBox=\"0 -960 960 960\">\n",
              "    <path d=\"M120-120v-720h720v720H120Zm60-500h600v-160H180v160Zm220 220h160v-160H400v160Zm0 220h160v-160H400v160ZM180-400h160v-160H180v160Zm440 0h160v-160H620v160ZM180-180h160v-160H180v160Zm440 0h160v-160H620v160Z\"/>\n",
              "  </svg>\n",
              "    </button>\n",
              "\n",
              "  <style>\n",
              "    .colab-df-container {\n",
              "      display:flex;\n",
              "      gap: 12px;\n",
              "    }\n",
              "\n",
              "    .colab-df-convert {\n",
              "      background-color: #E8F0FE;\n",
              "      border: none;\n",
              "      border-radius: 50%;\n",
              "      cursor: pointer;\n",
              "      display: none;\n",
              "      fill: #1967D2;\n",
              "      height: 32px;\n",
              "      padding: 0 0 0 0;\n",
              "      width: 32px;\n",
              "    }\n",
              "\n",
              "    .colab-df-convert:hover {\n",
              "      background-color: #E2EBFA;\n",
              "      box-shadow: 0px 1px 2px rgba(60, 64, 67, 0.3), 0px 1px 3px 1px rgba(60, 64, 67, 0.15);\n",
              "      fill: #174EA6;\n",
              "    }\n",
              "\n",
              "    .colab-df-buttons div {\n",
              "      margin-bottom: 4px;\n",
              "    }\n",
              "\n",
              "    [theme=dark] .colab-df-convert {\n",
              "      background-color: #3B4455;\n",
              "      fill: #D2E3FC;\n",
              "    }\n",
              "\n",
              "    [theme=dark] .colab-df-convert:hover {\n",
              "      background-color: #434B5C;\n",
              "      box-shadow: 0px 1px 3px 1px rgba(0, 0, 0, 0.15);\n",
              "      filter: drop-shadow(0px 1px 2px rgba(0, 0, 0, 0.3));\n",
              "      fill: #FFFFFF;\n",
              "    }\n",
              "  </style>\n",
              "\n",
              "    <script>\n",
              "      const buttonEl =\n",
              "        document.querySelector('#df-9e9fff9b-f844-4387-9e41-a60850503461 button.colab-df-convert');\n",
              "      buttonEl.style.display =\n",
              "        google.colab.kernel.accessAllowed ? 'block' : 'none';\n",
              "\n",
              "      async function convertToInteractive(key) {\n",
              "        const element = document.querySelector('#df-9e9fff9b-f844-4387-9e41-a60850503461');\n",
              "        const dataTable =\n",
              "          await google.colab.kernel.invokeFunction('convertToInteractive',\n",
              "                                                    [key], {});\n",
              "        if (!dataTable) return;\n",
              "\n",
              "        const docLinkHtml = 'Like what you see? Visit the ' +\n",
              "          '<a target=\"_blank\" href=https://colab.research.google.com/notebooks/data_table.ipynb>data table notebook</a>'\n",
              "          + ' to learn more about interactive tables.';\n",
              "        element.innerHTML = '';\n",
              "        dataTable['output_type'] = 'display_data';\n",
              "        await google.colab.output.renderOutput(dataTable, element);\n",
              "        const docLink = document.createElement('div');\n",
              "        docLink.innerHTML = docLinkHtml;\n",
              "        element.appendChild(docLink);\n",
              "      }\n",
              "    </script>\n",
              "  </div>\n",
              "\n",
              "\n",
              "<div id=\"df-62b02ce3-950f-4eb8-843f-98e36d8567a3\">\n",
              "  <button class=\"colab-df-quickchart\" onclick=\"quickchart('df-62b02ce3-950f-4eb8-843f-98e36d8567a3')\"\n",
              "            title=\"Suggest charts\"\n",
              "            style=\"display:none;\">\n",
              "\n",
              "<svg xmlns=\"http://www.w3.org/2000/svg\" height=\"24px\"viewBox=\"0 0 24 24\"\n",
              "     width=\"24px\">\n",
              "    <g>\n",
              "        <path d=\"M19 3H5c-1.1 0-2 .9-2 2v14c0 1.1.9 2 2 2h14c1.1 0 2-.9 2-2V5c0-1.1-.9-2-2-2zM9 17H7v-7h2v7zm4 0h-2V7h2v10zm4 0h-2v-4h2v4z\"/>\n",
              "    </g>\n",
              "</svg>\n",
              "  </button>\n",
              "\n",
              "<style>\n",
              "  .colab-df-quickchart {\n",
              "      --bg-color: #E8F0FE;\n",
              "      --fill-color: #1967D2;\n",
              "      --hover-bg-color: #E2EBFA;\n",
              "      --hover-fill-color: #174EA6;\n",
              "      --disabled-fill-color: #AAA;\n",
              "      --disabled-bg-color: #DDD;\n",
              "  }\n",
              "\n",
              "  [theme=dark] .colab-df-quickchart {\n",
              "      --bg-color: #3B4455;\n",
              "      --fill-color: #D2E3FC;\n",
              "      --hover-bg-color: #434B5C;\n",
              "      --hover-fill-color: #FFFFFF;\n",
              "      --disabled-bg-color: #3B4455;\n",
              "      --disabled-fill-color: #666;\n",
              "  }\n",
              "\n",
              "  .colab-df-quickchart {\n",
              "    background-color: var(--bg-color);\n",
              "    border: none;\n",
              "    border-radius: 50%;\n",
              "    cursor: pointer;\n",
              "    display: none;\n",
              "    fill: var(--fill-color);\n",
              "    height: 32px;\n",
              "    padding: 0;\n",
              "    width: 32px;\n",
              "  }\n",
              "\n",
              "  .colab-df-quickchart:hover {\n",
              "    background-color: var(--hover-bg-color);\n",
              "    box-shadow: 0 1px 2px rgba(60, 64, 67, 0.3), 0 1px 3px 1px rgba(60, 64, 67, 0.15);\n",
              "    fill: var(--button-hover-fill-color);\n",
              "  }\n",
              "\n",
              "  .colab-df-quickchart-complete:disabled,\n",
              "  .colab-df-quickchart-complete:disabled:hover {\n",
              "    background-color: var(--disabled-bg-color);\n",
              "    fill: var(--disabled-fill-color);\n",
              "    box-shadow: none;\n",
              "  }\n",
              "\n",
              "  .colab-df-spinner {\n",
              "    border: 2px solid var(--fill-color);\n",
              "    border-color: transparent;\n",
              "    border-bottom-color: var(--fill-color);\n",
              "    animation:\n",
              "      spin 1s steps(1) infinite;\n",
              "  }\n",
              "\n",
              "  @keyframes spin {\n",
              "    0% {\n",
              "      border-color: transparent;\n",
              "      border-bottom-color: var(--fill-color);\n",
              "      border-left-color: var(--fill-color);\n",
              "    }\n",
              "    20% {\n",
              "      border-color: transparent;\n",
              "      border-left-color: var(--fill-color);\n",
              "      border-top-color: var(--fill-color);\n",
              "    }\n",
              "    30% {\n",
              "      border-color: transparent;\n",
              "      border-left-color: var(--fill-color);\n",
              "      border-top-color: var(--fill-color);\n",
              "      border-right-color: var(--fill-color);\n",
              "    }\n",
              "    40% {\n",
              "      border-color: transparent;\n",
              "      border-right-color: var(--fill-color);\n",
              "      border-top-color: var(--fill-color);\n",
              "    }\n",
              "    60% {\n",
              "      border-color: transparent;\n",
              "      border-right-color: var(--fill-color);\n",
              "    }\n",
              "    80% {\n",
              "      border-color: transparent;\n",
              "      border-right-color: var(--fill-color);\n",
              "      border-bottom-color: var(--fill-color);\n",
              "    }\n",
              "    90% {\n",
              "      border-color: transparent;\n",
              "      border-bottom-color: var(--fill-color);\n",
              "    }\n",
              "  }\n",
              "</style>\n",
              "\n",
              "  <script>\n",
              "    async function quickchart(key) {\n",
              "      const quickchartButtonEl =\n",
              "        document.querySelector('#' + key + ' button');\n",
              "      quickchartButtonEl.disabled = true;  // To prevent multiple clicks.\n",
              "      quickchartButtonEl.classList.add('colab-df-spinner');\n",
              "      try {\n",
              "        const charts = await google.colab.kernel.invokeFunction(\n",
              "            'suggestCharts', [key], {});\n",
              "      } catch (error) {\n",
              "        console.error('Error during call to suggestCharts:', error);\n",
              "      }\n",
              "      quickchartButtonEl.classList.remove('colab-df-spinner');\n",
              "      quickchartButtonEl.classList.add('colab-df-quickchart-complete');\n",
              "    }\n",
              "    (() => {\n",
              "      let quickchartButtonEl =\n",
              "        document.querySelector('#df-62b02ce3-950f-4eb8-843f-98e36d8567a3 button');\n",
              "      quickchartButtonEl.style.display =\n",
              "        google.colab.kernel.accessAllowed ? 'block' : 'none';\n",
              "    })();\n",
              "  </script>\n",
              "</div>\n",
              "\n",
              "    </div>\n",
              "  </div>\n"
            ],
            "application/vnd.google.colaboratory.intrinsic+json": {
              "type": "dataframe",
              "variable_name": "df",
              "summary": "{\n  \"name\": \"df\",\n  \"rows\": 1000,\n  \"fields\": [\n    {\n      \"column\": \"Feature_1\",\n      \"properties\": {\n        \"dtype\": \"number\",\n        \"std\": 1.0714569315977736,\n        \"min\": -2.472717702217064,\n        \"max\": 4.138715401007325,\n        \"num_unique_values\": 1000,\n        \"samples\": [\n          1.1992559530937783,\n          -0.754406799818248,\n          0.9684204319145272\n        ],\n        \"semantic_type\": \"\",\n        \"description\": \"\"\n      }\n    },\n    {\n      \"column\": \"Feature_2\",\n      \"properties\": {\n        \"dtype\": \"number\",\n        \"std\": 1.2253779533983864,\n        \"min\": -2.850971449868199,\n        \"max\": 3.3428640695115917,\n        \"num_unique_values\": 1000,\n        \"samples\": [\n          0.5298011758785475,\n          -1.9574384670977232,\n          -0.5409698353978326\n        ],\n        \"semantic_type\": \"\",\n        \"description\": \"\"\n      }\n    },\n    {\n      \"column\": \"Class\",\n      \"properties\": {\n        \"dtype\": \"number\",\n        \"std\": 0,\n        \"min\": 0,\n        \"max\": 1,\n        \"num_unique_values\": 2,\n        \"samples\": [\n          0,\n          1\n        ],\n        \"semantic_type\": \"\",\n        \"description\": \"\"\n      }\n    },\n    {\n      \"column\": \"p\",\n      \"properties\": {\n        \"dtype\": \"number\",\n        \"std\": 0.4201425927559467,\n        \"min\": 0.0004576429544288134,\n        \"max\": 0.9999986779855836,\n        \"num_unique_values\": 1000,\n        \"samples\": [\n          0.9179904302091084,\n          0.004752719358495132\n        ],\n        \"semantic_type\": \"\",\n        \"description\": \"\"\n      }\n    },\n    {\n      \"column\": \"Predicted\",\n      \"properties\": {\n        \"dtype\": \"number\",\n        \"std\": 0,\n        \"min\": 0,\n        \"max\": 1,\n        \"num_unique_values\": 2,\n        \"samples\": [\n          0,\n          1\n        ],\n        \"semantic_type\": \"\",\n        \"description\": \"\"\n      }\n    },\n    {\n      \"column\": \"Odds\",\n      \"properties\": {\n        \"dtype\": \"number\",\n        \"std\": 39433.427775684286,\n        \"min\": 0.0004578524873938369,\n        \"max\": 756420.4032825208,\n        \"num_unique_values\": 1000,\n        \"samples\": [\n          11.19369888843223,\n          0.00477541556851246\n        ],\n        \"semantic_type\": \"\",\n        \"description\": \"\"\n      }\n    },\n    {\n      \"column\": \"Log Odds\",\n      \"properties\": {\n        \"dtype\": \"number\",\n        \"std\": 4.279382463488977,\n        \"min\": -7.688963505655089,\n        \"max\": 13.536352589599524,\n        \"num_unique_values\": 1000,\n        \"samples\": [\n          2.4153510207355877,\n          -5.3442742787813735\n        ],\n        \"semantic_type\": \"\",\n        \"description\": \"\"\n      }\n    }\n  ]\n}"
            }
          },
          "metadata": {},
          "execution_count": 12
        }
      ],
      "source": [
        "import numpy as np\n",
        "\n",
        "print(model.params)\n",
        "def logistic_function(row):\n",
        "    b0 = model.params.Intercept\n",
        "    b1 = model.params.Feature_1\n",
        "    b2 = model.params.Feature_2\n",
        "\n",
        "    x1 = row['Feature_1']\n",
        "    x2 = row['Feature_2']\n",
        "\n",
        "    return 1 / (1 + np.exp(-(b0+(b1*x1)+(b2*x2))))\n",
        "\n",
        "df['p'] = df.apply(logistic_function, axis=1)\n",
        "df['Predicted'] =  df['p'].apply(lambda x: 0 if x < .5 else 1)\n",
        "df['Odds'] = df['p']/(1 - df['p'])\n",
        "df['Log Odds'] = df['Odds'].apply(lambda x: math.log(x))\n",
        "df.head()"
      ]
    },
    {
      "cell_type": "markdown",
      "id": "dac3a137",
      "metadata": {
        "id": "dac3a137"
      },
      "source": [
        "### Logit\n",
        "\n",
        "A Logit function, the inverse of the logistic sigmoid, also known as the log-odds function, is a function that represents probability values from 0 to 1, and negative infinity to infinity.\n",
        "\n",
        "* https://deepai.org/machine-learning-glossary-and-terms/logit\n",
        "* https://en.m.wikipedia.org/wiki/Logit"
      ]
    },
    {
      "cell_type": "code",
      "execution_count": null,
      "id": "dce74501",
      "metadata": {
        "id": "dce74501",
        "outputId": "58cfacd3-af1d-4722-d147-6f6c4c389518",
        "colab": {
          "base_uri": "https://localhost:8080/",
          "height": 449
        }
      },
      "outputs": [
        {
          "output_type": "display_data",
          "data": {
            "text/plain": [
              "<Figure size 640x480 with 1 Axes>"
            ],
            "image/png": "[encoded data removed]"
          },
          "metadata": {}
        }
      ],
      "source": [
        "# logit curve\n",
        "import matplotlib.pyplot as plt\n",
        "\n",
        "df.plot.scatter(x='p', y='Log Odds', label='Logit Plot', c=df['Log Odds'])\n",
        "plt.show()"
      ]
    },
    {
      "cell_type": "markdown",
      "id": "8777d0fd",
      "metadata": {
        "id": "8777d0fd"
      },
      "source": [
        "### Logit vs Sigmoid\n",
        "\n",
        "The inverse of the logit curve is the inverse-logit or sigmoid function. The sigmoid function transforms the numbers ( -∞ to +∞ ) back to values between 0 and 1.\n",
        "\n",
        "* https://ajaytech.co/python-logistic-regression/"
      ]
    },
    {
      "cell_type": "code",
      "execution_count": null,
      "id": "1848068d",
      "metadata": {
        "id": "1848068d",
        "outputId": "9a7eebe0-0134-439a-bd3b-fabf600be87d",
        "colab": {
          "base_uri": "https://localhost:8080/",
          "height": 449
        }
      },
      "outputs": [
        {
          "output_type": "display_data",
          "data": {
            "text/plain": [
              "<Figure size 640x480 with 1 Axes>"
            ],
            "image/png": "[encoded data removed]"
          },
          "metadata": {}
        }
      ],
      "source": [
        "import matplotlib.pyplot as plt\n",
        "\n",
        "df.plot.scatter(x='Log Odds', y='p', marker='.', s=.5, label='Sigmoid X values', c=df['Log Odds'])\n",
        "plt.axhline(y=.5, color='red', linestyle='dashed', label='Threshold')\n",
        "plt.axvline(x=0, color='green', linestyle='dashed', label='Sigmoid Midpoint')\n",
        "plt.legend()\n",
        "plt.show()"
      ]
    },
    {
      "cell_type": "markdown",
      "id": "6b713fcc",
      "metadata": {
        "id": "6b713fcc"
      },
      "source": [
        "* Logistic regression algorithm: $f(x) = \\large{\\frac{1}{1 + e^{-x}}}$\n",
        "* x = $\\beta_0 + \\beta_1X_1 + \\beta_2X_2$\n",
        "* If $x > 0$ then $\\frac{1}{1 + e^{-x}} > .5$\n",
        "* If $x < 0$ then $\\frac{1}{1 + e^{-x}} < .5$"
      ]
    },
    {
      "cell_type": "markdown",
      "id": "9db01dff",
      "metadata": {
        "id": "9db01dff"
      },
      "source": [
        "## Common Functions Used in Data Science\n",
        "\n",
        "https://deeplearningcourses.com/c/calculus-data-science"
      ]
    },
    {
      "cell_type": "code",
      "execution_count": null,
      "id": "84cd1c7a",
      "metadata": {
        "id": "84cd1c7a",
        "outputId": "dd06c302-6162-4af5-f9b4-ce38a9049b26",
        "colab": {
          "base_uri": "https://localhost:8080/",
          "height": 430
        }
      },
      "outputs": [
        {
          "output_type": "display_data",
          "data": {
            "text/plain": [
              "<Figure size 640x480 with 1 Axes>"
            ],
            "image/png": "[encoded data removed]"
          },
          "metadata": {}
        }
      ],
      "source": [
        "# the line\n",
        "import numpy as np\n",
        "import matplotlib.pyplot as plt\n",
        "\n",
        "x = np.linspace(-5, 5, 100)\n",
        "y = 0.5 * x + 1\n",
        "plt.axhline(y=0, color='k')\n",
        "plt.axvline(x=0, color='k')\n",
        "plt.grid()\n",
        "plt.plot(x, y);"
      ]
    },
    {
      "cell_type": "markdown",
      "source": [
        "### Quadratic"
      ],
      "metadata": {
        "id": "bqkgpY3dLvNG"
      },
      "id": "bqkgpY3dLvNG"
    },
    {
      "cell_type": "code",
      "execution_count": null,
      "id": "0503d586",
      "metadata": {
        "id": "0503d586",
        "outputId": "2660722b-17ae-414c-8c84-ef5988476656",
        "colab": {
          "base_uri": "https://localhost:8080/",
          "height": 430
        }
      },
      "outputs": [
        {
          "output_type": "display_data",
          "data": {
            "text/plain": [
              "<Figure size 640x480 with 1 Axes>"
            ],
            "image/png": "[encoded data removed]"
          },
          "metadata": {}
        }
      ],
      "source": [
        "# quadratic\n",
        "x = np.linspace(-2, 2, 100)\n",
        "y = x ** 2\n",
        "plt.axhline(y=0, color='k')\n",
        "plt.axvline(x=0, color='k')\n",
        "plt.grid()\n",
        "plt.plot(x, y);"
      ]
    },
    {
      "cell_type": "markdown",
      "source": [
        "### Exponential"
      ],
      "metadata": {
        "id": "qI_5FPevLxq7"
      },
      "id": "qI_5FPevLxq7"
    },
    {
      "cell_type": "code",
      "execution_count": null,
      "id": "8d01aaec",
      "metadata": {
        "id": "8d01aaec",
        "outputId": "2fd0b9e7-a672-4dbb-ec15-3ba40fcd0f22",
        "colab": {
          "base_uri": "https://localhost:8080/",
          "height": 430
        }
      },
      "outputs": [
        {
          "output_type": "display_data",
          "data": {
            "text/plain": [
              "<Figure size 640x480 with 1 Axes>"
            ],
            "image/png": "[encoded data removed]"
          },
          "metadata": {}
        }
      ],
      "source": [
        "# exponential\n",
        "x = np.linspace(-5, 5, 100)\n",
        "y = np.exp(x)\n",
        "plt.axhline(y=0, color='k')\n",
        "plt.axvline(x=0, color='k')\n",
        "plt.grid()\n",
        "plt.plot(x, y);"
      ]
    },
    {
      "cell_type": "markdown",
      "source": [
        "### Log Base e"
      ],
      "metadata": {
        "id": "68kU9y7wL0KI"
      },
      "id": "68kU9y7wL0KI"
    },
    {
      "cell_type": "code",
      "execution_count": null,
      "id": "2ea4b3b7",
      "metadata": {
        "id": "2ea4b3b7",
        "outputId": "712cffbb-c628-489e-f8e1-f2af0148fe77",
        "colab": {
          "base_uri": "https://localhost:8080/",
          "height": 430
        }
      },
      "outputs": [
        {
          "output_type": "display_data",
          "data": {
            "text/plain": [
              "<Figure size 640x480 with 1 Axes>"
            ],
            "image/png": "[encoded data removed]"
          },
          "metadata": {}
        }
      ],
      "source": [
        "# log base e (natural log)\n",
        "x = np.linspace(0.0000001, 10, 200)\n",
        "y = np.log(x)\n",
        "plt.axhline(y=0, color='k')\n",
        "plt.axvline(x=0, color='k')\n",
        "plt.grid()\n",
        "plt.plot(x, y);"
      ]
    },
    {
      "cell_type": "markdown",
      "id": "fe843f1b",
      "metadata": {
        "id": "fe843f1b"
      },
      "source": [
        "### Trigonometric\n",
        "\n",
        "https://www.mathsisfun.com/algebra/trigonometry-index.html\n",
        "\n",
        "<img src='https://www.mathsisfun.com/algebra/images/sin-cos-tan.svg' alt='sin cos tan' />"
      ]
    },
    {
      "cell_type": "code",
      "execution_count": null,
      "id": "d80974f6",
      "metadata": {
        "id": "d80974f6",
        "outputId": "58d63866-93b1-4e29-ad27-b700b249ebe3",
        "colab": {
          "base_uri": "https://localhost:8080/",
          "height": 430
        }
      },
      "outputs": [
        {
          "output_type": "display_data",
          "data": {
            "text/plain": [
              "<Figure size 640x480 with 1 Axes>"
            ],
            "image/png": "[encoded data removed]"
          },
          "metadata": {}
        }
      ],
      "source": [
        "# sine\n",
        "x = np.linspace(-5 * np.pi, 5 * np.pi, 200)\n",
        "y = np.sin(x)\n",
        "plt.axhline(y=0, color='k')\n",
        "plt.axvline(x=0, color='k')\n",
        "plt.grid()\n",
        "plt.plot(x, y);"
      ]
    },
    {
      "cell_type": "code",
      "execution_count": null,
      "id": "e5ca4e04",
      "metadata": {
        "id": "e5ca4e04",
        "outputId": "4d26ed8a-365c-4238-f667-496f307c8d59",
        "colab": {
          "base_uri": "https://localhost:8080/",
          "height": 430
        }
      },
      "outputs": [
        {
          "output_type": "display_data",
          "data": {
            "text/plain": [
              "<Figure size 640x480 with 1 Axes>"
            ],
            "image/png": "[encoded data removed]"
          },
          "metadata": {}
        }
      ],
      "source": [
        "# cosine\n",
        "x = np.linspace(-2 * np.pi, 2 * np.pi, 200)\n",
        "y = np.sin(x)\n",
        "y2 = np.cos(x)\n",
        "plt.axhline(y=0, color='k')\n",
        "plt.axvline(x=0, color='k')\n",
        "plt.grid()\n",
        "plt.plot(x, y, label='sin');\n",
        "plt.plot(x, y2, label='cos');\n",
        "plt.legend();"
      ]
    },
    {
      "cell_type": "code",
      "execution_count": null,
      "id": "fc37bbb8",
      "metadata": {
        "id": "fc37bbb8",
        "outputId": "85af847e-43f3-44a9-e3b2-ef80da53636e",
        "colab": {
          "base_uri": "https://localhost:8080/",
          "height": 430
        }
      },
      "outputs": [
        {
          "output_type": "display_data",
          "data": {
            "text/plain": [
              "<Figure size 640x480 with 1 Axes>"
            ],
            "image/png": "[encoded data removed]"
          },
          "metadata": {}
        }
      ],
      "source": [
        "# tan - https://stackoverflow.com/questions/54505852/how-to-plot-tanx-with-pyplot-and-numpy\n",
        "# sin / cos\n",
        "x = np.linspace(-2 * np.pi, 2 * np.pi, 1000)\n",
        "plt.plot(x, np.tan(x))\n",
        "plt.ylim(-5, 5);"
      ]
    },
    {
      "cell_type": "code",
      "execution_count": null,
      "id": "5dda17f3",
      "metadata": {
        "id": "5dda17f3",
        "outputId": "1b29c7a1-41e7-4eaa-80ec-cd391ce4c4b2",
        "colab": {
          "base_uri": "https://localhost:8080/",
          "height": 432
        }
      },
      "outputs": [
        {
          "output_type": "display_data",
          "data": {
            "text/plain": [
              "<Figure size 640x480 with 1 Axes>"
            ],
            "image/png": "[encoded data removed]"
          },
          "metadata": {}
        }
      ],
      "source": [
        "# sinh and cosh (hyperbolic)\n",
        "x = np.linspace(-5, 5, 100)\n",
        "y = np.sinh(x)\n",
        "y2 = np.cosh(x)\n",
        "plt.axhline(y=0, color='k')\n",
        "plt.axvline(x=0, color='k')\n",
        "plt.grid()\n",
        "plt.plot(x, y2, label='cosh', linewidth=5);\n",
        "plt.plot(x, y, label='sinh');\n",
        "plt.legend();"
      ]
    },
    {
      "cell_type": "markdown",
      "id": "a337a642",
      "metadata": {
        "id": "a337a642"
      },
      "source": [
        "## The Confusion Matrix\n",
        "\n",
        "Suppose we have some tabular data and each observation is labeled either a 0 or 1. Our goal is to create a model and predict whether new data will be labelled a 0 or a 1.\n",
        "\n",
        "**True Positive (TP)**: An outcome that is labeled 1 and in reality is a 1\n",
        "\n",
        "**False Positive (FP)**: An outcome that labeled 1 and in reality is a 0\n",
        "\n",
        "**True Negative (TN)**: An outcome that is labeled 0 and in reality is a 0\n",
        "\n",
        "**False Negative (FN)**: An outcome that is labeled 0 and in reality is a 1\n",
        "\n",
        "**Accuracy**: (TP + TN) / (TP + FP + TN + FN)\n",
        "\n",
        "**Precision**: TP / (TP + FP), a measure of quality\n",
        "\n",
        "**Recall**: TP / (TP + FN), a measure of quantity\n",
        "\n",
        "### Type I and Type II Errors\n",
        "\n",
        "https://towardsdatascience.com/statistics-for-data-scientists-f2456d26c5a5\n",
        "\n",
        "Type I Error means rejecting the True null hypothesis and accepting the alternate hypothesis. It is a false positive. A smoke detector detecting smoke when there is no smoke.\n",
        "Type II Error means accepting the null hypothesis when an alternate hypothesis is true. It is a false negative. When fire alarm fails to detect fire.\n",
        "\n",
        "### Alpha and Beta Level\n",
        "\n",
        "Alpha level is also known as the significance level, α. It is the probability of making the wrong decision,i.e., rejecting the null hypothesis when it is true. Low alpha levels mean that we need strong evidence to be able to reject the null hypothesis. This means that alpha level of 1% requires more statistical evidence than 5%.\n",
        "\n",
        "Why is 0.05 (5%) used as significance level so commonly?\n",
        "\n",
        "The smaller the alpha level, the little is the chance to reject True Null hypothesis. And, also the smaller is the chance to reject the False null hypothesis, because of the tiny area. The more you try to avoid Type I Error, the more you are likely to make a Type II Error.\n",
        "\n",
        "A confidence level is 1 - α, which means accepting the null hypothesis when it is True.\n",
        "Beta level means the probability of making a Type II Error, i.e., rejecting the Alternate hypothesis when it is True.\n",
        "\n",
        "### Confustion Matrix\n",
        "\n",
        "In the field of machine learning and specifically the problem of statistical classification, a confusion matrix, also known as an error matrix, is a specific table layout that allows visualization of the performance of an algorithm, typically a supervised learning one (in unsupervised learning it is usually called a matching matrix)... It is a special kind of contingency table, with two dimensions (\"actual\" and \"predicted\"), and identical sets of \"classes\" in both dimensions (each combination of dimension and class is a variable in the contingency table). They provide our True Negatives, False Positives, False Negatives, and True Positives, from which we derive Accuracy, Precision, and Recall.\n",
        "\n",
        "https://en.wikipedia.org/wiki/Confusion_matrix\n",
        "\n",
        "**Note**: Because of the of the output sklearn provides, we will structure our table different from what Wikipedia says."
      ]
    },
    {
      "cell_type": "markdown",
      "id": "08213710",
      "metadata": {
        "id": "08213710"
      },
      "source": [
        "Confused? Please be aware of the distinction. In this course we will be using the sklearn matrix. There is a way to change the rows and columns to match Wikipedia's matrix by adding labels: confusion_matrix(y_test, predictions, labels=\\[1, 0\\])."
      ]
    },
    {
      "cell_type": "code",
      "execution_count": null,
      "id": "e88e170c",
      "metadata": {
        "id": "e88e170c",
        "outputId": "a727e48b-7675-468a-e900-2247a51b527d",
        "colab": {
          "base_uri": "https://localhost:8080/",
          "height": 206
        }
      },
      "outputs": [
        {
          "output_type": "execute_result",
          "data": {
            "text/plain": [
              "   Feature_1  Feature_2  Target\n",
              "0  -1.355723   0.932216       0\n",
              "1  -1.448966   0.628289       0\n",
              "2  -0.259349  -0.792658       0\n",
              "3   0.815272  -0.205096       1\n",
              "4   1.430197   1.342170       1"
            ],
            "text/html": [
              "\n",
              "  <div id=\"df-f1d86e43-620c-49a5-9143-9474c27ee7b3\" class=\"colab-df-container\">\n",
              "    <div>\n",
              "<style scoped>\n",
              "    .dataframe tbody tr th:only-of-type {\n",
              "        vertical-align: middle;\n",
              "    }\n",
              "\n",
              "    .dataframe tbody tr th {\n",
              "        vertical-align: top;\n",
              "    }\n",
              "\n",
              "    .dataframe thead th {\n",
              "        text-align: right;\n",
              "    }\n",
              "</style>\n",
              "<table border=\"1\" class=\"dataframe\">\n",
              "  <thead>\n",
              "    <tr style=\"text-align: right;\">\n",
              "      <th></th>\n",
              "      <th>Feature_1</th>\n",
              "      <th>Feature_2</th>\n",
              "      <th>Target</th>\n",
              "    </tr>\n",
              "  </thead>\n",
              "  <tbody>\n",
              "    <tr>\n",
              "      <th>0</th>\n",
              "      <td>-1.355723</td>\n",
              "      <td>0.932216</td>\n",
              "      <td>0</td>\n",
              "    </tr>\n",
              "    <tr>\n",
              "      <th>1</th>\n",
              "      <td>-1.448966</td>\n",
              "      <td>0.628289</td>\n",
              "      <td>0</td>\n",
              "    </tr>\n",
              "    <tr>\n",
              "      <th>2</th>\n",
              "      <td>-0.259349</td>\n",
              "      <td>-0.792658</td>\n",
              "      <td>0</td>\n",
              "    </tr>\n",
              "    <tr>\n",
              "      <th>3</th>\n",
              "      <td>0.815272</td>\n",
              "      <td>-0.205096</td>\n",
              "      <td>1</td>\n",
              "    </tr>\n",
              "    <tr>\n",
              "      <th>4</th>\n",
              "      <td>1.430197</td>\n",
              "      <td>1.342170</td>\n",
              "      <td>1</td>\n",
              "    </tr>\n",
              "  </tbody>\n",
              "</table>\n",
              "</div>\n",
              "    <div class=\"colab-df-buttons\">\n",
              "\n",
              "  <div class=\"colab-df-container\">\n",
              "    <button class=\"colab-df-convert\" onclick=\"convertToInteractive('df-f1d86e43-620c-49a5-9143-9474c27ee7b3')\"\n",
              "            title=\"Convert this dataframe to an interactive table.\"\n",
              "            style=\"display:none;\">\n",
              "\n",
              "  <svg xmlns=\"http://www.w3.org/2000/svg\" height=\"24px\" viewBox=\"0 -960 960 960\">\n",
              "    <path d=\"M120-120v-720h720v720H120Zm60-500h600v-160H180v160Zm220 220h160v-160H400v160Zm0 220h160v-160H400v160ZM180-400h160v-160H180v160Zm440 0h160v-160H620v160ZM180-180h160v-160H180v160Zm440 0h160v-160H620v160Z\"/>\n",
              "  </svg>\n",
              "    </button>\n",
              "\n",
              "  <style>\n",
              "    .colab-df-container {\n",
              "      display:flex;\n",
              "      gap: 12px;\n",
              "    }\n",
              "\n",
              "    .colab-df-convert {\n",
              "      background-color: #E8F0FE;\n",
              "      border: none;\n",
              "      border-radius: 50%;\n",
              "      cursor: pointer;\n",
              "      display: none;\n",
              "      fill: #1967D2;\n",
              "      height: 32px;\n",
              "      padding: 0 0 0 0;\n",
              "      width: 32px;\n",
              "    }\n",
              "\n",
              "    .colab-df-convert:hover {\n",
              "      background-color: #E2EBFA;\n",
              "      box-shadow: 0px 1px 2px rgba(60, 64, 67, 0.3), 0px 1px 3px 1px rgba(60, 64, 67, 0.15);\n",
              "      fill: #174EA6;\n",
              "    }\n",
              "\n",
              "    .colab-df-buttons div {\n",
              "      margin-bottom: 4px;\n",
              "    }\n",
              "\n",
              "    [theme=dark] .colab-df-convert {\n",
              "      background-color: #3B4455;\n",
              "      fill: #D2E3FC;\n",
              "    }\n",
              "\n",
              "    [theme=dark] .colab-df-convert:hover {\n",
              "      background-color: #434B5C;\n",
              "      box-shadow: 0px 1px 3px 1px rgba(0, 0, 0, 0.15);\n",
              "      filter: drop-shadow(0px 1px 2px rgba(0, 0, 0, 0.3));\n",
              "      fill: #FFFFFF;\n",
              "    }\n",
              "  </style>\n",
              "\n",
              "    <script>\n",
              "      const buttonEl =\n",
              "        document.querySelector('#df-f1d86e43-620c-49a5-9143-9474c27ee7b3 button.colab-df-convert');\n",
              "      buttonEl.style.display =\n",
              "        google.colab.kernel.accessAllowed ? 'block' : 'none';\n",
              "\n",
              "      async function convertToInteractive(key) {\n",
              "        const element = document.querySelector('#df-f1d86e43-620c-49a5-9143-9474c27ee7b3');\n",
              "        const dataTable =\n",
              "          await google.colab.kernel.invokeFunction('convertToInteractive',\n",
              "                                                    [key], {});\n",
              "        if (!dataTable) return;\n",
              "\n",
              "        const docLinkHtml = 'Like what you see? Visit the ' +\n",
              "          '<a target=\"_blank\" href=https://colab.research.google.com/notebooks/data_table.ipynb>data table notebook</a>'\n",
              "          + ' to learn more about interactive tables.';\n",
              "        element.innerHTML = '';\n",
              "        dataTable['output_type'] = 'display_data';\n",
              "        await google.colab.output.renderOutput(dataTable, element);\n",
              "        const docLink = document.createElement('div');\n",
              "        docLink.innerHTML = docLinkHtml;\n",
              "        element.appendChild(docLink);\n",
              "      }\n",
              "    </script>\n",
              "  </div>\n",
              "\n",
              "\n",
              "<div id=\"df-eb354a8e-6fcb-4770-a351-a96e2b85378e\">\n",
              "  <button class=\"colab-df-quickchart\" onclick=\"quickchart('df-eb354a8e-6fcb-4770-a351-a96e2b85378e')\"\n",
              "            title=\"Suggest charts\"\n",
              "            style=\"display:none;\">\n",
              "\n",
              "<svg xmlns=\"http://www.w3.org/2000/svg\" height=\"24px\"viewBox=\"0 0 24 24\"\n",
              "     width=\"24px\">\n",
              "    <g>\n",
              "        <path d=\"M19 3H5c-1.1 0-2 .9-2 2v14c0 1.1.9 2 2 2h14c1.1 0 2-.9 2-2V5c0-1.1-.9-2-2-2zM9 17H7v-7h2v7zm4 0h-2V7h2v10zm4 0h-2v-4h2v4z\"/>\n",
              "    </g>\n",
              "</svg>\n",
              "  </button>\n",
              "\n",
              "<style>\n",
              "  .colab-df-quickchart {\n",
              "      --bg-color: #E8F0FE;\n",
              "      --fill-color: #1967D2;\n",
              "      --hover-bg-color: #E2EBFA;\n",
              "      --hover-fill-color: #174EA6;\n",
              "      --disabled-fill-color: #AAA;\n",
              "      --disabled-bg-color: #DDD;\n",
              "  }\n",
              "\n",
              "  [theme=dark] .colab-df-quickchart {\n",
              "      --bg-color: #3B4455;\n",
              "      --fill-color: #D2E3FC;\n",
              "      --hover-bg-color: #434B5C;\n",
              "      --hover-fill-color: #FFFFFF;\n",
              "      --disabled-bg-color: #3B4455;\n",
              "      --disabled-fill-color: #666;\n",
              "  }\n",
              "\n",
              "  .colab-df-quickchart {\n",
              "    background-color: var(--bg-color);\n",
              "    border: none;\n",
              "    border-radius: 50%;\n",
              "    cursor: pointer;\n",
              "    display: none;\n",
              "    fill: var(--fill-color);\n",
              "    height: 32px;\n",
              "    padding: 0;\n",
              "    width: 32px;\n",
              "  }\n",
              "\n",
              "  .colab-df-quickchart:hover {\n",
              "    background-color: var(--hover-bg-color);\n",
              "    box-shadow: 0 1px 2px rgba(60, 64, 67, 0.3), 0 1px 3px 1px rgba(60, 64, 67, 0.15);\n",
              "    fill: var(--button-hover-fill-color);\n",
              "  }\n",
              "\n",
              "  .colab-df-quickchart-complete:disabled,\n",
              "  .colab-df-quickchart-complete:disabled:hover {\n",
              "    background-color: var(--disabled-bg-color);\n",
              "    fill: var(--disabled-fill-color);\n",
              "    box-shadow: none;\n",
              "  }\n",
              "\n",
              "  .colab-df-spinner {\n",
              "    border: 2px solid var(--fill-color);\n",
              "    border-color: transparent;\n",
              "    border-bottom-color: var(--fill-color);\n",
              "    animation:\n",
              "      spin 1s steps(1) infinite;\n",
              "  }\n",
              "\n",
              "  @keyframes spin {\n",
              "    0% {\n",
              "      border-color: transparent;\n",
              "      border-bottom-color: var(--fill-color);\n",
              "      border-left-color: var(--fill-color);\n",
              "    }\n",
              "    20% {\n",
              "      border-color: transparent;\n",
              "      border-left-color: var(--fill-color);\n",
              "      border-top-color: var(--fill-color);\n",
              "    }\n",
              "    30% {\n",
              "      border-color: transparent;\n",
              "      border-left-color: var(--fill-color);\n",
              "      border-top-color: var(--fill-color);\n",
              "      border-right-color: var(--fill-color);\n",
              "    }\n",
              "    40% {\n",
              "      border-color: transparent;\n",
              "      border-right-color: var(--fill-color);\n",
              "      border-top-color: var(--fill-color);\n",
              "    }\n",
              "    60% {\n",
              "      border-color: transparent;\n",
              "      border-right-color: var(--fill-color);\n",
              "    }\n",
              "    80% {\n",
              "      border-color: transparent;\n",
              "      border-right-color: var(--fill-color);\n",
              "      border-bottom-color: var(--fill-color);\n",
              "    }\n",
              "    90% {\n",
              "      border-color: transparent;\n",
              "      border-bottom-color: var(--fill-color);\n",
              "    }\n",
              "  }\n",
              "</style>\n",
              "\n",
              "  <script>\n",
              "    async function quickchart(key) {\n",
              "      const quickchartButtonEl =\n",
              "        document.querySelector('#' + key + ' button');\n",
              "      quickchartButtonEl.disabled = true;  // To prevent multiple clicks.\n",
              "      quickchartButtonEl.classList.add('colab-df-spinner');\n",
              "      try {\n",
              "        const charts = await google.colab.kernel.invokeFunction(\n",
              "            'suggestCharts', [key], {});\n",
              "      } catch (error) {\n",
              "        console.error('Error during call to suggestCharts:', error);\n",
              "      }\n",
              "      quickchartButtonEl.classList.remove('colab-df-spinner');\n",
              "      quickchartButtonEl.classList.add('colab-df-quickchart-complete');\n",
              "    }\n",
              "    (() => {\n",
              "      let quickchartButtonEl =\n",
              "        document.querySelector('#df-eb354a8e-6fcb-4770-a351-a96e2b85378e button');\n",
              "      quickchartButtonEl.style.display =\n",
              "        google.colab.kernel.accessAllowed ? 'block' : 'none';\n",
              "    })();\n",
              "  </script>\n",
              "</div>\n",
              "\n",
              "    </div>\n",
              "  </div>\n"
            ],
            "application/vnd.google.colaboratory.intrinsic+json": {
              "type": "dataframe",
              "variable_name": "df",
              "summary": "{\n  \"name\": \"df\",\n  \"rows\": 1000,\n  \"fields\": [\n    {\n      \"column\": \"Feature_1\",\n      \"properties\": {\n        \"dtype\": \"number\",\n        \"std\": 1.4046250431162741,\n        \"min\": -4.2942513217687175,\n        \"max\": 3.121590939320713,\n        \"num_unique_values\": 1000,\n        \"samples\": [\n          1.2134743307881093,\n          1.4457053601756988,\n          -2.768989442665923\n        ],\n        \"semantic_type\": \"\",\n        \"description\": \"\"\n      }\n    },\n    {\n      \"column\": \"Feature_2\",\n      \"properties\": {\n        \"dtype\": \"number\",\n        \"std\": 1.0366145843927108,\n        \"min\": -2.259024508484018,\n        \"max\": 4.295845438104047,\n        \"num_unique_values\": 1000,\n        \"samples\": [\n          0.3258809595165969,\n          1.8082290550746918,\n          1.4634665518739447\n        ],\n        \"semantic_type\": \"\",\n        \"description\": \"\"\n      }\n    },\n    {\n      \"column\": \"Target\",\n      \"properties\": {\n        \"dtype\": \"number\",\n        \"std\": 0,\n        \"min\": 0,\n        \"max\": 1,\n        \"num_unique_values\": 2,\n        \"samples\": [\n          1,\n          0\n        ],\n        \"semantic_type\": \"\",\n        \"description\": \"\"\n      }\n    }\n  ]\n}"
            }
          },
          "metadata": {},
          "execution_count": 23
        }
      ],
      "source": [
        "# Create dataset\n",
        "n = 1000 # number of observations\n",
        "f = 2 # number of features\n",
        "inform = 2 # number of meaningful features\n",
        "features, binary_class = make_classification(n_samples=n, n_features=f,\n",
        "                                             n_informative=inform, n_redundant=0,\n",
        "                                             n_clusters_per_class=1, random_state=13)\n",
        "\n",
        "# Create a dataframe of the features and add the binary class (label, output)\n",
        "df = pd.DataFrame(features)\n",
        "df.columns = ['Feature_1', 'Feature_2']\n",
        "df['Target'] = binary_class\n",
        "df.head()"
      ]
    },
    {
      "cell_type": "code",
      "execution_count": null,
      "id": "6a61283f",
      "metadata": {
        "id": "6a61283f"
      },
      "outputs": [],
      "source": [
        "# X_train, X_test split\n",
        "X_train, X_test, y_train, y_test = train_test_split(df.drop('Target', axis=1), df['Target'], test_size=0.20)\n",
        "\n",
        "from sklearn.preprocessing import StandardScaler\n",
        "sc = StandardScaler()\n",
        "X_train = sc.fit_transform(X_train)\n",
        "X_test = sc.transform(X_test)"
      ]
    },
    {
      "cell_type": "code",
      "execution_count": null,
      "id": "66005c9b",
      "metadata": {
        "id": "66005c9b"
      },
      "outputs": [],
      "source": [
        "# Create model\n",
        "from sklearn.linear_model import LogisticRegression\n",
        "\n",
        "model = LogisticRegression(solver='liblinear')\n",
        "model.fit(X_train,y_train)\n",
        "predictions = model.predict(X_test)"
      ]
    },
    {
      "cell_type": "markdown",
      "id": "66b7e244",
      "metadata": {
        "id": "66b7e244"
      },
      "source": [
        "**The Solver (liblinear)**: Solvers are used to minimize the loss function which in turn provides our best coefficients. Please see the documentation to learn about the five different solvers.\n",
        "\n",
        "https://scikit-learn.org/stable/modules/generated/sklearn.linear_model.LogisticRegression.html\n"
      ]
    },
    {
      "cell_type": "code",
      "execution_count": null,
      "id": "0d6c34b5",
      "metadata": {
        "id": "0d6c34b5",
        "outputId": "5139d44f-65b6-4aea-a045-cd584a1c1c96",
        "colab": {
          "base_uri": "https://localhost:8080/"
        }
      },
      "outputs": [
        {
          "output_type": "stream",
          "name": "stdout",
          "text": [
            "Confusion Matrix\n",
            "[[90 10]\n",
            " [ 9 91]]\n",
            "\n",
            "Here is what the numbers represent from the sklLearn output\n",
            "\n",
            "                 predicted\n",
            "                   |  0  |  1\n",
            "           --------------------\n",
            "           class 0 | TN  |  FP\n",
            "  actual   --------------------\n",
            "           class 1 | FN  |  TP\n",
            "\n",
            "\n",
            "Here is what the numbers represent from the Wikipedia article\n",
            "\n",
            "                 actual\n",
            "                   |  1  |  0\n",
            "           --------------------\n",
            "           class 1 | TP  |  FP\n",
            "predicted  --------------------\n",
            "           class 0 | FN  |  TN\n",
            "\n"
          ]
        }
      ],
      "source": [
        "# View confusion matrix\n",
        "from sklearn.metrics import roc_curve, roc_auc_score, confusion_matrix, classification_report\n",
        "\n",
        "tn, fp, fn, tp = confusion_matrix(y_test, predictions).ravel()\n",
        "print('Confusion Matrix')\n",
        "print(confusion_matrix(y_test, predictions))\n",
        "print()\n",
        "print('Here is what the numbers represent from the sklLearn output')\n",
        "print('''\n",
        "                 predicted\n",
        "                   |  0  |  1\n",
        "           --------------------\n",
        "           class 0 | TN  |  FP\n",
        "  actual   --------------------\n",
        "           class 1 | FN  |  TP\n",
        "''')\n",
        "print()\n",
        "print('Here is what the numbers represent from the Wikipedia article')\n",
        "print('''\n",
        "                 actual\n",
        "                   |  1  |  0\n",
        "           --------------------\n",
        "           class 1 | TP  |  FP\n",
        "predicted  --------------------\n",
        "           class 0 | FN  |  TN\n",
        "''')"
      ]
    },
    {
      "cell_type": "code",
      "execution_count": null,
      "id": "f7f60915",
      "metadata": {
        "id": "f7f60915",
        "outputId": "c3464628-9113-407b-9e09-0cd49f39c2ae",
        "colab": {
          "base_uri": "https://localhost:8080/",
          "height": 174
        }
      },
      "outputs": [
        {
          "output_type": "execute_result",
          "data": {
            "text/plain": [
              "Predicted   0    1  All\n",
              "Actual                 \n",
              "0          90   10  100\n",
              "1           9   91  100\n",
              "All        99  101  200"
            ],
            "text/html": [
              "\n",
              "  <div id=\"df-5ee756ac-aa01-4266-b7bd-b85e04832a3e\" class=\"colab-df-container\">\n",
              "    <div>\n",
              "<style scoped>\n",
              "    .dataframe tbody tr th:only-of-type {\n",
              "        vertical-align: middle;\n",
              "    }\n",
              "\n",
              "    .dataframe tbody tr th {\n",
              "        vertical-align: top;\n",
              "    }\n",
              "\n",
              "    .dataframe thead th {\n",
              "        text-align: right;\n",
              "    }\n",
              "</style>\n",
              "<table border=\"1\" class=\"dataframe\">\n",
              "  <thead>\n",
              "    <tr style=\"text-align: right;\">\n",
              "      <th>Predicted</th>\n",
              "      <th>0</th>\n",
              "      <th>1</th>\n",
              "      <th>All</th>\n",
              "    </tr>\n",
              "    <tr>\n",
              "      <th>Actual</th>\n",
              "      <th></th>\n",
              "      <th></th>\n",
              "      <th></th>\n",
              "    </tr>\n",
              "  </thead>\n",
              "  <tbody>\n",
              "    <tr>\n",
              "      <th>0</th>\n",
              "      <td>90</td>\n",
              "      <td>10</td>\n",
              "      <td>100</td>\n",
              "    </tr>\n",
              "    <tr>\n",
              "      <th>1</th>\n",
              "      <td>9</td>\n",
              "      <td>91</td>\n",
              "      <td>100</td>\n",
              "    </tr>\n",
              "    <tr>\n",
              "      <th>All</th>\n",
              "      <td>99</td>\n",
              "      <td>101</td>\n",
              "      <td>200</td>\n",
              "    </tr>\n",
              "  </tbody>\n",
              "</table>\n",
              "</div>\n",
              "    <div class=\"colab-df-buttons\">\n",
              "\n",
              "  <div class=\"colab-df-container\">\n",
              "    <button class=\"colab-df-convert\" onclick=\"convertToInteractive('df-5ee756ac-aa01-4266-b7bd-b85e04832a3e')\"\n",
              "            title=\"Convert this dataframe to an interactive table.\"\n",
              "            style=\"display:none;\">\n",
              "\n",
              "  <svg xmlns=\"http://www.w3.org/2000/svg\" height=\"24px\" viewBox=\"0 -960 960 960\">\n",
              "    <path d=\"M120-120v-720h720v720H120Zm60-500h600v-160H180v160Zm220 220h160v-160H400v160Zm0 220h160v-160H400v160ZM180-400h160v-160H180v160Zm440 0h160v-160H620v160ZM180-180h160v-160H180v160Zm440 0h160v-160H620v160Z\"/>\n",
              "  </svg>\n",
              "    </button>\n",
              "\n",
              "  <style>\n",
              "    .colab-df-container {\n",
              "      display:flex;\n",
              "      gap: 12px;\n",
              "    }\n",
              "\n",
              "    .colab-df-convert {\n",
              "      background-color: #E8F0FE;\n",
              "      border: none;\n",
              "      border-radius: 50%;\n",
              "      cursor: pointer;\n",
              "      display: none;\n",
              "      fill: #1967D2;\n",
              "      height: 32px;\n",
              "      padding: 0 0 0 0;\n",
              "      width: 32px;\n",
              "    }\n",
              "\n",
              "    .colab-df-convert:hover {\n",
              "      background-color: #E2EBFA;\n",
              "      box-shadow: 0px 1px 2px rgba(60, 64, 67, 0.3), 0px 1px 3px 1px rgba(60, 64, 67, 0.15);\n",
              "      fill: #174EA6;\n",
              "    }\n",
              "\n",
              "    .colab-df-buttons div {\n",
              "      margin-bottom: 4px;\n",
              "    }\n",
              "\n",
              "    [theme=dark] .colab-df-convert {\n",
              "      background-color: #3B4455;\n",
              "      fill: #D2E3FC;\n",
              "    }\n",
              "\n",
              "    [theme=dark] .colab-df-convert:hover {\n",
              "      background-color: #434B5C;\n",
              "      box-shadow: 0px 1px 3px 1px rgba(0, 0, 0, 0.15);\n",
              "      filter: drop-shadow(0px 1px 2px rgba(0, 0, 0, 0.3));\n",
              "      fill: #FFFFFF;\n",
              "    }\n",
              "  </style>\n",
              "\n",
              "    <script>\n",
              "      const buttonEl =\n",
              "        document.querySelector('#df-5ee756ac-aa01-4266-b7bd-b85e04832a3e button.colab-df-convert');\n",
              "      buttonEl.style.display =\n",
              "        google.colab.kernel.accessAllowed ? 'block' : 'none';\n",
              "\n",
              "      async function convertToInteractive(key) {\n",
              "        const element = document.querySelector('#df-5ee756ac-aa01-4266-b7bd-b85e04832a3e');\n",
              "        const dataTable =\n",
              "          await google.colab.kernel.invokeFunction('convertToInteractive',\n",
              "                                                    [key], {});\n",
              "        if (!dataTable) return;\n",
              "\n",
              "        const docLinkHtml = 'Like what you see? Visit the ' +\n",
              "          '<a target=\"_blank\" href=https://colab.research.google.com/notebooks/data_table.ipynb>data table notebook</a>'\n",
              "          + ' to learn more about interactive tables.';\n",
              "        element.innerHTML = '';\n",
              "        dataTable['output_type'] = 'display_data';\n",
              "        await google.colab.output.renderOutput(dataTable, element);\n",
              "        const docLink = document.createElement('div');\n",
              "        docLink.innerHTML = docLinkHtml;\n",
              "        element.appendChild(docLink);\n",
              "      }\n",
              "    </script>\n",
              "  </div>\n",
              "\n",
              "\n",
              "<div id=\"df-7ed27b7e-82ad-4aba-b471-3165a9a2a486\">\n",
              "  <button class=\"colab-df-quickchart\" onclick=\"quickchart('df-7ed27b7e-82ad-4aba-b471-3165a9a2a486')\"\n",
              "            title=\"Suggest charts\"\n",
              "            style=\"display:none;\">\n",
              "\n",
              "<svg xmlns=\"http://www.w3.org/2000/svg\" height=\"24px\"viewBox=\"0 0 24 24\"\n",
              "     width=\"24px\">\n",
              "    <g>\n",
              "        <path d=\"M19 3H5c-1.1 0-2 .9-2 2v14c0 1.1.9 2 2 2h14c1.1 0 2-.9 2-2V5c0-1.1-.9-2-2-2zM9 17H7v-7h2v7zm4 0h-2V7h2v10zm4 0h-2v-4h2v4z\"/>\n",
              "    </g>\n",
              "</svg>\n",
              "  </button>\n",
              "\n",
              "<style>\n",
              "  .colab-df-quickchart {\n",
              "      --bg-color: #E8F0FE;\n",
              "      --fill-color: #1967D2;\n",
              "      --hover-bg-color: #E2EBFA;\n",
              "      --hover-fill-color: #174EA6;\n",
              "      --disabled-fill-color: #AAA;\n",
              "      --disabled-bg-color: #DDD;\n",
              "  }\n",
              "\n",
              "  [theme=dark] .colab-df-quickchart {\n",
              "      --bg-color: #3B4455;\n",
              "      --fill-color: #D2E3FC;\n",
              "      --hover-bg-color: #434B5C;\n",
              "      --hover-fill-color: #FFFFFF;\n",
              "      --disabled-bg-color: #3B4455;\n",
              "      --disabled-fill-color: #666;\n",
              "  }\n",
              "\n",
              "  .colab-df-quickchart {\n",
              "    background-color: var(--bg-color);\n",
              "    border: none;\n",
              "    border-radius: 50%;\n",
              "    cursor: pointer;\n",
              "    display: none;\n",
              "    fill: var(--fill-color);\n",
              "    height: 32px;\n",
              "    padding: 0;\n",
              "    width: 32px;\n",
              "  }\n",
              "\n",
              "  .colab-df-quickchart:hover {\n",
              "    background-color: var(--hover-bg-color);\n",
              "    box-shadow: 0 1px 2px rgba(60, 64, 67, 0.3), 0 1px 3px 1px rgba(60, 64, 67, 0.15);\n",
              "    fill: var(--button-hover-fill-color);\n",
              "  }\n",
              "\n",
              "  .colab-df-quickchart-complete:disabled,\n",
              "  .colab-df-quickchart-complete:disabled:hover {\n",
              "    background-color: var(--disabled-bg-color);\n",
              "    fill: var(--disabled-fill-color);\n",
              "    box-shadow: none;\n",
              "  }\n",
              "\n",
              "  .colab-df-spinner {\n",
              "    border: 2px solid var(--fill-color);\n",
              "    border-color: transparent;\n",
              "    border-bottom-color: var(--fill-color);\n",
              "    animation:\n",
              "      spin 1s steps(1) infinite;\n",
              "  }\n",
              "\n",
              "  @keyframes spin {\n",
              "    0% {\n",
              "      border-color: transparent;\n",
              "      border-bottom-color: var(--fill-color);\n",
              "      border-left-color: var(--fill-color);\n",
              "    }\n",
              "    20% {\n",
              "      border-color: transparent;\n",
              "      border-left-color: var(--fill-color);\n",
              "      border-top-color: var(--fill-color);\n",
              "    }\n",
              "    30% {\n",
              "      border-color: transparent;\n",
              "      border-left-color: var(--fill-color);\n",
              "      border-top-color: var(--fill-color);\n",
              "      border-right-color: var(--fill-color);\n",
              "    }\n",
              "    40% {\n",
              "      border-color: transparent;\n",
              "      border-right-color: var(--fill-color);\n",
              "      border-top-color: var(--fill-color);\n",
              "    }\n",
              "    60% {\n",
              "      border-color: transparent;\n",
              "      border-right-color: var(--fill-color);\n",
              "    }\n",
              "    80% {\n",
              "      border-color: transparent;\n",
              "      border-right-color: var(--fill-color);\n",
              "      border-bottom-color: var(--fill-color);\n",
              "    }\n",
              "    90% {\n",
              "      border-color: transparent;\n",
              "      border-bottom-color: var(--fill-color);\n",
              "    }\n",
              "  }\n",
              "</style>\n",
              "\n",
              "  <script>\n",
              "    async function quickchart(key) {\n",
              "      const quickchartButtonEl =\n",
              "        document.querySelector('#' + key + ' button');\n",
              "      quickchartButtonEl.disabled = true;  // To prevent multiple clicks.\n",
              "      quickchartButtonEl.classList.add('colab-df-spinner');\n",
              "      try {\n",
              "        const charts = await google.colab.kernel.invokeFunction(\n",
              "            'suggestCharts', [key], {});\n",
              "      } catch (error) {\n",
              "        console.error('Error during call to suggestCharts:', error);\n",
              "      }\n",
              "      quickchartButtonEl.classList.remove('colab-df-spinner');\n",
              "      quickchartButtonEl.classList.add('colab-df-quickchart-complete');\n",
              "    }\n",
              "    (() => {\n",
              "      let quickchartButtonEl =\n",
              "        document.querySelector('#df-7ed27b7e-82ad-4aba-b471-3165a9a2a486 button');\n",
              "      quickchartButtonEl.style.display =\n",
              "        google.colab.kernel.accessAllowed ? 'block' : 'none';\n",
              "    })();\n",
              "  </script>\n",
              "</div>\n",
              "\n",
              "    </div>\n",
              "  </div>\n"
            ],
            "application/vnd.google.colaboratory.intrinsic+json": {
              "type": "dataframe",
              "summary": "{\n  \"name\": \"pd\",\n  \"rows\": 3,\n  \"fields\": [\n    {\n      \"column\": \"Actual\",\n      \"properties\": {\n        \"dtype\": \"string\",\n        \"num_unique_values\": 3,\n        \"samples\": [\n          0,\n          1,\n          \"All\"\n        ],\n        \"semantic_type\": \"\",\n        \"description\": \"\"\n      }\n    },\n    {\n      \"column\": 0,\n      \"properties\": {\n        \"dtype\": \"number\",\n        \"std\": 49,\n        \"min\": 9,\n        \"max\": 99,\n        \"num_unique_values\": 3,\n        \"samples\": [\n          90,\n          9,\n          99\n        ],\n        \"semantic_type\": \"\",\n        \"description\": \"\"\n      }\n    },\n    {\n      \"column\": 1,\n      \"properties\": {\n        \"dtype\": \"number\",\n        \"std\": 49,\n        \"min\": 10,\n        \"max\": 101,\n        \"num_unique_values\": 3,\n        \"samples\": [\n          10,\n          91,\n          101\n        ],\n        \"semantic_type\": \"\",\n        \"description\": \"\"\n      }\n    },\n    {\n      \"column\": \"All\",\n      \"properties\": {\n        \"dtype\": \"number\",\n        \"std\": 57,\n        \"min\": 100,\n        \"max\": 200,\n        \"num_unique_values\": 2,\n        \"samples\": [\n          200,\n          100\n        ],\n        \"semantic_type\": \"\",\n        \"description\": \"\"\n      }\n    }\n  ]\n}"
            }
          },
          "metadata": {},
          "execution_count": 27
        }
      ],
      "source": [
        "# Compare with crosstab\n",
        "pd.crosstab(y_test, predictions, rownames=['Actual'], colnames=['Predicted'],margins=True)"
      ]
    },
    {
      "cell_type": "code",
      "execution_count": null,
      "id": "54508921",
      "metadata": {
        "id": "54508921",
        "outputId": "d3652c22-ca52-450b-cdbc-dcaf1a5acaec",
        "colab": {
          "base_uri": "https://localhost:8080/",
          "height": 472
        }
      },
      "outputs": [
        {
          "output_type": "display_data",
          "data": {
            "text/plain": [
              "<Figure size 640x480 with 1 Axes>"
            ],
            "image/png": "[encoded data removed]"
          },
          "metadata": {}
        }
      ],
      "source": [
        "# review our plot\n",
        "from matplotlib.colors import ListedColormap\n",
        "\n",
        "X_set, y_set = X_test, y_test\n",
        "X1, X2 = np.meshgrid(np.arange(start = X_set[:, 0].min() - 1, stop = X_set[:, 0].max() + 1, step = 0.01),\n",
        "                     np.arange(start = X_set[:, 1].min() - 1, stop = X_set[:, 1].max() + 1, step = 0.01))\n",
        "\n",
        "plt.contourf(X1, X2, model.predict(np.array([X1.ravel(), X2.ravel()]).T).reshape(X1.shape),\n",
        "             alpha = 0.75, cmap = ListedColormap(('green', 'yellow')))\n",
        "\n",
        "plt.xlim(X1.min(), X1.max())\n",
        "plt.ylim(X2.min(), X2.max())\n",
        "\n",
        "for i, j in enumerate(np.unique(y_set)):\n",
        "    plt.scatter(X_set[y_set == j, 0], X_set[y_set == j, 1],\n",
        "                color = ListedColormap(('blue', 'red'))(i), label = j)\n",
        "\n",
        "plt.title('Logistic Regression (Test Set)')\n",
        "plt.xlabel('Domain')\n",
        "plt.ylabel('Range')\n",
        "plt.legend()\n",
        "plt.show()"
      ]
    },
    {
      "cell_type": "code",
      "execution_count": null,
      "id": "85920841",
      "metadata": {
        "id": "85920841",
        "outputId": "b3651798-39de-4093-88b7-5ec3d8f5fe0e",
        "colab": {
          "base_uri": "https://localhost:8080/",
          "height": 416
        }
      },
      "outputs": [
        {
          "output_type": "display_data",
          "data": {
            "text/plain": [
              "<Figure size 1000x500 with 2 Axes>"
            ],
            "image/png": "[encoded data removed]"
          },
          "metadata": {}
        }
      ],
      "source": [
        "# Compare KDE plots for probabilities and normed probabilities\n",
        "import seaborn as sns\n",
        "import scipy\n",
        "\n",
        "import warnings\n",
        "warnings.filterwarnings('ignore')\n",
        "\n",
        "fig, (ax1, ax2) = plt.subplots(1,2, figsize=(10,5))\n",
        "\n",
        "probs=model.predict_proba(X_test)[:,1]\n",
        "sns.kdeplot(probs[y_test==0], shade=False, color='blue', label='Class 0', ax=ax1);\n",
        "sns.kdeplot(probs[y_test==1], shade=False, color='red', label='Class 1', ax=ax1);\n",
        "ax1.axvline(x=.5, color='black')\n",
        "ax1.set_title('Probabilities')\n",
        "ax1.set(xlabel='Probabilities', ylabel='Probability Density')\n",
        "\n",
        "mean = probs[y_test==0].mean()\n",
        "std = probs[y_test==0].std()\n",
        "x = np.linspace(probs[y_test==0].min(), probs[y_test==0].max(), 100)\n",
        "y = scipy.stats.norm.pdf(x,mean,std)\n",
        "ax2.plot(x, y, color='blue', label='Class 0')\n",
        "\n",
        "mean = probs[y_test==1].mean()\n",
        "std = probs[y_test==1].std()\n",
        "x = np.linspace(probs[y_test==1].min(), probs[y_test==1].max(), 100)\n",
        "y = scipy.stats.norm.pdf(x,mean,std)\n",
        "ax2.plot(x, y, color='red', label='Class 1')\n",
        "\n",
        "x_threshold = 0.5\n",
        "ax2.axvline(x=x_threshold,color='black')\n",
        "\n",
        "ax2.set_title('Probabilities (Normalized)')\n",
        "ax2.set(xlabel='Probabilities', ylabel='Probability Density')\n",
        "\n",
        "ax1.legend(loc='upper center')\n",
        "ax2.legend(loc='upper center')\n",
        "plt.tight_layout()\n",
        "plt.show()"
      ]
    },
    {
      "cell_type": "code",
      "execution_count": null,
      "id": "55fa2341",
      "metadata": {
        "id": "55fa2341",
        "outputId": "0b723e69-7216-4839-eb00-cc3ab959f5ee",
        "colab": {
          "base_uri": "https://localhost:8080/",
          "height": 487
        }
      },
      "outputs": [
        {
          "output_type": "display_data",
          "data": {
            "text/plain": [
              "<Figure size 640x480 with 1 Axes>"
            ],
            "image/png": "[encoded data removed]"
          },
          "metadata": {}
        }
      ],
      "source": [
        "# visualize TN, FN, FP, TP\n",
        "import math\n",
        "import matplotlib.patches as mpatches\n",
        "\n",
        "x_threshold = 0.5\n",
        "tn, fp, fn, tp = confusion_matrix(y_test,predictions).ravel()\n",
        "\n",
        "mean_0 = probs[y_test==0].mean()\n",
        "std_0 = probs[y_test==0].std()\n",
        "x_0 = np.linspace(probs[y_test==0].min(), probs[y_test==0].max(), 100)\n",
        "y_0 = scipy.stats.norm.pdf(x_0,mean_0,std_0)\n",
        "\n",
        "mean_1 = probs[y_test==1].mean()\n",
        "std_1 = probs[y_test==1].std()\n",
        "x_1 = np.linspace(probs[y_test==1].min(), probs[y_test==1].max(), 100)\n",
        "y_1 = scipy.stats.norm.pdf(x_1,mean_1,std_1)\n",
        "\n",
        "plt.plot(x_0, y_0, color='black')\n",
        "plt.fill_between(x_0, y_0, color='blue', alpha=1)\n",
        "\n",
        "plt.plot(x,y, color='black')\n",
        "plt.fill_between(x_1, y_1, color='red', alpha=1)\n",
        "\n",
        "ptx_0 = np.linspace(x_threshold, probs[y_test==0].max(), 100)\n",
        "pty_0 = scipy.stats.norm.pdf(ptx_0,mean_0,std_0)\n",
        "plt.fill_between(ptx_0, pty_0, color='yellow', alpha=1)\n",
        "\n",
        "ptx_1 = np.linspace(probs[y_test==1].min(), x_threshold, 100)\n",
        "pty_1 = scipy.stats.norm.pdf(ptx_1,mean_1,std_1)\n",
        "plt.fill_between(ptx_1, pty_1, color='green', alpha=1)\n",
        "\n",
        "tn_patch = mpatches.Patch(color='blue', label='True Negatives (TN): ' + str(tn))\n",
        "fp_patch = mpatches.Patch(color='yellow', label='False Positives (FP): ' + str(fp))\n",
        "fn_patch = mpatches.Patch(color='green', label='False Negatives (FN): ' + str(fn))\n",
        "tp_patch = mpatches.Patch(color='red', label='True Positives (TP): ' + str(tp))\n",
        "plt.legend(handles=[tn_patch,fp_patch,fn_patch,tp_patch], loc=2)\n",
        "\n",
        "plt.title('Probability Distributions with Threshold',fontsize=10)\n",
        "plt.axvline(x=x_threshold,color='black')\n",
        "plt.xlabel('Value')\n",
        "plt.ylabel('Density')\n",
        "\n",
        "plt.tight_layout()"
      ]
    },
    {
      "cell_type": "markdown",
      "id": "de7fb3b2",
      "metadata": {
        "id": "de7fb3b2"
      },
      "source": [
        "### Underfitting and Overfitting\n",
        "\n",
        "In statistics, overfitting is \"the production of an analysis that corresponds too closely or exactly to a particular set of data, and may therefore fail to fit additional data or predict future observations reliably\". An overfitted model is a statistical model that contains more parameters than can be justified by the data.\n",
        "\n",
        "<img src='https://docs.aws.amazon.com/images/machine-learning/latest/dg/images/mlconcepts_image5.png' alt='underfitting overfitting' />\n",
        "\n",
        "https://docs.aws.amazon.com/machine-learning/latest/dg/model-fit-underfitting-vs-overfitting.html\n",
        "\n",
        "If you're overfitting, or you are getting great training scores and poor  test scores, you might be overfitting so try removing the lesser performing features. The model is just memorizing the training data.\n",
        "\n",
        "Underfitting occurs when a statistical model cannot adequately capture the underlying structure of the data. An under-fitted model is a model where some parameters or terms that would appear in a correctly specified model are missing.[2] Under-fitting would occur, for example, when fitting a linear model to non-linear data. Such a model will tend to have poor predictive performance.\n",
        "\n",
        "If you're underfitting, or you are getting poor training scores and test scores, you might be underfitting so try adding more data or more features.\n",
        "\n",
        "https://en.wikipedia.org/wiki/Overfitting"
      ]
    },
    {
      "cell_type": "markdown",
      "id": "958ec329",
      "metadata": {
        "id": "958ec329"
      },
      "source": [
        "### Bias Variance Tradeoff\n",
        "\n",
        "In statistics and machine learning, the bias–variance tradeoff is the property of a model that the variance of the parameter estimates across samples can be reduced by increasing the bias in the estimated parameters. The bias–variance dilemma or bias–variance problem is the conflict in trying to simultaneously minimize these two sources of error that prevent supervised learning algorithms from generalizing beyond their training set.\n",
        "\n",
        "https://en.wikipedia.org/wiki/Bias%E2%80%93variance_tradeoff\n",
        "\n",
        "Please become familiar with this image:\n",
        "\n",
        "<img src='https://www.kdnuggets.com/wp-content/uploads/bias-and-variance.jpg' alt='bias variance tradeoff' />\n",
        "\n",
        "Please read the article responsible for the image:\n",
        "\n",
        "https://www.kdnuggets.com/2016/08/bias-variance-tradeoff-overview.html\n",
        "\n",
        "#### A Formula\n",
        "\n",
        "$E[(\\hat{y} - y)^2] = E[(\\hat{y} - E[\\hat{y})^2] + (E[\\hat{y}] - y)^2$\n",
        "<br />MSE = Variance + Bias^2\n",
        "* where y = given y, (ground truth)\n",
        "* $\\hat{y}$ = prediction\n",
        "* $E[\\hat{y}]$ = expected value or average of predictions\n",
        "* error = $\\frac{fp + fn}{total}$\n",
        "* Bias = error in training\n",
        "* Variance = range of predictions, how much an estimate of the target function will change if different data was is\n",
        "\n",
        "<table width='50%' style='margin-right: 100%'>\n",
        "    <tr>\n",
        "        <td>Training Error</td>\n",
        "        <td>1%</td>\n",
        "        <td>15%</td>\n",
        "        <td>16%</td>\n",
        "        <td>1%</td>\n",
        "    </tr>\n",
        "    <tr>\n",
        "        <td>Testing Error</td>\n",
        "        <td>15%</td>\n",
        "        <td>16%</td>\n",
        "        <td>33%</td>\n",
        "        <td>1%</td>\n",
        "    </tr>\n",
        "    <tr>\n",
        "        <td></td>\n",
        "        <td>lo bias</td>\n",
        "        <td>hi bias</td>\n",
        "        <td>hi bias</td>\n",
        "        <td>lo bias</td>\n",
        "    </tr>\n",
        "    <tr>\n",
        "        <td></td>\n",
        "        <td>hi var</td>\n",
        "        <td>lo var</td>\n",
        "        <td>hi var</td>\n",
        "        <td>lo var</td>\n",
        "    </tr>\n",
        "</table>\n",
        "\n",
        "https://www.mastersindatascience.org/learning/difference-between-bias-and-variance/"
      ]
    },
    {
      "cell_type": "markdown",
      "id": "a6a4f31b",
      "metadata": {
        "id": "a6a4f31b"
      },
      "source": [
        "### The Classification Report for Imbalanced Data Sets\n",
        "\n",
        "Both the titanic and cancer datasets weren't as balanced as they could be but to appreciate the implications of an imbalanced dataset, consider a fraudualent credit card dataset where there may be a 1 (for fraudulent activity) per 1000 0s of normal activity. We wouldn't need to build a predictive model to make correct predictions 99% of the time. The data itself lets us do that. We need metrics that tell us that the model we build is learning about the relevant data and that it predicts what it is suppose to predict. This gets back to our Precision Recall Tradeoff.\n",
        "\n",
        "**Precision**: The sum of observations correctly classified as positive out of the total observations classified as positive. From the formula, tp / (tp + fp), we can see we want to mimimize fp (false positives), or type I errors, which is sounding an alarm when there is no fire.\n",
        "\n",
        "**Recall**: The sum of observations correctly classified as positive out of the total actual positives. From the forumula, tp / (tp + fn), we can see we want to minimize fn (false negatives), or type II errors, which is not sounding an alarm when there is a fire."
      ]
    },
    {
      "cell_type": "code",
      "execution_count": null,
      "id": "e3691916",
      "metadata": {
        "id": "e3691916",
        "outputId": "7196880a-05c9-488c-ef2d-b96cbdd1ca24",
        "colab": {
          "base_uri": "https://localhost:8080/"
        }
      },
      "outputs": [
        {
          "output_type": "stream",
          "name": "stdout",
          "text": [
            "[[90 10]\n",
            " [ 9 91]]\n",
            "              precision    recall  f1-score   support\n",
            "\n",
            "           0       0.91      0.90      0.90       100\n",
            "           1       0.90      0.91      0.91       100\n",
            "\n",
            "    accuracy                           0.91       200\n",
            "   macro avg       0.91      0.91      0.90       200\n",
            "weighted avg       0.91      0.91      0.90       200\n",
            "\n"
          ]
        }
      ],
      "source": [
        "from sklearn.metrics import classification_report, confusion_matrix\n",
        "\n",
        "print(confusion_matrix(y_test, predictions))\n",
        "print(classification_report(y_test, predictions))"
      ]
    },
    {
      "cell_type": "markdown",
      "id": "240381d0",
      "metadata": {
        "id": "240381d0"
      },
      "source": [
        "* precision 0: 114 / 137\n",
        "* precision 1: 66 / 86\n",
        "* recall 0: 114 / 134\n",
        "* recall 1: 66 / 89\n",
        "\n",
        "We know about accuracy, precision, and recall and we've talked about f1-score as being the harmonic mean of precision and recall (f1 score = 2 * (precision * recall) / (precision + recall)).\n",
        "\n",
        "* support: the number of observations labeled 0 or 1 (remember the pie chart we made of the target?)\n",
        "* macro avg: the average between the two classes (e.g. (prec 0 + prec 1) / 2\n",
        "* weighted avg: the average between the two classes taking into account the number of their observations (e.g. ((prec0 * score0) + (prec 1 * score1)) / total)\n",
        "\n",
        "A classification report provides a little more information by providing metrics for each class. For example, for class 0, our recall is higher than our precision, which tells us that there are fewer false negatives than false positives in class 0."
      ]
    },
    {
      "cell_type": "code",
      "execution_count": null,
      "id": "e2de2d1c",
      "metadata": {
        "id": "e2de2d1c",
        "outputId": "99f52fd3-8e63-45f1-cad2-4b112213d3d6",
        "colab": {
          "base_uri": "https://localhost:8080/"
        }
      },
      "outputs": [
        {
          "output_type": "stream",
          "name": "stdout",
          "text": [
            "0.8\n",
            "0.81\n"
          ]
        }
      ],
      "source": [
        "import numpy as np\n",
        "\n",
        "print((.83 + .77) / 2)\n",
        "wgt_exmpl = ((.83 * 134) + (.77 * 89)) / (134 + 89)\n",
        "print(np.round(wgt_exmpl, 2))"
      ]
    },
    {
      "cell_type": "markdown",
      "id": "8b04dcf2",
      "metadata": {
        "id": "8b04dcf2"
      },
      "source": [
        "### Precision Recall Tradeoff\n",
        "\n",
        "In pattern recognition, information retrieval and classification (machine learning), precision (also called positive predictive value) is the fraction of relevant instances among the retrieved instances, while recall (also known as sensitivity) is the fraction of relevant instances that were retrieved. Both precision and recall are therefore based on relevance... Accuracy can be a misleading metric for imbalanced data sets. Consider a sample with 95 negative and 5 positive values. Classifying all values as negative in this case gives 0.95 accuracy score.\n",
        "\n",
        "https://en.wikipedia.org/wiki/Precision_and_recall\n",
        "\n",
        "In cases of imbalanced data, precision, recall, and f1 score become useful metrics. Precision tells us the proportion of data that was predicted was actually predicted correctly. Recall, also known as the True Positive Rate, is the probability that an actual positive will be predicted to be positive.\n",
        "\n",
        "Precision (also called positive predictive value) is the fraction of relevant instances among the retrieved instances, while recall (also known as sensitivity) is the fraction of relevant instances that were retrieved. Both precision and recall are therefore based on relevance.\n",
        "\n",
        "https://en.wikipedia.org/wiki/Precision_and_recall\n",
        "\n",
        "<img src='https://miro.medium.com/v2/resize:fit:640/format:webp/1*GM10sFuFBAbhwBt2scuP1g.png' alt='precision recall tradeoff' />\n",
        "\n",
        "https://datascience-george.medium.com/the-precision-recall-trade-off-aa295faba140\n",
        "\n",
        "The following is a visualization of our true negatives, false positives, false negatives, and true positives from the data set generated with make_classification."
      ]
    },
    {
      "cell_type": "code",
      "execution_count": null,
      "id": "bd34a890",
      "metadata": {
        "scrolled": true,
        "id": "bd34a890",
        "outputId": "80300513-f216-4ea9-942b-6fa2f714d1fe",
        "colab": {
          "base_uri": "https://localhost:8080/"
        }
      },
      "outputs": [
        {
          "output_type": "stream",
          "name": "stdout",
          "text": [
            "Confusion Matrix\n",
            "\n",
            "\n",
            "           survived predicted\n",
            "                   |  0   |  1\n",
            "           -----------------------  -----------------------------------------\n",
            "           no      | 90  |  10     fpr (type I error)  | tnr\n",
            "  actual   -----------------------  -----------------------------------------\n",
            "           yes     | 9   |  91     tpr (recall)        | fnr (type II error)\n",
            "\n",
            "                    for   | precision\n",
            "           ----------------------------\n",
            "                    npv   | fdr\n",
            "\n",
            "\n"
          ]
        }
      ],
      "source": [
        "tn, fp, fn, tp = confusion_matrix(y_test, predictions).ravel()\n",
        "print('Confusion Matrix')\n",
        "print()\n",
        "print(f'''\n",
        "           survived predicted\n",
        "                   |  0   |  1\n",
        "           -----------------------  -----------------------------------------\n",
        "           no      | {tn}  |  {fp}     fpr (type I error)  | tnr\n",
        "  actual   -----------------------  -----------------------------------------\n",
        "           yes     | {fn}   |  {tp}     tpr (recall)        | fnr (type II error)\n",
        "\n",
        "                    for   | precision\n",
        "           ----------------------------\n",
        "                    npv   | fdr\n",
        "\n",
        "''')"
      ]
    },
    {
      "cell_type": "markdown",
      "id": "11e9c355",
      "metadata": {
        "id": "11e9c355"
      },
      "source": [
        "### Metrics\n",
        "\n",
        "* tn = pred 0 actual 0\n",
        "* fp = pred 1 actual 0\n",
        "* fn = pred 0 actual 1\n",
        "* tp = pred 1 actual 1\n",
        "* acc(uracy) = $\\frac{tn + tp}{total}$\n",
        "* error = $\\frac{fp + fn}{total}$\n",
        "* prev(alence) = $\\frac{fn + tp}{total}$\n",
        "* queue = $\\frac{fp + tp}{total}$\n",
        "* tpr = $\\frac{tp}{tp + fn}$\n",
        "    * true positive rate\n",
        "    * recall\n",
        "    * sensitivity\n",
        "    * prob of detection\n",
        "    * 1 - fnr\n",
        "* fnr = $\\frac{fn}{tp + fn}$\n",
        "    * false negative rate\n",
        "    * type II error\n",
        "    * 1 - tpr\n",
        "* tnr = $\\frac{tn}{tn + fp}$\n",
        "    * true negative rate\n",
        "    * specificity\n",
        "    * 1 - fpr\n",
        "* fpr = $\\frac{fp}{tn + fp}$\n",
        "    * false positive rate\n",
        "    * type I error\n",
        "    * fall out\n",
        "    * prob of false claim\n",
        "    * 1 - tnr\n",
        "* ppv = $\\frac{tp}{tp + fp}$\n",
        "    * positive predicted value\n",
        "    * precision\n",
        "    * 1 - fdr\n",
        "* fdr = $\\frac{fp}{tp + fp}$\n",
        "    * false discovery rate\n",
        "    * 1 - ppv\n",
        "* npv = $\\frac{tn}{tn + fn}$\n",
        "    * negative predicted value\n",
        "    * 1 - for\n",
        "* for = $\\frac{fn}{tn + fn}$\n",
        "    * false omission rate\n",
        "    * 1 - npv\n",
        "* liklihood ratio+ (lr+) = $\\frac{tpr}{fpr}$\n",
        "    * roc\n",
        "* liklihood ratio- (lr-) = $\\frac{fnr}{tnr}$\n",
        "* diagnostic odds ratio = $\\frac{lr+}{lr-}$\n",
        "* f1 score = 2 * $\\frac{precision-recall}{precision+recall}$\n",
        "* Youden's J = sensitivity + specificity - 1 = tpr - fpr\n",
        "* Matthew's Correlation Coefficient = $\\frac{(tp*tn)-(fp*tp)}{\\sqrt{(tp+fp)(tp+fn)(tn+fp)(tn+fn)}}$\n",
        "  "
      ]
    },
    {
      "cell_type": "markdown",
      "id": "ff6c95dc",
      "metadata": {
        "id": "ff6c95dc"
      },
      "source": [
        "## Model Comparisons"
      ]
    },
    {
      "cell_type": "code",
      "execution_count": null,
      "id": "5d590f9d",
      "metadata": {
        "id": "5d590f9d",
        "outputId": "c82f1859-e904-4f9c-c31d-72946f7a95c6",
        "colab": {
          "base_uri": "https://localhost:8080/"
        }
      },
      "outputs": [
        {
          "output_type": "stream",
          "name": "stdout",
          "text": [
            "(400, 5)\n",
            "    User ID  Gender   Age  EstimatedSalary  Purchased\n",
            "0  15624510    Male  19.0          19000.0          0\n",
            "1  15810944    Male  35.0          20000.0          0\n",
            "2  15668575  Female  26.0          43000.0          0\n",
            "3  15603246  Female  27.0          57000.0          0\n",
            "4  15804002    Male  19.0          76000.0          0\n",
            "<class 'pandas.core.frame.DataFrame'>\n",
            "RangeIndex: 400 entries, 0 to 399\n",
            "Data columns (total 5 columns):\n",
            " #   Column           Non-Null Count  Dtype  \n",
            "---  ------           --------------  -----  \n",
            " 0   User ID          400 non-null    int64  \n",
            " 1   Gender           400 non-null    object \n",
            " 2   Age              400 non-null    float64\n",
            " 3   EstimatedSalary  400 non-null    float64\n",
            " 4   Purchased        400 non-null    int64  \n",
            "dtypes: float64(2), int64(2), object(1)\n",
            "memory usage: 15.8+ KB\n",
            "None\n"
          ]
        }
      ],
      "source": [
        "# get data\n",
        "import numpy as np\n",
        "import pandas as pd\n",
        "import matplotlib.pyplot as plt\n",
        "\n",
        "comparisons = pd.read_csv('https://raw.githubusercontent.com/sudarshan-koirala/K-Nearest-Neighbors-Social-Network-Ads/master/Social_Network_Ads.csv')\n",
        "print(comparisons.shape)\n",
        "print(comparisons.head())\n",
        "print(comparisons.info())"
      ]
    },
    {
      "cell_type": "code",
      "execution_count": null,
      "id": "d89773a1",
      "metadata": {
        "id": "d89773a1"
      },
      "outputs": [],
      "source": [
        "# get X and y and train test split\n",
        "from sklearn.model_selection import train_test_split\n",
        "\n",
        "X_train, X_test, y_train, y_test = train_test_split(comparisons.drop(['User ID', 'Gender', 'Purchased'], axis=1),\n",
        "                                                    comparisons.Purchased,\n",
        "                                                    test_size=0.2, random_state=42)"
      ]
    },
    {
      "cell_type": "code",
      "execution_count": null,
      "id": "f36d229f",
      "metadata": {
        "id": "f36d229f"
      },
      "outputs": [],
      "source": [
        "# scale data\n",
        "from sklearn.preprocessing import StandardScaler\n",
        "\n",
        "sc = StandardScaler()\n",
        "X_train = sc.fit_transform(X_train.values)\n",
        "X_test = sc.transform(X_test.values)"
      ]
    },
    {
      "cell_type": "markdown",
      "id": "57789339",
      "metadata": {
        "id": "57789339"
      },
      "source": [
        "## Logistic Regression"
      ]
    },
    {
      "cell_type": "code",
      "execution_count": null,
      "id": "faf5afde",
      "metadata": {
        "id": "faf5afde",
        "outputId": "b88dc5de-baf9-4231-a8d7-32cbc1d5243d",
        "colab": {
          "base_uri": "https://localhost:8080/",
          "height": 524
        }
      },
      "outputs": [
        {
          "output_type": "stream",
          "name": "stdout",
          "text": [
            "[[50  2]\n",
            " [ 9 19]]\n",
            "0.8625\n"
          ]
        },
        {
          "output_type": "display_data",
          "data": {
            "text/plain": [
              "<Figure size 640x480 with 1 Axes>"
            ],
            "image/png": "[encoded data removed]"
          },
          "metadata": {}
        }
      ],
      "source": [
        "# model, predict, evaluate, and plot\n",
        "from matplotlib.colors import ListedColormap\n",
        "from sklearn.linear_model import LogisticRegression\n",
        "from sklearn.metrics import confusion_matrix, accuracy_score\n",
        "\n",
        "model = LogisticRegression(random_state=42)\n",
        "model.fit(X_train, y_train)\n",
        "predictions = model.predict(X_test)\n",
        "\n",
        "print(confusion_matrix(y_test, predictions))\n",
        "print(accuracy_score(y_test, predictions))\n",
        "\n",
        "X_set, y_set = sc.inverse_transform(X_test), y_test\n",
        "X1, X2 = np.meshgrid(np.arange(start = X_set[:, 0].min() - 10, stop = X_set[:, 0].max() + 10, step = 0.25),\n",
        "                     np.arange(start = X_set[:, 1].min() - 1000, stop = X_set[:, 1].max() + 1000, step = 0.25))\n",
        "\n",
        "plt.contourf(X1, X2, model.predict(sc.transform(np.array([X1.ravel(), X2.ravel()]).T)).reshape(X1.shape),\n",
        "             alpha = 0.75, cmap = ListedColormap(('lightsalmon', 'lightblue')))\n",
        "\n",
        "plt.xlim(X1.min(), X1.max())\n",
        "plt.ylim(X2.min(), X2.max())\n",
        "\n",
        "for i, j in enumerate(np.unique(y_set)):\n",
        "    plt.scatter(X_set[y_set == j, 0], X_set[y_set == j, 1], color = ListedColormap(('red', 'blue'))(i), label = j)\n",
        "\n",
        "plt.title('Logistic Regression (Test set)')\n",
        "plt.xlabel('Age')\n",
        "plt.ylabel('Estimated Salary')\n",
        "plt.legend()\n",
        "plt.show()"
      ]
    },
    {
      "cell_type": "markdown",
      "id": "8e75f1e1",
      "metadata": {
        "id": "8e75f1e1"
      },
      "source": [
        "## Multinomial Logistic Regression\n",
        "\n",
        "See Week 10 - Multinomial Logistic Regression"
      ]
    },
    {
      "cell_type": "markdown",
      "id": "2c7d153d",
      "metadata": {
        "id": "2c7d153d"
      },
      "source": [
        "## K Nearest Neighbor\n",
        "\n",
        "* https://en.wikipedia.org/wiki/K-nearest_neighbors_algorithm#/media/File:KnnClassification.svg\n",
        "* Choose the number of K neighbors\n",
        "* Within the perimeter, count the number of each class\n",
        "* New data point is assigned the class with the highest count"
      ]
    },
    {
      "cell_type": "code",
      "execution_count": null,
      "id": "afc58cda",
      "metadata": {
        "id": "afc58cda",
        "outputId": "4196d894-b970-4d23-dca3-fc32db1b01f5",
        "colab": {
          "base_uri": "https://localhost:8080/"
        }
      },
      "outputs": [
        {
          "output_type": "stream",
          "name": "stdout",
          "text": [
            "[[48  4]\n",
            " [ 3 25]]\n",
            "0.9125\n"
          ]
        }
      ],
      "source": [
        "from sklearn.neighbors import KNeighborsClassifier\n",
        "\n",
        "model = KNeighborsClassifier(n_neighbors=5, metric='minkowski', p=2)\n",
        "model.fit(X_train, y_train)\n",
        "predictions = model.predict(X_test)\n",
        "\n",
        "print(confusion_matrix(y_test, predictions))\n",
        "print(accuracy_score(y_test, predictions))"
      ]
    },
    {
      "cell_type": "markdown",
      "id": "2d105266",
      "metadata": {
        "id": "2d105266"
      },
      "source": [
        "## Support Vector Classifier\n",
        "\n",
        "* https://en.wikipedia.org/wiki/Support-vector_machine#/media/File:SVM_margin.png\n",
        "* Linearly separable\n",
        "* Identify the hyperplane (similar to line of best fit used in regression)\n",
        "* Find the support vectors\n",
        "* Maximize the margin\n",
        "* Identify negative and positive hyperplanes\n",
        "* Compares apples that look like oranges and vice versa that reside near the margin (support vectors)\n"
      ]
    },
    {
      "cell_type": "code",
      "execution_count": null,
      "id": "7424c6df",
      "metadata": {
        "id": "7424c6df",
        "outputId": "a3d80c27-3cd3-4961-9665-1316bb11c00a",
        "colab": {
          "base_uri": "https://localhost:8080/"
        }
      },
      "outputs": [
        {
          "output_type": "stream",
          "name": "stdout",
          "text": [
            "[[50  2]\n",
            " [ 9 19]]\n",
            "0.8625\n"
          ]
        }
      ],
      "source": [
        "from sklearn.svm import SVC\n",
        "\n",
        "model = SVC(kernel='linear', random_state=42)\n",
        "model.fit(X_train, y_train)\n",
        "predictions = model.predict(X_test)\n",
        "\n",
        "print(confusion_matrix(y_test, predictions))\n",
        "print(accuracy_score(y_test, predictions))"
      ]
    },
    {
      "cell_type": "markdown",
      "id": "61052698",
      "metadata": {
        "id": "61052698"
      },
      "source": [
        "## SVC with Kernel"
      ]
    },
    {
      "cell_type": "code",
      "execution_count": null,
      "id": "9cdfe9a8",
      "metadata": {
        "id": "9cdfe9a8",
        "outputId": "eee7e4df-ae99-4119-a42b-5f918cf0518b",
        "colab": {
          "base_uri": "https://localhost:8080/"
        }
      },
      "outputs": [
        {
          "output_type": "stream",
          "name": "stdout",
          "text": [
            "[[47  5]\n",
            " [ 1 27]]\n",
            "0.925\n"
          ]
        }
      ],
      "source": [
        "from sklearn.svm import SVC\n",
        "\n",
        "model = SVC(kernel='rbf', random_state=42)\n",
        "model.fit(X_train, y_train)\n",
        "predictions = model.predict(X_test)\n",
        "\n",
        "print(confusion_matrix(y_test, predictions))\n",
        "print(accuracy_score(y_test, predictions))"
      ]
    },
    {
      "cell_type": "markdown",
      "id": "3eb7a4ba",
      "metadata": {
        "id": "3eb7a4ba"
      },
      "source": [
        "## More on Support Vectors\n",
        "\n",
        "See Week 10 - Support Vectors"
      ]
    },
    {
      "cell_type": "markdown",
      "id": "e925c73c",
      "metadata": {
        "id": "e925c73c"
      },
      "source": [
        "## Naive Bayes\n"
      ]
    },
    {
      "cell_type": "code",
      "execution_count": null,
      "id": "48bdb78a",
      "metadata": {
        "id": "48bdb78a",
        "outputId": "9ae9f2fc-e1a6-4e14-fb52-d6e739f270ef",
        "colab": {
          "base_uri": "https://localhost:8080/"
        }
      },
      "outputs": [
        {
          "output_type": "stream",
          "name": "stdout",
          "text": [
            "[[50  2]\n",
            " [ 3 25]]\n",
            "0.9375\n"
          ]
        }
      ],
      "source": [
        "from sklearn.naive_bayes import GaussianNB\n",
        "\n",
        "model = GaussianNB()\n",
        "model.fit(X_train, y_train)\n",
        "predictions = model.predict(X_test)\n",
        "\n",
        "print(confusion_matrix(y_test, predictions))\n",
        "print(accuracy_score(y_test, predictions))"
      ]
    },
    {
      "cell_type": "markdown",
      "id": "0b892dea",
      "metadata": {
        "id": "0b892dea"
      },
      "source": [
        "## More on Naive Bayes\n",
        "\n",
        "See Week 10 - Naive Bayes"
      ]
    },
    {
      "cell_type": "markdown",
      "id": "ce8506c3",
      "metadata": {
        "id": "ce8506c3"
      },
      "source": [
        "## Decision Tree Classifier\n",
        "\n",
        "* https://www.kdnuggets.com/2020/01/decision-tree-algorithm-explained.html\n",
        "\n",
        "#### Terms\n",
        "\n",
        "* Root node\n",
        "* Splitting\n",
        "* Decision node\n",
        "* Leaf / terminal node\n",
        "* Pruning\n",
        "* Branch\n",
        "* Parent and child nodes\n",
        "\n",
        "#### Attribute Selection Measures\n",
        "\n",
        "* Gini index\n",
        "* Entropy\n",
        "* Information gain\n",
        "* Gain ratio\n",
        "* Reduction in variance\n",
        "* Chi-square\n",
        "\n",
        "More next week"
      ]
    },
    {
      "cell_type": "code",
      "execution_count": null,
      "id": "ac08c44d",
      "metadata": {
        "id": "ac08c44d",
        "outputId": "70098c64-fd12-49c6-fe1f-a893f9f9ea9c",
        "colab": {
          "base_uri": "https://localhost:8080/"
        }
      },
      "outputs": [
        {
          "output_type": "stream",
          "name": "stdout",
          "text": [
            "[[46  6]\n",
            " [ 7 21]]\n",
            "0.8375\n"
          ]
        }
      ],
      "source": [
        "from sklearn.tree import DecisionTreeClassifier\n",
        "\n",
        "model = DecisionTreeClassifier(criterion='entropy', random_state=42)\n",
        "model.fit(X_train, y_train)\n",
        "predictions = model.predict(X_test)\n",
        "\n",
        "print(confusion_matrix(y_test, predictions))\n",
        "print(accuracy_score(y_test, predictions))"
      ]
    },
    {
      "cell_type": "markdown",
      "id": "2d5a0ad6",
      "metadata": {
        "id": "2d5a0ad6"
      },
      "source": [
        "## Random Forest Classifier\n",
        "\n",
        "* Random sample of X_train when building trees\n",
        "* Random subsets of features\n",
        "* Bagging\n",
        "\n",
        "More next week"
      ]
    },
    {
      "cell_type": "code",
      "execution_count": null,
      "id": "7d31e9bc",
      "metadata": {
        "id": "7d31e9bc",
        "outputId": "df25d25c-402a-4a2d-d1e3-e9d34964b512",
        "colab": {
          "base_uri": "https://localhost:8080/"
        }
      },
      "outputs": [
        {
          "output_type": "stream",
          "name": "stdout",
          "text": [
            "[[47  5]\n",
            " [ 6 22]]\n",
            "0.8625\n"
          ]
        }
      ],
      "source": [
        "from sklearn.ensemble import RandomForestClassifier\n",
        "\n",
        "model = RandomForestClassifier(n_estimators=10, criterion='entropy', random_state=42)\n",
        "model.fit(X_train, y_train)\n",
        "predictions = model.predict(X_test)\n",
        "\n",
        "print(confusion_matrix(y_test, predictions))\n",
        "print(accuracy_score(y_test, predictions))"
      ]
    }
  ],
  "metadata": {
    "kernelspec": {
      "display_name": "Python 3 (ipykernel)",
      "language": "python",
      "name": "python3"
    },
    "language_info": {
      "codemirror_mode": {
        "name": "ipython",
        "version": 3
      },
      "file_extension": ".py",
      "mimetype": "text/x-python",
      "name": "python",
      "nbconvert_exporter": "python",
      "pygments_lexer": "ipython3",
      "version": "3.9.7"
    },
    "colab": {
      "provenance": [],
      "include_colab_link": true
    }
  },
  "nbformat": 4,
  "nbformat_minor": 5
}