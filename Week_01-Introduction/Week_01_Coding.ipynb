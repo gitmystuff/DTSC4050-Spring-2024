{
  "cells": [
    {
      "cell_type": "markdown",
      "metadata": {
        "id": "view-in-github",
        "colab_type": "text"
      },
      "source": [
        "<a href=\"https://colab.research.google.com/github/gitmystuff/DTSC4050/blob/main/Week_01-Introduction/Week_01_Coding.ipynb\" target=\"_parent\"><img src=\"https://colab.research.google.com/assets/colab-badge.svg\" alt=\"Open In Colab\"/></a>"
      ]
    },
    {
      "cell_type": "markdown",
      "id": "1447dd83",
      "metadata": {
        "id": "1447dd83"
      },
      "source": [
        "# Week 1 - Coding\n",
        "\n"
      ]
    },
    {
      "cell_type": "markdown",
      "source": [
        "## Linear Regression Example"
      ],
      "metadata": {
        "id": "G6zJqW0UDgLb"
      },
      "id": "G6zJqW0UDgLb"
    },
    {
      "cell_type": "code",
      "execution_count": null,
      "id": "1521fe97",
      "metadata": {
        "id": "1521fe97"
      },
      "outputs": [],
      "source": [
        "# get the data\n",
        "# import pandas as pd\n",
        "\n",
        "# url = 'https://raw.githubusercontent.com/gitmystuff/Datasets/main/Advertising.csv'\n",
        "# df = pd.read_csv(url, usecols=['TV', 'radio', 'newspaper', 'sales'])\n",
        "# df.head()"
      ]
    },
    {
      "cell_type": "code",
      "execution_count": null,
      "id": "64b331cb",
      "metadata": {
        "id": "64b331cb"
      },
      "outputs": [],
      "source": [
        "# df.head(10)"
      ]
    },
    {
      "cell_type": "code",
      "execution_count": null,
      "id": "72f79b3f",
      "metadata": {
        "id": "72f79b3f"
      },
      "outputs": [],
      "source": [
        "# df.tail()"
      ]
    },
    {
      "cell_type": "code",
      "execution_count": null,
      "id": "92c1ee40",
      "metadata": {
        "id": "92c1ee40"
      },
      "outputs": [],
      "source": [
        "# df.sample(10)"
      ]
    },
    {
      "cell_type": "code",
      "execution_count": null,
      "id": "b28f2575",
      "metadata": {
        "id": "b28f2575"
      },
      "outputs": [],
      "source": [
        "# df.shape"
      ]
    },
    {
      "cell_type": "code",
      "execution_count": null,
      "id": "fdece09d",
      "metadata": {
        "id": "fdece09d"
      },
      "outputs": [],
      "source": [
        "# df.info()"
      ]
    },
    {
      "cell_type": "code",
      "execution_count": null,
      "id": "31595c6f",
      "metadata": {
        "id": "31595c6f"
      },
      "outputs": [],
      "source": [
        "# df.describe()"
      ]
    },
    {
      "cell_type": "code",
      "execution_count": null,
      "id": "d12e52ef",
      "metadata": {
        "id": "d12e52ef"
      },
      "outputs": [],
      "source": [
        "# import matplotlib.pyplot as plt\n",
        "\n",
        "# plt.hist(df['TV']);"
      ]
    },
    {
      "cell_type": "code",
      "execution_count": null,
      "id": "ddf68043",
      "metadata": {
        "id": "ddf68043"
      },
      "outputs": [],
      "source": [
        "# plt.hist(df['radio'], bins=5)\n",
        "# plt.xlabel('Amount')\n",
        "# plt.ylabel('Quantity')\n",
        "# plt.title('Radio Revenue')\n",
        "# plt.show();"
      ]
    },
    {
      "cell_type": "code",
      "execution_count": null,
      "id": "c610a0b3",
      "metadata": {
        "id": "c610a0b3"
      },
      "outputs": [],
      "source": [
        "# fig, axs = plt.subplots(1, 3, sharey=False, tight_layout=True)\n",
        "# axs[0].hist(df['TV'])\n",
        "# axs[0].set_xlabel('TV')\n",
        "\n",
        "# axs[1].hist(df['radio'])\n",
        "# axs[1].set_xlabel('radio')\n",
        "\n",
        "# axs[2].hist(df['newspaper'])\n",
        "# axs[2].set_xlabel('newspaper')\n",
        "\n",
        "# plt.show();"
      ]
    },
    {
      "cell_type": "code",
      "execution_count": null,
      "id": "94acbf3e",
      "metadata": {
        "id": "94acbf3e"
      },
      "outputs": [],
      "source": [
        "# df.hist()\n",
        "# plt.tight_layout()"
      ]
    },
    {
      "cell_type": "code",
      "execution_count": null,
      "id": "c9bacb5c",
      "metadata": {
        "id": "c9bacb5c"
      },
      "outputs": [],
      "source": [
        "# import seaborn as sns\n",
        "\n",
        "# sns.pairplot(df, x_vars=['TV','radio','newspaper'], y_vars='sales',\n",
        "#              kind='reg',\n",
        "#              height=5,\n",
        "#              aspect=0.8,\n",
        "#              plot_kws={'ci': None, 'line_kws':{'color':'red'}, 'scatter_kws': {'alpha': 0.5}});"
      ]
    },
    {
      "cell_type": "code",
      "execution_count": null,
      "id": "c6532dbd",
      "metadata": {
        "id": "c6532dbd"
      },
      "outputs": [],
      "source": [
        "# from sklearn.model_selection import train_test_split\n",
        "\n",
        "# X_train, X_test, y_train, y_test = train_test_split(df.drop(['sales'], axis=1),\n",
        "#                                                     df['sales'],\n",
        "#                                                     test_size=0.20,\n",
        "#                                                     random_state=42)\n",
        "# print(X_train.shape)\n",
        "# print(y_train.shape)"
      ]
    },
    {
      "cell_type": "code",
      "execution_count": null,
      "id": "5dfdc477",
      "metadata": {
        "id": "5dfdc477"
      },
      "outputs": [],
      "source": [
        "# from sklearn.linear_model import LinearRegression\n",
        "# from sklearn.metrics import mean_squared_error, r2_score\n",
        "\n",
        "# model = LinearRegression()\n",
        "# model.fit(X_train.values, y_train)\n",
        "# predictions = model.predict(X_test.values)\n",
        "# print(f'MSE: {mean_squared_error(y_true=y_test, y_pred=predictions)}')\n",
        "# print(f'R-Squared: {r2_score(y_test, predictions)}')"
      ]
    },
    {
      "cell_type": "code",
      "execution_count": null,
      "id": "96c65d48",
      "metadata": {
        "id": "96c65d48"
      },
      "outputs": [],
      "source": [
        "# import numpy as np\n",
        "\n",
        "# tv = 232.1\n",
        "# radio = 8.6\n",
        "# newspaper = 8.7\n",
        "# model.predict(np.array([tv, radio, newspaper]).reshape(1, -1))"
      ]
    },
    {
      "cell_type": "code",
      "execution_count": null,
      "id": "9a5a8cf5",
      "metadata": {
        "id": "9a5a8cf5"
      },
      "outputs": [],
      "source": [
        "# list(zip(X_train, model.coef_))"
      ]
    },
    {
      "cell_type": "markdown",
      "id": "4ab3c041",
      "metadata": {
        "id": "4ab3c041"
      },
      "source": [
        "## Python Data Model\n",
        "\n",
        "https://docs.python.org/3/reference/datamodel.html"
      ]
    },
    {
      "cell_type": "code",
      "source": [
        "# object\n"
      ],
      "metadata": {
        "id": "OPf2ogpPFjkA"
      },
      "id": "OPf2ogpPFjkA",
      "execution_count": null,
      "outputs": []
    },
    {
      "cell_type": "code",
      "source": [
        "# type\n"
      ],
      "metadata": {
        "id": "WVG_qS79FMsR"
      },
      "id": "WVG_qS79FMsR",
      "execution_count": null,
      "outputs": []
    },
    {
      "cell_type": "code",
      "source": [
        "# strings (categorical)\n"
      ],
      "metadata": {
        "id": "Bgj8dx7MDsna"
      },
      "id": "Bgj8dx7MDsna",
      "execution_count": null,
      "outputs": []
    },
    {
      "cell_type": "code",
      "source": [
        "# adding numbers (numerical)\n"
      ],
      "metadata": {
        "id": "6N7RVwpiC1Ae"
      },
      "id": "6N7RVwpiC1Ae",
      "execution_count": null,
      "outputs": []
    },
    {
      "cell_type": "code",
      "execution_count": null,
      "id": "d73127aa",
      "metadata": {
        "id": "d73127aa"
      },
      "outputs": [],
      "source": [
        "# adding numbers as strings\n"
      ]
    },
    {
      "cell_type": "markdown",
      "source": [
        "## Data Structures\n",
        "\n",
        "https://docs.python.org/3/tutorial/datastructures.html"
      ],
      "metadata": {
        "id": "OCwVE8CTD5jh"
      },
      "id": "OCwVE8CTD5jh"
    },
    {
      "cell_type": "code",
      "source": [
        "# list (mutable)\n"
      ],
      "metadata": {
        "id": "4SSuE0lAC4JN"
      },
      "id": "4SSuE0lAC4JN",
      "execution_count": null,
      "outputs": []
    },
    {
      "cell_type": "code",
      "source": [
        "# tuple (immutable)\n"
      ],
      "metadata": {
        "id": "VmlFgBFyC_9E"
      },
      "id": "VmlFgBFyC_9E",
      "execution_count": null,
      "outputs": []
    },
    {
      "cell_type": "code",
      "source": [
        "# set\n"
      ],
      "metadata": {
        "id": "N7EffkyQDMB8"
      },
      "id": "N7EffkyQDMB8",
      "execution_count": null,
      "outputs": []
    },
    {
      "cell_type": "code",
      "source": [
        "# dictionary\n"
      ],
      "metadata": {
        "id": "eOyF5bqYDUDr"
      },
      "id": "eOyF5bqYDUDr",
      "execution_count": null,
      "outputs": []
    },
    {
      "cell_type": "markdown",
      "id": "7c0544a9",
      "metadata": {
        "id": "7c0544a9"
      },
      "source": [
        "## Numpy"
      ]
    },
    {
      "cell_type": "code",
      "execution_count": null,
      "id": "a0247b05",
      "metadata": {
        "id": "a0247b05"
      },
      "outputs": [],
      "source": [
        "# random float\n",
        "# https://www.learndatasci.com/tutorials/applied-introduction-to-numpy-python-tutorial/\n"
      ]
    },
    {
      "cell_type": "code",
      "source": [
        "# random int\n"
      ],
      "metadata": {
        "id": "Bwv72fR0F838"
      },
      "id": "Bwv72fR0F838",
      "execution_count": null,
      "outputs": []
    },
    {
      "cell_type": "code",
      "source": [
        "# matrix of rows and columns\n"
      ],
      "metadata": {
        "id": "gpHeMRLbGQO-"
      },
      "id": "gpHeMRLbGQO-",
      "execution_count": null,
      "outputs": []
    },
    {
      "cell_type": "code",
      "source": [
        "# slicing [row, col]\n"
      ],
      "metadata": {
        "id": "Y-FsfAOFGY4R"
      },
      "id": "Y-FsfAOFGY4R",
      "execution_count": null,
      "outputs": []
    },
    {
      "cell_type": "code",
      "execution_count": null,
      "id": "8b05c005",
      "metadata": {
        "id": "8b05c005"
      },
      "outputs": [],
      "source": [
        "# slicing [row start: end, col start: end]\n"
      ]
    },
    {
      "cell_type": "code",
      "source": [
        "# slicing [row start: end, col start: end]\n"
      ],
      "metadata": {
        "id": "r_zKSUCCG2uX"
      },
      "id": "r_zKSUCCG2uX",
      "execution_count": null,
      "outputs": []
    },
    {
      "cell_type": "markdown",
      "id": "89cb7d97",
      "metadata": {
        "id": "89cb7d97"
      },
      "source": [
        "## Pandas"
      ]
    },
    {
      "cell_type": "code",
      "execution_count": null,
      "id": "c9d79042",
      "metadata": {
        "id": "c9d79042"
      },
      "outputs": [],
      "source": [
        "# pandas examples\n",
        "# https://pandas.pydata.org/docs/user_guide/10min.html\n"
      ]
    },
    {
      "cell_type": "code",
      "execution_count": null,
      "id": "44df17e2",
      "metadata": {
        "id": "44df17e2"
      },
      "outputs": [],
      "source": [
        "# assign column names\n"
      ]
    },
    {
      "cell_type": "code",
      "execution_count": null,
      "id": "452adc09",
      "metadata": {
        "id": "452adc09"
      },
      "outputs": [],
      "source": [
        "# print col_one\n"
      ]
    },
    {
      "cell_type": "code",
      "execution_count": null,
      "id": "7b92d4db",
      "metadata": {
        "id": "7b92d4db"
      },
      "outputs": [],
      "source": [
        "# print using dot notation\n"
      ]
    },
    {
      "cell_type": "code",
      "execution_count": null,
      "id": "04e03740",
      "metadata": {
        "id": "04e03740"
      },
      "outputs": [],
      "source": [
        "# print row using loc\n"
      ]
    },
    {
      "cell_type": "code",
      "execution_count": null,
      "id": "ec0e07e8",
      "metadata": {
        "scrolled": false,
        "id": "ec0e07e8"
      },
      "outputs": [],
      "source": [
        "# print slice using iloc\n"
      ]
    }
  ],
  "metadata": {
    "kernelspec": {
      "display_name": "Python 3 (ipykernel)",
      "language": "python",
      "name": "python3"
    },
    "language_info": {
      "codemirror_mode": {
        "name": "ipython",
        "version": 3
      },
      "file_extension": ".py",
      "mimetype": "text/x-python",
      "name": "python",
      "nbconvert_exporter": "python",
      "pygments_lexer": "ipython3",
      "version": "3.9.7"
    },
    "colab": {
      "provenance": [],
      "toc_visible": true,
      "include_colab_link": true
    }
  },
  "nbformat": 4,
  "nbformat_minor": 5
}