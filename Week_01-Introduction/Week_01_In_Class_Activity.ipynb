{
  "nbformat": 4,
  "nbformat_minor": 0,
  "metadata": {
    "colab": {
      "provenance": [],
      "toc_visible": true,
      "authorship_tag": "ABX9TyOtpSFt2FrUyaezcmonPOma",
      "include_colab_link": true
    },
    "kernelspec": {
      "name": "python3",
      "display_name": "Python 3"
    },
    "language_info": {
      "name": "python"
    }
  },
  "cells": [
    {
      "cell_type": "markdown",
      "metadata": {
        "id": "view-in-github",
        "colab_type": "text"
      },
      "source": [
        "<a href=\"https://colab.research.google.com/github/gitmystuff/DTSC4050/blob/main/Week_01-Introduction/Week_01_In_Class_Activity.ipynb\" target=\"_parent\"><img src=\"https://colab.research.google.com/assets/colab-badge.svg\" alt=\"Open In Colab\"/></a>"
      ]
    },
    {
      "cell_type": "markdown",
      "source": [
        "# Week 1: In-Class Activity\n",
        "\n"
      ],
      "metadata": {
        "id": "vqp8RGHajdVw"
      }
    },
    {
      "cell_type": "markdown",
      "source": [
        "## Getting Started\n",
        "\n",
        "* Colab - get notebook from gitmystuff DTSC4050 repository\n",
        "* Save a Copy in Drive\n",
        "* Remove Copy of\n",
        "\n",
        "## Overview\n",
        "\n",
        "* Github Basics\n",
        "* HTML Basics - Resume\n",
        "* Python Module Template - Replit\n",
        "* Colab and Github\n",
        "* Data Science / Analysis Projects\n",
        "\n"
      ],
      "metadata": {
        "id": "1dkzJ8eQDKZ-"
      }
    },
    {
      "cell_type": "markdown",
      "source": [
        "## What is Github?\n",
        "\n",
        "* An easy to use web service for version control and collaboration\n",
        "* Use GitHub to manage projects like software development, writing books and research papers, websites, quality control, resumes, portfolios, etc\n",
        "\n",
        "Sources\n",
        "\n",
        "* https://kinsta.com/knowledgebase/what-is-github/\n",
        "* https://github.com/topics/portfolio\n",
        "* https://github.com/topics/research-paper\n",
        "* https://ben.balter.com/2015/02/06/word-diff/"
      ],
      "metadata": {
        "id": "dUE4sH0zDXHq"
      }
    },
    {
      "cell_type": "markdown",
      "source": [
        "## Hello World\n",
        "\n",
        "* https://docs.github.com/en/get-started/quickstart/hello-world"
      ],
      "metadata": {
        "id": "CtG57sncDhh4"
      }
    },
    {
      "cell_type": "markdown",
      "source": [
        "## Create a Web Site from Github\n",
        "\n",
        "* https://github.com/Ovi/HTML-CSS-CV\n",
        "* https://github.com/topics/cv-template\n",
        "* https://docs.github.com/en/pages/getting-started-with-github-pages/configuring-a-publishing-source-for-your-github-pages-site"
      ],
      "metadata": {
        "id": "AcCg6U3VDxaA"
      }
    },
    {
      "cell_type": "markdown",
      "source": [
        "## Replit\n",
        "\n",
        "* https://www.freecodecamp.org/news/how-to-use-replit/"
      ],
      "metadata": {
        "id": "LrKJ3fCoCtoE"
      }
    },
    {
      "cell_type": "markdown",
      "source": [
        "## HTML Basics\n",
        "\n",
        "* https://replit.com/talk/learn/Full-HTML-Tutorial/78035"
      ],
      "metadata": {
        "id": "S5qeuxqfDpsY"
      }
    },
    {
      "cell_type": "markdown",
      "source": [
        "## Integrate Github and Replit\n",
        "\n",
        "* Fork https://github.com/Ovi/HTML-CSS-CVLinks and name it resume\n",
        "* https://docs.replit.com/category/using-git-on-replit\n",
        "* Personalize the html in your resume repository\n",
        "\n",
        "### Reset\n",
        "\n",
        "* https://myunt-my.sharepoint.com/:w:/r/personal/cliff_whitworth_unt_edu/_layouts/15/Doc.aspx?sourcedoc=%7B92DB08C5-4F81-442E-AF40-FE4DBA6B0DFF%7D&file=resetting%20github%20and%20replit%20for%20resume.docx&action=default&mobileredirect=true\n"
      ],
      "metadata": {
        "id": "_NUZyJ9GFIOu"
      }
    },
    {
      "cell_type": "markdown",
      "source": [
        "## Create Class Repository\n",
        "\n",
        "* Create a github repository with a README.md and License and name it DTSC4050\n",
        "* Complete Coding.ipynb\n",
        "* Save a copy in GitHub with Include a link to Colab checked"
      ],
      "metadata": {
        "id": "2wtVhvizFWZU"
      }
    },
    {
      "cell_type": "markdown",
      "source": [
        "## Python Basics\n",
        "\n",
        "* https://www.youtube.com/watch?v=eWRfhZUzrAc"
      ],
      "metadata": {
        "id": "FPZW21H6E8cC"
      }
    },
    {
      "cell_type": "markdown",
      "source": [
        "## Gradio\n",
        "\n",
        "* Check out Gradio - https://www.gradio.app/"
      ],
      "metadata": {
        "id": "aEQLhzaID4bp"
      }
    }
  ]
}