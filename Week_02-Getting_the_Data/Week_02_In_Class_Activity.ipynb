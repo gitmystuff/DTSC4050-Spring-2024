{
  "cells": [
    {
      "cell_type": "markdown",
      "metadata": {
        "id": "view-in-github",
        "colab_type": "text"
      },
      "source": [
        "<a href=\"https://colab.research.google.com/github/gitmystuff/DTSC4050/blob/main/Week_02-Getting_the_Data/Week_02_In_Class_Activity.ipynb\" target=\"_parent\"><img src=\"https://colab.research.google.com/assets/colab-badge.svg\" alt=\"Open In Colab\"/></a>"
      ]
    },
    {
      "cell_type": "markdown",
      "id": "41c9a5d1",
      "metadata": {
        "id": "41c9a5d1"
      },
      "source": [
        "# Week 02 - In-Class Activity\n",
        "\n",
        "Your Name\n",
        "\n",
        "### Some Readings\n",
        "\n",
        "* Data Science Interviews - https://www.kdnuggets.com/2023/01/20-questions-detect-fake-data-scientists-chatgpt-1.html\n",
        "* How to Use Google Colab for Python - https://www.jcchouinard.com/google-colab-with-python/\n",
        "* A Day in the Life of a Data Scientist - https://towardsdatascience.com/a-day-in-the-life-of-a-data-scientist-938d917370b9\n",
        "* https://towardsdatascience.com/the-inequality-in-the-data-science-industry-937992032851"
      ]
    },
    {
      "cell_type": "markdown",
      "source": [
        "## Getting Started\n",
        "\n",
        "* Colab - get notebook from gitmystuff DTSC4050 repository\n",
        "* Save a Copy in Drive\n",
        "* Remove Copy of\n",
        "* Edit your name\n",
        "* Clean up Colab Notebooks folder\n",
        "* Submit shared link"
      ],
      "metadata": {
        "id": "tv86CANY3_Xy"
      },
      "id": "tv86CANY3_Xy"
    },
    {
      "cell_type": "markdown",
      "id": "87f8c9ee",
      "metadata": {
        "id": "87f8c9ee"
      },
      "source": [
        "## Data Science Process\n",
        "\n",
        "* https://www.springboard.com/blog/wp-content/uploads/2022/05/data-science-life-cycle.png"
      ]
    },
    {
      "cell_type": "markdown",
      "id": "74b4d70e",
      "metadata": {
        "id": "74b4d70e"
      },
      "source": [
        "## Why Statistics\n",
        "\n",
        "Naked Statistics\n",
        "\n",
        "* To summarize huge quantities of data\n",
        "* To make better decisions\n",
        "* Answer important social questions\n",
        "* Recognize patterns\n",
        "* Evaluate effectiveness\n",
        "\n",
        "## Why Data\n",
        "\n",
        "According to Wikipedia (2023):\n",
        "\n",
        ">  In the pursuit of knowledge, data is a collection of discrete values that convey information, describing quantity, quality, fact, statistics, other basic units of meaning, or simply sequences of symbols that may be further interpreted. A datum is an individual value in a collection of data. Data is usually organized into structures such as tables that provide additional context and meaning, and which may themselves be used as data in larger structures (para 1).\n",
        "\n",
        "Data. (2023, January 23). In *Wikipedia*. https://en.wikipedia.org/wiki/Data\n",
        "\n",
        "Data is dumb. Data needs context.\n",
        "\n",
        "* GPA, used a lot but doesn't count the difficulty of the courses taken\n",
        "\n",
        "* It was found that workers who take frequent breaks died earlier than others\n",
        "    * That's because they were out smoking\n",
        "\n",
        "### Data Needs to be Reliable\n",
        "\n",
        "* Consistency of a measure (whether the results can be reproduced under the same conditions)\n",
        "\n",
        "### Data Needs to be Valid\n",
        "\n",
        "* The accuracy of a measure (whether the results really do represent what they are supposed to measure)\n",
        "\n",
        "### Precision vs Accuracy\n",
        "\n",
        "* Precision: exactitude of describing something\n",
        "* Accuracy: how consistent to the truth\n",
        "* Where's the library? About 1.6 miles from here (precise but not to useful) vs. go down this street a couple of blocks till you pass a bank. It'll be to the right. If you pass the fire station, you've gone too far\n",
        "\n",
        "### Statistical Models for Data\n",
        "\n",
        "* A formal representation of relationships between variables we use to describe or explain something"
      ]
    },
    {
      "cell_type": "markdown",
      "id": "0edbb01a",
      "metadata": {
        "id": "0edbb01a"
      },
      "source": [
        "## Data Starts with a Question\n",
        "\n",
        "According to Wikipedia (2022):\n",
        "\n",
        ">  A research question is a question that a research project sets out to answer'. Choosing a research question is an essential element of both quantitative and qualitative research. Investigation will require data collection and analysis, and the methodology for this will vary widely. Good research questions seek to improve knowledge on an important topic, and are usually narrow and specific (para 1).\n",
        "\n",
        "Research Question. (2022, January 24). In *Wikipedia*. https://en.wikipedia.org/wiki/Research_question"
      ]
    },
    {
      "cell_type": "markdown",
      "id": "259d6803",
      "metadata": {
        "id": "259d6803"
      },
      "source": [
        "## Parameter vs Statistic\n",
        "\n",
        "* https://www.statisticshowto.com/statistics-basics/how-to-tell-the-difference-between-a-statistic-and-a-parameter/\n",
        "* Parameter describes population, statistic describes sample\n",
        "\n",
        "### Statistical Inference\n",
        "\n",
        "According to Wikipedia (2022):\n",
        "\n",
        ">  the process of using data analysis to infer properties of an underlying distribution of probability (para 1).\n",
        "\n",
        "Statistical Inference. (2022, January 24). In *Wikipedia*. https://en.wikipedia.org/wiki/Statistical_inference.\n",
        "\n",
        "https://www.analyticsvidhya.com/blog/2022/03/an-overview-of-data-collection-data-sources-and-data-mining/\n",
        "\n",
        "* Mean and standard deviation of a sample should be similar to the mean and standard deviation of the population\n",
        "* Mean: where most of the observations lie with a distribution variance that is symmetrical\n",
        "* Standard Deviation: a way to measure how far observations are from the mean, on the x axis, in terms similar to the data it represents"
      ]
    },
    {
      "cell_type": "code",
      "execution_count": null,
      "id": "5eb0548c",
      "metadata": {
        "id": "5eb0548c"
      },
      "outputs": [],
      "source": [
        "# normal distribution - what mean and standard deviation look like for the population\n"
      ]
    },
    {
      "cell_type": "code",
      "execution_count": null,
      "id": "a7d27c59",
      "metadata": {
        "id": "a7d27c59"
      },
      "outputs": [],
      "source": [
        "# what the mean and standard deviation looks like for the sample\n"
      ]
    },
    {
      "cell_type": "markdown",
      "id": "6e50a1e9",
      "metadata": {
        "id": "6e50a1e9"
      },
      "source": [
        "## Jeff Seder\n",
        "\n",
        "Everybody Lies\n",
        "    \n",
        "* Jeff Seder was hired by an Egyptian Beer Magnate, named Ahmed Zayat, who was into horses and horse racing, as a consultant\n",
        "    * There was a sale of 152 one year old horses\n",
        "    * One of those horses, an average horse designated number 85, was owned by Zayat\n",
        "    * At the time Jeff Seder and his team were unable to recommend the purchase of any of the horses\n",
        "    * But was adamant about not selling No. 85 even though similar horses were going for 1 million dollars\n",
        "    * Three months later, Zayat named the horse American Pharoah\n",
        "    * 18 months later American Pharoah won the Triple Crown\n",
        "    \n",
        "* How did Seder know?\n",
        "    * Was it through pedigree? father, mother, grand parents, etc.\n",
        "    * Gaits (a manner of walk, trot, canter, and gallop)?\n",
        "    * Years of data collection resulted in frustration for Seder\n",
        "    * Measured the size of nostrils (produced a book on horse nostrils)\n",
        "    * EKGs\n",
        "    * Dug through horse poop\n",
        "    * Finally found that the size of the heart specifically the left ventricle and spleen mattered\n",
        "    \n",
        "* Data on American Pharoah:\n",
        "    * Height: 56 percentile\n",
        "    * Weight: 61 percentile\n",
        "    * Pedigree: 70 percentile\n",
        "    * Left Ventricle: 99.61 percentile\n",
        "\n"
      ]
    },
    {
      "cell_type": "markdown",
      "source": [
        "## Garbage In Garbage Out (GIGO)\n",
        "\n",
        "GI of GIGO\n",
        "\n",
        "* Wrong\n",
        "* Too Different\n",
        "* Too Similar\n",
        "* Missing\n",
        "* Terrible statistical assertions result from good statistical methods applied to bad samples\n",
        "\n",
        "### Good Data - Data Needs Three Things\n",
        "\n",
        "1. The sample is representative of the population\n",
        "    * One way to achieve this is through simple random sample\n",
        "    * Larger the better\n",
        "    * A representative sample opens possibilities from a hundred years of statistical methods\n",
        "    * Getting a good sample isn't easy\n",
        "2. Data should show comparison\n",
        "    * Differences between groups\n",
        "    * Does a method improve something\n",
        "    * In the movie Caddyshack, golf related comedy, Chevy Chase is asked how his scores compare with others\n",
        "        * I really don't keep score\n",
        "        * But then how do you compare with others\n",
        "        * By height\n",
        "3. Sometimes we collect data just because\n",
        "    * Like a crime scene, collect all the clues you can find\n",
        "    * Data are like clues\n"
      ],
      "metadata": {
        "id": "3TLHybIJ8SCR"
      },
      "id": "3TLHybIJ8SCR"
    },
    {
      "cell_type": "markdown",
      "source": [
        "## Data Science for Business\n",
        "\n",
        "by Foster Provost and Tom Fawcett\n",
        "\n",
        "A critical skill in data science is the ability to decompose a problem into a known solution and work the solution\n",
        "\n",
        "* Data Analysis\n",
        "* Machine Learning\n",
        "* Artificial Intelligence\n",
        "* Math\n",
        "* Statistics\n",
        "* Computer Science\n",
        "* Information Technology\n",
        "* Business Knowledge\n",
        "* Classification: predicts yes or no\n",
        "* Regression: predicts how much\n",
        "* Profiling"
      ],
      "metadata": {
        "id": "v95shbr4IQdn"
      },
      "id": "v95shbr4IQdn"
    },
    {
      "cell_type": "markdown",
      "id": "a3076611",
      "metadata": {
        "id": "a3076611"
      },
      "source": [
        "## Getting the Data: Toy Datasets"
      ]
    },
    {
      "cell_type": "markdown",
      "id": "26b9c5e9",
      "metadata": {
        "id": "26b9c5e9"
      },
      "source": [
        "### Sklearn\n",
        "\n",
        "* https://scikit-learn.org/stable/datasets.html"
      ]
    },
    {
      "cell_type": "code",
      "execution_count": null,
      "id": "dd40e354",
      "metadata": {
        "id": "dd40e354"
      },
      "outputs": [],
      "source": [
        "# fetch california housing"
      ]
    },
    {
      "cell_type": "code",
      "execution_count": null,
      "id": "cf385ea6",
      "metadata": {
        "id": "cf385ea6"
      },
      "outputs": [],
      "source": [
        "# get keys\n"
      ]
    },
    {
      "cell_type": "code",
      "execution_count": null,
      "id": "5e2816bb",
      "metadata": {
        "id": "5e2816bb"
      },
      "outputs": [],
      "source": [
        "# get description\n"
      ]
    },
    {
      "cell_type": "code",
      "execution_count": null,
      "id": "639d8790",
      "metadata": {
        "id": "639d8790"
      },
      "outputs": [],
      "source": [
        "# print feature and target names\n"
      ]
    },
    {
      "cell_type": "code",
      "execution_count": null,
      "id": "1c62c6de",
      "metadata": {
        "id": "1c62c6de"
      },
      "outputs": [],
      "source": [
        "# create housing dataframe\n"
      ]
    },
    {
      "cell_type": "code",
      "execution_count": null,
      "id": "3e85a2e3",
      "metadata": {
        "id": "3e85a2e3"
      },
      "outputs": [],
      "source": [
        "# alternative method\n"
      ]
    },
    {
      "cell_type": "markdown",
      "id": "898e3324",
      "metadata": {
        "id": "898e3324"
      },
      "source": [
        "### Seaborn\n",
        "\n",
        "* https://seaborn.pydata.org/generated/seaborn.load_dataset.html"
      ]
    },
    {
      "cell_type": "code",
      "execution_count": null,
      "id": "149d2500",
      "metadata": {
        "id": "149d2500"
      },
      "outputs": [],
      "source": [
        "# get list of seaborn datasets\n"
      ]
    },
    {
      "cell_type": "code",
      "execution_count": null,
      "id": "20ed687d",
      "metadata": {
        "id": "20ed687d"
      },
      "outputs": [],
      "source": [
        "# loading seaborn dataset\n"
      ]
    },
    {
      "cell_type": "code",
      "execution_count": null,
      "id": "8001945a",
      "metadata": {
        "id": "8001945a"
      },
      "outputs": [],
      "source": [
        "# look at origin labels\n"
      ]
    },
    {
      "cell_type": "markdown",
      "id": "fc8f5538",
      "metadata": {
        "id": "fc8f5538"
      },
      "source": [
        "### Online Repositories\n",
        "* https://archive.ics.uci.edu/\n",
        "* http://lib.stat.cmu.edu/datasets/\n",
        "* https://www.kaggle.com/datasets"
      ]
    },
    {
      "cell_type": "code",
      "source": [
        "# UC Irvine Machine Learning Repository example (iris)\n"
      ],
      "metadata": {
        "id": "l32Jruo-KYCf"
      },
      "id": "l32Jruo-KYCf",
      "execution_count": null,
      "outputs": []
    },
    {
      "cell_type": "code",
      "source": [
        "# copy uci's example"
      ],
      "metadata": {
        "id": "lr0wLTGOLCcX"
      },
      "id": "lr0wLTGOLCcX",
      "execution_count": null,
      "outputs": []
    },
    {
      "cell_type": "code",
      "source": [
        "# create dataframe from uci url"
      ],
      "metadata": {
        "id": "ogIP0mEILlHk"
      },
      "id": "ogIP0mEILlHk",
      "execution_count": null,
      "outputs": []
    },
    {
      "cell_type": "markdown",
      "id": "64377d9a",
      "metadata": {
        "id": "64377d9a"
      },
      "source": [
        "### .csv\n",
        "\n",
        "Get Advertising.csv from dataset repository and put it into session storage"
      ]
    },
    {
      "cell_type": "code",
      "execution_count": null,
      "id": "bcab4d37",
      "metadata": {
        "id": "bcab4d37"
      },
      "outputs": [],
      "source": [
        "# put advertising dataset into session"
      ]
    },
    {
      "cell_type": "code",
      "execution_count": null,
      "id": "47e1364a",
      "metadata": {
        "id": "47e1364a"
      },
      "outputs": [],
      "source": [
        "# use cols"
      ]
    },
    {
      "cell_type": "markdown",
      "id": "abb57721",
      "metadata": {
        "id": "abb57721"
      },
      "source": [
        "### .data\n",
        "\n",
        "get auto-mpg.data from class repository"
      ]
    },
    {
      "cell_type": "code",
      "execution_count": null,
      "id": "2bc209c1",
      "metadata": {
        "id": "2bc209c1"
      },
      "outputs": [],
      "source": [
        "# sep data example\n"
      ]
    },
    {
      "cell_type": "code",
      "execution_count": null,
      "id": "a7207616",
      "metadata": {
        "id": "a7207616"
      },
      "outputs": [],
      "source": [
        "# reading from url\n"
      ]
    },
    {
      "cell_type": "markdown",
      "id": "9dc32dfd",
      "metadata": {
        "id": "9dc32dfd"
      },
      "source": [
        "### Simulated Data"
      ]
    },
    {
      "cell_type": "code",
      "execution_count": null,
      "id": "aa2a0947",
      "metadata": {
        "id": "aa2a0947"
      },
      "outputs": [],
      "source": [
        "# example with make_regression with noise=0\n"
      ]
    },
    {
      "cell_type": "code",
      "execution_count": null,
      "id": "1af1f358",
      "metadata": {
        "id": "1af1f358"
      },
      "outputs": [],
      "source": [
        "# example with make_regression with noise=50\n"
      ]
    },
    {
      "cell_type": "markdown",
      "id": "cbf36cc1",
      "metadata": {
        "id": "cbf36cc1"
      },
      "source": [
        "### Using a Codebook\n",
        "\n",
        "https://www.kaggle.com/rhuebner/human-resources-data-set<br />\n",
        "https://rpubs.com/rhuebner/hrd_cb_v14"
      ]
    },
    {
      "cell_type": "markdown",
      "id": "cfbdf963",
      "metadata": {
        "id": "cfbdf963"
      },
      "source": [
        "### Excel: Text to Column\n",
        "\n",
        "* Download the student.zip file from http://archive.ics.uci.edu/ml/machine-learning-databases/00320/\n",
        "* Unzip to an appropriate folder, and open student-mat.csv in Excel (HINT: Right-click on student-mat.csv and choose Open with Excel)\n",
        "* Save this file as student-mat.xlsx\n",
        "* Use Text to Column to format data\n",
        "* HINT: select all the data in the first column before using Text to Column and then use the semicolon as the Delimiter"
      ]
    },
    {
      "cell_type": "markdown",
      "source": [
        "## Sampling\n",
        "\n",
        "According to Wikipedia (2022):\n",
        "\n",
        ">  Sampling is the selection of a subset (a statistical sample) of individuals from within a statistical population [similar elements] to estimate characteristics of the whole population (para 1).\n",
        "\n",
        "Sampling. (2022, January 24). In *Wikipedia*.https://en.wikipedia.org/wiki/Sampling_(statistics)\n",
        "\n",
        "### Probabilistic Sampling\n",
        "\n",
        "* Simple random sampling: https://www.statisticshowto.com/probability-and-statistics/statistics-definitions/simple-random-sample/\n",
        "* Systematic sampling: https://www.open.edu/openlearncreate/mod/oucontent/view.php?id=233&section=1.5.2\n",
        "* Stratified sampling: https://www.geeksforgeeks.org/stratified-sampling-in-pandas/\n",
        "* Clustering: https://www.voxco.com/blog/stratified-sampling-vs-cluster-sampling/\n",
        "\n",
        "### Non-Probabilistic Sampling Methods\n",
        "\n",
        "https://www.analyticsvidhya.com/blog/2019/09/data-scientists-guide-8-types-of-sampling-techniques/\n",
        "* Convenience sampling\n",
        "* Quota sampling\n",
        "* Snowball sampling\n"
      ],
      "metadata": {
        "id": "FAAleOeJ8gfW"
      },
      "id": "FAAleOeJ8gfW"
    },
    {
      "cell_type": "code",
      "source": [
        "# numpy's random module\n"
      ],
      "metadata": {
        "id": "jJuaqE2dHx7S"
      },
      "id": "jJuaqE2dHx7S",
      "execution_count": null,
      "outputs": []
    },
    {
      "cell_type": "code",
      "source": [
        "# create population\n",
        "# https://stats.stackexchange.com/questions/560281/what-is-the-meaning-of-loc-and-scale-for-the-distributions-in-scipy-stats\n"
      ],
      "metadata": {
        "id": "3dJZH-zN_aL3"
      },
      "id": "3dJZH-zN_aL3",
      "execution_count": null,
      "outputs": []
    },
    {
      "cell_type": "code",
      "source": [
        "# random sample\n"
      ],
      "metadata": {
        "id": "1QcGSMjqBn1L"
      },
      "id": "1QcGSMjqBn1L",
      "execution_count": null,
      "outputs": []
    },
    {
      "cell_type": "code",
      "source": [
        "# matrix of rows and columns\n"
      ],
      "metadata": {
        "id": "DMa7xaH8HjPK"
      },
      "id": "DMa7xaH8HjPK",
      "execution_count": null,
      "outputs": []
    },
    {
      "cell_type": "code",
      "source": [
        "# slicing col [row, col]\n"
      ],
      "metadata": {
        "id": "Fm-Kh5CFHQDj"
      },
      "id": "Fm-Kh5CFHQDj",
      "execution_count": null,
      "outputs": []
    },
    {
      "cell_type": "code",
      "source": [
        "# slicing row [row start: end, col]\n"
      ],
      "metadata": {
        "id": "zUvADxyPIT3r"
      },
      "id": "zUvADxyPIT3r",
      "execution_count": null,
      "outputs": []
    },
    {
      "cell_type": "code",
      "source": [
        "# slicing [row start: end, col start: end]\n"
      ],
      "metadata": {
        "id": "CqOYV7gRIrbs"
      },
      "id": "CqOYV7gRIrbs",
      "execution_count": null,
      "outputs": []
    },
    {
      "cell_type": "code",
      "source": [
        "# slicing [row start: end, col start: end]\n"
      ],
      "metadata": {
        "id": "U1bgmCmBI6Gq"
      },
      "id": "U1bgmCmBI6Gq",
      "execution_count": null,
      "outputs": []
    },
    {
      "cell_type": "code",
      "source": [
        "# systematic sampling [start, end, interval]\n"
      ],
      "metadata": {
        "id": "BAZjFL2mJc1W"
      },
      "id": "BAZjFL2mJc1W",
      "execution_count": null,
      "outputs": []
    },
    {
      "cell_type": "code",
      "source": [
        "# cluster sampling\n"
      ],
      "metadata": {
        "id": "UwgPh7LkTvAU"
      },
      "id": "UwgPh7LkTvAU",
      "execution_count": null,
      "outputs": []
    },
    {
      "cell_type": "code",
      "source": [
        "# weighted"
      ],
      "metadata": {
        "id": "4yOYSUtenEaw"
      },
      "id": "4yOYSUtenEaw",
      "execution_count": null,
      "outputs": []
    },
    {
      "cell_type": "code",
      "source": [
        "# stratified"
      ],
      "metadata": {
        "id": "m7vWFDGNnGaI"
      },
      "id": "m7vWFDGNnGaI",
      "execution_count": null,
      "outputs": []
    },
    {
      "cell_type": "markdown",
      "source": [
        "## Bias\n",
        "* Selection bias: How did a politician win?\n",
        "* Publication bias: Video games do not cause colon cancer vs. spending a lot of time playing video games do have a lower incidence of colon cancer\n",
        "* Recall bias: Memory is selective\n",
        "* Survivorship bias: Students did better on tests each of their four years (those that didn't do so well dropped out)\n",
        "\n",
        "Example of a Texas school district needing good scores on a standard achievement test given in 10th grade so they held back poor performers in 9th grade and then bumped them up to 11th grade after a couple of years"
      ],
      "metadata": {
        "id": "lxDwuP4VNJyD"
      },
      "id": "lxDwuP4VNJyD"
    },
    {
      "cell_type": "markdown",
      "source": [
        "## Big Data\n",
        "\n",
        "How Data Happened, Wiggins and Jones\n",
        "\n",
        "* Better tools, services, and public goods or privacy incursions and invasive marketing?\n",
        "* Understand online communities and political movements or track protesters and suppress speech?\n",
        "* Transform how we study human communication and culture or narrow research options and alter what research means?\n",
        "* Tendency with too much data is selecting what we like and ignoring the rest\n",
        "* Whiteout like a snowstorm blinds us from the signal, or presents to many signals, start seeing patterns in random noise\n",
        "* Noise is increasing faster than information\n",
        "* As Nate Silvers says in his book Signal in the Noise, noise distracts us from the truth (objective truth?)\n",
        "* Objective Truth is what exists and can be proved in this physicality. (The sun moves across the sky each day.)\n",
        "* Normative Truth is what we, as a group, agree is true. (English speakers agreed to use the word day to name that time when the sky is lit by the sun.)\n",
        "* Subjective Truth is how the individual sees or experiences the world. (Today is a good day for me.)\n",
        "* Complex Truth recognizes the validity of all those truths and allows you to focus on the one is most useful at any given time. (The sun is up; the day is bright. Today is a good day for MOM, so lets take advantage of that and ask for ice cream for dinner.)\n",
        "* An objective statement is factual; it has a definite correspondence to reality, independent of anyone's feelings or biases.\n",
        "* The distinction between subjectivity and objectivity is a basic idea of philosophy, particularly epistemology and metaphysics. It is often related to discussions of consciousness, agency, personhood, philosophy of mind, philosophy of language, reality, truth, and communication.\n",
        "\n",
        "Resources:\n",
        "\n",
        "* https://www.hsdinstitute.org/resources/four-truths.html\n",
        "* https://www.gotquestions.org/objective-truth.html\n",
        "* https://en.wikipedia.org/wiki/Subjectivity_and_objectivity_(philosophy)\n"
      ],
      "metadata": {
        "id": "YYp3ofIBWNPu"
      },
      "id": "YYp3ofIBWNPu"
    },
    {
      "cell_type": "markdown",
      "source": [
        "## Randomized Controlled Trials (RCTs or AB Testing), Multicollinearity, and Confounders\n",
        "\n",
        "Child's shoe size and reading level is correlated but consider the child's age\n",
        "\n",
        "* Randomized Controlled Trial: A study design that randomly assigns participants into an experimental group or a control group. As the study is conducted, the only expected difference between the control and experimental groups in a randomized controlled trial (RCT) is the outcome variable being studied.\n",
        "* Multicollinearity: two or more independent variables are correlated with each other\n",
        "    * Removing variables?\n",
        "* Confounders\n",
        "  * An extraneous variable whose presence affects the variables being studied so that the results do not reflect the actual relationship between the variables under study.\n",
        "  * A variable that influences both the dependent variable and independent variable, causing a spurious association.\n",
        "* Lurking variable\n",
        "  * A lurking variable is a variable that is not included in a statistical analysis but can still affect the outcome of that analysis\n",
        "* Statistical Control\n",
        "    * Variables may be controlled directly by holding them constant throughout a study\n",
        "    * This hurts confounders as they share a relationship for what's being controlled\n",
        "    * Confounders need to be considered in the big picture\n",
        "    * Sometimes you end up controlling the thing you are trying to measure (Ezra Klein)\n",
        "    \n",
        "Sources:\n",
        "* https://himmelfarb.gwu.edu/tutorials/studydesign101/rcts.cfm\n",
        "* https://harini.blog/2021/10/10/understanding-multicollinearity-and-condounding-variables-in-regression/\n",
        "* https://statisticsbyjim.com/basics/lurking-variable/"
      ],
      "metadata": {
        "id": "s7IcZ-57Vj7c"
      },
      "id": "s7IcZ-57Vj7c"
    },
    {
      "cell_type": "markdown",
      "source": [
        "## Data Types\n",
        "\n",
        "* Numerical: has measurement\n",
        "    * Discrete: can be counted (number of people in a class)\n",
        "    * Continuous: described as a measurement (height, weight, temps), usually rounded off\n",
        "* Categorical: some type of group, category, that can be represented by a number (female: 1, male: 2) but have no mathematical meaning\n",
        "* Nominal: named or labeled (31 flavors)\n",
        "* Ordinal: ordered or scaled (first, second, etc, very happy, happy, meh, sad, very sad)\n",
        "* Cardinal: the number of things, counted (1, 2, 3, 4, 6, etc)\n",
        "* Interval: ordered numbers with equal distances (50 degrees, 60 degrees, etc)\n",
        "* Ratio: has a true zero (can't have height of -2 inches, distance between 1 and 2 is the same as 3 and 4 and 4 is twice 2)"
      ],
      "metadata": {
        "id": "U5kgmdYGVFSY"
      },
      "id": "U5kgmdYGVFSY"
    },
    {
      "cell_type": "markdown",
      "id": "25d38de3",
      "metadata": {
        "id": "25d38de3"
      },
      "source": [
        "## Types in Python and Casting\n",
        "\n",
        "Converting values from one type to another"
      ]
    },
    {
      "cell_type": "code",
      "execution_count": null,
      "id": "43200d04",
      "metadata": {
        "id": "43200d04"
      },
      "outputs": [],
      "source": [
        "# examples of type and conversion of types https://www.w3schools.com/python/python_casting.asp\n"
      ]
    },
    {
      "cell_type": "markdown",
      "id": "07eee1a2",
      "metadata": {
        "id": "07eee1a2"
      },
      "source": [
        "## Three Types of Data Analysis"
      ]
    },
    {
      "cell_type": "markdown",
      "id": "78b44513",
      "metadata": {
        "id": "78b44513"
      },
      "source": [
        "### Univariate Analysis\n",
        "\n",
        "According to Wikipedia (2022):\n",
        "\n",
        ">  Univariate analysis is the simplest form of analyzing data. Uni means one, so in other words the data has only one variable. Univariate data requires to analyze each variable separately. Data is gathered for the purpose of answering a question, or more specifically, a research question. Univariate data does not answer research questions about relationships between variables, but rather it is used to describe one characteristic or attribute that varies from observation to observation (para 4).\n",
        "\n",
        "Univariate (statistics). (2022, January 24). In *Wikipedia*. https://en.wikipedia.org/wiki/Univariate_(statistics)."
      ]
    },
    {
      "cell_type": "markdown",
      "id": "19efe84f",
      "metadata": {
        "id": "19efe84f"
      },
      "source": [
        "### Note About read_csv\n",
        "\n",
        "* https://pandas.pydata.org/docs/reference/api/pandas.read_csv.html\n",
        "* ',' is default since csv is used in the method name\n",
        "* Defining our sep such as \\s+"
      ]
    },
    {
      "cell_type": "code",
      "execution_count": null,
      "id": "efd61fa9",
      "metadata": {
        "id": "efd61fa9"
      },
      "outputs": [],
      "source": [
        "# auto-mpg.data from class repository"
      ]
    },
    {
      "cell_type": "code",
      "execution_count": null,
      "id": "57808e3d",
      "metadata": {
        "id": "57808e3d"
      },
      "outputs": [],
      "source": [
        "# shape and info\n"
      ]
    },
    {
      "cell_type": "code",
      "execution_count": null,
      "id": "9c6dd7c9",
      "metadata": {
        "id": "9c6dd7c9"
      },
      "outputs": [],
      "source": [
        "# example of univariate histogram\n"
      ]
    },
    {
      "cell_type": "code",
      "execution_count": null,
      "id": "0c116d01",
      "metadata": {
        "id": "0c116d01"
      },
      "outputs": [],
      "source": [
        "# example of univariate pie chart\n"
      ]
    },
    {
      "cell_type": "markdown",
      "id": "5e64c95b",
      "metadata": {
        "id": "5e64c95b"
      },
      "source": [
        "### Bivariate Analysis\n",
        "\n",
        "* Used to describe the relationship between two variables such as between a feature and the target\n",
        "* The green lines show the numeric value of the means of the two variables\n",
        "* We lose confidence the further we get from where the two means cross\n",
        "\n",
        "Confidence intervals are about parameters not samples; e.g. the majority of the points in the OP's image are not within the shaded area (also seaborn uses 95% CIs by default). a better intuition in this example is that the data is consistent with any slope that passes through the CI. The reason it expands at the ends is because the data gives \"less information\" there.\n",
        "\n",
        "https://stackoverflow.com/questions/62167783/what-does-the-background-area-mean-in-seaborn-regression-plot\n",
        "\n",
        "If I construct a CI at some point x (slope), then I'm 95% confident that the regression line (not necessarily the mean) will be in the interval, vs the true population mean which is a fixed unknown value that is either inside or outside the CI with 100% certainty."
      ]
    },
    {
      "cell_type": "code",
      "execution_count": null,
      "id": "26751986",
      "metadata": {
        "id": "26751986"
      },
      "outputs": [],
      "source": [
        "# bivariate scatter plot\n"
      ]
    },
    {
      "cell_type": "markdown",
      "id": "2571c261",
      "metadata": {
        "id": "2571c261"
      },
      "source": [
        "### Multivariate Analysis\n",
        "\n",
        "Analysis using more than two variables"
      ]
    },
    {
      "cell_type": "code",
      "execution_count": null,
      "id": "f8fcb34d",
      "metadata": {
        "id": "f8fcb34d"
      },
      "outputs": [],
      "source": [
        "# showing correlation of multiple features with one target\n",
        "# ['displacement', 'horsepower', 'weight', 'acceleration']\n"
      ]
    },
    {
      "cell_type": "markdown",
      "id": "b9e3d107",
      "metadata": {
        "id": "b9e3d107"
      },
      "source": [
        "## Feature and Target Names\n",
        "<table align=\"left\">\n",
        "    <tr>\n",
        "        <th>Independent Variables (X)</th>\n",
        "        <th>Dependent Variable (y)</th>\n",
        "    <tr>\n",
        "    <tr>\n",
        "        <td>Features</td>\n",
        "        <td>Target</td>\n",
        "    </tr>\n",
        "    <tr>\n",
        "        <td>Regressors</td>\n",
        "        <td>Regressand</td>\n",
        "    </tr>\n",
        "    <tr>\n",
        "        <td>Predictors</td>\n",
        "        <td>Response</td>\n",
        "    </tr>\n",
        "    <tr>\n",
        "        <td>Observations</td>\n",
        "        <td>Outcomes</td>\n",
        "    </tr>\n",
        "    <tr>\n",
        "        <td>Explanatory</td>\n",
        "        <td>Labels</td>\n",
        "    </tr>\n",
        "    <tr>\n",
        "        <td>Input</td>\n",
        "        <td>Output</td>\n",
        "    </tr>\n",
        "    <tr>\n",
        "        <td>exog (exogenous)</td>\n",
        "        <td>endog (endogenous)</td>\n",
        "    </tr>\n",
        "</table>"
      ]
    },
    {
      "cell_type": "markdown",
      "id": "cee1b272",
      "metadata": {
        "id": "cee1b272"
      },
      "source": [
        "## Predictive Model Example"
      ]
    },
    {
      "cell_type": "code",
      "execution_count": null,
      "id": "7e59a858",
      "metadata": {
        "id": "7e59a858"
      },
      "outputs": [],
      "source": [
        "# complete a bare bone predictive model for the auto_mpg dataset using only the numeric data and identify problems\n",
        "# https://raw.githubusercontent.com/gitmystuff/Datasets/main/auto-mpg.data\n",
        "# ['mpg', 'cylinders', 'displacement', 'horsepower', 'weight', 'acceleration', 'model year', 'origin',  'car name']\n"
      ]
    },
    {
      "cell_type": "code",
      "execution_count": null,
      "id": "1fe327ae",
      "metadata": {
        "id": "1fe327ae"
      },
      "outputs": [],
      "source": [
        "# description\n"
      ]
    },
    {
      "cell_type": "code",
      "source": [
        "# check for non-numeric values"
      ],
      "metadata": {
        "id": "usByco-35f5S"
      },
      "id": "usByco-35f5S",
      "execution_count": null,
      "outputs": []
    },
    {
      "cell_type": "code",
      "source": [
        "# what is a mask"
      ],
      "metadata": {
        "id": "ZcDfK0bR5i-r"
      },
      "id": "ZcDfK0bR5i-r",
      "execution_count": null,
      "outputs": []
    },
    {
      "cell_type": "code",
      "execution_count": null,
      "id": "385f94d8",
      "metadata": {
        "id": "385f94d8"
      },
      "outputs": [],
      "source": [
        "# correct horsepower\n"
      ]
    },
    {
      "cell_type": "code",
      "execution_count": null,
      "id": "c0a5b3d5",
      "metadata": {
        "id": "c0a5b3d5"
      },
      "outputs": [],
      "source": [
        "# just use ['displacement', 'horsepower', 'weight', 'acceleration']\n"
      ]
    },
    {
      "cell_type": "code",
      "execution_count": null,
      "id": "ccdd8777",
      "metadata": {
        "id": "ccdd8777"
      },
      "outputs": [],
      "source": [
        "# some descriptives\n"
      ]
    },
    {
      "cell_type": "code",
      "execution_count": null,
      "id": "6fd134eb",
      "metadata": {
        "id": "6fd134eb"
      },
      "outputs": [],
      "source": [
        "# show histograms\n"
      ]
    },
    {
      "cell_type": "code",
      "execution_count": null,
      "id": "f6c78376",
      "metadata": {
        "id": "f6c78376"
      },
      "outputs": [],
      "source": [
        "# train test split (next week)\n"
      ]
    },
    {
      "cell_type": "code",
      "execution_count": null,
      "id": "eb00325c",
      "metadata": {
        "id": "eb00325c"
      },
      "outputs": [],
      "source": [
        "# train and test model\n"
      ]
    }
  ],
  "metadata": {
    "kernelspec": {
      "display_name": "Python 3 (ipykernel)",
      "language": "python",
      "name": "python3"
    },
    "language_info": {
      "codemirror_mode": {
        "name": "ipython",
        "version": 3
      },
      "file_extension": ".py",
      "mimetype": "text/x-python",
      "name": "python",
      "nbconvert_exporter": "python",
      "pygments_lexer": "ipython3",
      "version": "3.9.7"
    },
    "colab": {
      "provenance": [],
      "toc_visible": true,
      "include_colab_link": true
    }
  },
  "nbformat": 4,
  "nbformat_minor": 5
}