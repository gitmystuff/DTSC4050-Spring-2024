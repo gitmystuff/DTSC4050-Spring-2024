{
  "cells": [
    {
      "cell_type": "markdown",
      "metadata": {
        "id": "view-in-github",
        "colab_type": "text"
      },
      "source": [
        "<a href=\"https://colab.research.google.com/github/gitmystuff/DTSC4050/blob/main/Week_06-Feature_Engineering/Week_06_Assignment.ipynb\" target=\"_parent\"><img src=\"https://colab.research.google.com/assets/colab-badge.svg\" alt=\"Open In Colab\"/></a>"
      ]
    },
    {
      "cell_type": "markdown",
      "id": "7cc4062f",
      "metadata": {
        "id": "7cc4062f"
      },
      "source": [
        "# Week 06 - Assignment\n",
        "Name"
      ]
    },
    {
      "cell_type": "markdown",
      "id": "4f69acfd",
      "metadata": {
        "id": "4f69acfd"
      },
      "source": [
        "### Part 1\n",
        "\n",
        "https://scikit-learn.org/stable/modules/generated/sklearn.datasets.load_breast_cancer.html#sklearn.datasets.load_breast_cancer\n",
        "\n",
        "* Using the fetch_california_housing example discussed in class, perform the following for the load_breast_cancer toy dataset\n",
        "* Show the keys\n",
        "* Create a dataframe\n",
        "* Include the feature names as columns\n",
        "* Include the target (y) and use 'target' as the column name\n",
        "* Show the head\n",
        "* Train_test_split and show the shapes X_train and X_test\n",
        "* Standardize X_train and X_test\n",
        "* Create a dataframe for the standardized X_train and show the head"
      ]
    },
    {
      "cell_type": "code",
      "execution_count": null,
      "id": "4405d28d",
      "metadata": {
        "id": "4405d28d"
      },
      "outputs": [],
      "source": [
        "# show keys of load_breast_cancer\n"
      ]
    },
    {
      "cell_type": "code",
      "execution_count": null,
      "id": "ea07f847",
      "metadata": {
        "id": "ea07f847"
      },
      "outputs": [],
      "source": [
        "# create dataframe\n"
      ]
    },
    {
      "cell_type": "code",
      "execution_count": null,
      "id": "1b8212d2",
      "metadata": {
        "id": "1b8212d2"
      },
      "outputs": [],
      "source": [
        "# train test split\n"
      ]
    },
    {
      "cell_type": "code",
      "execution_count": null,
      "id": "864f1239",
      "metadata": {
        "id": "864f1239"
      },
      "outputs": [],
      "source": [
        "# standard scale X_train\n"
      ]
    },
    {
      "cell_type": "markdown",
      "id": "fe5a3020",
      "metadata": {
        "id": "fe5a3020"
      },
      "source": [
        "### Part 2\n",
        "\n",
        "* Load Retail_Data.csv into a pandas dataframe and show the head\n",
        "* Train test split using Growth as the target variable\n",
        "* Use value_counts() and print the different labels used for Zone, Retailer_Age, and NPS_Category\n",
        "* One Hot Encode the X_train['Zone', 'Retailer_Age', 'NPS_Category'] features using sklearn one hot encodeer, drop='first'\n",
        "* Show head\n",
        "* Use the trained one hot encoder on the X_test['Zone', 'Retailer_Age', 'NPS_Category'] and show head"
      ]
    },
    {
      "cell_type": "code",
      "execution_count": null,
      "id": "eccffa4d",
      "metadata": {
        "scrolled": true,
        "id": "eccffa4d"
      },
      "outputs": [],
      "source": [
        "# read retail data and display first 5 rows\n",
        "# df = pd.read_csv('https://raw.githubusercontent.com/gitmystuff/INFO4050/main/Datasets/Retail_Data.csv')\n"
      ]
    },
    {
      "cell_type": "code",
      "execution_count": null,
      "id": "0fac3d21",
      "metadata": {
        "id": "0fac3d21"
      },
      "outputs": [],
      "source": [
        "# train test split\n"
      ]
    },
    {
      "cell_type": "code",
      "execution_count": null,
      "id": "eb29e84d",
      "metadata": {
        "id": "eb29e84d"
      },
      "outputs": [],
      "source": [
        "# show value counts\n"
      ]
    },
    {
      "cell_type": "code",
      "execution_count": null,
      "id": "d2f06e98",
      "metadata": {
        "id": "d2f06e98"
      },
      "outputs": [],
      "source": [
        "# use sklearn one hot encoder\n"
      ]
    },
    {
      "cell_type": "code",
      "execution_count": null,
      "id": "20032a05",
      "metadata": {
        "id": "20032a05"
      },
      "outputs": [],
      "source": [
        "# ohe is already trained so use it for test dataset\n"
      ]
    }
  ],
  "metadata": {
    "kernelspec": {
      "display_name": "Python 3 (ipykernel)",
      "language": "python",
      "name": "python3"
    },
    "language_info": {
      "codemirror_mode": {
        "name": "ipython",
        "version": 3
      },
      "file_extension": ".py",
      "mimetype": "text/x-python",
      "name": "python",
      "nbconvert_exporter": "python",
      "pygments_lexer": "ipython3",
      "version": "3.9.7"
    },
    "colab": {
      "provenance": [],
      "include_colab_link": true
    }
  },
  "nbformat": 4,
  "nbformat_minor": 5
}