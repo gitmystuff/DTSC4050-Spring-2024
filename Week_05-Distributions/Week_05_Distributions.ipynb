{
  "cells": [
    {
      "cell_type": "markdown",
      "metadata": {
        "id": "view-in-github",
        "colab_type": "text"
      },
      "source": [
        "<a href=\"https://colab.research.google.com/github/gitmystuff/DTSC4050/blob/main/Week_05-Distributions/Week_05_Distributions.ipynb\" target=\"_parent\"><img src=\"https://colab.research.google.com/assets/colab-badge.svg\" alt=\"Open In Colab\"/></a>"
      ]
    },
    {
      "cell_type": "markdown",
      "id": "c00f8a06",
      "metadata": {
        "id": "c00f8a06"
      },
      "source": [
        "# Week 05 - Distributions"
      ]
    },
    {
      "cell_type": "markdown",
      "source": [
        "## Getting Started\n",
        "\n",
        "* Colab - get notebook from gitmystuff DTSC4050 repository\n",
        "* Save a Copy in Drive\n",
        "* Remove Copy of\n",
        "* Edit name\n",
        "* Take attendance\n",
        "* Clean up Colab Notebooks folder\n",
        "* Submit shared link"
      ],
      "metadata": {
        "id": "Ayc3Y80V6j_v"
      },
      "id": "Ayc3Y80V6j_v"
    },
    {
      "cell_type": "markdown",
      "id": "2dd50264",
      "metadata": {
        "id": "2dd50264"
      },
      "source": [
        "## Random Variables\n",
        "\n",
        "Possible outcomes for an event like flipping a coin or throwing a die.\n",
        "\n",
        "According to Wikipedia (2022):\n",
        "\n",
        "> A random variable is a mathematical formalization of a quantity or object which depends on random events. Informally, randomness typically represents some fundamental element of chance, such as in the roll of a dice; it may also represent uncertainty, such as measurement error (para 1).\n",
        "\n",
        "Random variable. (February 6, 2022). In *Wikipedia*. https://en.wikipedia.org/wiki/Random_variable"
      ]
    },
    {
      "cell_type": "markdown",
      "id": "83e075ce",
      "metadata": {
        "id": "83e075ce"
      },
      "source": [
        "### IID: Independent and Identically Distributed\n",
        "\n",
        "According to Wikipedia (2022):\n",
        "\n",
        "> In probability theory and statistics, a collection of random variables is independent and identically distributed if each random variable has the same probability distribution as the others and all are mutually independent. This property is usually abbreviated as i.i.d. or iid or IID. IID was first used in statistics. With the development of science, IID has been applied in different fields such as data mining and signal processing (para. 1).\n",
        "\n",
        "Independent and identically distributed random variables. (February 13, 2022). In *Wikipedia*. https://en.wikipedia.org/wiki/Independent_and_identically_distributed_random_variables\n",
        "\n",
        "https://stackoverflow.com/questions/24204582/generate-multiple-independent-random-streams-in-python\n",
        "\n",
        "https://www.statisticshowto.com/iid-statistics/"
      ]
    },
    {
      "cell_type": "markdown",
      "id": "3da407fd",
      "metadata": {
        "id": "3da407fd"
      },
      "source": [
        "### Discrete Random Variables\n",
        "\n",
        "Countable possible outcomes\n",
        "\n",
        "Rolling dice (2):<br />\n",
        "https://www.thoughtco.com/probabilities-of-rolling-two-dice-3126559"
      ]
    },
    {
      "cell_type": "code",
      "execution_count": null,
      "id": "49f3c12a",
      "metadata": {
        "id": "49f3c12a"
      },
      "outputs": [],
      "source": [
        "# # plot probability distribution\n",
        "# import matplotlib.pyplot as plt\n",
        "\n",
        "# sums = [2, 3, 4, 5, 6, 7, 8, 9, 10, 11, 12]\n",
        "# probs = [1/36, 2/36, 3/36, 4/36, 5/36, 6/36, 5/36, 4/36, 3/36, 2/36, 1/36]\n",
        "\n",
        "# plt.bar(sums, probs)\n",
        "# plt.xlabel('Sum of Dice')\n",
        "# plt.ylabel('Outcome Probability')\n",
        "# plt.title('Probability Distribution')\n",
        "# plt.show();"
      ]
    },
    {
      "cell_type": "markdown",
      "id": "75af3575",
      "metadata": {
        "id": "75af3575"
      },
      "source": [
        "### Continuous Random Variables\n",
        "\n",
        "https://en.wikipedia.org/wiki/Random_variable\n",
        "\n",
        "A continuous random variable X takes all values in a given interval\n",
        "* Height, weight, the amount of sugar in an orange, the time required to run a mile\n",
        "* Often plotted as a curve, or density curve\n",
        "* P(some number) = 0"
      ]
    },
    {
      "cell_type": "code",
      "execution_count": null,
      "id": "b6c8bcc3",
      "metadata": {
        "id": "b6c8bcc3"
      },
      "outputs": [],
      "source": [
        "# # plot normal curve\n",
        "# import numpy as np\n",
        "# import matplotlib.pyplot as plt\n",
        "# import scipy.stats as stats\n",
        "\n",
        "# x = np.linspace(-3, 3, 100)\n",
        "# plt.plot(x, stats.norm.pdf(x, 0, 1))\n",
        "# plt.show()"
      ]
    },
    {
      "cell_type": "markdown",
      "source": [
        "## Probability Functions\n",
        "\n",
        "In probability theory and statistics, a probability distribution is the mathematical function that gives the probabilities of occurrence of different possible outcomes for an experiment. It is a mathematical description of a random phenomenon in terms of its sample space and the probabilities of events (subsets of the sample space).\n",
        "\n",
        "https://en.wikipedia.org/wiki/Probability_distribution"
      ],
      "metadata": {
        "id": "Ts32sDwfj1PO"
      },
      "id": "Ts32sDwfj1PO"
    },
    {
      "cell_type": "markdown",
      "id": "293988fd",
      "metadata": {
        "id": "293988fd"
      },
      "source": [
        "### Parameters of a Population and Sample\n",
        "\n",
        "Parameters are numbers that summarize data for an entire population. A statistic is a number that summarizes data from a sample. Each are notated differently. For example the mean of a population is represented by $\\mu$ and the mean of a statistic is represented by $\\bar{x}$. The formulas look like the following: <br />\n",
        "population mean: $\\mu = \\frac{\\sum{x_i}}{N}$<br />\n",
        "sample mean: $\\bar{x} = \\frac{\\sum{x_i}}{n}$<br />\n",
        "\n",
        "### Parameters of a Parametric Equation\n",
        "\n",
        "Parameters are also used in parametric equations. Any equation expressed in terms of parameters is a parametric equation. For example, y = mx + b (slope/intercept form for the equation of a line), is a parametric equation where m and b are considered the parameters because they remain constant for a given line. The variables x and y change, vary, according to the change in x. Y is dependent on the independent x. In fact, we often refer to y as a function of x, notated like $f(x)$.\n",
        "\n",
        "Most of our datasets contain the X and y so we're not to concerned about finding X. We are concerned with finding the parameters, or the best estimate for our parameters given X. For y = mx + b we want to find the parameters, m & b.\n",
        "\n",
        "For the normal distribution probability density function <br />\n",
        "$\n",
        "\\frac{1}{\\sqrt{2\\pi\\sigma^2}}\\large{e^\\frac{-(x-\\mu)^2}{2\\sigma^2}}\n",
        "$ <br />\n",
        "we want to find $\\mu$ and $\\sigma$. Parameters are often represented together using notation similar to $\\theta = \\{\\mu, \\sigma\\}$.\n",
        "\n",
        "Probability distributions have parameters that define their shape such as mean, variance, and skewness"
      ]
    },
    {
      "cell_type": "code",
      "execution_count": null,
      "id": "4a7195e5",
      "metadata": {
        "id": "4a7195e5"
      },
      "outputs": [],
      "source": [
        "# # the normal curve\n",
        "# import numpy as np\n",
        "# import matplotlib.pyplot as plt\n",
        "# from scipy import stats\n",
        "\n",
        "# X = stats.norm.rvs(size=100000)\n",
        "# X.sort()\n",
        "\n",
        "# parameters = stats.norm.fit(X)\n",
        "# mu, sigma = parameters\n",
        "\n",
        "# print('The area between -3 and 3 is considered to contains 99.73% of the area in the curve')\n",
        "# print('The area between -2 and 2 is considered to contains 95.44% of the area in the curve')\n",
        "# print('The area between -1 and 1 is considered to contains 68.26% of the area in the curve')\n",
        "# print('The line at 0 is the expected average of the normal distribution at 50%')\n",
        "# print()\n",
        "# print('Mean: ', np.mean(X))\n",
        "# print('Median: ', np.median(X))\n",
        "# print('Mode?', X[1])\n",
        "# print('Variance: ', np.var(X))\n",
        "# print('Standard Deviation: ', np.std(X))\n",
        "\n",
        "# fig, ax = plt.subplots()\n",
        "# ax.plot(X, stats.norm.pdf(X, loc=mu, scale=sigma))\n",
        "# ax.hist(X, bins=25, density=True, color='lightgray', alpha=0.5)\n",
        "# ax.set_xlabel('z scores')\n",
        "# # ax.set_ylabel('pdf(x)')\n",
        "# ax.set_xlim(-4, 4)\n",
        "# ax.grid(True)\n",
        "\n",
        "# plt.vlines(x=-3, ymin=0, ymax=stats.norm.pdf(-3, loc=mu, scale=sigma), color='black')\n",
        "# plt.vlines(x=-2, ymin=0, ymax=stats.norm.pdf(-2, loc=mu, scale=sigma), color='red')\n",
        "# plt.vlines(x=-1, ymin=0, ymax=stats.norm.pdf(-1, loc=mu, scale=sigma), color='green')\n",
        "# plt.vlines(x=0, ymin=0, ymax=stats.norm.pdf(0, loc=mu, scale=sigma), color='blue')\n",
        "# plt.vlines(x=1, ymin=0, ymax=stats.norm.pdf(1, loc=mu, scale=sigma), color='green')\n",
        "# plt.vlines(x=2, ymin=0, ymax=stats.norm.pdf(2, loc=mu, scale=sigma), color='red')\n",
        "# plt.vlines(x=3, ymin=0, ymax=stats.norm.pdf(3, loc=mu, scale=sigma), color='black')\n",
        "# plt.yticks([])\n",
        "\n",
        "# plt.title('Normal Curve with 68-95-99.7 rule')\n",
        "# plt.show()"
      ]
    },
    {
      "cell_type": "markdown",
      "id": "f3c5b142",
      "metadata": {
        "id": "f3c5b142"
      },
      "source": [
        "### Probability Density Function\n",
        "\n",
        "According to NIH SEMATECH (2022):\n",
        "\n",
        "> For a continuous function, the probability density function (pdf) is the probability that the variate has the value x. Since for continuous distributions the probability at a single point is zero, this is often expressed in terms of an integral between two points.\n",
        "\n",
        "Related Distributions. (February 13, 2022). In *NIST/SEMATECH e-Handbook of Statistical Methods*. https://www.itl.nist.gov/div898/handbook/eda/section3/eda362.htm"
      ]
    },
    {
      "cell_type": "code",
      "execution_count": null,
      "id": "4bba9e8c",
      "metadata": {
        "id": "4bba9e8c"
      },
      "outputs": [],
      "source": [
        "# # demonstrate pdf\n",
        "# import numpy as np\n",
        "# import matplotlib.pyplot as plt\n",
        "# from scipy import stats\n",
        "\n",
        "# data = stats.norm.rvs(size=100000) # rvs = random variates\n",
        "\n",
        "# # get the parameter for a normal distribution\n",
        "# parameters = stats.norm.fit(data)\n",
        "# mu = parameters[0]\n",
        "# sigma = parameters[1] # sigma is std\n",
        "\n",
        "# # using unpacking\n",
        "# mu, sigma = parameters\n",
        "\n",
        "# print(f'mu = {mu:.2f}, sigma = {sigma:.2f}') # f strings https://zetcode.com/python/fstring/\n",
        "\n",
        "# # plot the PDF.\n",
        "# xmin, xmax = plt.xlim() # https://matplotlib.org/3.3.3/api/_as_gen/matplotlib.pyplot.xlim.html\n",
        "# x = np.linspace(-3, 3, 100)\n",
        "# params = stats.norm.pdf(x, loc=mu, scale=sigma)\n",
        "# plt.axvline(x=1, color='red')\n",
        "# plt.yticks([])\n",
        "# # we could also do stats.norm.pdf(x, loc=0, scale=1)\n",
        "\n",
        "# plt.plot(x, params, 'k'); # k is short for the color black"
      ]
    },
    {
      "cell_type": "markdown",
      "id": "bc985dea",
      "metadata": {
        "id": "bc985dea"
      },
      "source": [
        "### Cumulative Density Function\n",
        "\n",
        "According to NIH SEMATECH (2022):\n",
        "\n",
        "> The cumulative distribution function (cdf) is the probability that the variable takes a value less than or equal to x\n",
        "\n",
        "Related Distributions. (February 13, 2022). In *NIST/SEMATECH e-Handbook of Statistical Methods*. https://www.itl.nist.gov/div898/handbook/eda/section3/eda362.htm"
      ]
    },
    {
      "cell_type": "code",
      "execution_count": null,
      "id": "151049c1",
      "metadata": {
        "id": "151049c1"
      },
      "outputs": [],
      "source": [
        "# # plot the cdf with ppf\n",
        "# import numpy as np\n",
        "# import matplotlib.pyplot as plt\n",
        "# from scipy import stats\n",
        "\n",
        "# mu = 0\n",
        "# sigma = 1\n",
        "# cdf_val = np.round(stats.norm.cdf(1, loc=mu, scale=sigma), 2)\n",
        "# ppf_val = np.round(stats.norm.ppf(cdf_val, loc=mu, scale=sigma), 2)\n",
        "\n",
        "# x = np.linspace(-3, 3, 100000)\n",
        "# cdf_y = stats.norm.cdf(x)\n",
        "# plt.plot(x, cdf_y, 'k')\n",
        "# plt.axvline(x=ppf_val, color='red')\n",
        "# plt.axhline(y=cdf_val, color='red')\n",
        "# plt.title(f'cdf: {cdf_val}, pdf: {ppf_val}')\n",
        "# plt.xlabel('X')\n",
        "# plt.ylabel('cdf(X)')\n",
        "# plt.grid(True)\n",
        "# plt.show();"
      ]
    },
    {
      "cell_type": "markdown",
      "id": "4f8f6531",
      "metadata": {
        "id": "4f8f6531"
      },
      "source": [
        "### Percent Point Function\n",
        "\n",
        "According to NIH SEMATECH (2022):\n",
        "\n",
        "> The percent point function (ppf) is the inverse of the cumulative distribution function. For this reason, the percent point function is also commonly referred to as the inverse distribution function. That is, for a distribution function we calculate the probability that the variable is less than or equal to x for a given x. For the percent point function, we start with the probability and compute the corresponding x for the cumulative distribution.\n",
        "\n",
        "Related Distributions. (February 13, 2022). In *NIST/SEMATECH e-Handbook of Statistical Methods*. https://www.itl.nist.gov/div898/handbook/eda/section3/eda362.htm"
      ]
    },
    {
      "cell_type": "code",
      "execution_count": null,
      "id": "7e2fb055",
      "metadata": {
        "id": "7e2fb055"
      },
      "outputs": [],
      "source": [
        "# # plot the ppf\n",
        "# import numpy as np\n",
        "# import matplotlib.pyplot as plt\n",
        "# from scipy import stats\n",
        "\n",
        "# x = np.linspace(-3, 3, 100000)\n",
        "# ppf_y = stats.norm.ppf(x)\n",
        "# plt.plot(x, ppf_y, 'k', label='cdf')\n",
        "# plt.axhline(y=1, color='red')\n",
        "# plt.title('The PPF')\n",
        "# plt.xlabel('X')\n",
        "# plt.ylabel('ppf(X)')\n",
        "# plt.grid(True)\n",
        "# plt.show();"
      ]
    },
    {
      "cell_type": "code",
      "execution_count": null,
      "id": "93caaa52",
      "metadata": {
        "id": "93caaa52"
      },
      "outputs": [],
      "source": [
        "# # compare CDF and PPF\n",
        "# X = stats.norm.rvs(size=10000)\n",
        "# X.sort()\n",
        "\n",
        "# parameters = stats.norm.fit(X)\n",
        "# mu, sigma = parameters\n",
        "# # print(stats.norm.cdf(1, loc=mu, scale=sigma))\n",
        "# cdf_val = np.round(stats.norm.cdf(1, loc=mu, scale=sigma), 2)\n",
        "# ppf_val = np.round(stats.norm.ppf(.85, loc=mu, scale=sigma), 2)\n",
        "\n",
        "# print(f'The corresponding percentile for 1 standard deviation above the mean (z) is {cdf_val}% rounded, so,')\n",
        "# print(f'a z score for {cdf_val}  is {stats.norm.ppf(cdf_val, loc=mu, scale=sigma)} and,')\n",
        "# print(f'a z score for 50% is {np.round(stats.norm.ppf(0.5, loc=mu, scale=sigma), 2)}')\n",
        "# print('for normal distributions.')\n",
        "\n",
        "# fig, ax = plt.subplots()\n",
        "# ax.plot(X, stats.norm.pdf(X, loc=mu, scale=sigma))\n",
        "# ax.hist(X, bins=25, density=True, alpha=0.5)\n",
        "# ax.set_xlabel('x')\n",
        "# ax.set_ylabel('pdf(x)')\n",
        "# ax.set_xlim(-3, 3)\n",
        "# ax.grid(True)\n",
        "\n",
        "# px=np.arange(-3, ppf_val, 0.01)\n",
        "# ax.fill_between(px, stats.norm.pdf(px,loc=mu,scale=sigma), alpha=0.5, color='k')\n",
        "# ax.text(0, 0.02, f'{cdf_val}%', fontsize=20, color='w')\n",
        "\n",
        "# plt.title(f'{cdf_val}% (or z = 1) Shade Area Under the Curve')\n",
        "# plt.show()"
      ]
    },
    {
      "cell_type": "markdown",
      "id": "31710eeb",
      "metadata": {
        "id": "31710eeb"
      },
      "source": [
        "### Probability Mass Function\n",
        "\n",
        "In probability and statistics, a probability mass function is a function that gives the probability that a discrete random variable is exactly equal to some value.[1] Sometimes it is also known as the discrete density function. The probability mass function is often the primary means of defining a discrete probability distribution, and such functions exist for either scalar or multivariate random variables whose domain is discrete.\n",
        "\n",
        "https://en.wikipedia.org/wiki/Probability_mass_function\n",
        "\n",
        "\n",
        "Discrete probability functions are referred to as probability mass functions and continuous probability functions are referred to as probability density functions. The term probability functions covers both discrete and continuous distributions.\n",
        "\n",
        "https://www.itl.nist.gov/div898/handbook/eda/section3/eda361.htm\n",
        "\n",
        "Bernoulli, Binomial, Geometric, Poisson - flip of coin, roll of 1 die or two dice"
      ]
    },
    {
      "cell_type": "code",
      "execution_count": null,
      "id": "75942864",
      "metadata": {
        "id": "75942864"
      },
      "outputs": [],
      "source": [
        "# # probability mass function\n",
        "# throws = 100\n",
        "# observations = []\n",
        "# for i in range(throws):\n",
        "#     roll = np.random.choice(['1', '2', '3', '4', '5', '6']) # roll the die\n",
        "#     observations.append(roll)\n",
        "\n",
        "# val, cnt = np.unique(observations, return_counts=True)\n",
        "# prop = cnt / len(observations)\n",
        "\n",
        "# plt.bar(val, prop)\n",
        "# plt.ylabel('Probability')\n",
        "# plt.xlabel('Roll')\n",
        "# plt.title('Probability Mass Function Example')\n",
        "# plt.show()"
      ]
    },
    {
      "cell_type": "markdown",
      "id": "c7eef493",
      "metadata": {
        "id": "c7eef493"
      },
      "source": [
        "### Kernel Density Estimation\n",
        "\n",
        "According to Wikipedia (2022):\n",
        "\n",
        "> In statistics, kernel density estimation (KDE) is a non-parametric way to estimate the probability density function of a random variable. Kernel density estimation is a fundamental data smoothing problem where inferences about the population are made, based on a finite data sample.\n",
        "\n",
        "Kernel density estimation. (February 13, 2022) In *Wikipedia*. https://en.wikipedia.org/wiki/Kernel_density_estimation\n",
        "\n",
        "As mentioned, KDE is a non-parametric estimate compared to the parametric probability density function. Non-parametric data do not fit an established distribution such as the normal, or gaussian, distribution. Non-parametric models don't have parameters to define the data distribution so in the case of KDE, the shape of the data is estimated.\n",
        "\n",
        "According to Wikipedia (2022):\n",
        "\n",
        "> In nonparametric statistics, a kernel is a weighting function used in non-parametric estimation techniques. Kernels are used in kernel density estimation to estimate random variables' density functions, or in kernel regression to estimate the conditional expectation of a random variable.\n",
        "\n",
        "Nonparametric statistics. (February 13, 2022) In *Wikipedia*.https://en.wikipedia.org/wiki/Kernel_(statistics)#Nonparametric_statistics\n",
        "\n",
        "Here is a simplified version of the equation provided by Wikipedia:\n",
        "\n",
        "$\n",
        "\\hat{f(x)} = \\frac{1}{N}\\sum{K(x - x_i)}\n",
        "$\n",
        "\n",
        "Let (x1, x2, …, xn) be independent and identically distributed \\[IID\\] samples drawn from some univariate distribution with an unknown density ƒ at any given point x. We are interested in estimating the shape of this function ƒ.\n",
        "\n",
        "https://en.wikipedia.org/wiki/Kernel_density_estimation#Definition\n",
        "\n",
        "Recall **IID** definition: In probability theory and statistics, a collection of random variables is independent and identically distributed if each random variable has the same probability distribution as the others and all are mutually independent.\n",
        "\n",
        "https://en.wikipedia.org/wiki/Independent_and_identically_distributed_random_variables"
      ]
    },
    {
      "cell_type": "code",
      "execution_count": null,
      "id": "ca54cb44",
      "metadata": {
        "id": "ca54cb44"
      },
      "outputs": [],
      "source": [
        "# import seaborn as sns\n",
        "# from scipy.stats.distributions import norm\n",
        "\n",
        "# x = np.random.randn(100)\n",
        "# x[int(0.3 * 100):] += 7\n",
        "# sns.histplot(x, kde=True)\n",
        "# plt.title('Bimodal Distribution')\n",
        "# plt.show()"
      ]
    },
    {
      "cell_type": "markdown",
      "id": "79ab59a4",
      "metadata": {
        "id": "79ab59a4"
      },
      "source": [
        "## Distributions\n",
        "\n",
        "Discrete distributions: all probabilities add up to one\n",
        "* Uniform\n",
        "* Bernoulli\n",
        "* Binomial\n",
        "* Poisson\n",
        "\n",
        "Continuous distributions: area under curve adds up to one\n",
        "* Normal\n",
        "* z\n",
        "* t\n",
        "* Chi-Square"
      ]
    },
    {
      "cell_type": "markdown",
      "id": "9f56a9bc",
      "metadata": {
        "id": "9f56a9bc"
      },
      "source": [
        "### The Normal (Gaussian) Distribution\n",
        "\n",
        "https://www.itl.nist.gov/div898/handbook/eda/section3/eda3661.htm"
      ]
    },
    {
      "cell_type": "markdown",
      "id": "4df57c65",
      "metadata": {
        "id": "4df57c65"
      },
      "source": [
        "### Francis Galton\n",
        "\n",
        "* https://www.youtube.com/watch?v=yKTBv7ZqFcU\n",
        "* https://galtonboard.com/Content/Videos/New-600x900-SM-Edition-no-audio.mp4\n",
        "* https://galtonboard.com/\n",
        "\n",
        "### History\n",
        "\n",
        "* Sir Francis Galton, 1822 - 1911\n",
        "* Considered grandfather of statistics\n",
        "* Popularized regression to the mean\n",
        "* English Victorian era polymath: a statistician, sociologist, psychologist, anthropologist, tropical explorer, geographer, inventor, meteorologist, proto-geneticist, psychometrician and a proponent of social Darwinism, eugenics, and scientific racism. He was knighted in 1909.\n",
        "* He was Charles Darwin's half-cousin, sharing the common grandparent Erasmus Darwin. His father was Samuel Tertius Galton, son of Samuel Galton, Jr. He was also a cousin of Douglas Strutt Galton. The Galtons were Quaker gun-manufacturers and bankers, while the Darwins were involved in medicine and science.\n",
        "* Galton was interested at first in the question of whether human ability was hereditary, and proposed to count the number of the relatives of various degrees of eminent men. If the qualities were hereditary, he reasoned, there should be more eminent men among the relatives than among the general population.\n",
        "* On Friday 19 February 1877 Galton gave a lecture entitled Typical Laws of Heredity at the Royal Institution in London. In this lecture, he posited that there must be a counteracting force to maintain population stability. His showpiece for the night was the Galton board.\n",
        "* Galton invented the term eugenics ...  believed that a scheme of 'marks' for family merit should be defined, and early marriage between families of high rank be encouraged via provision of monetary incentives. He pointed out some of the tendencies in British society, such as the late marriages of eminent people, and the paucity of their children, which he thought were dysgenic. He advocated encouraging eugenic marriages by supplying able couples with incentives to have children. On 29 October 1901, Galton chose to address eugenic issues when he delivered the second Huxley lecture at the Royal Anthropological Institute.\n",
        "* According to the Encyclopedia of Genocide, Galton bordered on the justification of genocide when he stated: \"There exists a sentiment, for the most part quite unreasonable, against the gradual extinction of an inferior race.\n",
        "\n",
        "### The Galton Board and the Bell Curve\n",
        "\n",
        "* The path of any individual ball is like a sequence of independent coin flips\n",
        "* The ball can go left or right at each pin\n",
        "* It seems random but with a large sample a probability distribution appears, a normal distribution\n",
        "* Galton noted the same shape when comparing the height of 1000 French military recruits\n",
        "* Galton board was a model for the inheritance of stature and many other genetic traits\n",
        "* The balls inherit their position the same way humans inherit their stature\n",
        "* One way to illustrate a problem with this is by doubling the width of the Galton board base thus increasing the number of rows and pegs and increasing the variance of the distribution\n",
        "* Galton wanted to prove superior intellect through breeding without taking into account privilege\n",
        "* The idea of superior, again, is defined by the culture and not universal\n",
        "* Galton thought he had discovered a law of heredity instead of statistics, the regression of the mean\n",
        "* Thought regression toward the mean was nature's way of keeping things the same from generation to generation\n",
        "* This was thought of as causal but soon abandoned this idea in favor of correlation\n",
        "* Did a lot of father-son pair height testing\n",
        "* Predictions for heights seemed to fall on a line, the line of regression\n",
        "* Soon causation became highly frowned upon; thought to not exist; there are only relationships, association, correlation. More on this next week when we introduce (C)Karl Pearson\n",
        "\n",
        "The Book of Why, Judea Pearl and Dana Mackenzie, Chapter 2"
      ]
    },
    {
      "cell_type": "markdown",
      "source": [
        "### Central Limit Theorem"
      ],
      "metadata": {
        "id": "o7FDy5qDWQcx"
      },
      "id": "o7FDy5qDWQcx"
    },
    {
      "cell_type": "markdown",
      "id": "beebf302",
      "metadata": {
        "id": "beebf302"
      },
      "source": [
        "### Normal Distribution Equation\n",
        "\n",
        "Compare the formula for the normal distribution as shown below\n",
        "\n",
        "$\n",
        "\\frac{1}{\\sqrt{2\\pi\\sigma^2}}\\large{e^\\frac{-(x-\\mu)^2}{2\\sigma^2}}\n",
        "$\n",
        "\n",
        "with the python code below\n",
        "\n",
        "1/(np.sqrt(2 * np.pi * sigma&ast;&ast;2)) * np.exp( - (x - mu)&ast;&ast;2 / (2 * sigma&ast;&ast;2))\n",
        "\n",
        "Let's break the code down:\n",
        "* x = our set of numbers\n",
        "* mu = mean\n",
        "* sigma&ast;&ast;2 (sigma squared) = variance of x (sigma = std)\n",
        "* exp = exponential\n",
        "* 1 is our numerator\n",
        "* np.sqrt(2 * np.pi * sigma&ast;&ast;2) = $\\sqrt{2\\pi\\sigma^2}$ NOTE: the two asterisk designate a power such as squared\n",
        "* np.exp( - (x - mu)&ast;&ast;2 / (2 * sigma&ast;&ast;2)) = $\\large{e^\\frac{-(x-\\mu)^2}{2\\sigma^2}}$"
      ]
    },
    {
      "cell_type": "code",
      "execution_count": null,
      "id": "93b981fc",
      "metadata": {
        "id": "93b981fc"
      },
      "outputs": [],
      "source": [
        "# # standard normal distribution with numpy\n",
        "# # https://numpy.org/doc/stable/reference/random/generated/numpy.random.normal.html\n",
        "# import numpy as np\n",
        "# import matplotlib.pyplot as plt\n",
        "\n",
        "# mu = 0\n",
        "# sigma = 1\n",
        "# x = np.random.normal(0, 1, 100000)\n",
        "# count, bins, ignored = plt.hist(x, density=True, bins=25)\n",
        "\n",
        "# # plot the distribution curve\n",
        "# plt.plot(bins, 1/(np.sqrt(2 * np.pi * sigma**2)) * np.exp( - (bins - mu)**2 / (2 * sigma**2) ), linewidth=3, color='k')\n",
        "# plt.xlabel('Standard Deviations')\n",
        "# plt.ylabel('f(x)')\n",
        "# plt.axvline(x=mu, color='red', label='Mean')\n",
        "# plt.title('Normal Standard Distribution')\n",
        "# plt.legend()\n",
        "# plt.show()"
      ]
    },
    {
      "cell_type": "code",
      "execution_count": null,
      "id": "2b6f680f",
      "metadata": {
        "id": "2b6f680f"
      },
      "outputs": [],
      "source": [
        "# # standard normal distribution with stats\n",
        "# # https://docs.scipy.org/doc/scipy/reference/generated/scipy.stats.describe.html\n",
        "# import scipy.stats as stats\n",
        "\n",
        "# data = stats.norm.rvs(size=100000)\n",
        "# descr = stats.describe(data)\n",
        "# print(descr)\n",
        "# print('Skewness of data: ', descr.skewness)"
      ]
    },
    {
      "cell_type": "code",
      "execution_count": null,
      "id": "86fa25b8",
      "metadata": {
        "id": "86fa25b8"
      },
      "outputs": [],
      "source": [
        "# # f strings: https://realpython.com/python-f-strings/\n",
        "# import math\n",
        "\n",
        "# print(f'The variance is {data.var()}')\n",
        "# print(f'The standard deviation is {data.std()}')\n",
        "# print(f'The square root of the variance is {math.sqrt(data.var())}')"
      ]
    },
    {
      "cell_type": "markdown",
      "id": "d3710a4b",
      "metadata": {
        "id": "d3710a4b"
      },
      "source": [
        "### Normal Distribution with Mean = Median = Mode"
      ]
    },
    {
      "cell_type": "code",
      "execution_count": null,
      "id": "5e05eb4b",
      "metadata": {
        "id": "5e05eb4b"
      },
      "outputs": [],
      "source": [
        "# # integer data that are normally distributed\n",
        "# # from https://seattlecentral.edu/qelp/sets/057/057.html (housefly wing length)\n",
        "# import urllib.request\n",
        "\n",
        "# data = []\n",
        "# url = 'https://raw.githubusercontent.com/gitmystuff/Datasets/main/normdist.txt'\n",
        "# for line in urllib.request.urlopen(url):\n",
        "#   data.append(line.decode('utf-8'))\n",
        "\n",
        "# wing_data = [int(x.rstrip()) for x in data] # remove line breaks"
      ]
    },
    {
      "cell_type": "code",
      "execution_count": null,
      "id": "657176a9",
      "metadata": {
        "id": "657176a9"
      },
      "outputs": [],
      "source": [
        "# # create data and get mean and median\n",
        "\n",
        "# xmean = np.mean(wing_data)\n",
        "# xmedian = np.median(wing_data)\n",
        "# xmode = stats.mode(wing_data, keepdims=True)[0][0]\n",
        "\n",
        "# print(f'Mean: {xmean}')\n",
        "# print(f'Median: {xmedian}')\n",
        "# print(f'Mode: {xmode}')\n",
        "# print(f'Variance: {np.var(wing_data)}')\n",
        "# print(f'Standard Deviation: {np.std(wing_data)}')"
      ]
    },
    {
      "cell_type": "code",
      "execution_count": null,
      "id": "ec6eafc2",
      "metadata": {
        "id": "ec6eafc2"
      },
      "outputs": [],
      "source": [
        "# # plotting mean, median, mode\n",
        "# import seaborn as sns\n",
        "\n",
        "# fig = plt.figure(figsize=(10,5))\n",
        "# sns.histplot(wing_data, kde=True, color='grey')\n",
        "# plt.axvline(x=xmean, color='red', label='Mean', linewidth=7)\n",
        "# plt.axvline(x=xmedian, color='green', label='Median', linewidth=5)\n",
        "# plt.axvline(x=xmode, color='blue', label='Mode')\n",
        "# plt.legend()\n",
        "# plt.show()"
      ]
    },
    {
      "cell_type": "code",
      "execution_count": null,
      "id": "c01a8f44",
      "metadata": {
        "id": "c01a8f44"
      },
      "outputs": [],
      "source": [
        "# # normal data and the boxplot\n",
        "# sns.boxplot(x=wing_data)"
      ]
    },
    {
      "cell_type": "code",
      "execution_count": null,
      "id": "69176a61",
      "metadata": {
        "id": "69176a61"
      },
      "outputs": [],
      "source": [
        "# # normal data and the violin plot\n",
        "# sns.violinplot(x=wing_data)"
      ]
    },
    {
      "cell_type": "code",
      "execution_count": null,
      "id": "2e377932",
      "metadata": {
        "id": "2e377932"
      },
      "outputs": [],
      "source": [
        "# # the normal plot is also good to know\n",
        "# # https://docs.scipy.org/doc/scipy/reference/generated/scipy.stats.probplot.html\n",
        "# # https://www.itl.nist.gov/div898/handbook/eda/section3/normprpl.htm\n",
        "\n",
        "# stats.probplot(wing_data, plot=plt)\n",
        "# plt.show()"
      ]
    },
    {
      "cell_type": "code",
      "execution_count": null,
      "id": "50c45cd7",
      "metadata": {
        "id": "50c45cd7"
      },
      "outputs": [],
      "source": [
        "# # look at a skewed distribution\n",
        "# # data taken from https://gist.github.com/noamross/e5d3e859aa0c794be10b\n",
        "# import pandas as pd\n",
        "\n",
        "# cars = pd.read_csv('https://raw.githubusercontent.com/gitmystuff/Datasets/main/cars.csv', usecols=['hp'])\n",
        "# cars.head()"
      ]
    },
    {
      "cell_type": "code",
      "execution_count": null,
      "id": "b2f38965",
      "metadata": {
        "id": "b2f38965"
      },
      "outputs": [],
      "source": [
        "# # compare mean and median\n",
        "# cars.describe()"
      ]
    },
    {
      "cell_type": "code",
      "execution_count": null,
      "id": "249fea5d",
      "metadata": {
        "id": "249fea5d"
      },
      "outputs": [],
      "source": [
        "# # get the mean, median, mode for the hp (horsepower) field\n",
        "# hp_mean = cars['hp'].mean()\n",
        "# hp_median = cars['hp'].median()\n",
        "# hp_mode = cars['hp'].mode()[0]\n",
        "\n",
        "# print(f'Mean: {hp_mean}')\n",
        "# print(f'Median: {hp_median}')\n",
        "# print(f'Mode: {hp_mode}')"
      ]
    },
    {
      "cell_type": "code",
      "execution_count": null,
      "id": "a6e19ff0",
      "metadata": {
        "id": "a6e19ff0"
      },
      "outputs": [],
      "source": [
        "# # skewed data and the distplot\n",
        "\n",
        "# fig = plt.figure(figsize=(10,5))\n",
        "# sns.histplot(cars['hp'], kde=True)\n",
        "# plt.axvline(x=hp_mode, color='blue', label='Mode')\n",
        "# plt.axvline(x=hp_median, color='green', label='Median')\n",
        "# plt.axvline(x=hp_mean, color='red', label='Mean')\n",
        "# plt.legend()\n",
        "# plt.show()"
      ]
    },
    {
      "cell_type": "code",
      "execution_count": null,
      "id": "cf0c60da",
      "metadata": {
        "id": "cf0c60da"
      },
      "outputs": [],
      "source": [
        "# # skewed data and the boxplot\n",
        "# sns.boxplot(x=cars['hp']);"
      ]
    },
    {
      "cell_type": "code",
      "execution_count": null,
      "id": "069b74e6",
      "metadata": {
        "id": "069b74e6"
      },
      "outputs": [],
      "source": [
        "# # skewed data and the violin plot\n",
        "# sns.violinplot(x=cars['hp']);"
      ]
    },
    {
      "cell_type": "code",
      "execution_count": null,
      "id": "a8ae1811",
      "metadata": {
        "id": "a8ae1811"
      },
      "outputs": [],
      "source": [
        "# # skewed data and the probplot\n",
        "# stats.probplot(cars['hp'], plot=plt);"
      ]
    },
    {
      "cell_type": "markdown",
      "id": "d3fd3efe",
      "metadata": {
        "id": "d3fd3efe"
      },
      "source": [
        "### z Distribution\n",
        "\n",
        "* mu = 0\n",
        "* sigma = 1\n",
        "* 68% of the data lies within -1, 1 deviation\n",
        "* 95.45% of the data lies within -2, 2 deviations\n",
        "* 99.73% of the data lies within -3, 3 deviations\n",
        "* Emprical rule 68, 95, 99.7 rule. https://en.wikipedia.org/wiki/68%E2%80%9395%E2%80%9399.7_rule\n",
        "* z score: $z = \\frac{x-\\mu}{\\sigma}$"
      ]
    },
    {
      "cell_type": "code",
      "execution_count": null,
      "id": "84ed18e4",
      "metadata": {
        "id": "84ed18e4"
      },
      "outputs": [],
      "source": [
        "# # using cdf and\n",
        "# from scipy import stats\n",
        "\n",
        "# z = .7\n",
        "# print(f'z score of {z} = {stats.norm.cdf(z)} percentile')\n",
        "# percentile = .95\n",
        "# print(f'{percentile} percentile = z score of {stats.norm.ppf(percentile)}')"
      ]
    },
    {
      "cell_type": "code",
      "execution_count": null,
      "id": "4f39993c",
      "metadata": {
        "id": "4f39993c"
      },
      "outputs": [],
      "source": [
        "# # clock maker operating costs\n",
        "# import numpy as np\n",
        "\n",
        "# monthly_avg_of_clocks = 100\n",
        "# std_dev = 20\n",
        "\n",
        "# # monthly operating cost f(X) = $10X + $1000\n",
        "# monthly_cost = 10 * 100 + 1000 # expected\n",
        "# print(monthly_cost)\n",
        "# std_dev_operate = np.abs(10) * std_dev\n",
        "# print(std_dev_operate)\n",
        "# # we know that about 95% of the time our operating costs will be between 1600 and 2400 (2 standard deviations)"
      ]
    },
    {
      "cell_type": "markdown",
      "id": "12a4beb4",
      "metadata": {
        "id": "12a4beb4"
      },
      "source": [
        "### Uniform Distribution\n",
        "\n",
        "https://www.itl.nist.gov/div898/handbook/eda/section3/eda3662.htm"
      ]
    },
    {
      "cell_type": "code",
      "execution_count": null,
      "id": "76be14d9",
      "metadata": {
        "id": "76be14d9"
      },
      "outputs": [],
      "source": [
        "# # uniform distribution\n",
        "# throws = int(1e5)\n",
        "# observations = []\n",
        "# for i in range(throws):\n",
        "#     roll = np.random.choice(['1', '2', '3', '4', '5', '6']) # roll the die\n",
        "#     observations.append(roll)\n",
        "\n",
        "# val, cnt = np.unique(observations, return_counts=True)\n",
        "# prop = cnt / len(observations)\n",
        "\n",
        "# plt.bar(val, prop)\n",
        "# plt.ylabel('Probability')\n",
        "# plt.xlabel('Roll')\n",
        "# plt.title('Uniform Distribution')\n",
        "# plt.show()"
      ]
    },
    {
      "cell_type": "markdown",
      "id": "6e6ae711",
      "metadata": {
        "id": "6e6ae711"
      },
      "source": [
        "### Binomial Distribution\n",
        "\n",
        "Formula:<br />\n",
        "$P(x: n,p) = \\binom {n}{x} p^x (1 - p)^{(n-x)}$\n",
        "\n",
        "* n trials\n",
        "* x successes\n",
        "\n",
        "According to StatisticsHowTo (2022):\n",
        "\n",
        "> A binomial distribution can be thought of as simply the probability of a SUCCESS or FAILURE outcome in an experiment or survey that is repeated multiple times. The binomial is a type of distribution that has two possible outcomes (the prefix “bi” means two, or twice). For example, a coin toss has only two possible outcomes: heads or tails and taking a test could have two possible outcomes: pass or fail.\n",
        "\n",
        "Binomial Distribution: Formula, What it is, How to use it. (February 13, 2022). In *StatisticsHowTo*. https://www.statisticshowto.com/probability-and-statistics/binomial-theorem/binomial-distribution-formula/\n",
        "\n",
        "More info:\n",
        "* https://docs.scipy.org/doc/scipy/reference/generated/scipy.stats.binom.html\n",
        "* https://numpy.org/doc/stable/reference/random/generated/numpy.random.binomial.html\n",
        "* https://stattrek.com/online-calculator/binomial.aspx\n",
        "\n",
        "Define success"
      ]
    },
    {
      "cell_type": "code",
      "execution_count": null,
      "id": "54a89589",
      "metadata": {
        "id": "54a89589"
      },
      "outputs": [],
      "source": [
        "# # binomial distribution\n",
        "# import numpy as np\n",
        "# import matplotlib.pyplot as plt\n",
        "# from scipy import stats\n",
        "# # binom.pmf(x, n, p, loc)\n",
        "\n",
        "# n = 10\n",
        "# p = 0.5\n",
        "# trials = list(range(1, n + 1))\n",
        "# probs = [stats.binom.pmf(x, n, p) for x in trials]\n",
        "\n",
        "# plt.bar(trials, probs)\n",
        "# plt.xlabel('Trials')\n",
        "# plt.ylabel('Probability')\n",
        "# plt.show()"
      ]
    },
    {
      "cell_type": "code",
      "execution_count": null,
      "id": "65db7f5e",
      "metadata": {
        "id": "65db7f5e"
      },
      "outputs": [],
      "source": [
        "# # define success - getting heads; A fair coins is flipped 10 times. What is the probability of getting 5 heads?\n",
        "# from scipy import stats\n",
        "\n",
        "# stats.binom.pmf(5, 10, .5)"
      ]
    },
    {
      "cell_type": "code",
      "execution_count": null,
      "id": "3d3195ec",
      "metadata": {
        "id": "3d3195ec"
      },
      "outputs": [],
      "source": [
        "# # hh, ht, th, tt\n",
        "# stats.binom.pmf(2, 2, .5)"
      ]
    },
    {
      "cell_type": "markdown",
      "id": "eb4009a7",
      "metadata": {
        "id": "eb4009a7"
      },
      "source": [
        "### Bernoulli Distribution\n",
        "\n",
        "Success vs Failure\n",
        "* P(Success) is constant 1/2, 1/6\n",
        "* Trials are independent\n",
        "\n",
        "https://en.wikipedia.org/wiki/Bernoulli_distribution\n",
        "\n",
        "https://vitalflux.com/bernoulli-probability-distribution-explained-with-python-examples/"
      ]
    },
    {
      "cell_type": "code",
      "execution_count": null,
      "id": "a4ade0bf",
      "metadata": {
        "id": "a4ade0bf"
      },
      "outputs": [],
      "source": [
        "# # import matplotlib.pyplot as plt\n",
        "# from scipy.stats import bernoulli\n",
        "\n",
        "# bdist = bernoulli(0.5)\n",
        "# X = [0, 1]\n",
        "\n",
        "# fig, ax = plt.subplots()\n",
        "# ax.bar(X, bdist.pmf(X))\n",
        "# ax.set_xticks(np.arange(0, 2))\n",
        "# plt.show()"
      ]
    },
    {
      "cell_type": "markdown",
      "id": "331ec21e",
      "metadata": {
        "id": "331ec21e"
      },
      "source": [
        "### Multinomial Distribution\n",
        "\n",
        "* https://numpy.org/doc/stable/reference/random/generated/numpy.random.multinomial.html\n",
        "* https://www.statology.org/multinomial-distribution/\n",
        "* https://www.statology.org/multinomial-distribution-in-python/\n",
        "* https://www.euanrussano.com/post/probability/multinoulli_multinomial/"
      ]
    },
    {
      "cell_type": "code",
      "execution_count": null,
      "id": "64525cdc",
      "metadata": {
        "id": "64525cdc"
      },
      "outputs": [],
      "source": [
        "# # https://www.statology.org/multinomial-distribution-in-python/\n",
        "# from scipy.stats import multinomial\n",
        "\n",
        "# multinomial.pmf(x=[2, 4, 4], n=10, p=[.1, .4, .5])\n",
        "# # probability of 2, 4, 4 happening given probabilities"
      ]
    },
    {
      "cell_type": "code",
      "execution_count": null,
      "id": "2f7f0fb3",
      "metadata": {
        "id": "2f7f0fb3"
      },
      "outputs": [],
      "source": [
        "# # https://numpy.org/doc/stable/reference/random/generated/numpy.random.multinomial.html\n",
        "# import numpy as np\n",
        "\n",
        "# np.random.multinomial(n=20, pvals=[1/6.]*6, size=1)\n",
        "# # rolling a die 20 times; one appears x times, two appears x times, three appears x times, etc"
      ]
    },
    {
      "cell_type": "code",
      "execution_count": null,
      "id": "2aff6d27",
      "metadata": {
        "id": "2aff6d27"
      },
      "outputs": [],
      "source": [
        "# np.random.multinomial(20, [1/6.]*6, size=2)\n",
        "# # rolling 20 times and then 20 times again"
      ]
    },
    {
      "cell_type": "markdown",
      "id": "55104f98",
      "metadata": {
        "id": "55104f98"
      },
      "source": [
        "### Poisson Distribution\n",
        "\n",
        "$P(k; \\lambda) = \\frac{\\lambda^k e^{-\\lambda}}{k!}$\n",
        "\n",
        "* lambda = mu = expected value\n",
        "* P(Success) is proportional through the entire interval (lambda(minute) = lambda(hour)/60)\n",
        "\n",
        "A Poisson distribution is a tool that helps to predict the probability of certain events happening when you know how often the event has occurred. It gives us the probability of a given number of events happening in a fixed interval...\n",
        "\n",
        "Stephanie Glen. \"Poisson Distribution / Poisson Curve: Simple Definition\" From StatisticsHowTo.com: Elementary Statistics for the rest of us! https://www.statisticshowto.com/probability-and-statistics/statistics-definitions/probability-distribution/poisson-distribution/\n",
        "\n",
        "More info:\n",
        "* https://stattrek.com/probability-distributions/poisson.aspx\n",
        "* https://hadrienj.github.io/posts/Essential-Math-poisson_distribution/\n",
        "* https://docs.scipy.org/doc/scipy/reference/generated/scipy.stats.poisson.html\n",
        "* https://www.analyticsvidhya.com/blog/2022/06/predicting-the-scoreline-of-a-football-match-using-poisson-distribution/"
      ]
    },
    {
      "cell_type": "code",
      "execution_count": null,
      "id": "abd35881",
      "metadata": {
        "scrolled": false,
        "id": "abd35881"
      },
      "outputs": [],
      "source": [
        "# # plot some poisson distributions\n",
        "# from scipy.stats import poisson\n",
        "\n",
        "# k = np.arange(0, 20)\n",
        "\n",
        "# for lambd in [1, 4, 10]:\n",
        "#     distribution = []\n",
        "#     for i in k:\n",
        "#         distribution.append(poisson.pmf(i, lambd))\n",
        "\n",
        "#     plt.plot(k, distribution, label=f'$\\lambda$: {lambd}')\n",
        "#     plt.scatter(k, distribution)\n",
        "\n",
        "# plt.xlabel('k')\n",
        "# plt.ylabel('poisson pmf')\n",
        "# plt.legend();"
      ]
    },
    {
      "cell_type": "code",
      "execution_count": null,
      "id": "7e03e0ac",
      "metadata": {
        "id": "7e03e0ac"
      },
      "outputs": [],
      "source": [
        "# from scipy.stats import poisson\n",
        "\n",
        "# poisson.pmf(k=5, mu=4) # mu = lambda = expected value\n",
        "# # what's the probability that 5 things will happen given an average of 4 things happening in a period of time"
      ]
    },
    {
      "cell_type": "markdown",
      "id": "30818b35",
      "metadata": {
        "id": "30818b35"
      },
      "source": [
        "### t Distribution\n",
        "\n",
        "https://www.statisticshowto.com/probability-and-statistics/t-distribution/\n",
        "\n",
        "The z-distribution assumes we know the population standard deviation while the t-distribution uses the sample standard deviation. The following is a review of the equations for both means and standard deviations: <br />\n",
        "\n",
        "**The Population Mean** <br />\n",
        "$\\mu = \\frac{\\sum{x_i}}{N}$<br />\n",
        "**The Sample Mean** <br />\n",
        "$\\bar{x} = \\frac{\\sum{x_i}}{n}$<br />\n",
        "**The Population Standard Deviation** <br />\n",
        "$\n",
        "\\sigma = \\sqrt{\\frac{1}{N}\\sum(x-\\bar{x})^2}\n",
        "$ <br />\n",
        "**The Sample Standard Deviation** <br />\n",
        "$\n",
        "s = \\sqrt{\\frac{1}{n-1}\\sum(x-\\bar{x})^2}\n",
        "$\n",
        "\n",
        "Notice we're using Bessel's correction again. We can also call this a degree of freedom. Let's look at some standard deviations for our data."
      ]
    },
    {
      "cell_type": "code",
      "execution_count": null,
      "id": "acaaf78c",
      "metadata": {
        "id": "acaaf78c"
      },
      "outputs": [],
      "source": [
        "# # compare population and sample\n",
        "# data = stats.norm.rvs(size=1000)\n",
        "# print(f'Population mean: {np.round(np.mean(data), 4)}')\n",
        "# print(f'Sample mean: {np.round(np.mean(data), 4)}')\n",
        "# print(f'Population standard deviation: {np.round(np.std(data, ddof=0), 4)}')\n",
        "# print(f'Sample standard deviation: {np.round(np.std(data, ddof=1), 4)}')"
      ]
    },
    {
      "cell_type": "code",
      "execution_count": null,
      "id": "9a8917bb",
      "metadata": {
        "scrolled": false,
        "id": "9a8917bb"
      },
      "outputs": [],
      "source": [
        "# # compare the z and t distribution be exaggerating the standard deviation of the t distribution\n",
        "# X = np.linspace(-3, 3, 100)\n",
        "# parameters = stats.norm.fit(X)\n",
        "# mu, sigma = parameters\n",
        "\n",
        "# # the z distribution\n",
        "# zs = stats.norm.pdf(X, loc=mu, scale=sigma)\n",
        "# plt.plot(X, zs, 'r', linewidth=2, alpha=0.5, label='z-distribution')\n",
        "\n",
        "# # the t distribution\n",
        "# ts = stats.norm.pdf(X, loc=mu, scale=2)\n",
        "# plt.plot(X, ts, 'b', linewidth=2, alpha=0.5, label='t-distribution')\n",
        "\n",
        "# plt.legend()\n",
        "# plt.show()"
      ]
    },
    {
      "cell_type": "markdown",
      "id": "3cba91c5",
      "metadata": {
        "id": "3cba91c5"
      },
      "source": [
        "## Word Problems\n",
        "\n",
        "Thanks to George Ingersoll\n",
        "\n",
        "https://www.linkedin.com/in/georgeingersoll/"
      ]
    },
    {
      "cell_type": "code",
      "execution_count": null,
      "id": "44c077c9",
      "metadata": {
        "id": "44c077c9"
      },
      "outputs": [],
      "source": [
        "# # the normal curve\n",
        "# import numpy as np\n",
        "# import matplotlib.pyplot as plt\n",
        "# import scipy.stats as stats\n",
        "\n",
        "# X = stats.norm.rvs(size=10000)\n",
        "# X.sort()\n",
        "\n",
        "# parameters = stats.norm.fit(X)\n",
        "# mu, sigma = parameters\n",
        "\n",
        "# print('The area between -3 and 3 is considered to contains 99.73% of the area in the curve')\n",
        "# print('The area between -2 and 2 is considered to contains 95.44% of the area in the curve')\n",
        "# print('The area between -1 and 1 is considered to contains 68.26% of the area in the curve')\n",
        "# print('The line at 0 is the expected average of the normal distribution at 50%')\n",
        "# print()\n",
        "# print('Mean: ', np.mean(X))\n",
        "# print('Median: ', np.median(X))\n",
        "# print('Mode?', X[1])\n",
        "# print('Variance: ', np.var(X))\n",
        "# print('Standard Deviation: ', np.std(X))\n",
        "\n",
        "# fig, ax = plt.subplots()\n",
        "# ax.plot(X, stats.norm.pdf(X, loc=mu, scale=sigma))\n",
        "# ax.hist(X, bins=25, density=True, color='lightgray', alpha=0.5)\n",
        "# ax.set_xlabel('x')\n",
        "# ax.set_ylabel('pdf(x)')\n",
        "# ax.set_xlim(-4, 4)\n",
        "# ax.grid(True)\n",
        "\n",
        "# plt.vlines(x=-3, ymin=0, ymax=stats.norm.pdf(-3, loc=mu, scale=sigma), color='black')\n",
        "# plt.vlines(x=-2, ymin=0, ymax=stats.norm.pdf(-2, loc=mu, scale=sigma), color='red')\n",
        "# plt.vlines(x=-1, ymin=0, ymax=stats.norm.pdf(-1, loc=mu, scale=sigma), color='green')\n",
        "# plt.vlines(x=0, ymin=0, ymax=stats.norm.pdf(0, loc=mu, scale=sigma), color='blue')\n",
        "# plt.vlines(x=1, ymin=0, ymax=stats.norm.pdf(1, loc=mu, scale=sigma), color='green')\n",
        "# plt.vlines(x=2, ymin=0, ymax=stats.norm.pdf(2, loc=mu, scale=sigma), color='red')\n",
        "# plt.vlines(x=3, ymin=0, ymax=stats.norm.pdf(3, loc=mu, scale=sigma), color='black')\n",
        "\n",
        "# plt.title('Normal Curve with 68-95-99.7 rule')\n",
        "# plt.show()"
      ]
    },
    {
      "cell_type": "markdown",
      "id": "9f56ebb7",
      "metadata": {
        "id": "9f56ebb7"
      },
      "source": [
        "### Problem 1\n",
        "\n",
        "The life of a phone is normally distributed with an average of 3.4 years and a standard deviation of 1.2 years.\n",
        "* z = (x – mu)/ std"
      ]
    },
    {
      "cell_type": "code",
      "execution_count": null,
      "id": "8dd3e3a9",
      "metadata": {
        "id": "8dd3e3a9"
      },
      "outputs": [],
      "source": [
        "# # What percentage of smartphones last more than 5 years?\n",
        "# mu = 3.4\n",
        "# sigma = 1.2\n",
        "\n",
        "# X = np.linspace(-1, 8, 10000)\n",
        "# plt.plot(X, stats.norm.pdf(X, loc=mu, scale=sigma))\n",
        "# plt.vlines(x=mu, ymin=0, ymax=stats.norm.pdf(mu, loc=mu, scale=sigma), color='black')\n",
        "# # plt.vlines(x=5, ymin=0, ymax=stats.norm.pdf(5, loc=mu, scale=sigma), color='green')\n",
        "\n",
        "# plt.title('Normal Distribution')\n",
        "# plt.xlabel('Values of Random Variable X')\n",
        "# plt.ylabel('Probability')\n",
        "# plt.show()"
      ]
    },
    {
      "cell_type": "code",
      "execution_count": null,
      "id": "8ccffc11",
      "metadata": {
        "id": "8ccffc11"
      },
      "outputs": [],
      "source": [
        "# # What percentage of smartphones last more than 5 years using z score?\n",
        "# import numpy as np\n",
        "# import matplotlib.pyplot as plt\n",
        "# import scipy.stats as stats\n",
        "\n",
        "# Xstand = stats.norm.rvs(size=10000)\n",
        "# Xstand.sort()\n",
        "\n",
        "# z = (5 - 3.4)/1.2\n",
        "\n",
        "# parameters = stats.norm.fit(Xstand)\n",
        "# mu, sigma = parameters\n",
        "\n",
        "# fig, ax = plt.subplots()\n",
        "# ax.plot(Xstand, stats.norm.pdf(Xstand, loc=mu, scale=sigma))\n",
        "# ax.hist(Xstand, bins=25, density=True, color='lightgray', alpha=0.5)\n",
        "# ax.set_xlabel('x')\n",
        "# ax.set_ylabel('pdf(x)')\n",
        "# ax.set_xlim(-4, 4)\n",
        "# ax.grid(True)\n",
        "\n",
        "# # plt.vlines(x=z, ymin=0, ymax=stats.norm.pdf(z, loc=mu, scale=sigma), color='black')\n",
        "\n",
        "# plt.title(f'z={z} or {stats.norm.cdf(z)}')\n",
        "# plt.show()"
      ]
    },
    {
      "cell_type": "code",
      "execution_count": null,
      "id": "26fccbba",
      "metadata": {
        "id": "26fccbba"
      },
      "outputs": [],
      "source": [
        "# # plot percentage between 2 and 4 years\n",
        "# mu = 3.4\n",
        "# sigma = 1.2\n",
        "# X = np.linspace(-1, 8, 10000)\n",
        "# plt.plot(X, stats.norm.pdf(X, loc=mu, scale=sigma))\n",
        "# plt.vlines(x=mu, ymin=0, ymax=stats.norm.pdf(mu, loc=mu, scale=sigma), color='black')\n",
        "# # plt.vlines(x=2, ymin=0, ymax=stats.norm.pdf(2, loc=mu, scale=sigma), color='green')\n",
        "# # plt.vlines(x=4, ymin=0, ymax=stats.norm.pdf(4, loc=mu, scale=sigma), color='green')\n",
        "\n",
        "# plt.title('Normal Distribution')\n",
        "# plt.xlabel('Values of Random Variable X')\n",
        "# plt.ylabel('Probability')\n",
        "# plt.show()"
      ]
    },
    {
      "cell_type": "code",
      "execution_count": null,
      "id": "6afe27bf",
      "metadata": {
        "id": "6afe27bf"
      },
      "outputs": [],
      "source": [
        "# What percentage last between 2 and 4 years?\n"
      ]
    },
    {
      "cell_type": "code",
      "execution_count": null,
      "id": "5512d339",
      "metadata": {
        "id": "5512d339"
      },
      "outputs": [],
      "source": [
        "# # What is the middle 50% range for smartphone lifespans?\n",
        "# mu = 3.4\n",
        "# sigma = 1.2\n",
        "# X = np.linspace(-1, 8, 10000)\n",
        "# zlo = stats.norm.ppf(.25, loc=3.4, scale=1.2)\n",
        "# zhi = stats.norm.ppf(.75, loc=3.4, scale=1.2)\n",
        "\n",
        "# plt.plot(X, stats.norm.pdf(X, loc=mu, scale=sigma))\n",
        "# plt.vlines(x=mu, ymin=0, ymax=stats.norm.pdf(mu, loc=mu, scale=sigma), color='black')\n",
        "# # plt.vlines(x=zlo, ymin=0, ymax=stats.norm.pdf(zlo, loc=mu, scale=sigma), color='green')\n",
        "# # plt.vlines(x=zhi, ymin=0, ymax=stats.norm.pdf(zhi, loc=mu, scale=sigma), color='green')\n",
        "\n",
        "# plt.title('Normal Distribution')\n",
        "# plt.xlabel('Values of Random Variable X')\n",
        "# plt.ylabel('Probability')\n",
        "# plt.show()"
      ]
    },
    {
      "cell_type": "code",
      "execution_count": null,
      "id": "327390f7",
      "metadata": {
        "id": "327390f7"
      },
      "outputs": [],
      "source": [
        "# # the normal curve\n",
        "# import numpy as np\n",
        "# import matplotlib.pyplot as plt\n",
        "# import scipy.stats as stats\n",
        "\n",
        "# Xstand = stats.norm.rvs(size=10000)\n",
        "# Xstand.sort()\n",
        "\n",
        "# parameters = stats.norm.fit(Xstand)\n",
        "# mu, sigma = parameters\n",
        "\n",
        "\n",
        "# fig, ax = plt.subplots()\n",
        "# ax.plot(Xstand, stats.norm.pdf(Xstand, loc=mu, scale=sigma))\n",
        "# ax.hist(Xstand, bins=25, density=True, color='lightgray', alpha=0.5)\n",
        "# ax.set_xlabel('x')\n",
        "# ax.set_ylabel('pdf(x)')\n",
        "# ax.set_xlim(-4, 4)\n",
        "# ax.grid(True)\n",
        "\n",
        "# plt.vlines(x=-3, ymin=0, ymax=stats.norm.pdf(-3, loc=mu, scale=sigma), color='black')\n",
        "# plt.vlines(x=-2, ymin=0, ymax=stats.norm.pdf(-2, loc=mu, scale=sigma), color='red')\n",
        "# plt.vlines(x=-1, ymin=0, ymax=stats.norm.pdf(-1, loc=mu, scale=sigma), color='green')\n",
        "# plt.vlines(x=0, ymin=0, ymax=stats.norm.pdf(0, loc=mu, scale=sigma), color='blue')\n",
        "# plt.vlines(x=1, ymin=0, ymax=stats.norm.pdf(1, loc=mu, scale=sigma), color='green')\n",
        "# plt.vlines(x=2, ymin=0, ymax=stats.norm.pdf(2, loc=mu, scale=sigma), color='red')\n",
        "# plt.vlines(x=3, ymin=0, ymax=stats.norm.pdf(3, loc=mu, scale=sigma), color='black')\n",
        "\n",
        "# plt.title('Normal Curve with 68-95-99.7 rule')\n",
        "# plt.show()"
      ]
    },
    {
      "cell_type": "code",
      "execution_count": null,
      "id": "c84855c3",
      "metadata": {
        "id": "c84855c3"
      },
      "outputs": [],
      "source": [
        "# What is the middle 50% range for smartphone lifespans?\n"
      ]
    },
    {
      "cell_type": "markdown",
      "id": "08f91205",
      "metadata": {
        "id": "08f91205"
      },
      "source": [
        "### Problem 2\n",
        "\n",
        "For every inch of rainfall in a region over the course of a day, a river rises downstream by 6 inches. Currently the river is running 3 feet below the tops of its banks. Tomorrow the forecast gives a 60% chance of rain. When it rains in this region, the average amount to fall is 4 inches with a standard deviation of 1.6 inches and normal distribution.\n",
        "\n",
        "* x = 6\n",
        "* m = 4\n",
        "* std = 1.6"
      ]
    },
    {
      "cell_type": "code",
      "execution_count": null,
      "id": "5bc290ac",
      "metadata": {
        "id": "5bc290ac"
      },
      "outputs": [],
      "source": [
        "# What is the probability that the river will rise above its banks and flood the downstream region tomorrow?\n"
      ]
    },
    {
      "cell_type": "markdown",
      "id": "c9268780",
      "metadata": {
        "id": "c9268780"
      },
      "source": [
        "### Problem 3\n",
        "\n",
        "Subway train departures in a city are 10 minutes late on average with a normal distribution and a standard deviation of 6 minutes."
      ]
    },
    {
      "cell_type": "code",
      "execution_count": null,
      "id": "9b7f2096",
      "metadata": {
        "id": "9b7f2096"
      },
      "outputs": [],
      "source": [
        "# # plot the range of train departure\n",
        "# mu = 10\n",
        "# sigma = 6\n",
        "\n",
        "# X = np.linspace(-5, 25, 10000)\n",
        "\n",
        "# plt.plot(X, stats.norm.pdf(X, loc=mu, scale=sigma))\n",
        "# plt.vlines(x=mu, ymin=0, ymax=stats.norm.pdf(mu, loc=mu, scale=sigma), color='black')\n",
        "# plt.vlines(x=0, ymin=0, ymax=stats.norm.pdf(0, loc=mu, scale=sigma), color='green')\n",
        "# plt.vlines(x=15, ymin=0, ymax=stats.norm.pdf(15, loc=mu, scale=sigma), color='green')\n",
        "\n",
        "# plt.title('Normal Distribution')\n",
        "# plt.xlabel('Values of Random Variable X')\n",
        "# plt.ylabel('Probability')\n",
        "# plt.show()"
      ]
    },
    {
      "cell_type": "code",
      "execution_count": null,
      "id": "68039486",
      "metadata": {
        "id": "68039486"
      },
      "outputs": [],
      "source": [
        "# What is the probability of a train departing somewhere in the range between on-time and 15 minutes late?\n"
      ]
    },
    {
      "cell_type": "markdown",
      "id": "15bebc5b",
      "metadata": {
        "id": "15bebc5b"
      },
      "source": [
        "### Problem 4\n",
        "\n",
        "The average speed of motorists on a highway is measured by the time it takes each car to travel between two pay stations which are 60 miles apart. During one off-peak hour, 10,000 cars arrive at the second pay station. During this time, the average time it takes a car to travel between the two pay stations is 50 minutes. The average speed of the cars is normally distributed."
      ]
    },
    {
      "cell_type": "code",
      "execution_count": null,
      "id": "8c9198a3",
      "metadata": {
        "id": "8c9198a3"
      },
      "outputs": [],
      "source": [
        "# If it takes 1000 cars more than an hour to reach the second pay station,\n",
        "# what is the standard deviation for speed in miles per hour during that one-hour period?\n",
        "# (x-mu) / std\n"
      ]
    },
    {
      "cell_type": "code",
      "execution_count": null,
      "id": "eeaef915",
      "metadata": {
        "id": "eeaef915"
      },
      "outputs": [],
      "source": [
        "# If the highway patrol decides to give tickets to the fastest 5% of motorists,\n",
        "# at what speed (mph) will they need to start giving out tickets?\n",
        "# (x - 72) / std = z.95\n"
      ]
    },
    {
      "cell_type": "markdown",
      "id": "987f9587",
      "metadata": {
        "id": "987f9587"
      },
      "source": [
        "### Problem 5\n",
        "\n",
        "The mayor of Denton is a member of the city council and is elected with a majority of council votes. The council is made up of eleven members, including the mayor. The mayor is being challenged by one of the other council members during an election. If the incumbent and challenger will each vote for themselves, and each of the other council members have a 60% probability of voting for the incumbent, what is the probability that the incumbent mayor will be reelected?\n",
        "\n",
        "* stats.binom.pmf(x, n, p)\n",
        "* n = 9\n",
        "* k >= 5 (for a majority)\n",
        "* p = .6\n"
      ]
    },
    {
      "cell_type": "code",
      "execution_count": null,
      "id": "c20c9097",
      "metadata": {
        "scrolled": true,
        "id": "c20c9097"
      },
      "outputs": [],
      "source": [
        "# stats.binom.pmf(5, 9, .6) if k = 5 but since k >= 5 we have to add percentage\n"
      ]
    },
    {
      "cell_type": "markdown",
      "id": "4b55ab6e",
      "metadata": {
        "id": "4b55ab6e"
      },
      "source": [
        "### Problem 6\n",
        "\n",
        "A quality control engineer is in charge of testing whether a factory’s production process is meeting specifications. One specification states that at least 85% of all products made by the factory must meet a certain standard of quality. To test this specification, the engineer tests 20 randomly-selected products each day. If more than 3 of them fail to meet quality standards, then production is halted while the entire day’s production must be tested. If the factory is not meeting specifications and only 70% of its produced products are meeting quality standards, what is the probability that the quality control engineer will fail to notice this problem in her daily test?\n",
        "\n",
        "* n = 20\n",
        "* k = 3\n",
        "* p = ?"
      ]
    },
    {
      "cell_type": "code",
      "execution_count": null,
      "id": "f5b8cfde",
      "metadata": {
        "id": "f5b8cfde"
      },
      "outputs": [],
      "source": [
        "# probability that the quality control engineer will fail to notice this problem in her daily test\n"
      ]
    }
  ],
  "metadata": {
    "kernelspec": {
      "display_name": "Python 3 (ipykernel)",
      "language": "python",
      "name": "python3"
    },
    "language_info": {
      "codemirror_mode": {
        "name": "ipython",
        "version": 3
      },
      "file_extension": ".py",
      "mimetype": "text/x-python",
      "name": "python",
      "nbconvert_exporter": "python",
      "pygments_lexer": "ipython3",
      "version": "3.9.7"
    },
    "colab": {
      "provenance": [],
      "toc_visible": true,
      "include_colab_link": true
    }
  },
  "nbformat": 4,
  "nbformat_minor": 5
}