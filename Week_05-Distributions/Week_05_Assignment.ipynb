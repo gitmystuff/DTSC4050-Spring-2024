{
  "cells": [
    {
      "cell_type": "markdown",
      "metadata": {
        "id": "view-in-github",
        "colab_type": "text"
      },
      "source": [
        "<a href=\"https://colab.research.google.com/github/gitmystuff/DTSC4050/blob/main/Week_05-Distributions/Week_05_Assignment.ipynb\" target=\"_parent\"><img src=\"https://colab.research.google.com/assets/colab-badge.svg\" alt=\"Open In Colab\"/></a>"
      ]
    },
    {
      "cell_type": "markdown",
      "id": "69574c84",
      "metadata": {
        "id": "69574c84"
      },
      "source": [
        "# Week 05 - Assignment\n"
      ]
    },
    {
      "cell_type": "markdown",
      "id": "8f861920",
      "metadata": {
        "id": "8f861920"
      },
      "source": [
        "Show and use the stats.norm.cdf and stats.norm.ppf formulas for the following. Round your answers to 2 decimal places.\n",
        "* What is the cdf precentile associated with 2 standard deviations above the mean?\n",
        "* What is the cdf precentile associated with 1 standard deviation below the mean?\n",
        "* What is the z score associated with the 84 percentile?\n",
        "* What is the z score associated with the 2.1 percentile?\n",
        "\n",
        "np.round(stats.norm.cdf(z, loc=mu, scale=sigma), 2)\n",
        "\n",
        "np.round(stats.norm.ppf(percent, loc=mu, scale=sigma), 2)\n",
        "\n",
        "Show and use the scipy.stats.binom function to answer the following. Round your answers to 2 decimal places.\n",
        "* A fair coins is flipped 5 times. What is the probability of getting 2 tails?\n",
        "* A fair die is thrown 4 times. What is the probability of getting 2 threes?\n",
        "\n",
        "binom.pmf(x, n, p)"
      ]
    },
    {
      "cell_type": "markdown",
      "id": "cedfba67",
      "metadata": {
        "id": "cedfba67"
      },
      "source": [
        "### Problem 1"
      ]
    },
    {
      "cell_type": "code",
      "execution_count": null,
      "id": "14b68950",
      "metadata": {
        "id": "14b68950"
      },
      "outputs": [],
      "source": [
        "# What is the cdf precentile associated with 2 standard deviations above the mean?\n",
        "..."
      ]
    },
    {
      "cell_type": "markdown",
      "id": "699b8480",
      "metadata": {
        "id": "699b8480"
      },
      "source": [
        "### Problem 2"
      ]
    },
    {
      "cell_type": "code",
      "execution_count": null,
      "id": "cd487c96",
      "metadata": {
        "id": "cd487c96"
      },
      "outputs": [],
      "source": [
        "# What is the cdf precentile associated with 1 standard deviation below the mean?\n",
        "..."
      ]
    },
    {
      "cell_type": "markdown",
      "id": "ba9eaeea",
      "metadata": {
        "id": "ba9eaeea"
      },
      "source": [
        "### Problem 3"
      ]
    },
    {
      "cell_type": "code",
      "execution_count": null,
      "id": "a5bb52e4",
      "metadata": {
        "id": "a5bb52e4"
      },
      "outputs": [],
      "source": [
        "# What is the z score associated with the 84 percentile?\n",
        "..."
      ]
    },
    {
      "cell_type": "markdown",
      "id": "3d7e3df0",
      "metadata": {
        "id": "3d7e3df0"
      },
      "source": [
        "### Problem 4"
      ]
    },
    {
      "cell_type": "code",
      "execution_count": null,
      "id": "5a8103b3",
      "metadata": {
        "id": "5a8103b3"
      },
      "outputs": [],
      "source": [
        "# What is the z score associated with the 2.1 percentile?\n",
        "..."
      ]
    },
    {
      "cell_type": "markdown",
      "id": "5a6c96ed",
      "metadata": {
        "id": "5a6c96ed"
      },
      "source": [
        "### Problem 5"
      ]
    },
    {
      "cell_type": "code",
      "execution_count": null,
      "id": "e21bf5f6",
      "metadata": {
        "id": "e21bf5f6"
      },
      "outputs": [],
      "source": [
        "# A fair coins is flipped 5 times. What is the probability of getting 2 tails?\n",
        "..."
      ]
    },
    {
      "cell_type": "markdown",
      "id": "b2c4f8b5",
      "metadata": {
        "id": "b2c4f8b5"
      },
      "source": [
        "### Problem 6"
      ]
    },
    {
      "cell_type": "code",
      "execution_count": null,
      "id": "705dd0bc",
      "metadata": {
        "id": "705dd0bc"
      },
      "outputs": [],
      "source": [
        "# A fair die is thrown 4 times. What is the probability of getting 2 threes?\n",
        "..."
      ]
    }
  ],
  "metadata": {
    "kernelspec": {
      "display_name": "Python 3 (ipykernel)",
      "language": "python",
      "name": "python3"
    },
    "language_info": {
      "codemirror_mode": {
        "name": "ipython",
        "version": 3
      },
      "file_extension": ".py",
      "mimetype": "text/x-python",
      "name": "python",
      "nbconvert_exporter": "python",
      "pygments_lexer": "ipython3",
      "version": "3.9.7"
    },
    "colab": {
      "provenance": [],
      "include_colab_link": true
    }
  },
  "nbformat": 4,
  "nbformat_minor": 5
}