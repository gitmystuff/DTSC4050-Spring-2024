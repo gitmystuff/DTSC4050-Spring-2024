{
  "cells": [
    {
      "cell_type": "markdown",
      "metadata": {
        "id": "view-in-github",
        "colab_type": "text"
      },
      "source": [
        "<a href=\"https://colab.research.google.com/github/gitmystuff/DTSC4050/blob/main/Week_07-Feature_Selection/Week_07_Assignment.ipynb\" target=\"_parent\"><img src=\"https://colab.research.google.com/assets/colab-badge.svg\" alt=\"Open In Colab\"/></a>"
      ]
    },
    {
      "cell_type": "markdown",
      "id": "ee23f6d1",
      "metadata": {
        "id": "ee23f6d1"
      },
      "source": [
        "# Week 07 - Assignment\n",
        "\n",
        "## Example\n",
        "\n",
        "* Make a dataframe from the Advertising.csv and print the shape and the head\n",
        "* Train test split using sales as the target (y) and TV, radio, and newspaper as X, test_size=0.25, random_state=42\n",
        "* Check for missing data and data types for X_train\n",
        "* Print the simple descriptive statistics for X_train\n",
        "* Show histograms for the X_train features\n",
        "* Create a correlation heatmap of X_train features\n",
        "* Create a correlation matrix of X_train features\n",
        "* Plot correlation of X_train with y_train\n",
        "* Plot the mutual information between X_train and y_train"
      ]
    },
    {
      "cell_type": "code",
      "execution_count": null,
      "id": "5e4fbabb",
      "metadata": {
        "id": "5e4fbabb",
        "outputId": "cc677e37-b143-4968-da59-a395aeda5962"
      },
      "outputs": [
        {
          "name": "stdout",
          "output_type": "stream",
          "text": [
            "(200, 4)\n",
            "      TV  radio  newspaper  sales\n",
            "1  230.1   37.8       69.2   22.1\n",
            "2   44.5   39.3       45.1   10.4\n",
            "3   17.2   45.9       69.3    9.3\n",
            "4  151.5   41.3       58.5   18.5\n",
            "5  180.8   10.8       58.4   12.9\n"
          ]
        }
      ],
      "source": [
        "# Make a dataframe from the Advertising.csv file\n",
        "# print the shape and the head\n",
        "import pandas as pd\n",
        "\n",
        "ads = pd.read_csv('https://raw.githubusercontent.com/gitmystuff/INFO4050/main/Datasets/Advertising.csv', index_col=0)\n",
        "print(ads.shape)\n",
        "print(ads.head())"
      ]
    },
    {
      "cell_type": "code",
      "execution_count": null,
      "id": "83dd3eb3",
      "metadata": {
        "id": "83dd3eb3",
        "outputId": "c0962d2c-7aef-4707-9bc5-8ce019b8fb13"
      },
      "outputs": [
        {
          "name": "stdout",
          "output_type": "stream",
          "text": [
            "(150, 3)\n",
            "(50, 3)\n"
          ]
        }
      ],
      "source": [
        "# train test split using sales as the target (y) and TV, radio, and newspaper as X, test_size=0.25, random_state=42\n",
        "from sklearn.model_selection import train_test_split\n",
        "\n",
        "X_train, X_test, y_train, y_test = train_test_split(ads.drop('sales', axis=1), ads['sales'], test_size=.25, random_state=42)\n",
        "print(X_train.shape)\n",
        "print(X_test.shape)"
      ]
    },
    {
      "cell_type": "code",
      "execution_count": null,
      "id": "3bdf4623",
      "metadata": {
        "id": "3bdf4623",
        "outputId": "6933c8bc-c95d-4214-cff2-2fd6edf5c98f"
      },
      "outputs": [
        {
          "name": "stdout",
          "output_type": "stream",
          "text": [
            "<class 'pandas.core.frame.DataFrame'>\n",
            "Int64Index: 150 entries, 115 to 103\n",
            "Data columns (total 3 columns):\n",
            " #   Column     Non-Null Count  Dtype  \n",
            "---  ------     --------------  -----  \n",
            " 0   TV         150 non-null    float64\n",
            " 1   radio      150 non-null    float64\n",
            " 2   newspaper  150 non-null    float64\n",
            "dtypes: float64(3)\n",
            "memory usage: 4.7 KB\n"
          ]
        }
      ],
      "source": [
        "# check for missing data and data types\n",
        "X_train.info()"
      ]
    },
    {
      "cell_type": "code",
      "execution_count": null,
      "id": "9597644e",
      "metadata": {
        "id": "9597644e",
        "outputId": "74a3b1e1-d716-4288-e773-e962780139fa"
      },
      "outputs": [
        {
          "data": {
            "text/html": [
              "<div>\n",
              "<style scoped>\n",
              "    .dataframe tbody tr th:only-of-type {\n",
              "        vertical-align: middle;\n",
              "    }\n",
              "\n",
              "    .dataframe tbody tr th {\n",
              "        vertical-align: top;\n",
              "    }\n",
              "\n",
              "    .dataframe thead th {\n",
              "        text-align: right;\n",
              "    }\n",
              "</style>\n",
              "<table border=\"1\" class=\"dataframe\">\n",
              "  <thead>\n",
              "    <tr style=\"text-align: right;\">\n",
              "      <th></th>\n",
              "      <th>TV</th>\n",
              "      <th>radio</th>\n",
              "      <th>newspaper</th>\n",
              "    </tr>\n",
              "  </thead>\n",
              "  <tbody>\n",
              "    <tr>\n",
              "      <th>count</th>\n",
              "      <td>150.000000</td>\n",
              "      <td>150.000000</td>\n",
              "      <td>150.000000</td>\n",
              "    </tr>\n",
              "    <tr>\n",
              "      <th>mean</th>\n",
              "      <td>152.958000</td>\n",
              "      <td>23.497333</td>\n",
              "      <td>30.458000</td>\n",
              "    </tr>\n",
              "    <tr>\n",
              "      <th>std</th>\n",
              "      <td>85.098614</td>\n",
              "      <td>14.906298</td>\n",
              "      <td>20.731383</td>\n",
              "    </tr>\n",
              "    <tr>\n",
              "      <th>min</th>\n",
              "      <td>0.700000</td>\n",
              "      <td>0.000000</td>\n",
              "      <td>0.300000</td>\n",
              "    </tr>\n",
              "    <tr>\n",
              "      <th>25%</th>\n",
              "      <td>86.350000</td>\n",
              "      <td>10.225000</td>\n",
              "      <td>12.650000</td>\n",
              "    </tr>\n",
              "    <tr>\n",
              "      <th>50%</th>\n",
              "      <td>164.000000</td>\n",
              "      <td>22.000000</td>\n",
              "      <td>25.900000</td>\n",
              "    </tr>\n",
              "    <tr>\n",
              "      <th>75%</th>\n",
              "      <td>220.325000</td>\n",
              "      <td>37.425000</td>\n",
              "      <td>45.550000</td>\n",
              "    </tr>\n",
              "    <tr>\n",
              "      <th>max</th>\n",
              "      <td>296.400000</td>\n",
              "      <td>49.600000</td>\n",
              "      <td>100.900000</td>\n",
              "    </tr>\n",
              "  </tbody>\n",
              "</table>\n",
              "</div>"
            ],
            "text/plain": [
              "               TV       radio   newspaper\n",
              "count  150.000000  150.000000  150.000000\n",
              "mean   152.958000   23.497333   30.458000\n",
              "std     85.098614   14.906298   20.731383\n",
              "min      0.700000    0.000000    0.300000\n",
              "25%     86.350000   10.225000   12.650000\n",
              "50%    164.000000   22.000000   25.900000\n",
              "75%    220.325000   37.425000   45.550000\n",
              "max    296.400000   49.600000  100.900000"
            ]
          },
          "execution_count": 4,
          "metadata": {},
          "output_type": "execute_result"
        }
      ],
      "source": [
        "# print the simple descriptive statistics for X_train\n",
        "X_train.describe()"
      ]
    },
    {
      "cell_type": "code",
      "execution_count": null,
      "id": "ece9b382",
      "metadata": {
        "id": "ece9b382",
        "outputId": "50f785af-ad47-4e3f-8b83-1128471602b5"
      },
      "outputs": [
        {
          "data": {
            "image/png": "[encoded data removed]",
            "text/plain": [
              "<Figure size 640x480 with 4 Axes>"
            ]
          },
          "metadata": {},
          "output_type": "display_data"
        }
      ],
      "source": [
        "# show histograms for the X_train featurs\n",
        "import matplotlib.pyplot as plt\n",
        "\n",
        "X_train.hist()\n",
        "plt.tight_layout();"
      ]
    },
    {
      "cell_type": "code",
      "execution_count": null,
      "id": "eefea764",
      "metadata": {
        "id": "eefea764",
        "outputId": "179f8746-6ab9-4848-d2e2-b2efbdf45177"
      },
      "outputs": [
        {
          "data": {
            "image/png": "[encoded data removed]",
            "text/plain": [
              "<Figure size 1000x1000 with 2 Axes>"
            ]
          },
          "metadata": {},
          "output_type": "display_data"
        }
      ],
      "source": [
        "# create a correlation heatmap\n",
        "import numpy as np\n",
        "import matplotlib.pyplot as plt\n",
        "import seaborn as sns\n",
        "\n",
        "sns.set(style='white')\n",
        "\n",
        "# compute the correlation matrix\n",
        "corr = X_train.corr(method='pearson')\n",
        "\n",
        "# generate a mask for the upper triangle\n",
        "mask = np.zeros_like(corr, dtype=bool)\n",
        "mask[np.triu_indices_from(mask)] = True\n",
        "\n",
        "# set up the matplotlib figure\n",
        "f, ax = plt.subplots(figsize=(10,10))\n",
        "\n",
        "# generate a custom diverging colormap\n",
        "cmap = sns.diverging_palette(220, 10, as_cmap=True)\n",
        "\n",
        "# draw the heatmap with the mask and correct aspect ratio\n",
        "sns.heatmap(corr, mask=mask, cmap=cmap, vmax=.3, center=0,\n",
        "            square=True, linewidths=.5, cbar_kws={'shrink': .5}, annot=True);"
      ]
    },
    {
      "cell_type": "code",
      "execution_count": null,
      "id": "2092d4f7",
      "metadata": {
        "id": "2092d4f7",
        "outputId": "b53d98fe-19c2-423c-d48e-c2da2a4b1d81"
      },
      "outputs": [
        {
          "data": {
            "text/html": [
              "<div>\n",
              "<style scoped>\n",
              "    .dataframe tbody tr th:only-of-type {\n",
              "        vertical-align: middle;\n",
              "    }\n",
              "\n",
              "    .dataframe tbody tr th {\n",
              "        vertical-align: top;\n",
              "    }\n",
              "\n",
              "    .dataframe thead th {\n",
              "        text-align: right;\n",
              "    }\n",
              "</style>\n",
              "<table border=\"1\" class=\"dataframe\">\n",
              "  <thead>\n",
              "    <tr style=\"text-align: right;\">\n",
              "      <th></th>\n",
              "      <th>Feature 1</th>\n",
              "      <th>Feature 2</th>\n",
              "      <th>Correlation</th>\n",
              "    </tr>\n",
              "  </thead>\n",
              "  <tbody>\n",
              "    <tr>\n",
              "      <th>0</th>\n",
              "      <td>radio</td>\n",
              "      <td>newspaper</td>\n",
              "      <td>0.382034</td>\n",
              "    </tr>\n",
              "    <tr>\n",
              "      <th>1</th>\n",
              "      <td>newspaper</td>\n",
              "      <td>radio</td>\n",
              "      <td>0.382034</td>\n",
              "    </tr>\n",
              "    <tr>\n",
              "      <th>2</th>\n",
              "      <td>TV</td>\n",
              "      <td>radio</td>\n",
              "      <td>0.043265</td>\n",
              "    </tr>\n",
              "    <tr>\n",
              "      <th>3</th>\n",
              "      <td>radio</td>\n",
              "      <td>TV</td>\n",
              "      <td>0.043265</td>\n",
              "    </tr>\n",
              "    <tr>\n",
              "      <th>4</th>\n",
              "      <td>TV</td>\n",
              "      <td>newspaper</td>\n",
              "      <td>0.015895</td>\n",
              "    </tr>\n",
              "  </tbody>\n",
              "</table>\n",
              "</div>"
            ],
            "text/plain": [
              "   Feature 1  Feature 2  Correlation\n",
              "0      radio  newspaper     0.382034\n",
              "1  newspaper      radio     0.382034\n",
              "2         TV      radio     0.043265\n",
              "3      radio         TV     0.043265\n",
              "4         TV  newspaper     0.015895"
            ]
          },
          "execution_count": 7,
          "metadata": {},
          "output_type": "execute_result"
        }
      ],
      "source": [
        "# create a correlation matrix\n",
        "cormat = X_train.corr()\n",
        "cormat = cormat.abs().unstack()\n",
        "cormat = cormat.sort_values(ascending=False)\n",
        "cormat = cormat[cormat >= 0]\n",
        "cormat = cormat[cormat < 1]\n",
        "cormat = pd.DataFrame(cormat).reset_index()\n",
        "cormat.columns = ['Feature 1', 'Feature 2', 'Correlation']\n",
        "cormat.head()"
      ]
    },
    {
      "cell_type": "code",
      "execution_count": null,
      "id": "215aead6",
      "metadata": {
        "id": "215aead6",
        "outputId": "a8b0559f-816e-4271-b3e3-44e11e48e1e4"
      },
      "outputs": [
        {
          "data": {
            "image/png": "[encoded data removed]",
            "text/plain": [
              "<Figure size 640x480 with 1 Axes>"
            ]
          },
          "metadata": {},
          "output_type": "display_data"
        }
      ],
      "source": [
        "# plot correlation of X_train with y_train\n",
        "X_train.corrwith(y_train).plot.bar(\n",
        "        title = \"Correlation with Target\", fontsize = 15,\n",
        "        rot = 45, grid = True);"
      ]
    },
    {
      "cell_type": "code",
      "execution_count": null,
      "id": "625f5e34",
      "metadata": {
        "id": "625f5e34",
        "outputId": "e12bef77-b518-43c3-a40f-9394c396ef2c"
      },
      "outputs": [
        {
          "data": {
            "image/png": "[encoded data removed]",
            "text/plain": [
              "<Figure size 640x480 with 1 Axes>"
            ]
          },
          "metadata": {},
          "output_type": "display_data"
        }
      ],
      "source": [
        "# plot the mutual information between X_train and y_train\n",
        "from sklearn.feature_selection import mutual_info_regression\n",
        "\n",
        "mi = mutual_info_regression(X_train, y_train)\n",
        "mi = pd.Series(mi)\n",
        "mi.index = X_train.columns\n",
        "mi.sort_values(ascending=False).plot.bar()\n",
        "plt.ylabel('Mutual Information');"
      ]
    },
    {
      "cell_type": "markdown",
      "id": "2836164c",
      "metadata": {
        "id": "2836164c"
      },
      "source": [
        "## Your Turn\n",
        "\n",
        "* Make a dataframe from the mpg.csv file and print the shape and the head\n",
        "* Train test split using mpg as the target (y) and horsepower, weight, acceleration as X, test_size=0.25, random_state=42\n",
        "* Check for missing data and data types for X_train\n",
        "* Print the simple descriptive statistics for X_train\n",
        "* Show histograms for the X_train features\n",
        "* Create a correlation heatmap of X_train features\n",
        "* Create a correlation matrix of X_train features\n",
        "* Plot correlation of X_train with y_train\n",
        "* Plot the mutual information between X_train and y_train"
      ]
    },
    {
      "cell_type": "code",
      "execution_count": null,
      "id": "ca1feb6f",
      "metadata": {
        "id": "ca1feb6f"
      },
      "outputs": [],
      "source": [
        "# make a dataframe from the mpg.csv file given to you and print the shape and the head\n",
        "import pandas as pd\n",
        "\n",
        "mpg = pd.read_csv('https://raw.githubusercontent.com/gitmystuff/INFO4050/main/Datasets/mpg.csv')\n"
      ]
    },
    {
      "cell_type": "code",
      "execution_count": null,
      "id": "86ebcc94",
      "metadata": {
        "id": "86ebcc94"
      },
      "outputs": [],
      "source": [
        "# train test split using mpg as the target (y) and horsepower, weight, acceleration as X, test_size=0.25, random_state=42\n"
      ]
    },
    {
      "cell_type": "code",
      "execution_count": null,
      "id": "f04f14b2",
      "metadata": {
        "id": "f04f14b2"
      },
      "outputs": [],
      "source": [
        "# check for missing data and data types for X_train\n"
      ]
    },
    {
      "cell_type": "code",
      "execution_count": null,
      "id": "f11d62c5",
      "metadata": {
        "id": "f11d62c5"
      },
      "outputs": [],
      "source": [
        "# print the simple descriptive statistics for X_train\n"
      ]
    },
    {
      "cell_type": "code",
      "execution_count": null,
      "id": "1aead6fa",
      "metadata": {
        "id": "1aead6fa"
      },
      "outputs": [],
      "source": [
        "# show histograms for the X_train features"
      ]
    },
    {
      "cell_type": "code",
      "execution_count": null,
      "id": "2bcd65e6",
      "metadata": {
        "id": "2bcd65e6"
      },
      "outputs": [],
      "source": [
        "# create a correlation heatmap of X_train features\n"
      ]
    },
    {
      "cell_type": "code",
      "execution_count": null,
      "id": "8c23b729",
      "metadata": {
        "id": "8c23b729"
      },
      "outputs": [],
      "source": [
        "# create a correlation matrix of X_train freatures\n"
      ]
    },
    {
      "cell_type": "code",
      "execution_count": null,
      "id": "74181e6a",
      "metadata": {
        "id": "74181e6a"
      },
      "outputs": [],
      "source": [
        "# plot correlation of X_train with y_train\n"
      ]
    },
    {
      "cell_type": "code",
      "execution_count": null,
      "id": "a88713bf",
      "metadata": {
        "id": "a88713bf"
      },
      "outputs": [],
      "source": [
        "# plot the mutual information between X_train and y_train\n"
      ]
    }
  ],
  "metadata": {
    "kernelspec": {
      "display_name": "Python 3 (ipykernel)",
      "language": "python",
      "name": "python3"
    },
    "language_info": {
      "codemirror_mode": {
        "name": "ipython",
        "version": 3
      },
      "file_extension": ".py",
      "mimetype": "text/x-python",
      "name": "python",
      "nbconvert_exporter": "python",
      "pygments_lexer": "ipython3",
      "version": "3.9.7"
    },
    "colab": {
      "provenance": [],
      "include_colab_link": true
    }
  },
  "nbformat": 4,
  "nbformat_minor": 5
}