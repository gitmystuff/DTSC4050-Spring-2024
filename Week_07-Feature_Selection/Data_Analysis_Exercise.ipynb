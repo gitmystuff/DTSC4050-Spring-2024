{
  "cells": [
    {
      "cell_type": "markdown",
      "metadata": {
        "id": "view-in-github",
        "colab_type": "text"
      },
      "source": [
        "<a href=\"https://colab.research.google.com/github/gitmystuff/DTSC4050/blob/main/Week_07-Feature_Selection/Data_Analysis_Exercise.ipynb\" target=\"_parent\"><img src=\"https://colab.research.google.com/assets/colab-badge.svg\" alt=\"Open In Colab\"/></a>"
      ]
    },
    {
      "cell_type": "markdown",
      "id": "a9abeaf2",
      "metadata": {
        "id": "a9abeaf2"
      },
      "source": [
        "# Data Analysis"
      ]
    },
    {
      "cell_type": "markdown",
      "id": "4986d461",
      "metadata": {
        "id": "4986d461"
      },
      "source": [
        "### Series\n",
        "\n",
        "A Pandas Series is like a column in a table. It is a one-dimensional array holding data of any type."
      ]
    },
    {
      "cell_type": "code",
      "execution_count": null,
      "id": "aa69907e",
      "metadata": {
        "id": "aa69907e"
      },
      "outputs": [],
      "source": [
        "# create a series and compare with list\n",
        "# zoo = ['Elephants', 'Lions', 'Tigers', 'Giraffes', 'Chimps', 'Birds']\n",
        "# print(zoo)\n",
        "# print(pd.Series(zoo))"
      ]
    },
    {
      "cell_type": "code",
      "execution_count": null,
      "id": "fbf3c752",
      "metadata": {
        "id": "fbf3c752"
      },
      "outputs": [],
      "source": [
        "# create series from dictionary\n",
        "# d = {'key1': 'value1', 'key2': 'value2', 'key3': 'value3', 'key4': 'value4', 'key5': 'value5'}\n",
        "# dseries = pd.Series(d)\n",
        "# dseries"
      ]
    },
    {
      "cell_type": "code",
      "execution_count": null,
      "id": "27e3de48",
      "metadata": {
        "id": "27e3de48"
      },
      "outputs": [],
      "source": [
        "# dseries.values"
      ]
    },
    {
      "cell_type": "code",
      "execution_count": null,
      "id": "aab12ea7",
      "metadata": {
        "id": "aab12ea7"
      },
      "outputs": [],
      "source": [
        "# dseries.index"
      ]
    },
    {
      "cell_type": "code",
      "execution_count": null,
      "id": "8aac8f77",
      "metadata": {
        "id": "8aac8f77"
      },
      "outputs": [],
      "source": [
        "# dseries.dtype"
      ]
    },
    {
      "cell_type": "code",
      "execution_count": null,
      "id": "8a75d824",
      "metadata": {
        "id": "8a75d824"
      },
      "outputs": [],
      "source": [
        "# numbers_list = [1, 2, 3, 4, 5]\n",
        "# nseries = pd.Series(numbers_list)\n",
        "# nseries"
      ]
    },
    {
      "cell_type": "code",
      "execution_count": null,
      "id": "670f02f3",
      "metadata": {
        "id": "670f02f3"
      },
      "outputs": [],
      "source": [
        "# nseries.sum()"
      ]
    },
    {
      "cell_type": "code",
      "execution_count": null,
      "id": "76461922",
      "metadata": {
        "id": "76461922"
      },
      "outputs": [],
      "source": [
        "# nseries.product()"
      ]
    },
    {
      "cell_type": "code",
      "execution_count": null,
      "id": "c3e0bef3",
      "metadata": {
        "id": "c3e0bef3"
      },
      "outputs": [],
      "source": [
        "# nseries.mean()"
      ]
    },
    {
      "cell_type": "code",
      "execution_count": null,
      "id": "20a28c31",
      "metadata": {
        "id": "20a28c31"
      },
      "outputs": [],
      "source": [
        "# create series from two lists\n",
        "# idx = ['key1', 'key2', 'key3', 'key4', 'key5']\n",
        "# vals = ['value1', 'value2', 'value3', 'value4', 'value5']\n",
        "# sfl = pd.Series(data=vals, index=idx)\n",
        "# sfl"
      ]
    },
    {
      "cell_type": "code",
      "execution_count": null,
      "id": "df25dd1d",
      "metadata": {
        "id": "df25dd1d"
      },
      "outputs": [],
      "source": [
        "# more attributes\n",
        "# print(sfl.shape)\n",
        "# print(sfl.is_unique)\n",
        "# print(sfl.ndim)"
      ]
    },
    {
      "cell_type": "markdown",
      "id": "64eaab04",
      "metadata": {
        "id": "64eaab04"
      },
      "source": [
        "### DataFrames\n",
        "\n",
        "A Pandas DataFrame is a 2 dimensional data structure, like a 2 dimensional array, or a table with rows and columns."
      ]
    },
    {
      "cell_type": "code",
      "execution_count": null,
      "id": "b448c90b",
      "metadata": {
        "scrolled": true,
        "id": "b448c90b"
      },
      "outputs": [],
      "source": [
        "# show keys of load_diabetes\n",
        "# import pandas as pd\n",
        "\n",
        "# grades = pd.read_csv('https://raw.githubusercontent.com/gitmystuff/Datasets/main/class-grades2.csv', on_bad_lines='warn')\n",
        "# print(grades.shape)\n",
        "# print(grades.info())\n",
        "# grades.head()"
      ]
    },
    {
      "cell_type": "code",
      "source": [
        "# mask = ['Assignment1', 'Tutorial', 'Midterm', 'Quiz', 'Final']\n",
        "# grades[mask].corr()"
      ],
      "metadata": {
        "id": "pvsfGXYvqqif"
      },
      "id": "pvsfGXYvqqif",
      "execution_count": null,
      "outputs": []
    },
    {
      "cell_type": "code",
      "execution_count": null,
      "id": "816e08c2",
      "metadata": {
        "id": "816e08c2"
      },
      "outputs": [],
      "source": [
        "# filtering using mask\n",
        "# mask = ['Midterm', 'Final']\n",
        "# grades[mask].head()"
      ]
    },
    {
      "cell_type": "code",
      "execution_count": null,
      "id": "c26d0da2",
      "metadata": {
        "id": "c26d0da2"
      },
      "outputs": [],
      "source": [
        "# broadcasting\n",
        "# grades['Quiz'] = grades['Quiz'].add(5)\n",
        "# grades.head()"
      ]
    },
    {
      "cell_type": "code",
      "execution_count": null,
      "id": "35eda180",
      "metadata": {
        "id": "35eda180"
      },
      "outputs": [],
      "source": [
        "# grades['Quiz'] = grades['Quiz'] - 5\n",
        "# grades.head()"
      ]
    },
    {
      "cell_type": "code",
      "execution_count": null,
      "id": "4e3b7bdd",
      "metadata": {
        "scrolled": true,
        "id": "4e3b7bdd"
      },
      "outputs": [],
      "source": [
        "# sorting multiple columns\n",
        "# grades.sort_values(['Prefix', 'FinalGrade'], ascending = [True, False])"
      ]
    },
    {
      "cell_type": "code",
      "execution_count": null,
      "id": "0986db3e",
      "metadata": {
        "id": "0986db3e"
      },
      "outputs": [],
      "source": [
        "# between\n",
        "# grades[grades['FinalGrade'].between(grades['FinalGrade'].quantile(.25), grades['FinalGrade'].quantile(.75))]"
      ]
    },
    {
      "cell_type": "code",
      "execution_count": null,
      "id": "2655d095",
      "metadata": {
        "id": "2655d095"
      },
      "outputs": [],
      "source": [
        "# describe grades\n",
        "# grades.describe()"
      ]
    },
    {
      "cell_type": "code",
      "execution_count": null,
      "id": "a5ff3785",
      "metadata": {
        "id": "a5ff3785"
      },
      "outputs": [],
      "source": [
        "# isin\n",
        "# print(grades['Prefix'].value_counts())\n",
        "# print('\\nIn:\\n', grades['Prefix'].isin([8]).head())\n",
        "# print('\\nNot In:\\n', ~grades['Prefix'].isin([8]).head())"
      ]
    },
    {
      "cell_type": "code",
      "execution_count": null,
      "id": "6bb4f926",
      "metadata": {
        "id": "6bb4f926"
      },
      "outputs": [],
      "source": [
        "# filtering by multiple values\n",
        "# mask1 = grades['Prefix'] == 8\n",
        "# mask2 = grades['FinalGrade'] > 70\n",
        "\n",
        "# print(len(grades[mask1 & mask2]))\n",
        "# grades[mask1 & mask2]"
      ]
    },
    {
      "cell_type": "code",
      "execution_count": null,
      "id": "cfe0a2fd",
      "metadata": {
        "id": "cfe0a2fd"
      },
      "outputs": [],
      "source": [
        "# where\n",
        "# grades['FinalGrade'].where(mask1 & mask2, other='Fail').head()"
      ]
    },
    {
      "cell_type": "code",
      "execution_count": null,
      "id": "20a08f9d",
      "metadata": {
        "id": "20a08f9d"
      },
      "outputs": [],
      "source": [
        "# query\n",
        "# grades[mask1 & mask2].query('Final > 70')"
      ]
    },
    {
      "cell_type": "code",
      "execution_count": null,
      "id": "6091f793",
      "metadata": {
        "id": "6091f793"
      },
      "outputs": [],
      "source": [
        "# apply\n",
        "# def average_midterm_final(row):\n",
        "#     return (row.Midterm + row.Final) / 2\n",
        "\n",
        "# grades.apply(average_midterm_final, axis='columns')  # axis=1"
      ]
    },
    {
      "cell_type": "markdown",
      "id": "57afbe30",
      "metadata": {
        "id": "57afbe30"
      },
      "source": [
        "### Multiple Indexes"
      ]
    },
    {
      "cell_type": "code",
      "execution_count": null,
      "id": "ac0fbe81",
      "metadata": {
        "id": "ac0fbe81"
      },
      "outputs": [],
      "source": [
        "# create AtRisk and index\n",
        "# def at_risk(r):\n",
        "#   if r.FinalGrade >= 70:\n",
        "#     return 0\n",
        "#   else:\n",
        "#     return 1\n",
        "\n",
        "# grades['AtRisk'] = grades.apply(at_risk, axis=1)\n",
        "# grades.sort_values(['Prefix', 'AtRisk'], ascending = [True, False], inplace=True)\n",
        "# grades.set_index(keys=['Prefix', 'AtRisk'], inplace=True)\n",
        "# grades.head()"
      ]
    },
    {
      "cell_type": "code",
      "execution_count": null,
      "id": "75224ac7",
      "metadata": {
        "id": "75224ac7"
      },
      "outputs": [],
      "source": [
        "# extract rows from multi index\n",
        "# grades.sort_index(inplace=True)\n",
        "# grades.loc[(4, 1), 'Final']"
      ]
    },
    {
      "cell_type": "code",
      "execution_count": null,
      "id": "da944952",
      "metadata": {
        "id": "da944952"
      },
      "outputs": [],
      "source": [
        "# grades.transpose()"
      ]
    },
    {
      "cell_type": "code",
      "execution_count": null,
      "id": "f5335fab",
      "metadata": {
        "id": "f5335fab"
      },
      "outputs": [],
      "source": [
        "# stack to frame\n",
        "# grades_stack = grades.stack()\n",
        "# grades_stack.head(30)"
      ]
    },
    {
      "cell_type": "markdown",
      "id": "b26a7051",
      "metadata": {
        "id": "b26a7051"
      },
      "source": [
        "#### Pivot Table\n",
        "\n",
        "Summarizes one or more numeric variable based on two other categorical variables"
      ]
    },
    {
      "cell_type": "code",
      "execution_count": null,
      "id": "74d05d7b",
      "metadata": {
        "id": "74d05d7b"
      },
      "outputs": [],
      "source": [
        "# pivot table\n",
        "# def letter_grade(FinalGrade):\n",
        "#     if FinalGrade >= 90:\n",
        "#         return 'A'\n",
        "#     elif 80 <= FinalGrade < 90:\n",
        "#         return 'B'\n",
        "#     elif 70 <= FinalGrade < 80:\n",
        "#         return 'C'\n",
        "#     else:\n",
        "#         return 'F'\n",
        "\n",
        "# grades['LetterGrade'] = grades.apply(lambda g: letter_grade(g['FinalGrade']), axis=1)\n",
        "# grades.pivot_table(values='FinalGrade', index=['LetterGrade'], columns='Prefix', aggfunc='count', fill_value=0)"
      ]
    },
    {
      "cell_type": "code",
      "source": [
        "# grades.groupby(['Prefix', 'LetterGrade'])['LetterGrade'].count()"
      ],
      "metadata": {
        "id": "3Tl-GYPPudgC"
      },
      "id": "3Tl-GYPPudgC",
      "execution_count": null,
      "outputs": []
    },
    {
      "cell_type": "markdown",
      "id": "678f584b",
      "metadata": {
        "id": "678f584b"
      },
      "source": [
        "#### Melt\n",
        "\n",
        "Format a dataframe where one or more columns are identifier variables (id_vars), while all other columns, considered measured variables (value_vars), are “unpivoted” to the row axis, leaving just two non-identifier columns, ‘variable’ and ‘value’."
      ]
    },
    {
      "cell_type": "code",
      "execution_count": null,
      "id": "bcc08072",
      "metadata": {
        "id": "bcc08072"
      },
      "outputs": [],
      "source": [
        "# melt\n",
        "# grades.reset_index(inplace=True)\n",
        "# melted = pd.melt(grades, id_vars = 'Prefix', var_name = 'Activity', value_name = 'Score')\n",
        "# melted"
      ]
    },
    {
      "cell_type": "code",
      "execution_count": null,
      "id": "0e687b66",
      "metadata": {
        "id": "0e687b66"
      },
      "outputs": [],
      "source": [
        "# subset of melted\n",
        "# melted[melted['Activity'] == 'LetterGrade']"
      ]
    },
    {
      "cell_type": "markdown",
      "id": "7bc79b0a",
      "metadata": {
        "id": "7bc79b0a"
      },
      "source": [
        "### Groupby and Aggregation\n",
        "\n",
        "Aggregation: the clustering of elements for the purpose of further analysis"
      ]
    },
    {
      "cell_type": "code",
      "execution_count": null,
      "id": "aa1212fe",
      "metadata": {
        "id": "aa1212fe"
      },
      "outputs": [],
      "source": [
        "# recall the grades dataset\n",
        "# print(grades.shape)\n",
        "# grades.head()"
      ]
    },
    {
      "cell_type": "code",
      "execution_count": null,
      "id": "8b99e1db",
      "metadata": {
        "scrolled": true,
        "id": "8b99e1db"
      },
      "outputs": [],
      "source": [
        "# find FinalGrade for each Prefix\n",
        "# grades.groupby('Prefix')['FinalGrade'].mean().round(2)"
      ]
    },
    {
      "cell_type": "code",
      "execution_count": null,
      "id": "faac9273",
      "metadata": {
        "id": "faac9273"
      },
      "outputs": [],
      "source": [
        "# grades.groupby('LetterGrade')['Student'].count()"
      ]
    },
    {
      "cell_type": "code",
      "execution_count": null,
      "id": "f94c0ed8",
      "metadata": {
        "id": "f94c0ed8"
      },
      "outputs": [],
      "source": [
        "# grades.groupby(['Prefix', 'LetterGrade'])['Student'].count()"
      ]
    },
    {
      "cell_type": "code",
      "execution_count": null,
      "id": "bf520f27",
      "metadata": {
        "id": "bf520f27"
      },
      "outputs": [],
      "source": [
        "# grades.groupby('Prefix')['FinalGrade'].agg(['min', 'max', 'mean', 'median']).round(2)"
      ]
    },
    {
      "cell_type": "markdown",
      "id": "3425a58f",
      "metadata": {
        "id": "3425a58f"
      },
      "source": [
        "### Concat, Merge, and Join"
      ]
    },
    {
      "cell_type": "code",
      "execution_count": null,
      "id": "2738e146",
      "metadata": {
        "id": "2738e146"
      },
      "outputs": [],
      "source": [
        "# concat two series\n",
        "# https://pandas.pydata.org/docs/reference/api/pandas.concat.html\n",
        "# s1 = pd.Series(['a', 'b'])\n",
        "# s2 = pd.Series(['c', 'd'])\n",
        "# pd.concat([s1, s2])"
      ]
    },
    {
      "cell_type": "code",
      "execution_count": null,
      "id": "da792ed4",
      "metadata": {
        "id": "da792ed4"
      },
      "outputs": [],
      "source": [
        "# correct index\n",
        "# pd.concat([s1, s2], ignore_index=True)"
      ]
    },
    {
      "cell_type": "code",
      "execution_count": null,
      "id": "c9b70476",
      "metadata": {
        "id": "c9b70476"
      },
      "outputs": [],
      "source": [
        "# concat two dataframes\n",
        "# df1 = pd.DataFrame([['a', 1], ['b', 2]], columns=['letter', 'number'])\n",
        "# print(df1)\n",
        "# df2 = pd.DataFrame([['c', 3], ['d', 4]], columns=['letter', 'number'])\n",
        "# print(df2)\n",
        "# pd.concat([df1, df2], ignore_index=True)"
      ]
    },
    {
      "cell_type": "code",
      "execution_count": null,
      "id": "f2c5fc0c",
      "metadata": {
        "id": "f2c5fc0c"
      },
      "outputs": [],
      "source": [
        "# merge two dataframes\n",
        "# https://pandas.pydata.org/docs/reference/api/pandas.DataFrame.merge.html\n",
        "# df1 = pd.DataFrame({'key': ['foo', 'bar', 'baz', 'foo'], 'value': [1, 2, 3, 5]})\n",
        "# df2 = pd.DataFrame({'key': ['foo', 'bar', 'baz', 'foo'], 'value': [5, 6, 7, 8]})\n",
        "# print(df1)\n",
        "# print(df2)\n",
        "# df1.merge(df2, left_on='key', right_on='key')"
      ]
    },
    {
      "cell_type": "code",
      "execution_count": null,
      "id": "1bddc3b2",
      "metadata": {
        "id": "1bddc3b2"
      },
      "outputs": [],
      "source": [
        "# inner merge\n",
        "# https://www.datacourses.com/concatenate-merge-and-join-data-with-pandas-598/\n",
        "# df1.merge(df2, how='inner', on='key')"
      ]
    },
    {
      "cell_type": "code",
      "execution_count": null,
      "id": "f459f272",
      "metadata": {
        "id": "f459f272"
      },
      "outputs": [],
      "source": [
        "# join\n",
        "# https://pandas.pydata.org/docs/reference/api/pandas.DataFrame.join.html\n",
        "# df1 = pd.DataFrame({'key': ['K0', 'K1', 'K2', 'K3', 'K4', 'K5'], 'ValueA': ['VA0', 'VA1', 'VA2', 'VA3', 'VA4', 'VA5']})\n",
        "# df2 = pd.DataFrame({'key': ['K0', 'K1', 'K2'], 'ValueB': ['VB0', 'VB1', 'VB2']})\n",
        "# df1.join(df2, lsuffix='_df1', rsuffix='_df2')"
      ]
    },
    {
      "cell_type": "code",
      "execution_count": null,
      "id": "e584e4fd",
      "metadata": {
        "id": "e584e4fd"
      },
      "outputs": [],
      "source": [
        "# df1.join(df2.set_index('key'), on='key')"
      ]
    }
  ],
  "metadata": {
    "kernelspec": {
      "display_name": "Python 3 (ipykernel)",
      "language": "python",
      "name": "python3"
    },
    "language_info": {
      "codemirror_mode": {
        "name": "ipython",
        "version": 3
      },
      "file_extension": ".py",
      "mimetype": "text/x-python",
      "name": "python",
      "nbconvert_exporter": "python",
      "pygments_lexer": "ipython3",
      "version": "3.9.7"
    },
    "colab": {
      "provenance": [],
      "include_colab_link": true
    }
  },
  "nbformat": 4,
  "nbformat_minor": 5
}