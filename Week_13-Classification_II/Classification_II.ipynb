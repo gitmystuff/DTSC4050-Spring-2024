{
  "cells": [
    {
      "cell_type": "markdown",
      "metadata": {
        "id": "view-in-github",
        "colab_type": "text"
      },
      "source": [
        "<a href=\"https://colab.research.google.com/github/gitmystuff/DTSC4050/blob/main/Week_13-Classification_II/Classification_II.ipynb\" target=\"_parent\"><img src=\"https://colab.research.google.com/assets/colab-badge.svg\" alt=\"Open In Colab\"/></a>"
      ]
    },
    {
      "cell_type": "markdown",
      "id": "14d5dfc8",
      "metadata": {
        "id": "14d5dfc8"
      },
      "source": [
        "# Week 13: Classification II\n",
        "\n",
        "Your Name"
      ]
    },
    {
      "cell_type": "markdown",
      "source": [
        "## Getting Started\n",
        "\n",
        "* Colab - get notebook from gitmystuff DTSC4050 repository\n",
        "* Save a Copy in Drive\n",
        "* Remove Copy of\n",
        "* Edit name\n",
        "* Take attendance\n",
        "* Clean up Colab Notebooks folder\n",
        "* Submit shared link\n",
        "\n",
        "## Gradio\n",
        "\n",
        "* Check out Gradio - https://www.gradio.app/"
      ],
      "metadata": {
        "id": "A3G6lZ76KRm0"
      },
      "id": "A3G6lZ76KRm0"
    },
    {
      "cell_type": "markdown",
      "id": "1148ca0d",
      "metadata": {
        "id": "1148ca0d"
      },
      "source": [
        "## Binary Logistic Regression\n",
        "\n",
        "$y = \\beta_0 + \\beta_1X_1 + ... + \\beta_nX_n$\n",
        "\n",
        "$p = \\large{\\frac{1}{1 + e^{-(\\beta_0 + \\beta_1 X_1 + \\beta_2 X_2)}}}$\n",
        "\n",
        "$f(x) = \\large{\\frac{1}{1 + e^{-x}}}$\n",
        "\n",
        "* x = $\\beta_0 + \\beta_1X_1 + \\beta_2X_2$\n",
        "* If $x > 0$ then $\\frac{1}{1 + e^{-x}} > .5$\n",
        "* If $x < 0$ then $\\frac{1}{1 + e^{-x}} < .5$\n",
        "\n",
        "The algorithm transforms the numbers ( -∞ to +∞ ) to values between 0 and 1 in the shape of an S-curve."
      ]
    },
    {
      "cell_type": "code",
      "execution_count": null,
      "id": "1848068d",
      "metadata": {
        "id": "1848068d",
        "outputId": "a5b381e8-9180-4b9d-ab46-881b429aeda5",
        "colab": {
          "base_uri": "https://localhost:8080/",
          "height": 501
        }
      },
      "outputs": [
        {
          "output_type": "stream",
          "name": "stdout",
          "text": [
            "Optimization terminated successfully.\n",
            "         Current function value: 0.242088\n",
            "         Iterations 8\n"
          ]
        },
        {
          "output_type": "display_data",
          "data": {
            "text/plain": [
              "<Figure size 640x480 with 1 Axes>"
            ],
            "image/png": "[encoded data removed]"
          },
          "metadata": {}
        }
      ],
      "source": [
        "import math\n",
        "import numpy as np\n",
        "import pandas as pd\n",
        "import matplotlib.pyplot as plt\n",
        "from sklearn.datasets import make_classification\n",
        "from statsmodels.formula.api import logit\n",
        "\n",
        "def logistic_function(row):\n",
        "    b0 = model.params.Intercept\n",
        "    b1 = model.params.X_1\n",
        "    b2 = model.params.X_2\n",
        "\n",
        "    x1 = row['X_1']\n",
        "    x2 = row['X_2']\n",
        "\n",
        "    return 1 / (1 + np.exp(-(b0+(b1*x1)+(b2*x2))))\n",
        "\n",
        "features, binary_class = make_classification(n_samples=1000, n_features=2,\n",
        "                                             n_informative=2, n_redundant=0,\n",
        "                                             n_clusters_per_class=1, random_state=42)\n",
        "\n",
        "df = pd.DataFrame(features)\n",
        "df.columns = ['X_1', 'X_2']\n",
        "df['Class'] = binary_class\n",
        "model = logit(formula='Class ~ X_1 + X_2', data=df).fit()\n",
        "\n",
        "df['p'] = df.apply(logistic_function, axis=1)\n",
        "df['Predicted'] =  df['p'].apply(lambda x: 0 if x < .5 else 1)\n",
        "df['Odds'] = df['p']/(1 - df['p'])\n",
        "df['Log Odds'] = df['Odds'].apply(lambda x: math.log(x))\n",
        "\n",
        "df.plot.scatter(x='Log Odds', y='p', marker='.', label='Sigmoid Values', c=df['Class'], cmap='winter', colorbar=False)\n",
        "plt.axhline(y=.5, color='red', linestyle='dashed', label='Threshold')\n",
        "plt.legend()\n",
        "plt.show()"
      ]
    },
    {
      "cell_type": "markdown",
      "source": [
        "## Data Science Fiction"
      ],
      "metadata": {
        "id": "cxK-KQG5n63G"
      },
      "id": "cxK-KQG5n63G"
    },
    {
      "cell_type": "code",
      "source": [
        "import pandas as pd\n",
        "\n",
        "df = pd.read_csv('https://raw.githubusercontent.com/gitmystuff/Datasets/main/data_science_fiction.csv', index_col=0)\n",
        "print(df.shape)\n",
        "print(df.info())\n",
        "df.head()"
      ],
      "metadata": {
        "colab": {
          "base_uri": "https://localhost:8080/",
          "height": 764
        },
        "id": "jvBUM3tHppAv",
        "outputId": "38a5f92d-8a8f-42cb-81dd-d3f13b44e953"
      },
      "id": "jvBUM3tHppAv",
      "execution_count": null,
      "outputs": [
        {
          "output_type": "stream",
          "name": "stdout",
          "text": [
            "(1008, 20)\n",
            "<class 'pandas.core.frame.DataFrame'>\n",
            "Index: 1008 entries, 0 to 1007\n",
            "Data columns (total 20 columns):\n",
            " #   Column           Non-Null Count  Dtype  \n",
            "---  ------           --------------  -----  \n",
            " 0   moon_col_1       1008 non-null   object \n",
            " 1   saturn           1008 non-null   int64  \n",
            " 2   jupiter          1008 non-null   int64  \n",
            " 3   collaboration    1005 non-null   float64\n",
            " 4   earth            1008 non-null   float64\n",
            " 5   emot_vol         1003 non-null   float64\n",
            " 6   resourcefulness  1006 non-null   float64\n",
            " 7   ingenuity        1003 non-null   float64\n",
            " 8   mars             1008 non-null   float64\n",
            " 9   chron_dist       1006 non-null   float64\n",
            " 10  moon_col_2       1008 non-null   float64\n",
            " 11  env_destr        1005 non-null   float64\n",
            " 12  sex              1004 non-null   object \n",
            " 13  brain_wave       1008 non-null   object \n",
            " 14  given_name       1008 non-null   object \n",
            " 15  surname          1008 non-null   object \n",
            " 16  zipcode          1008 non-null   int64  \n",
            " 17  date_of_birth    1008 non-null   object \n",
            " 18  state            1005 non-null   object \n",
            " 19  class            1008 non-null   int64  \n",
            "dtypes: float64(9), int64(4), object(7)\n",
            "memory usage: 165.4+ KB\n",
            "None\n"
          ]
        },
        {
          "output_type": "execute_result",
          "data": {
            "text/plain": [
              "  moon_col_1  saturn  jupiter  collaboration  earth  emot_vol  \\\n",
              "0   mountain    2520    25531       1.871016   1.87 -0.943410   \n",
              "1   mountain    1848    22012       1.059565   1.06 -0.337253   \n",
              "2   mountain    1497    15326       1.654911   1.65 -1.407970   \n",
              "3   mountain    2769    15079      -0.075044  -0.08 -1.699400   \n",
              "4   mountain    1244    28038      -0.762473  -0.76 -1.366091   \n",
              "\n",
              "   resourcefulness  ingenuity  mars  chron_dist  moon_col_2  env_destr  \\\n",
              "0         1.871016   1.086506  1.87    1.871016        0.03   0.452337   \n",
              "1         1.059565   0.949748  1.06    1.059565        0.03   0.394683   \n",
              "2         1.654911   0.012663  1.65    1.654911        0.03  -0.003179   \n",
              "3         0.075044   2.777259 -0.08   -0.075044        0.03   1.150172   \n",
              "4         0.762473   1.223753 -0.76   -0.762473        0.03   0.505893   \n",
              "\n",
              "      sex brain_wave   given_name    surname  zipcode date_of_birth  \\\n",
              "0  'seed'      ALPHA      Antonio      Brown    74169    2001-06-12   \n",
              "1  'seed'       BETA  Christopher     Hudson    96144    1965-02-17   \n",
              "2   'egg'      DELTA       Joanna  Frederick    64990    1938-03-23   \n",
              "3  'seed'      ALPHA       Jeremy     Brewer    51974    1924-04-26   \n",
              "4   'egg'      ALPHA       Teresa       Wade    24246    1942-09-09   \n",
              "\n",
              "             state  class  \n",
              "0   'North Dakota'      1  \n",
              "1       'Michigan'      1  \n",
              "2  'West Virginia'      1  \n",
              "3     'California'      0  \n",
              "4         'Kansas'      0  "
            ],
            "text/html": [
              "\n",
              "  <div id=\"df-73609182-fa29-4165-9f23-585813a110bb\" class=\"colab-df-container\">\n",
              "    <div>\n",
              "<style scoped>\n",
              "    .dataframe tbody tr th:only-of-type {\n",
              "        vertical-align: middle;\n",
              "    }\n",
              "\n",
              "    .dataframe tbody tr th {\n",
              "        vertical-align: top;\n",
              "    }\n",
              "\n",
              "    .dataframe thead th {\n",
              "        text-align: right;\n",
              "    }\n",
              "</style>\n",
              "<table border=\"1\" class=\"dataframe\">\n",
              "  <thead>\n",
              "    <tr style=\"text-align: right;\">\n",
              "      <th></th>\n",
              "      <th>moon_col_1</th>\n",
              "      <th>saturn</th>\n",
              "      <th>jupiter</th>\n",
              "      <th>collaboration</th>\n",
              "      <th>earth</th>\n",
              "      <th>emot_vol</th>\n",
              "      <th>resourcefulness</th>\n",
              "      <th>ingenuity</th>\n",
              "      <th>mars</th>\n",
              "      <th>chron_dist</th>\n",
              "      <th>moon_col_2</th>\n",
              "      <th>env_destr</th>\n",
              "      <th>sex</th>\n",
              "      <th>brain_wave</th>\n",
              "      <th>given_name</th>\n",
              "      <th>surname</th>\n",
              "      <th>zipcode</th>\n",
              "      <th>date_of_birth</th>\n",
              "      <th>state</th>\n",
              "      <th>class</th>\n",
              "    </tr>\n",
              "  </thead>\n",
              "  <tbody>\n",
              "    <tr>\n",
              "      <th>0</th>\n",
              "      <td>mountain</td>\n",
              "      <td>2520</td>\n",
              "      <td>25531</td>\n",
              "      <td>1.871016</td>\n",
              "      <td>1.87</td>\n",
              "      <td>-0.943410</td>\n",
              "      <td>1.871016</td>\n",
              "      <td>1.086506</td>\n",
              "      <td>1.87</td>\n",
              "      <td>1.871016</td>\n",
              "      <td>0.03</td>\n",
              "      <td>0.452337</td>\n",
              "      <td>'seed'</td>\n",
              "      <td>ALPHA</td>\n",
              "      <td>Antonio</td>\n",
              "      <td>Brown</td>\n",
              "      <td>74169</td>\n",
              "      <td>2001-06-12</td>\n",
              "      <td>'North Dakota'</td>\n",
              "      <td>1</td>\n",
              "    </tr>\n",
              "    <tr>\n",
              "      <th>1</th>\n",
              "      <td>mountain</td>\n",
              "      <td>1848</td>\n",
              "      <td>22012</td>\n",
              "      <td>1.059565</td>\n",
              "      <td>1.06</td>\n",
              "      <td>-0.337253</td>\n",
              "      <td>1.059565</td>\n",
              "      <td>0.949748</td>\n",
              "      <td>1.06</td>\n",
              "      <td>1.059565</td>\n",
              "      <td>0.03</td>\n",
              "      <td>0.394683</td>\n",
              "      <td>'seed'</td>\n",
              "      <td>BETA</td>\n",
              "      <td>Christopher</td>\n",
              "      <td>Hudson</td>\n",
              "      <td>96144</td>\n",
              "      <td>1965-02-17</td>\n",
              "      <td>'Michigan'</td>\n",
              "      <td>1</td>\n",
              "    </tr>\n",
              "    <tr>\n",
              "      <th>2</th>\n",
              "      <td>mountain</td>\n",
              "      <td>1497</td>\n",
              "      <td>15326</td>\n",
              "      <td>1.654911</td>\n",
              "      <td>1.65</td>\n",
              "      <td>-1.407970</td>\n",
              "      <td>1.654911</td>\n",
              "      <td>0.012663</td>\n",
              "      <td>1.65</td>\n",
              "      <td>1.654911</td>\n",
              "      <td>0.03</td>\n",
              "      <td>-0.003179</td>\n",
              "      <td>'egg'</td>\n",
              "      <td>DELTA</td>\n",
              "      <td>Joanna</td>\n",
              "      <td>Frederick</td>\n",
              "      <td>64990</td>\n",
              "      <td>1938-03-23</td>\n",
              "      <td>'West Virginia'</td>\n",
              "      <td>1</td>\n",
              "    </tr>\n",
              "    <tr>\n",
              "      <th>3</th>\n",
              "      <td>mountain</td>\n",
              "      <td>2769</td>\n",
              "      <td>15079</td>\n",
              "      <td>-0.075044</td>\n",
              "      <td>-0.08</td>\n",
              "      <td>-1.699400</td>\n",
              "      <td>0.075044</td>\n",
              "      <td>2.777259</td>\n",
              "      <td>-0.08</td>\n",
              "      <td>-0.075044</td>\n",
              "      <td>0.03</td>\n",
              "      <td>1.150172</td>\n",
              "      <td>'seed'</td>\n",
              "      <td>ALPHA</td>\n",
              "      <td>Jeremy</td>\n",
              "      <td>Brewer</td>\n",
              "      <td>51974</td>\n",
              "      <td>1924-04-26</td>\n",
              "      <td>'California'</td>\n",
              "      <td>0</td>\n",
              "    </tr>\n",
              "    <tr>\n",
              "      <th>4</th>\n",
              "      <td>mountain</td>\n",
              "      <td>1244</td>\n",
              "      <td>28038</td>\n",
              "      <td>-0.762473</td>\n",
              "      <td>-0.76</td>\n",
              "      <td>-1.366091</td>\n",
              "      <td>0.762473</td>\n",
              "      <td>1.223753</td>\n",
              "      <td>-0.76</td>\n",
              "      <td>-0.762473</td>\n",
              "      <td>0.03</td>\n",
              "      <td>0.505893</td>\n",
              "      <td>'egg'</td>\n",
              "      <td>ALPHA</td>\n",
              "      <td>Teresa</td>\n",
              "      <td>Wade</td>\n",
              "      <td>24246</td>\n",
              "      <td>1942-09-09</td>\n",
              "      <td>'Kansas'</td>\n",
              "      <td>0</td>\n",
              "    </tr>\n",
              "  </tbody>\n",
              "</table>\n",
              "</div>\n",
              "    <div class=\"colab-df-buttons\">\n",
              "\n",
              "  <div class=\"colab-df-container\">\n",
              "    <button class=\"colab-df-convert\" onclick=\"convertToInteractive('df-73609182-fa29-4165-9f23-585813a110bb')\"\n",
              "            title=\"Convert this dataframe to an interactive table.\"\n",
              "            style=\"display:none;\">\n",
              "\n",
              "  <svg xmlns=\"http://www.w3.org/2000/svg\" height=\"24px\" viewBox=\"0 -960 960 960\">\n",
              "    <path d=\"M120-120v-720h720v720H120Zm60-500h600v-160H180v160Zm220 220h160v-160H400v160Zm0 220h160v-160H400v160ZM180-400h160v-160H180v160Zm440 0h160v-160H620v160ZM180-180h160v-160H180v160Zm440 0h160v-160H620v160Z\"/>\n",
              "  </svg>\n",
              "    </button>\n",
              "\n",
              "  <style>\n",
              "    .colab-df-container {\n",
              "      display:flex;\n",
              "      gap: 12px;\n",
              "    }\n",
              "\n",
              "    .colab-df-convert {\n",
              "      background-color: #E8F0FE;\n",
              "      border: none;\n",
              "      border-radius: 50%;\n",
              "      cursor: pointer;\n",
              "      display: none;\n",
              "      fill: #1967D2;\n",
              "      height: 32px;\n",
              "      padding: 0 0 0 0;\n",
              "      width: 32px;\n",
              "    }\n",
              "\n",
              "    .colab-df-convert:hover {\n",
              "      background-color: #E2EBFA;\n",
              "      box-shadow: 0px 1px 2px rgba(60, 64, 67, 0.3), 0px 1px 3px 1px rgba(60, 64, 67, 0.15);\n",
              "      fill: #174EA6;\n",
              "    }\n",
              "\n",
              "    .colab-df-buttons div {\n",
              "      margin-bottom: 4px;\n",
              "    }\n",
              "\n",
              "    [theme=dark] .colab-df-convert {\n",
              "      background-color: #3B4455;\n",
              "      fill: #D2E3FC;\n",
              "    }\n",
              "\n",
              "    [theme=dark] .colab-df-convert:hover {\n",
              "      background-color: #434B5C;\n",
              "      box-shadow: 0px 1px 3px 1px rgba(0, 0, 0, 0.15);\n",
              "      filter: drop-shadow(0px 1px 2px rgba(0, 0, 0, 0.3));\n",
              "      fill: #FFFFFF;\n",
              "    }\n",
              "  </style>\n",
              "\n",
              "    <script>\n",
              "      const buttonEl =\n",
              "        document.querySelector('#df-73609182-fa29-4165-9f23-585813a110bb button.colab-df-convert');\n",
              "      buttonEl.style.display =\n",
              "        google.colab.kernel.accessAllowed ? 'block' : 'none';\n",
              "\n",
              "      async function convertToInteractive(key) {\n",
              "        const element = document.querySelector('#df-73609182-fa29-4165-9f23-585813a110bb');\n",
              "        const dataTable =\n",
              "          await google.colab.kernel.invokeFunction('convertToInteractive',\n",
              "                                                    [key], {});\n",
              "        if (!dataTable) return;\n",
              "\n",
              "        const docLinkHtml = 'Like what you see? Visit the ' +\n",
              "          '<a target=\"_blank\" href=https://colab.research.google.com/notebooks/data_table.ipynb>data table notebook</a>'\n",
              "          + ' to learn more about interactive tables.';\n",
              "        element.innerHTML = '';\n",
              "        dataTable['output_type'] = 'display_data';\n",
              "        await google.colab.output.renderOutput(dataTable, element);\n",
              "        const docLink = document.createElement('div');\n",
              "        docLink.innerHTML = docLinkHtml;\n",
              "        element.appendChild(docLink);\n",
              "      }\n",
              "    </script>\n",
              "  </div>\n",
              "\n",
              "\n",
              "<div id=\"df-bc0b3fc9-5889-401c-b2ba-fbda37127740\">\n",
              "  <button class=\"colab-df-quickchart\" onclick=\"quickchart('df-bc0b3fc9-5889-401c-b2ba-fbda37127740')\"\n",
              "            title=\"Suggest charts\"\n",
              "            style=\"display:none;\">\n",
              "\n",
              "<svg xmlns=\"http://www.w3.org/2000/svg\" height=\"24px\"viewBox=\"0 0 24 24\"\n",
              "     width=\"24px\">\n",
              "    <g>\n",
              "        <path d=\"M19 3H5c-1.1 0-2 .9-2 2v14c0 1.1.9 2 2 2h14c1.1 0 2-.9 2-2V5c0-1.1-.9-2-2-2zM9 17H7v-7h2v7zm4 0h-2V7h2v10zm4 0h-2v-4h2v4z\"/>\n",
              "    </g>\n",
              "</svg>\n",
              "  </button>\n",
              "\n",
              "<style>\n",
              "  .colab-df-quickchart {\n",
              "      --bg-color: #E8F0FE;\n",
              "      --fill-color: #1967D2;\n",
              "      --hover-bg-color: #E2EBFA;\n",
              "      --hover-fill-color: #174EA6;\n",
              "      --disabled-fill-color: #AAA;\n",
              "      --disabled-bg-color: #DDD;\n",
              "  }\n",
              "\n",
              "  [theme=dark] .colab-df-quickchart {\n",
              "      --bg-color: #3B4455;\n",
              "      --fill-color: #D2E3FC;\n",
              "      --hover-bg-color: #434B5C;\n",
              "      --hover-fill-color: #FFFFFF;\n",
              "      --disabled-bg-color: #3B4455;\n",
              "      --disabled-fill-color: #666;\n",
              "  }\n",
              "\n",
              "  .colab-df-quickchart {\n",
              "    background-color: var(--bg-color);\n",
              "    border: none;\n",
              "    border-radius: 50%;\n",
              "    cursor: pointer;\n",
              "    display: none;\n",
              "    fill: var(--fill-color);\n",
              "    height: 32px;\n",
              "    padding: 0;\n",
              "    width: 32px;\n",
              "  }\n",
              "\n",
              "  .colab-df-quickchart:hover {\n",
              "    background-color: var(--hover-bg-color);\n",
              "    box-shadow: 0 1px 2px rgba(60, 64, 67, 0.3), 0 1px 3px 1px rgba(60, 64, 67, 0.15);\n",
              "    fill: var(--button-hover-fill-color);\n",
              "  }\n",
              "\n",
              "  .colab-df-quickchart-complete:disabled,\n",
              "  .colab-df-quickchart-complete:disabled:hover {\n",
              "    background-color: var(--disabled-bg-color);\n",
              "    fill: var(--disabled-fill-color);\n",
              "    box-shadow: none;\n",
              "  }\n",
              "\n",
              "  .colab-df-spinner {\n",
              "    border: 2px solid var(--fill-color);\n",
              "    border-color: transparent;\n",
              "    border-bottom-color: var(--fill-color);\n",
              "    animation:\n",
              "      spin 1s steps(1) infinite;\n",
              "  }\n",
              "\n",
              "  @keyframes spin {\n",
              "    0% {\n",
              "      border-color: transparent;\n",
              "      border-bottom-color: var(--fill-color);\n",
              "      border-left-color: var(--fill-color);\n",
              "    }\n",
              "    20% {\n",
              "      border-color: transparent;\n",
              "      border-left-color: var(--fill-color);\n",
              "      border-top-color: var(--fill-color);\n",
              "    }\n",
              "    30% {\n",
              "      border-color: transparent;\n",
              "      border-left-color: var(--fill-color);\n",
              "      border-top-color: var(--fill-color);\n",
              "      border-right-color: var(--fill-color);\n",
              "    }\n",
              "    40% {\n",
              "      border-color: transparent;\n",
              "      border-right-color: var(--fill-color);\n",
              "      border-top-color: var(--fill-color);\n",
              "    }\n",
              "    60% {\n",
              "      border-color: transparent;\n",
              "      border-right-color: var(--fill-color);\n",
              "    }\n",
              "    80% {\n",
              "      border-color: transparent;\n",
              "      border-right-color: var(--fill-color);\n",
              "      border-bottom-color: var(--fill-color);\n",
              "    }\n",
              "    90% {\n",
              "      border-color: transparent;\n",
              "      border-bottom-color: var(--fill-color);\n",
              "    }\n",
              "  }\n",
              "</style>\n",
              "\n",
              "  <script>\n",
              "    async function quickchart(key) {\n",
              "      const quickchartButtonEl =\n",
              "        document.querySelector('#' + key + ' button');\n",
              "      quickchartButtonEl.disabled = true;  // To prevent multiple clicks.\n",
              "      quickchartButtonEl.classList.add('colab-df-spinner');\n",
              "      try {\n",
              "        const charts = await google.colab.kernel.invokeFunction(\n",
              "            'suggestCharts', [key], {});\n",
              "      } catch (error) {\n",
              "        console.error('Error during call to suggestCharts:', error);\n",
              "      }\n",
              "      quickchartButtonEl.classList.remove('colab-df-spinner');\n",
              "      quickchartButtonEl.classList.add('colab-df-quickchart-complete');\n",
              "    }\n",
              "    (() => {\n",
              "      let quickchartButtonEl =\n",
              "        document.querySelector('#df-bc0b3fc9-5889-401c-b2ba-fbda37127740 button');\n",
              "      quickchartButtonEl.style.display =\n",
              "        google.colab.kernel.accessAllowed ? 'block' : 'none';\n",
              "    })();\n",
              "  </script>\n",
              "</div>\n",
              "\n",
              "    </div>\n",
              "  </div>\n"
            ],
            "application/vnd.google.colaboratory.intrinsic+json": {
              "type": "dataframe",
              "variable_name": "df",
              "summary": "{\n  \"name\": \"df\",\n  \"rows\": 1008,\n  \"fields\": [\n    {\n      \"column\": \"moon_col_1\",\n      \"properties\": {\n        \"dtype\": \"category\",\n        \"num_unique_values\": 2,\n        \"samples\": [\n          \"crater\",\n          \"mountain\"\n        ],\n        \"semantic_type\": \"\",\n        \"description\": \"\"\n      }\n    },\n    {\n      \"column\": \"saturn\",\n      \"properties\": {\n        \"dtype\": \"number\",\n        \"std\": 574,\n        \"min\": 1002,\n        \"max\": 2997,\n        \"num_unique_values\": 1000,\n        \"samples\": [\n          2517,\n          1492\n        ],\n        \"semantic_type\": \"\",\n        \"description\": \"\"\n      }\n    },\n    {\n      \"column\": \"jupiter\",\n      \"properties\": {\n        \"dtype\": \"number\",\n        \"std\": 5911,\n        \"min\": 10017,\n        \"max\": 29967,\n        \"num_unique_values\": 1000,\n        \"samples\": [\n          26444,\n          23529\n        ],\n        \"semantic_type\": \"\",\n        \"description\": \"\"\n      }\n    },\n    {\n      \"column\": \"collaboration\",\n      \"properties\": {\n        \"dtype\": \"number\",\n        \"std\": 1.2260177314614944,\n        \"min\": -2.850971449868199,\n        \"max\": 3.342864069511592,\n        \"num_unique_values\": 997,\n        \"samples\": [\n          -0.5914262653766327,\n          0.1676683406258643\n        ],\n        \"semantic_type\": \"\",\n        \"description\": \"\"\n      }\n    },\n    {\n      \"column\": \"earth\",\n      \"properties\": {\n        \"dtype\": \"number\",\n        \"std\": 1.2260451880304566,\n        \"min\": -2.85,\n        \"max\": 3.34,\n        \"num_unique_values\": 411,\n        \"samples\": [\n          0.08,\n          -0.34\n        ],\n        \"semantic_type\": \"\",\n        \"description\": \"\"\n      }\n    },\n    {\n      \"column\": \"emot_vol\",\n      \"properties\": {\n        \"dtype\": \"number\",\n        \"std\": 0.5963646480605534,\n        \"min\": -4.03506054278913,\n        \"max\": -0.0030670552279829,\n        \"num_unique_values\": 995,\n        \"samples\": [\n          -1.3234276876215287,\n          -0.2261076145632697\n        ],\n        \"semantic_type\": \"\",\n        \"description\": \"\"\n      }\n    },\n    {\n      \"column\": \"resourcefulness\",\n      \"properties\": {\n        \"dtype\": \"number\",\n        \"std\": 0.6503922236652256,\n        \"min\": -0.0181484162101148,\n        \"max\": 3.342864069511592,\n        \"num_unique_values\": 998,\n        \"samples\": [\n          1.1360195361270635,\n          0.2084877305200685\n        ],\n        \"semantic_type\": \"\",\n        \"description\": \"\"\n      }\n    },\n    {\n      \"column\": \"ingenuity\",\n      \"properties\": {\n        \"dtype\": \"number\",\n        \"std\": 0.8368372978039985,\n        \"min\": -0.0062421475398195,\n        \"max\": 4.138715401007325,\n        \"num_unique_values\": 995,\n        \"samples\": [\n          0.6872880813278267,\n          0.2081324419114035\n        ],\n        \"semantic_type\": \"\",\n        \"description\": \"\"\n      }\n    },\n    {\n      \"column\": \"mars\",\n      \"properties\": {\n        \"dtype\": \"number\",\n        \"std\": 1.2260451880304566,\n        \"min\": -2.85,\n        \"max\": 3.34,\n        \"num_unique_values\": 411,\n        \"samples\": [\n          0.08,\n          -0.34\n        ],\n        \"semantic_type\": \"\",\n        \"description\": \"\"\n      }\n    },\n    {\n      \"column\": \"chron_dist\",\n      \"properties\": {\n        \"dtype\": \"number\",\n        \"std\": 1.2261186551853351,\n        \"min\": -2.850971449868199,\n        \"max\": 3.342864069511592,\n        \"num_unique_values\": 998,\n        \"samples\": [\n          -0.847404142451928,\n          0.2084877305200685\n        ],\n        \"semantic_type\": \"\",\n        \"description\": \"\"\n      }\n    },\n    {\n      \"column\": \"moon_col_2\",\n      \"properties\": {\n        \"dtype\": \"number\",\n        \"std\": 1.3884676757262223e-17,\n        \"min\": 0.03,\n        \"max\": 0.03,\n        \"num_unique_values\": 1,\n        \"samples\": [\n          0.03\n        ],\n        \"semantic_type\": \"\",\n        \"description\": \"\"\n      }\n    },\n    {\n      \"column\": \"env_destr\",\n      \"properties\": {\n        \"dtype\": \"number\",\n        \"std\": 0.44315059915298843,\n        \"min\": -1.0276923373459232,\n        \"max\": 1.714987128459353,\n        \"num_unique_values\": 997,\n        \"samples\": [\n          0.4998971128827894\n        ],\n        \"semantic_type\": \"\",\n        \"description\": \"\"\n      }\n    },\n    {\n      \"column\": \"sex\",\n      \"properties\": {\n        \"dtype\": \"category\",\n        \"num_unique_values\": 2,\n        \"samples\": [\n          \"'egg'\"\n        ],\n        \"semantic_type\": \"\",\n        \"description\": \"\"\n      }\n    },\n    {\n      \"column\": \"brain_wave\",\n      \"properties\": {\n        \"dtype\": \"category\",\n        \"num_unique_values\": 4,\n        \"samples\": [\n          \"BETA\"\n        ],\n        \"semantic_type\": \"\",\n        \"description\": \"\"\n      }\n    },\n    {\n      \"column\": \"given_name\",\n      \"properties\": {\n        \"dtype\": \"category\",\n        \"num_unique_values\": 357,\n        \"samples\": [\n          \"Carrie\"\n        ],\n        \"semantic_type\": \"\",\n        \"description\": \"\"\n      }\n    },\n    {\n      \"column\": \"surname\",\n      \"properties\": {\n        \"dtype\": \"string\",\n        \"num_unique_values\": 508,\n        \"samples\": [\n          \"Kim\"\n        ],\n        \"semantic_type\": \"\",\n        \"description\": \"\"\n      }\n    },\n    {\n      \"column\": \"zipcode\",\n      \"properties\": {\n        \"dtype\": \"number\",\n        \"std\": 28224,\n        \"min\": 547,\n        \"max\": 99928,\n        \"num_unique_values\": 995,\n        \"samples\": [\n          6072\n        ],\n        \"semantic_type\": \"\",\n        \"description\": \"\"\n      }\n    },\n    {\n      \"column\": \"date_of_birth\",\n      \"properties\": {\n        \"dtype\": \"object\",\n        \"num_unique_values\": 991,\n        \"samples\": [\n          \"1960-06-02\"\n        ],\n        \"semantic_type\": \"\",\n        \"description\": \"\"\n      }\n    },\n    {\n      \"column\": \"state\",\n      \"properties\": {\n        \"dtype\": \"category\",\n        \"num_unique_values\": 50,\n        \"samples\": [\n          \"'Georgia'\"\n        ],\n        \"semantic_type\": \"\",\n        \"description\": \"\"\n      }\n    },\n    {\n      \"column\": \"class\",\n      \"properties\": {\n        \"dtype\": \"number\",\n        \"std\": 0,\n        \"min\": 0,\n        \"max\": 1,\n        \"num_unique_values\": 2,\n        \"samples\": [\n          0\n        ],\n        \"semantic_type\": \"\",\n        \"description\": \"\"\n      }\n    }\n  ]\n}"
            }
          },
          "metadata": {},
          "execution_count": 1
        }
      ]
    },
    {
      "cell_type": "markdown",
      "source": [
        "### Data Prep"
      ],
      "metadata": {
        "id": "oHTmJ_N4pw9z"
      },
      "id": "oHTmJ_N4pw9z"
    },
    {
      "cell_type": "code",
      "source": [
        "! git clone https://github.com/gitmystuff/preppy.git"
      ],
      "metadata": {
        "colab": {
          "base_uri": "https://localhost:8080/"
        },
        "id": "scalw50frc7T",
        "outputId": "8e7b2eb7-a854-4453-8c58-9bde23e3fdd8"
      },
      "id": "scalw50frc7T",
      "execution_count": null,
      "outputs": [
        {
          "output_type": "stream",
          "name": "stdout",
          "text": [
            "Cloning into 'preppy'...\n",
            "remote: Enumerating objects: 30, done.\u001b[K\n",
            "remote: Counting objects: 100% (30/30), done.\u001b[K\n",
            "remote: Compressing objects: 100% (22/22), done.\u001b[K\n",
            "remote: Total 30 (delta 8), reused 13 (delta 5), pack-reused 0\u001b[K\n",
            "Receiving objects: 100% (30/30), 18.15 KiB | 4.54 MiB/s, done.\n",
            "Resolving deltas: 100% (8/8), done.\n"
          ]
        }
      ]
    },
    {
      "cell_type": "code",
      "source": [
        "from preppy.version import __version__\n",
        "\n",
        "print(__version__)"
      ],
      "metadata": {
        "colab": {
          "base_uri": "https://localhost:8080/"
        },
        "id": "yEiue1X-rhyr",
        "outputId": "df1ab578-4837-4076-f7cf-a2654bb301bb"
      },
      "id": "yEiue1X-rhyr",
      "execution_count": null,
      "outputs": [
        {
          "output_type": "stream",
          "name": "stdout",
          "text": [
            "PrepPy Version: 0.1.0\n"
          ]
        }
      ]
    },
    {
      "cell_type": "code",
      "source": [
        "# check for constants\n",
        "import preppy.utils as utils\n",
        "\n",
        "consts = utils.functions.identify_consts(df)\n",
        "print(consts)"
      ],
      "metadata": {
        "colab": {
          "base_uri": "https://localhost:8080/"
        },
        "id": "9RgXfLZlZtjJ",
        "outputId": "a02ba1c6-fa11-4575-91ba-304b8c1edd0a"
      },
      "execution_count": null,
      "outputs": [
        {
          "output_type": "stream",
          "name": "stdout",
          "text": [
            "['moon_col_2']\n"
          ]
        }
      ],
      "id": "9RgXfLZlZtjJ"
    },
    {
      "cell_type": "code",
      "source": [
        "quasi_consts = utils.functions.identify_quasi_consts(df)\n",
        "print(quasi_consts)"
      ],
      "metadata": {
        "colab": {
          "base_uri": "https://localhost:8080/"
        },
        "id": "vATIcADcav26",
        "outputId": "57418265-1910-430f-e953-d91fe9ff6aeb"
      },
      "id": "vATIcADcav26",
      "execution_count": null,
      "outputs": [
        {
          "output_type": "stream",
          "name": "stdout",
          "text": [
            "['moon_col_1', 'moon_col_2']\n"
          ]
        }
      ]
    },
    {
      "cell_type": "code",
      "source": [
        "df.drop(quasi_consts, axis=1, inplace=True)"
      ],
      "metadata": {
        "id": "osHvWjypb5mw"
      },
      "id": "osHvWjypb5mw",
      "execution_count": null,
      "outputs": []
    },
    {
      "cell_type": "code",
      "source": [
        "# quasi constant values (sometimes these may be boolean features)\n",
        "quasi_consts = []\n",
        "for val in df.columns.sort_values():\n",
        "    if (len(df[val].unique()) < 3 and max(df[val].value_counts(normalize=True)) > .95): # maybe .99?\n",
        "        quasi_consts.append(val)\n",
        "\n",
        "quasi_consts"
      ],
      "metadata": {
        "colab": {
          "base_uri": "https://localhost:8080/"
        },
        "id": "pXt86h9Ixtwy",
        "outputId": "7107c37a-aa7a-4e0f-ce3c-a06aa7befdf8"
      },
      "id": "pXt86h9Ixtwy",
      "execution_count": null,
      "outputs": [
        {
          "output_type": "execute_result",
          "data": {
            "text/plain": [
              "['moon_col_1', 'moon_col_2']"
            ]
          },
          "metadata": {},
          "execution_count": 6
        }
      ]
    },
    {
      "cell_type": "code",
      "source": [
        "# duplicate rows\n",
        "df[df.duplicated(keep=False)]"
      ],
      "metadata": {
        "colab": {
          "base_uri": "https://localhost:8080/",
          "height": 640
        },
        "id": "EcMLB_-u5XCo",
        "outputId": "b2245653-0d53-4d36-8401-eb13c01ca292"
      },
      "execution_count": null,
      "outputs": [
        {
          "output_type": "execute_result",
          "data": {
            "text/plain": [
              "    moon_col_1  saturn  jupiter  collaboration  earth  emot_vol  \\\n",
              "311   mountain    2607    20654       0.722171   0.72 -0.050358   \n",
              "325   mountain    2330    18430      -1.869888  -1.87 -1.435279   \n",
              "331   mountain    1956    29181       1.161966   1.16 -0.464397   \n",
              "400   mountain    1956    29181       1.161966   1.16 -0.464397   \n",
              "416   mountain    2528    10084       1.568205   1.57 -1.184023   \n",
              "467   mountain    2084    11257       1.172398   1.17 -0.335958   \n",
              "588   mountain    1310    24144       1.591760   1.59 -0.960571   \n",
              "605   mountain    2532    29140      -0.714525  -0.71 -1.531963   \n",
              "631   mountain    1310    24144       1.591760   1.59 -0.960571   \n",
              "729   mountain    2607    20654       0.722171   0.72 -0.050358   \n",
              "760   mountain    2330    18430      -1.869888  -1.87 -1.435279   \n",
              "943   mountain    2528    10084       1.568205   1.57 -1.184023   \n",
              "954   mountain    2532    29140      -0.714525  -0.71 -1.531963   \n",
              "956   mountain    2084    11257       1.172398   1.17 -0.335958   \n",
              "978   mountain    1741    22288       1.172921   1.17 -0.557160   \n",
              "990   mountain    1741    22288       1.172921   1.17 -0.557160   \n",
              "\n",
              "     resourcefulness  ingenuity  mars  chron_dist  moon_col_2  env_destr  \\\n",
              "311         0.722171   1.123054  0.72    0.722171        0.03   0.466040   \n",
              "325         1.869888   0.249839 -1.87   -1.869888        0.03  -0.105811   \n",
              "331         1.161966   0.881017  1.16    1.161966        0.03   0.366344   \n",
              "400         1.161966   0.881017  1.16    1.161966        0.03   0.366344   \n",
              "416         1.568205   0.242960  1.57    1.568205        0.03   0.102585   \n",
              "467         1.172398   1.114058  1.17    1.172398        0.03   0.462876   \n",
              "588         1.591760   0.656157  1.59    1.591760        0.03   0.273750   \n",
              "605         0.714525   1.574242 -0.71   -0.714525        0.03   0.651116   \n",
              "631         1.591760   0.656157  1.59    1.591760        0.03   0.273750   \n",
              "729         0.722171   1.123054  0.72    0.722171        0.03   0.466040   \n",
              "760         1.869888   0.249839 -1.87   -1.869888        0.03  -0.105811   \n",
              "943         1.568205   0.242960  1.57    1.568205        0.03   0.102585   \n",
              "954         0.714525   1.574242 -0.71   -0.714525        0.03   0.651116   \n",
              "956         1.172398   1.114058  1.17    1.172398        0.03   0.462876   \n",
              "978         1.172921   0.739273  1.17    1.172921        0.03   0.307651   \n",
              "990         1.172921   0.739273  1.17    1.172921        0.03   0.307651   \n",
              "\n",
              "        sex brain_wave given_name     surname  zipcode date_of_birth  \\\n",
              "311   'egg'       BETA      Sarah     Merritt    86634    1918-04-11   \n",
              "325   'egg'      THETA       Dawn       Ortiz    85614    1975-01-08   \n",
              "331  'seed'      DELTA     Marcus  Livingston    19751    1963-08-11   \n",
              "400  'seed'      DELTA     Marcus  Livingston    19751    1963-08-11   \n",
              "416  'seed'      THETA     Dustin        Luna    76567    1992-01-23   \n",
              "467  'seed'      DELTA       Gary      Torres    38316    1948-06-16   \n",
              "588   'egg'      DELTA     Sherry       Scott    23602    2000-07-15   \n",
              "605  'seed'       BETA    Patrick      Fisher    73733    1934-06-16   \n",
              "631   'egg'      DELTA     Sherry       Scott    23602    2000-07-15   \n",
              "729   'egg'       BETA      Sarah     Merritt    86634    1918-04-11   \n",
              "760   'egg'      THETA       Dawn       Ortiz    85614    1975-01-08   \n",
              "943  'seed'      THETA     Dustin        Luna    76567    1992-01-23   \n",
              "954  'seed'       BETA    Patrick      Fisher    73733    1934-06-16   \n",
              "956  'seed'      DELTA       Gary      Torres    38316    1948-06-16   \n",
              "978   'egg'      DELTA      Jenna     Navarro     1125    1941-07-26   \n",
              "990   'egg'      DELTA      Jenna     Navarro     1125    1941-07-26   \n",
              "\n",
              "               state  class  \n",
              "311      'Minnesota'      1  \n",
              "325        'Arizona'      0  \n",
              "331        'Indiana'      1  \n",
              "400        'Indiana'      1  \n",
              "416           'Utah'      1  \n",
              "467   'North Dakota'      1  \n",
              "588           'Ohio'      1  \n",
              "605         'Hawaii'      0  \n",
              "631           'Ohio'      1  \n",
              "729      'Minnesota'      1  \n",
              "760        'Arizona'      0  \n",
              "943           'Utah'      1  \n",
              "954         'Hawaii'      0  \n",
              "956   'North Dakota'      1  \n",
              "978  'New Hampshire'      1  \n",
              "990  'New Hampshire'      1  "
            ],
            "text/html": [
              "\n",
              "  <div id=\"df-b7913f46-ce4d-48ec-9afe-b09a37450621\" class=\"colab-df-container\">\n",
              "    <div>\n",
              "<style scoped>\n",
              "    .dataframe tbody tr th:only-of-type {\n",
              "        vertical-align: middle;\n",
              "    }\n",
              "\n",
              "    .dataframe tbody tr th {\n",
              "        vertical-align: top;\n",
              "    }\n",
              "\n",
              "    .dataframe thead th {\n",
              "        text-align: right;\n",
              "    }\n",
              "</style>\n",
              "<table border=\"1\" class=\"dataframe\">\n",
              "  <thead>\n",
              "    <tr style=\"text-align: right;\">\n",
              "      <th></th>\n",
              "      <th>moon_col_1</th>\n",
              "      <th>saturn</th>\n",
              "      <th>jupiter</th>\n",
              "      <th>collaboration</th>\n",
              "      <th>earth</th>\n",
              "      <th>emot_vol</th>\n",
              "      <th>resourcefulness</th>\n",
              "      <th>ingenuity</th>\n",
              "      <th>mars</th>\n",
              "      <th>chron_dist</th>\n",
              "      <th>moon_col_2</th>\n",
              "      <th>env_destr</th>\n",
              "      <th>sex</th>\n",
              "      <th>brain_wave</th>\n",
              "      <th>given_name</th>\n",
              "      <th>surname</th>\n",
              "      <th>zipcode</th>\n",
              "      <th>date_of_birth</th>\n",
              "      <th>state</th>\n",
              "      <th>class</th>\n",
              "    </tr>\n",
              "  </thead>\n",
              "  <tbody>\n",
              "    <tr>\n",
              "      <th>311</th>\n",
              "      <td>mountain</td>\n",
              "      <td>2607</td>\n",
              "      <td>20654</td>\n",
              "      <td>0.722171</td>\n",
              "      <td>0.72</td>\n",
              "      <td>-0.050358</td>\n",
              "      <td>0.722171</td>\n",
              "      <td>1.123054</td>\n",
              "      <td>0.72</td>\n",
              "      <td>0.722171</td>\n",
              "      <td>0.03</td>\n",
              "      <td>0.466040</td>\n",
              "      <td>'egg'</td>\n",
              "      <td>BETA</td>\n",
              "      <td>Sarah</td>\n",
              "      <td>Merritt</td>\n",
              "      <td>86634</td>\n",
              "      <td>1918-04-11</td>\n",
              "      <td>'Minnesota'</td>\n",
              "      <td>1</td>\n",
              "    </tr>\n",
              "    <tr>\n",
              "      <th>325</th>\n",
              "      <td>mountain</td>\n",
              "      <td>2330</td>\n",
              "      <td>18430</td>\n",
              "      <td>-1.869888</td>\n",
              "      <td>-1.87</td>\n",
              "      <td>-1.435279</td>\n",
              "      <td>1.869888</td>\n",
              "      <td>0.249839</td>\n",
              "      <td>-1.87</td>\n",
              "      <td>-1.869888</td>\n",
              "      <td>0.03</td>\n",
              "      <td>-0.105811</td>\n",
              "      <td>'egg'</td>\n",
              "      <td>THETA</td>\n",
              "      <td>Dawn</td>\n",
              "      <td>Ortiz</td>\n",
              "      <td>85614</td>\n",
              "      <td>1975-01-08</td>\n",
              "      <td>'Arizona'</td>\n",
              "      <td>0</td>\n",
              "    </tr>\n",
              "    <tr>\n",
              "      <th>331</th>\n",
              "      <td>mountain</td>\n",
              "      <td>1956</td>\n",
              "      <td>29181</td>\n",
              "      <td>1.161966</td>\n",
              "      <td>1.16</td>\n",
              "      <td>-0.464397</td>\n",
              "      <td>1.161966</td>\n",
              "      <td>0.881017</td>\n",
              "      <td>1.16</td>\n",
              "      <td>1.161966</td>\n",
              "      <td>0.03</td>\n",
              "      <td>0.366344</td>\n",
              "      <td>'seed'</td>\n",
              "      <td>DELTA</td>\n",
              "      <td>Marcus</td>\n",
              "      <td>Livingston</td>\n",
              "      <td>19751</td>\n",
              "      <td>1963-08-11</td>\n",
              "      <td>'Indiana'</td>\n",
              "      <td>1</td>\n",
              "    </tr>\n",
              "    <tr>\n",
              "      <th>400</th>\n",
              "      <td>mountain</td>\n",
              "      <td>1956</td>\n",
              "      <td>29181</td>\n",
              "      <td>1.161966</td>\n",
              "      <td>1.16</td>\n",
              "      <td>-0.464397</td>\n",
              "      <td>1.161966</td>\n",
              "      <td>0.881017</td>\n",
              "      <td>1.16</td>\n",
              "      <td>1.161966</td>\n",
              "      <td>0.03</td>\n",
              "      <td>0.366344</td>\n",
              "      <td>'seed'</td>\n",
              "      <td>DELTA</td>\n",
              "      <td>Marcus</td>\n",
              "      <td>Livingston</td>\n",
              "      <td>19751</td>\n",
              "      <td>1963-08-11</td>\n",
              "      <td>'Indiana'</td>\n",
              "      <td>1</td>\n",
              "    </tr>\n",
              "    <tr>\n",
              "      <th>416</th>\n",
              "      <td>mountain</td>\n",
              "      <td>2528</td>\n",
              "      <td>10084</td>\n",
              "      <td>1.568205</td>\n",
              "      <td>1.57</td>\n",
              "      <td>-1.184023</td>\n",
              "      <td>1.568205</td>\n",
              "      <td>0.242960</td>\n",
              "      <td>1.57</td>\n",
              "      <td>1.568205</td>\n",
              "      <td>0.03</td>\n",
              "      <td>0.102585</td>\n",
              "      <td>'seed'</td>\n",
              "      <td>THETA</td>\n",
              "      <td>Dustin</td>\n",
              "      <td>Luna</td>\n",
              "      <td>76567</td>\n",
              "      <td>1992-01-23</td>\n",
              "      <td>'Utah'</td>\n",
              "      <td>1</td>\n",
              "    </tr>\n",
              "    <tr>\n",
              "      <th>467</th>\n",
              "      <td>mountain</td>\n",
              "      <td>2084</td>\n",
              "      <td>11257</td>\n",
              "      <td>1.172398</td>\n",
              "      <td>1.17</td>\n",
              "      <td>-0.335958</td>\n",
              "      <td>1.172398</td>\n",
              "      <td>1.114058</td>\n",
              "      <td>1.17</td>\n",
              "      <td>1.172398</td>\n",
              "      <td>0.03</td>\n",
              "      <td>0.462876</td>\n",
              "      <td>'seed'</td>\n",
              "      <td>DELTA</td>\n",
              "      <td>Gary</td>\n",
              "      <td>Torres</td>\n",
              "      <td>38316</td>\n",
              "      <td>1948-06-16</td>\n",
              "      <td>'North Dakota'</td>\n",
              "      <td>1</td>\n",
              "    </tr>\n",
              "    <tr>\n",
              "      <th>588</th>\n",
              "      <td>mountain</td>\n",
              "      <td>1310</td>\n",
              "      <td>24144</td>\n",
              "      <td>1.591760</td>\n",
              "      <td>1.59</td>\n",
              "      <td>-0.960571</td>\n",
              "      <td>1.591760</td>\n",
              "      <td>0.656157</td>\n",
              "      <td>1.59</td>\n",
              "      <td>1.591760</td>\n",
              "      <td>0.03</td>\n",
              "      <td>0.273750</td>\n",
              "      <td>'egg'</td>\n",
              "      <td>DELTA</td>\n",
              "      <td>Sherry</td>\n",
              "      <td>Scott</td>\n",
              "      <td>23602</td>\n",
              "      <td>2000-07-15</td>\n",
              "      <td>'Ohio'</td>\n",
              "      <td>1</td>\n",
              "    </tr>\n",
              "    <tr>\n",
              "      <th>605</th>\n",
              "      <td>mountain</td>\n",
              "      <td>2532</td>\n",
              "      <td>29140</td>\n",
              "      <td>-0.714525</td>\n",
              "      <td>-0.71</td>\n",
              "      <td>-1.531963</td>\n",
              "      <td>0.714525</td>\n",
              "      <td>1.574242</td>\n",
              "      <td>-0.71</td>\n",
              "      <td>-0.714525</td>\n",
              "      <td>0.03</td>\n",
              "      <td>0.651116</td>\n",
              "      <td>'seed'</td>\n",
              "      <td>BETA</td>\n",
              "      <td>Patrick</td>\n",
              "      <td>Fisher</td>\n",
              "      <td>73733</td>\n",
              "      <td>1934-06-16</td>\n",
              "      <td>'Hawaii'</td>\n",
              "      <td>0</td>\n",
              "    </tr>\n",
              "    <tr>\n",
              "      <th>631</th>\n",
              "      <td>mountain</td>\n",
              "      <td>1310</td>\n",
              "      <td>24144</td>\n",
              "      <td>1.591760</td>\n",
              "      <td>1.59</td>\n",
              "      <td>-0.960571</td>\n",
              "      <td>1.591760</td>\n",
              "      <td>0.656157</td>\n",
              "      <td>1.59</td>\n",
              "      <td>1.591760</td>\n",
              "      <td>0.03</td>\n",
              "      <td>0.273750</td>\n",
              "      <td>'egg'</td>\n",
              "      <td>DELTA</td>\n",
              "      <td>Sherry</td>\n",
              "      <td>Scott</td>\n",
              "      <td>23602</td>\n",
              "      <td>2000-07-15</td>\n",
              "      <td>'Ohio'</td>\n",
              "      <td>1</td>\n",
              "    </tr>\n",
              "    <tr>\n",
              "      <th>729</th>\n",
              "      <td>mountain</td>\n",
              "      <td>2607</td>\n",
              "      <td>20654</td>\n",
              "      <td>0.722171</td>\n",
              "      <td>0.72</td>\n",
              "      <td>-0.050358</td>\n",
              "      <td>0.722171</td>\n",
              "      <td>1.123054</td>\n",
              "      <td>0.72</td>\n",
              "      <td>0.722171</td>\n",
              "      <td>0.03</td>\n",
              "      <td>0.466040</td>\n",
              "      <td>'egg'</td>\n",
              "      <td>BETA</td>\n",
              "      <td>Sarah</td>\n",
              "      <td>Merritt</td>\n",
              "      <td>86634</td>\n",
              "      <td>1918-04-11</td>\n",
              "      <td>'Minnesota'</td>\n",
              "      <td>1</td>\n",
              "    </tr>\n",
              "    <tr>\n",
              "      <th>760</th>\n",
              "      <td>mountain</td>\n",
              "      <td>2330</td>\n",
              "      <td>18430</td>\n",
              "      <td>-1.869888</td>\n",
              "      <td>-1.87</td>\n",
              "      <td>-1.435279</td>\n",
              "      <td>1.869888</td>\n",
              "      <td>0.249839</td>\n",
              "      <td>-1.87</td>\n",
              "      <td>-1.869888</td>\n",
              "      <td>0.03</td>\n",
              "      <td>-0.105811</td>\n",
              "      <td>'egg'</td>\n",
              "      <td>THETA</td>\n",
              "      <td>Dawn</td>\n",
              "      <td>Ortiz</td>\n",
              "      <td>85614</td>\n",
              "      <td>1975-01-08</td>\n",
              "      <td>'Arizona'</td>\n",
              "      <td>0</td>\n",
              "    </tr>\n",
              "    <tr>\n",
              "      <th>943</th>\n",
              "      <td>mountain</td>\n",
              "      <td>2528</td>\n",
              "      <td>10084</td>\n",
              "      <td>1.568205</td>\n",
              "      <td>1.57</td>\n",
              "      <td>-1.184023</td>\n",
              "      <td>1.568205</td>\n",
              "      <td>0.242960</td>\n",
              "      <td>1.57</td>\n",
              "      <td>1.568205</td>\n",
              "      <td>0.03</td>\n",
              "      <td>0.102585</td>\n",
              "      <td>'seed'</td>\n",
              "      <td>THETA</td>\n",
              "      <td>Dustin</td>\n",
              "      <td>Luna</td>\n",
              "      <td>76567</td>\n",
              "      <td>1992-01-23</td>\n",
              "      <td>'Utah'</td>\n",
              "      <td>1</td>\n",
              "    </tr>\n",
              "    <tr>\n",
              "      <th>954</th>\n",
              "      <td>mountain</td>\n",
              "      <td>2532</td>\n",
              "      <td>29140</td>\n",
              "      <td>-0.714525</td>\n",
              "      <td>-0.71</td>\n",
              "      <td>-1.531963</td>\n",
              "      <td>0.714525</td>\n",
              "      <td>1.574242</td>\n",
              "      <td>-0.71</td>\n",
              "      <td>-0.714525</td>\n",
              "      <td>0.03</td>\n",
              "      <td>0.651116</td>\n",
              "      <td>'seed'</td>\n",
              "      <td>BETA</td>\n",
              "      <td>Patrick</td>\n",
              "      <td>Fisher</td>\n",
              "      <td>73733</td>\n",
              "      <td>1934-06-16</td>\n",
              "      <td>'Hawaii'</td>\n",
              "      <td>0</td>\n",
              "    </tr>\n",
              "    <tr>\n",
              "      <th>956</th>\n",
              "      <td>mountain</td>\n",
              "      <td>2084</td>\n",
              "      <td>11257</td>\n",
              "      <td>1.172398</td>\n",
              "      <td>1.17</td>\n",
              "      <td>-0.335958</td>\n",
              "      <td>1.172398</td>\n",
              "      <td>1.114058</td>\n",
              "      <td>1.17</td>\n",
              "      <td>1.172398</td>\n",
              "      <td>0.03</td>\n",
              "      <td>0.462876</td>\n",
              "      <td>'seed'</td>\n",
              "      <td>DELTA</td>\n",
              "      <td>Gary</td>\n",
              "      <td>Torres</td>\n",
              "      <td>38316</td>\n",
              "      <td>1948-06-16</td>\n",
              "      <td>'North Dakota'</td>\n",
              "      <td>1</td>\n",
              "    </tr>\n",
              "    <tr>\n",
              "      <th>978</th>\n",
              "      <td>mountain</td>\n",
              "      <td>1741</td>\n",
              "      <td>22288</td>\n",
              "      <td>1.172921</td>\n",
              "      <td>1.17</td>\n",
              "      <td>-0.557160</td>\n",
              "      <td>1.172921</td>\n",
              "      <td>0.739273</td>\n",
              "      <td>1.17</td>\n",
              "      <td>1.172921</td>\n",
              "      <td>0.03</td>\n",
              "      <td>0.307651</td>\n",
              "      <td>'egg'</td>\n",
              "      <td>DELTA</td>\n",
              "      <td>Jenna</td>\n",
              "      <td>Navarro</td>\n",
              "      <td>1125</td>\n",
              "      <td>1941-07-26</td>\n",
              "      <td>'New Hampshire'</td>\n",
              "      <td>1</td>\n",
              "    </tr>\n",
              "    <tr>\n",
              "      <th>990</th>\n",
              "      <td>mountain</td>\n",
              "      <td>1741</td>\n",
              "      <td>22288</td>\n",
              "      <td>1.172921</td>\n",
              "      <td>1.17</td>\n",
              "      <td>-0.557160</td>\n",
              "      <td>1.172921</td>\n",
              "      <td>0.739273</td>\n",
              "      <td>1.17</td>\n",
              "      <td>1.172921</td>\n",
              "      <td>0.03</td>\n",
              "      <td>0.307651</td>\n",
              "      <td>'egg'</td>\n",
              "      <td>DELTA</td>\n",
              "      <td>Jenna</td>\n",
              "      <td>Navarro</td>\n",
              "      <td>1125</td>\n",
              "      <td>1941-07-26</td>\n",
              "      <td>'New Hampshire'</td>\n",
              "      <td>1</td>\n",
              "    </tr>\n",
              "  </tbody>\n",
              "</table>\n",
              "</div>\n",
              "    <div class=\"colab-df-buttons\">\n",
              "\n",
              "  <div class=\"colab-df-container\">\n",
              "    <button class=\"colab-df-convert\" onclick=\"convertToInteractive('df-b7913f46-ce4d-48ec-9afe-b09a37450621')\"\n",
              "            title=\"Convert this dataframe to an interactive table.\"\n",
              "            style=\"display:none;\">\n",
              "\n",
              "  <svg xmlns=\"http://www.w3.org/2000/svg\" height=\"24px\" viewBox=\"0 -960 960 960\">\n",
              "    <path d=\"M120-120v-720h720v720H120Zm60-500h600v-160H180v160Zm220 220h160v-160H400v160Zm0 220h160v-160H400v160ZM180-400h160v-160H180v160Zm440 0h160v-160H620v160ZM180-180h160v-160H180v160Zm440 0h160v-160H620v160Z\"/>\n",
              "  </svg>\n",
              "    </button>\n",
              "\n",
              "  <style>\n",
              "    .colab-df-container {\n",
              "      display:flex;\n",
              "      gap: 12px;\n",
              "    }\n",
              "\n",
              "    .colab-df-convert {\n",
              "      background-color: #E8F0FE;\n",
              "      border: none;\n",
              "      border-radius: 50%;\n",
              "      cursor: pointer;\n",
              "      display: none;\n",
              "      fill: #1967D2;\n",
              "      height: 32px;\n",
              "      padding: 0 0 0 0;\n",
              "      width: 32px;\n",
              "    }\n",
              "\n",
              "    .colab-df-convert:hover {\n",
              "      background-color: #E2EBFA;\n",
              "      box-shadow: 0px 1px 2px rgba(60, 64, 67, 0.3), 0px 1px 3px 1px rgba(60, 64, 67, 0.15);\n",
              "      fill: #174EA6;\n",
              "    }\n",
              "\n",
              "    .colab-df-buttons div {\n",
              "      margin-bottom: 4px;\n",
              "    }\n",
              "\n",
              "    [theme=dark] .colab-df-convert {\n",
              "      background-color: #3B4455;\n",
              "      fill: #D2E3FC;\n",
              "    }\n",
              "\n",
              "    [theme=dark] .colab-df-convert:hover {\n",
              "      background-color: #434B5C;\n",
              "      box-shadow: 0px 1px 3px 1px rgba(0, 0, 0, 0.15);\n",
              "      filter: drop-shadow(0px 1px 2px rgba(0, 0, 0, 0.3));\n",
              "      fill: #FFFFFF;\n",
              "    }\n",
              "  </style>\n",
              "\n",
              "    <script>\n",
              "      const buttonEl =\n",
              "        document.querySelector('#df-b7913f46-ce4d-48ec-9afe-b09a37450621 button.colab-df-convert');\n",
              "      buttonEl.style.display =\n",
              "        google.colab.kernel.accessAllowed ? 'block' : 'none';\n",
              "\n",
              "      async function convertToInteractive(key) {\n",
              "        const element = document.querySelector('#df-b7913f46-ce4d-48ec-9afe-b09a37450621');\n",
              "        const dataTable =\n",
              "          await google.colab.kernel.invokeFunction('convertToInteractive',\n",
              "                                                    [key], {});\n",
              "        if (!dataTable) return;\n",
              "\n",
              "        const docLinkHtml = 'Like what you see? Visit the ' +\n",
              "          '<a target=\"_blank\" href=https://colab.research.google.com/notebooks/data_table.ipynb>data table notebook</a>'\n",
              "          + ' to learn more about interactive tables.';\n",
              "        element.innerHTML = '';\n",
              "        dataTable['output_type'] = 'display_data';\n",
              "        await google.colab.output.renderOutput(dataTable, element);\n",
              "        const docLink = document.createElement('div');\n",
              "        docLink.innerHTML = docLinkHtml;\n",
              "        element.appendChild(docLink);\n",
              "      }\n",
              "    </script>\n",
              "  </div>\n",
              "\n",
              "\n",
              "<div id=\"df-47c7c25d-a6e3-49f6-940a-86c9c81653c1\">\n",
              "  <button class=\"colab-df-quickchart\" onclick=\"quickchart('df-47c7c25d-a6e3-49f6-940a-86c9c81653c1')\"\n",
              "            title=\"Suggest charts\"\n",
              "            style=\"display:none;\">\n",
              "\n",
              "<svg xmlns=\"http://www.w3.org/2000/svg\" height=\"24px\"viewBox=\"0 0 24 24\"\n",
              "     width=\"24px\">\n",
              "    <g>\n",
              "        <path d=\"M19 3H5c-1.1 0-2 .9-2 2v14c0 1.1.9 2 2 2h14c1.1 0 2-.9 2-2V5c0-1.1-.9-2-2-2zM9 17H7v-7h2v7zm4 0h-2V7h2v10zm4 0h-2v-4h2v4z\"/>\n",
              "    </g>\n",
              "</svg>\n",
              "  </button>\n",
              "\n",
              "<style>\n",
              "  .colab-df-quickchart {\n",
              "      --bg-color: #E8F0FE;\n",
              "      --fill-color: #1967D2;\n",
              "      --hover-bg-color: #E2EBFA;\n",
              "      --hover-fill-color: #174EA6;\n",
              "      --disabled-fill-color: #AAA;\n",
              "      --disabled-bg-color: #DDD;\n",
              "  }\n",
              "\n",
              "  [theme=dark] .colab-df-quickchart {\n",
              "      --bg-color: #3B4455;\n",
              "      --fill-color: #D2E3FC;\n",
              "      --hover-bg-color: #434B5C;\n",
              "      --hover-fill-color: #FFFFFF;\n",
              "      --disabled-bg-color: #3B4455;\n",
              "      --disabled-fill-color: #666;\n",
              "  }\n",
              "\n",
              "  .colab-df-quickchart {\n",
              "    background-color: var(--bg-color);\n",
              "    border: none;\n",
              "    border-radius: 50%;\n",
              "    cursor: pointer;\n",
              "    display: none;\n",
              "    fill: var(--fill-color);\n",
              "    height: 32px;\n",
              "    padding: 0;\n",
              "    width: 32px;\n",
              "  }\n",
              "\n",
              "  .colab-df-quickchart:hover {\n",
              "    background-color: var(--hover-bg-color);\n",
              "    box-shadow: 0 1px 2px rgba(60, 64, 67, 0.3), 0 1px 3px 1px rgba(60, 64, 67, 0.15);\n",
              "    fill: var(--button-hover-fill-color);\n",
              "  }\n",
              "\n",
              "  .colab-df-quickchart-complete:disabled,\n",
              "  .colab-df-quickchart-complete:disabled:hover {\n",
              "    background-color: var(--disabled-bg-color);\n",
              "    fill: var(--disabled-fill-color);\n",
              "    box-shadow: none;\n",
              "  }\n",
              "\n",
              "  .colab-df-spinner {\n",
              "    border: 2px solid var(--fill-color);\n",
              "    border-color: transparent;\n",
              "    border-bottom-color: var(--fill-color);\n",
              "    animation:\n",
              "      spin 1s steps(1) infinite;\n",
              "  }\n",
              "\n",
              "  @keyframes spin {\n",
              "    0% {\n",
              "      border-color: transparent;\n",
              "      border-bottom-color: var(--fill-color);\n",
              "      border-left-color: var(--fill-color);\n",
              "    }\n",
              "    20% {\n",
              "      border-color: transparent;\n",
              "      border-left-color: var(--fill-color);\n",
              "      border-top-color: var(--fill-color);\n",
              "    }\n",
              "    30% {\n",
              "      border-color: transparent;\n",
              "      border-left-color: var(--fill-color);\n",
              "      border-top-color: var(--fill-color);\n",
              "      border-right-color: var(--fill-color);\n",
              "    }\n",
              "    40% {\n",
              "      border-color: transparent;\n",
              "      border-right-color: var(--fill-color);\n",
              "      border-top-color: var(--fill-color);\n",
              "    }\n",
              "    60% {\n",
              "      border-color: transparent;\n",
              "      border-right-color: var(--fill-color);\n",
              "    }\n",
              "    80% {\n",
              "      border-color: transparent;\n",
              "      border-right-color: var(--fill-color);\n",
              "      border-bottom-color: var(--fill-color);\n",
              "    }\n",
              "    90% {\n",
              "      border-color: transparent;\n",
              "      border-bottom-color: var(--fill-color);\n",
              "    }\n",
              "  }\n",
              "</style>\n",
              "\n",
              "  <script>\n",
              "    async function quickchart(key) {\n",
              "      const quickchartButtonEl =\n",
              "        document.querySelector('#' + key + ' button');\n",
              "      quickchartButtonEl.disabled = true;  // To prevent multiple clicks.\n",
              "      quickchartButtonEl.classList.add('colab-df-spinner');\n",
              "      try {\n",
              "        const charts = await google.colab.kernel.invokeFunction(\n",
              "            'suggestCharts', [key], {});\n",
              "      } catch (error) {\n",
              "        console.error('Error during call to suggestCharts:', error);\n",
              "      }\n",
              "      quickchartButtonEl.classList.remove('colab-df-spinner');\n",
              "      quickchartButtonEl.classList.add('colab-df-quickchart-complete');\n",
              "    }\n",
              "    (() => {\n",
              "      let quickchartButtonEl =\n",
              "        document.querySelector('#df-47c7c25d-a6e3-49f6-940a-86c9c81653c1 button');\n",
              "      quickchartButtonEl.style.display =\n",
              "        google.colab.kernel.accessAllowed ? 'block' : 'none';\n",
              "    })();\n",
              "  </script>\n",
              "</div>\n",
              "\n",
              "    </div>\n",
              "  </div>\n"
            ],
            "application/vnd.google.colaboratory.intrinsic+json": {
              "type": "dataframe",
              "repr_error": "0"
            }
          },
          "metadata": {},
          "execution_count": 7
        }
      ],
      "id": "EcMLB_-u5XCo"
    },
    {
      "cell_type": "code",
      "source": [
        "# drop duplicate rows\n",
        "df.drop_duplicates(inplace=True)"
      ],
      "metadata": {
        "id": "DTdC9Ljk5ear"
      },
      "execution_count": null,
      "outputs": [],
      "id": "DTdC9Ljk5ear"
    },
    {
      "cell_type": "code",
      "source": [
        "# check of duplicate columns\n",
        "duplicate_features = []\n",
        "for i in range(0, len(df.columns)):\n",
        "    orig = df.columns[i]\n",
        "\n",
        "    for dupe in df.columns[i + 1:]:\n",
        "        if df[orig].equals(df[dupe]):\n",
        "            duplicate_features.append(dupe)\n",
        "\n",
        "duplicate_features"
      ],
      "metadata": {
        "colab": {
          "base_uri": "https://localhost:8080/"
        },
        "id": "MVLr41p_5ga3",
        "outputId": "bf19924a-1ad0-4923-d1b4-5407345e094f"
      },
      "execution_count": null,
      "outputs": [
        {
          "output_type": "execute_result",
          "data": {
            "text/plain": [
              "['mars']"
            ]
          },
          "metadata": {},
          "execution_count": 9
        }
      ],
      "id": "MVLr41p_5ga3"
    },
    {
      "cell_type": "code",
      "source": [
        "df.drop(duplicate_features, axis=1, inplace=True)"
      ],
      "metadata": {
        "id": "5rCClFPhO33b"
      },
      "execution_count": null,
      "outputs": [],
      "id": "5rCClFPhO33b"
    },
    {
      "cell_type": "markdown",
      "source": [
        "### OHE"
      ],
      "metadata": {
        "id": "Qv9Tz3M5pzAv"
      },
      "id": "Qv9Tz3M5pzAv"
    },
    {
      "cell_type": "code",
      "source": [
        "for feat in df.select_dtypes('object'):\n",
        "  print(f'{feat} has {len(df[feat].value_counts())} unique labels')"
      ],
      "metadata": {
        "colab": {
          "base_uri": "https://localhost:8080/"
        },
        "id": "O0OrjKDZCO5n",
        "outputId": "7335080d-680a-4789-eb42-2f2083855a0e"
      },
      "execution_count": null,
      "outputs": [
        {
          "output_type": "stream",
          "name": "stdout",
          "text": [
            "sex has 2 unique labels\n",
            "brain_wave has 4 unique labels\n",
            "given_name has 357 unique labels\n",
            "surname has 508 unique labels\n",
            "date_of_birth has 991 unique labels\n",
            "state has 50 unique labels\n"
          ]
        }
      ],
      "id": "O0OrjKDZCO5n"
    },
    {
      "cell_type": "code",
      "source": [
        "from sklearn.preprocessing import OneHotEncoder\n",
        "\n",
        "cat_features = []\n",
        "for feat in df.select_dtypes('object'):\n",
        "  if len(df[feat].value_counts()) < 3:\n",
        "    df[feat] = df[feat].map({df[feat].value_counts().index[0]: 0, df[feat].value_counts().index[1]: 1})\n",
        "  elif 2 < len(df[feat].value_counts()) < 6:\n",
        "    cat_features.append(feat)\n",
        "  elif len(df[feat].value_counts()) > 5:\n",
        "    freq = df.groupby(feat).size()/len(df)\n",
        "    df[feat] = df[feat].map(freq)\n",
        "\n",
        "ohe = OneHotEncoder(categories='auto', drop='first', sparse_output=False, handle_unknown='ignore')\n",
        "ohe_df = ohe.fit_transform(df[cat_features])\n",
        "ohe_df = pd.DataFrame(ohe_df, columns=ohe.get_feature_names_out(cat_features))\n",
        "df.index = df.index\n",
        "df = df.join(ohe_df)\n",
        "df.drop(cat_features, axis=1, inplace=True)"
      ],
      "metadata": {
        "id": "Y62ZAZMbD980"
      },
      "execution_count": null,
      "outputs": [],
      "id": "Y62ZAZMbD980"
    },
    {
      "cell_type": "markdown",
      "source": [
        "### Missing Values"
      ],
      "metadata": {
        "id": "2cI4JEniQn_r"
      },
      "id": "2cI4JEniQn_r"
    },
    {
      "cell_type": "code",
      "source": [
        "# check for nulls\n",
        "df.isnull().sum()"
      ],
      "metadata": {
        "colab": {
          "base_uri": "https://localhost:8080/"
        },
        "id": "zIx4I7Cj5tSX",
        "outputId": "ac8ad326-2dce-468a-9273-f74b0bb94201"
      },
      "execution_count": null,
      "outputs": [
        {
          "output_type": "execute_result",
          "data": {
            "text/plain": [
              "saturn              0\n",
              "jupiter             0\n",
              "collaboration       3\n",
              "earth               0\n",
              "emot_vol            5\n",
              "resourcefulness     2\n",
              "ingenuity           5\n",
              "chron_dist          2\n",
              "env_destr           3\n",
              "sex                 4\n",
              "given_name          0\n",
              "surname             0\n",
              "zipcode             0\n",
              "date_of_birth       0\n",
              "state               3\n",
              "class               0\n",
              "brain_wave_BETA     8\n",
              "brain_wave_DELTA    8\n",
              "brain_wave_THETA    8\n",
              "dtype: int64"
            ]
          },
          "metadata": {},
          "execution_count": 14
        }
      ],
      "id": "zIx4I7Cj5tSX"
    },
    {
      "cell_type": "code",
      "source": [
        "df[df.columns[df.isnull().sum() > 1]].info()"
      ],
      "metadata": {
        "colab": {
          "base_uri": "https://localhost:8080/"
        },
        "id": "xbxNs38p58ZF",
        "outputId": "30eb0ce4-cde9-454d-ec19-74eefba28a8a"
      },
      "execution_count": null,
      "outputs": [
        {
          "output_type": "stream",
          "name": "stdout",
          "text": [
            "<class 'pandas.core.frame.DataFrame'>\n",
            "Index: 1000 entries, 0 to 1007\n",
            "Data columns (total 11 columns):\n",
            " #   Column            Non-Null Count  Dtype  \n",
            "---  ------            --------------  -----  \n",
            " 0   collaboration     997 non-null    float64\n",
            " 1   emot_vol          995 non-null    float64\n",
            " 2   resourcefulness   998 non-null    float64\n",
            " 3   ingenuity         995 non-null    float64\n",
            " 4   chron_dist        998 non-null    float64\n",
            " 5   env_destr         997 non-null    float64\n",
            " 6   sex               996 non-null    float64\n",
            " 7   state             997 non-null    float64\n",
            " 8   brain_wave_BETA   992 non-null    float64\n",
            " 9   brain_wave_DELTA  992 non-null    float64\n",
            " 10  brain_wave_THETA  992 non-null    float64\n",
            "dtypes: float64(11)\n",
            "memory usage: 126.0 KB\n"
          ]
        }
      ],
      "id": "xbxNs38p58ZF"
    },
    {
      "cell_type": "code",
      "source": [
        "for feat in df.columns[df.isnull().sum() > 1]:\n",
        "  if df[feat].dtype == 'object':\n",
        "    print('object', feat)\n",
        "    df[feat].fillna(df[feat].mode()[0], inplace=True)\n",
        "  else:\n",
        "    print('numeric', feat, df[feat].skew())\n",
        "    if abs(df[feat].skew()) < .8:\n",
        "      df[feat].fillna(round(df[feat].mean(), 2), inplace=True)\n",
        "    else:\n",
        "      df[feat].fillna(df[feat].median(), inplace=True)\n",
        "\n",
        "df.isnull().sum()"
      ],
      "metadata": {
        "colab": {
          "base_uri": "https://localhost:8080/"
        },
        "id": "ta4qBIBi7P7J",
        "outputId": "7e481b82-5751-46bd-eac5-aa79b758f449"
      },
      "execution_count": null,
      "outputs": [
        {
          "output_type": "stream",
          "name": "stdout",
          "text": [
            "numeric collaboration 0.18000985957131968\n",
            "numeric emot_vol -0.30814982535064\n",
            "numeric resourcefulness 0.5453550078164151\n",
            "numeric ingenuity 0.7059064582896115\n",
            "numeric chron_dist 0.17363943566576429\n",
            "numeric env_destr -0.048913417980882314\n",
            "numeric sex 0.0\n",
            "numeric state 0.1388262398262411\n",
            "numeric brain_wave_BETA 1.266003831315825\n",
            "numeric brain_wave_DELTA 1.0425534091379487\n",
            "numeric brain_wave_THETA 1.2134563233821458\n"
          ]
        },
        {
          "output_type": "execute_result",
          "data": {
            "text/plain": [
              "saturn              0\n",
              "jupiter             0\n",
              "collaboration       0\n",
              "earth               0\n",
              "emot_vol            0\n",
              "resourcefulness     0\n",
              "ingenuity           0\n",
              "chron_dist          0\n",
              "env_destr           0\n",
              "sex                 0\n",
              "given_name          0\n",
              "surname             0\n",
              "zipcode             0\n",
              "date_of_birth       0\n",
              "state               0\n",
              "class               0\n",
              "brain_wave_BETA     0\n",
              "brain_wave_DELTA    0\n",
              "brain_wave_THETA    0\n",
              "dtype: int64"
            ]
          },
          "metadata": {},
          "execution_count": 16
        }
      ],
      "id": "ta4qBIBi7P7J"
    },
    {
      "cell_type": "markdown",
      "source": [
        "### Descriptive Statistics\n",
        "\n"
      ],
      "metadata": {
        "id": "mEeQNKUyo2UB"
      },
      "id": "mEeQNKUyo2UB"
    },
    {
      "cell_type": "code",
      "source": [
        "df.describe()"
      ],
      "metadata": {
        "id": "DTAnbIwupEjs"
      },
      "id": "DTAnbIwupEjs",
      "execution_count": null,
      "outputs": []
    },
    {
      "cell_type": "code",
      "source": [
        "# normal curve\n",
        "import numpy as np\n",
        "import matplotlib.pyplot as plt\n",
        "from scipy import stats\n",
        "\n",
        "X = stats.norm.rvs(size=100000)\n",
        "X.sort()\n",
        "\n",
        "parameters = stats.norm.fit(X)\n",
        "mu, sigma = parameters\n",
        "\n",
        "print('The area between -3 and 3 is considered to contains 99.73% of the area in the curve')\n",
        "print('The area between -2 and 2 is considered to contains 95.44% of the area in the curve')\n",
        "print('The area between -1 and 1 is considered to contains 68.26% of the area in the curve')\n",
        "print('The blue line is the expected average of the normal distribution at 50%')\n",
        "print()\n",
        "print('Mean: ', np.mean(X))\n",
        "print('Median: ', np.median(X))\n",
        "print('Mode?', X[1])\n",
        "print('Variance: ', np.var(X))\n",
        "print('Standard Deviation: ', np.std(X))\n",
        "print()\n",
        "\n",
        "print(f'The corresponding percentile for 1 standard deviation above the mean (z) is {stats.norm.cdf(1, loc=mu, scale=sigma)}%.')\n",
        "print(f'a z score for 84%  is {stats.norm.ppf(0.84, loc=mu, scale=sigma)} and,')\n",
        "print(f'a z score for 50% is {np.round(stats.norm.ppf(0.5, loc=mu, scale=sigma), 2)}')\n",
        "print('for normal distributions.')\n",
        "print()\n",
        "\n",
        "fig, ax = plt.subplots()\n",
        "ax.plot(X, stats.norm.pdf(X, loc=mu, scale=sigma))\n",
        "ax.hist(X, bins=25, density=True, color='lightgray', alpha=0.5)\n",
        "ax.set_xlabel('z scores')\n",
        "# ax.set_ylabel('pdf(x)')\n",
        "ax.set_xlim(-4, 4)\n",
        "ax.grid(True)\n",
        "\n",
        "plt.vlines(x=-3, ymin=0, ymax=stats.norm.pdf(-3, loc=mu, scale=sigma), color='black')\n",
        "plt.vlines(x=-2, ymin=0, ymax=stats.norm.pdf(-2, loc=mu, scale=sigma), color='red')\n",
        "plt.vlines(x=-1, ymin=0, ymax=stats.norm.pdf(-1, loc=mu, scale=sigma), color='green')\n",
        "plt.vlines(x=0, ymin=0, ymax=stats.norm.pdf(0, loc=mu, scale=sigma), color='blue')\n",
        "plt.vlines(x=1, ymin=0, ymax=stats.norm.pdf(1, loc=mu, scale=sigma), color='green')\n",
        "plt.vlines(x=2, ymin=0, ymax=stats.norm.pdf(2, loc=mu, scale=sigma), color='red')\n",
        "plt.vlines(x=3, ymin=0, ymax=stats.norm.pdf(3, loc=mu, scale=sigma), color='black')\n",
        "plt.yticks([])\n",
        "\n",
        "plt.title('Normal Curve with 68-95-99.7 rule')\n",
        "plt.show()"
      ],
      "metadata": {
        "colab": {
          "base_uri": "https://localhost:8080/",
          "height": 750
        },
        "id": "aq-rZgwOpLy9",
        "outputId": "4049838e-f3fe-4fe8-9312-2ef441f0e8d1"
      },
      "id": "aq-rZgwOpLy9",
      "execution_count": null,
      "outputs": [
        {
          "output_type": "stream",
          "name": "stdout",
          "text": [
            "The area between -3 and 3 is considered to contains 99.73% of the area in the curve\n",
            "The area between -2 and 2 is considered to contains 95.44% of the area in the curve\n",
            "The area between -1 and 1 is considered to contains 68.26% of the area in the curve\n",
            "The blue line is the expected average of the normal distribution at 50%\n",
            "\n",
            "Mean:  0.0011926774887508508\n",
            "Median:  0.0024867978591186866\n",
            "Mode? -4.327343348872149\n",
            "Variance:  1.0058909897803558\n",
            "Standard Deviation:  1.0029411696507207\n",
            "\n",
            "The corresponding percentile for 1 standard deviation above the mean (z) is 0.8403453540498387%.\n",
            "a z score for 84%  is 0.9985754300435203 and,\n",
            "a z score for 50% is 0.0\n",
            "for normal distributions.\n",
            "\n"
          ]
        },
        {
          "output_type": "display_data",
          "data": {
            "text/plain": [
              "<Figure size 640x480 with 1 Axes>"
            ],
            "image/png": "[encoded data removed]"
          },
          "metadata": {}
        }
      ]
    },
    {
      "cell_type": "code",
      "source": [
        "# cdf ppf playground\n",
        "import numpy as np\n",
        "from scipy import stats\n",
        "\n",
        "def given_z(z, tail=1):\n",
        "  if tail == 1:\n",
        "    return np.round(stats.norm.cdf(z), 2)\n",
        "  elif tail == 2:\n",
        "    return np.round(stats.norm.cdf(z) - stats.norm.cdf(-z), 2)\n",
        "\n",
        "def given_perc(perc, tail=1):\n",
        "  if tail == 1:\n",
        "    return np.round(stats.norm.ppf(perc), 2)\n",
        "  elif tail == 2:\n",
        "    return np.round(stats.norm.ppf((1+perc)/2), 2)\n",
        "\n",
        "print(given_z(1.96, 2))\n",
        "print(given_perc(.95, 2))"
      ],
      "metadata": {
        "id": "Xbl5PY6KrDAq",
        "colab": {
          "base_uri": "https://localhost:8080/"
        },
        "outputId": "4218f1ef-eeab-49fe-df3f-df738e8374f6"
      },
      "id": "Xbl5PY6KrDAq",
      "execution_count": 2,
      "outputs": [
        {
          "output_type": "stream",
          "name": "stdout",
          "text": [
            "0.95\n",
            "1.96\n"
          ]
        }
      ]
    },
    {
      "cell_type": "markdown",
      "source": [
        "### Scaling and Outliers"
      ],
      "metadata": {
        "id": "xt90QbHlRza5"
      },
      "id": "xt90QbHlRza5"
    },
    {
      "cell_type": "code",
      "source": [
        "df['zipcode'] = df['zipcode'].astype('object')"
      ],
      "metadata": {
        "id": "q2XwHFcmA9z2"
      },
      "execution_count": null,
      "outputs": [],
      "id": "q2XwHFcmA9z2"
    },
    {
      "cell_type": "code",
      "source": [
        "df._get_numeric_data().idxmax(1)[0]"
      ],
      "metadata": {
        "colab": {
          "base_uri": "https://localhost:8080/",
          "height": 35
        },
        "id": "F7t76Iwm_8gn",
        "outputId": "8502207e-77cc-4e62-ff7b-3d6980c4f462"
      },
      "execution_count": null,
      "outputs": [
        {
          "output_type": "execute_result",
          "data": {
            "text/plain": [
              "'jupiter'"
            ],
            "application/vnd.google.colaboratory.intrinsic+json": {
              "type": "string"
            }
          },
          "metadata": {},
          "execution_count": 18
        }
      ],
      "id": "F7t76Iwm_8gn"
    },
    {
      "cell_type": "code",
      "source": [
        "from sklearn.preprocessing import StandardScaler\n",
        "\n",
        "feat = str(df._get_numeric_data().idxmax(1)[0])\n",
        "scaler = StandardScaler()\n",
        "df[feat] = scaler.fit_transform(df[[feat]].values)"
      ],
      "metadata": {
        "id": "3ek184KqBej3"
      },
      "execution_count": null,
      "outputs": [],
      "id": "3ek184KqBej3"
    },
    {
      "cell_type": "code",
      "source": [
        "from sklearn.preprocessing import MinMaxScaler\n",
        "\n",
        "feat = str(df._get_numeric_data().idxmax(1)[0])\n",
        "scaler = MinMaxScaler()\n",
        "df[feat] = scaler.fit_transform(df[[feat]].values)"
      ],
      "metadata": {
        "id": "DknoQZwFBhSH"
      },
      "execution_count": null,
      "outputs": [],
      "id": "DknoQZwFBhSH"
    },
    {
      "cell_type": "code",
      "source": [
        "for feat in df._get_numeric_data().columns[1:]:\n",
        "    q1 = df[feat].quantile(0.25)\n",
        "    q3 = df[feat].quantile(0.75)\n",
        "    iqr = q3 - q1\n",
        "    lower_fence = (q1 - 1.5 * iqr)\n",
        "    upper_fence = (q3 + 1.5 * iqr)\n",
        "    lower_count = df[feat][df[feat] < lower_fence].count()\n",
        "    upper_count = df[feat][df[feat] > upper_fence].count()\n",
        "    print(f'{feat} outliers = {lower_count + upper_count}: lower_fence: {lower_fence}, upper_fence: {upper_fence}, lower_count: {lower_count}, upper_count: {upper_count}')"
      ],
      "metadata": {
        "colab": {
          "base_uri": "https://localhost:8080/"
        },
        "id": "8vZN6NFVBuOd",
        "outputId": "ff096d33-f31a-4df4-bdd7-86b25456cdfd"
      },
      "execution_count": null,
      "outputs": [
        {
          "output_type": "stream",
          "name": "stdout",
          "text": [
            "jupiter outliers = 0: lower_fence: -3.4536007617583793, upper_fence: 3.4383050722449546, lower_count: 0, upper_count: 0\n",
            "collaboration outliers = 0: lower_fence: -3.9060691690182088, upper_fence: 3.9013212890569635, lower_count: 0, upper_count: 0\n",
            "earth outliers = 0: lower_fence: -3.9149999999999996, upper_fence: 3.9049999999999994, lower_count: 0, upper_count: 0\n",
            "emot_vol outliers = 22: lower_fence: -2.5698810142249924, upper_fence: 0.16718486541401778, lower_count: 22, upper_count: 0\n",
            "resourcefulness outliers = 7: lower_fence: -0.9804458644981733, upper_fence: 2.9633376061272756, lower_count: 0, upper_count: 7\n",
            "ingenuity outliers = 11: lower_fence: -1.244961786699443, upper_fence: 3.5307981404300315, lower_count: 0, upper_count: 11\n",
            "chron_dist outliers = 0: lower_fence: -3.8996051362443267, upper_fence: 3.897442869392634, lower_count: 0, upper_count: 0\n",
            "env_destr outliers = 10: lower_fence: -0.7571333396376203, upper_fence: 1.5966696334364001, lower_count: 5, upper_count: 5\n",
            "sex outliers = 0: lower_fence: -1.5, upper_fence: 2.5, lower_count: 0, upper_count: 0\n",
            "given_name outliers = 43: lower_fence: -0.008499999999999999, upper_fence: 0.019499999999999997, lower_count: 0, upper_count: 43\n",
            "surname outliers = 87: lower_fence: -0.005, upper_fence: 0.011, lower_count: 0, upper_count: 87\n",
            "date_of_birth outliers = 18: lower_fence: 0.001, upper_fence: 0.001, lower_count: 0, upper_count: 18\n",
            "state outliers = 0: lower_fence: 0.008999999999999996, upper_fence: 0.033, lower_count: 0, upper_count: 0\n",
            "class outliers = 0: lower_fence: -1.5, upper_fence: 2.5, lower_count: 0, upper_count: 0\n",
            "brain_wave_BETA outliers = 231: lower_fence: 0.0, upper_fence: 0.0, lower_count: 0, upper_count: 231\n",
            "brain_wave_DELTA outliers = 0: lower_fence: -1.5, upper_fence: 2.5, lower_count: 0, upper_count: 0\n",
            "brain_wave_THETA outliers = 239: lower_fence: 0.0, upper_fence: 0.0, lower_count: 0, upper_count: 239\n"
          ]
        }
      ],
      "id": "8vZN6NFVBuOd"
    },
    {
      "cell_type": "code",
      "source": [
        "print(df.shape)\n",
        "df.info()"
      ],
      "metadata": {
        "colab": {
          "base_uri": "https://localhost:8080/"
        },
        "id": "JJ2PoLMNHD6L",
        "outputId": "bf035d1d-46d9-4036-ed95-d53e63db28d6"
      },
      "execution_count": null,
      "outputs": [
        {
          "output_type": "stream",
          "name": "stdout",
          "text": [
            "(1000, 19)\n",
            "<class 'pandas.core.frame.DataFrame'>\n",
            "Index: 1000 entries, 0 to 1007\n",
            "Data columns (total 19 columns):\n",
            " #   Column            Non-Null Count  Dtype  \n",
            "---  ------            --------------  -----  \n",
            " 0   saturn            1000 non-null   float64\n",
            " 1   jupiter           1000 non-null   float64\n",
            " 2   collaboration     1000 non-null   float64\n",
            " 3   earth             1000 non-null   float64\n",
            " 4   emot_vol          1000 non-null   float64\n",
            " 5   resourcefulness   1000 non-null   float64\n",
            " 6   ingenuity         1000 non-null   float64\n",
            " 7   chron_dist        1000 non-null   float64\n",
            " 8   env_destr         1000 non-null   float64\n",
            " 9   sex               1000 non-null   float64\n",
            " 10  given_name        1000 non-null   float64\n",
            " 11  surname           1000 non-null   float64\n",
            " 12  zipcode           1000 non-null   object \n",
            " 13  date_of_birth     1000 non-null   float64\n",
            " 14  state             1000 non-null   float64\n",
            " 15  class             1000 non-null   int64  \n",
            " 16  brain_wave_BETA   1000 non-null   float64\n",
            " 17  brain_wave_DELTA  1000 non-null   float64\n",
            " 18  brain_wave_THETA  1000 non-null   float64\n",
            "dtypes: float64(17), int64(1), object(1)\n",
            "memory usage: 188.5+ KB\n"
          ]
        }
      ],
      "id": "JJ2PoLMNHD6L"
    },
    {
      "cell_type": "markdown",
      "source": [
        "### Modeling"
      ],
      "metadata": {
        "id": "KqKON0t_p1_3"
      },
      "id": "KqKON0t_p1_3"
    },
    {
      "cell_type": "code",
      "source": [
        "from sklearn.model_selection import train_test_split\n",
        "\n",
        "# X_train, X_test split\n",
        "X_train, X_test, y_train, y_test = train_test_split(df.drop('class', axis=1), df['class'], test_size=0.30)"
      ],
      "metadata": {
        "id": "TcOmnNeGM4Zs"
      },
      "execution_count": null,
      "outputs": [],
      "id": "TcOmnNeGM4Zs"
    },
    {
      "cell_type": "code",
      "source": [
        "# Create model\n",
        "from sklearn.linear_model import LogisticRegression\n",
        "\n",
        "model = LogisticRegression(solver='liblinear')\n",
        "model.fit(X_train,y_train)\n",
        "predictions = model.predict(X_test)"
      ],
      "metadata": {
        "id": "oJSMZfqUNFaK"
      },
      "execution_count": null,
      "outputs": [],
      "id": "oJSMZfqUNFaK"
    },
    {
      "cell_type": "code",
      "source": [
        "# confusion matrix\n",
        "from sklearn.metrics import roc_curve, roc_auc_score, confusion_matrix, classification_report\n",
        "\n",
        "print(confusion_matrix(y_test, predictions))\n",
        "print(classification_report(y_test, predictions, labels=[0, 1]))"
      ],
      "metadata": {
        "colab": {
          "base_uri": "https://localhost:8080/"
        },
        "id": "4QAmSXAFNhqs",
        "outputId": "71527172-35c1-46fc-8141-7afce995750e"
      },
      "execution_count": null,
      "outputs": [
        {
          "output_type": "stream",
          "name": "stdout",
          "text": [
            "[[131  11]\n",
            " [ 20 138]]\n",
            "              precision    recall  f1-score   support\n",
            "\n",
            "           0       0.87      0.92      0.89       142\n",
            "           1       0.93      0.87      0.90       158\n",
            "\n",
            "    accuracy                           0.90       300\n",
            "   macro avg       0.90      0.90      0.90       300\n",
            "weighted avg       0.90      0.90      0.90       300\n",
            "\n"
          ]
        }
      ],
      "id": "4QAmSXAFNhqs"
    },
    {
      "cell_type": "markdown",
      "source": [
        "### ROC AUC and Youden"
      ],
      "metadata": {
        "id": "QBZqyFYzWNoJ"
      },
      "id": "QBZqyFYzWNoJ"
    },
    {
      "cell_type": "code",
      "source": [
        "# plot ROC, and Youden's J\n",
        "import matplotlib.pyplot as plt\n",
        "from sklearn.metrics import roc_auc_score, roc_curve\n",
        "import math\n",
        "\n",
        "tn, fp, fn, tp = confusion_matrix(y_test, predictions).ravel()\n",
        "\n",
        "def calculateDistance(x1,y1,x2,y2):\n",
        "    dist = math.sqrt((x2 - x1)**2 + (y2 - y1)**2)\n",
        "    return dist\n",
        "\n",
        "optimum_fpr = fp/(tn+fp)\n",
        "optimum_tpr = tp/(fn+tp)\n",
        "\n",
        "logit_roc_auc = roc_auc_score(y_test, predictions)\n",
        "fpr, tpr, thresholds = roc_curve(y_test, model.predict_proba(X_test)[:,1])\n",
        "plt.plot(fpr, tpr, label=f'ROC / Area Under Curve = {logit_roc_auc:0.2f}')\n",
        "plt.plot([0, 1], [0, 1],'k--')\n",
        "plt.scatter(optimum_fpr, optimum_tpr, c='red')\n",
        "plt.plot([optimum_fpr, optimum_fpr], [optimum_tpr, optimum_fpr], 'r--', label='Youden\\'s J = %0.2f'\n",
        "         % calculateDistance(optimum_fpr, optimum_fpr, optimum_tpr, optimum_fpr))\n",
        "plt.title('Receiver Operating Characteristic')\n",
        "plt.xlabel('False Positive Rate')\n",
        "plt.ylabel('True Positive Rate')\n",
        "plt.legend(loc=\"lower right\")\n",
        "\n",
        "plt.tight_layout()"
      ],
      "metadata": {
        "colab": {
          "base_uri": "https://localhost:8080/",
          "height": 487
        },
        "id": "M3Tyl1KCToMz",
        "outputId": "3048e5b7-ea44-46b9-d80a-ea2817fc40bb"
      },
      "execution_count": null,
      "outputs": [
        {
          "output_type": "display_data",
          "data": {
            "text/plain": [
              "<Figure size 640x480 with 1 Axes>"
            ],
            "image/png": "[encoded data removed]"
          },
          "metadata": {}
        }
      ],
      "id": "M3Tyl1KCToMz"
    },
    {
      "cell_type": "markdown",
      "source": [
        "## Model Evaluation\n",
        "\n",
        "* https://www.linkedin.com/pulse/using-confusion-matrices-quantify-cost-being-wrong-bill-schmarzo/\n",
        "* https://towardsdatascience.com/demystifying-confusion-matrix-29f3037b0cfa\n",
        "* https://towardsdatascience.com/understanding-the-confusion-matrix-and-its-business-applications-c4e8aaf37f42"
      ],
      "metadata": {
        "id": "UND6mn6gYBw2"
      },
      "id": "UND6mn6gYBw2"
    },
    {
      "cell_type": "markdown",
      "id": "a337a642",
      "metadata": {
        "id": "a337a642"
      },
      "source": [
        "### The Confusion Matrix\n",
        "\n",
        "Suppose we have some tabular data and each observation is labeled either a 0 or 1. Our goal is to create a model and predict whether new data will be labelled a 0 or a 1.\n",
        "\n",
        "**True Positive (TP)**: An outcome that is labeled 1 and in reality is a 1\n",
        "\n",
        "**False Positive (FP)**: An outcome that labeled 1 and in reality is a 0\n",
        "\n",
        "**True Negative (TN)**: An outcome that is labeled 0 and in reality is a 0\n",
        "\n",
        "**False Negative (FN)**: An outcome that is labeled 0 and in reality is a 1\n",
        "\n",
        "**Accuracy**: (TP + TN) / (TP + FP + TN + FN)\n",
        "\n",
        "**Precision**: TP / (TP + FP), a measure of quality\n",
        "\n",
        "**Recall**: TP / (TP + FN), a measure of quantity\n",
        "\n"
      ]
    },
    {
      "cell_type": "code",
      "source": [
        "# calculate accuracy, precision, recall\n"
      ],
      "metadata": {
        "id": "YLZjcmomd6kV"
      },
      "id": "YLZjcmomd6kV",
      "execution_count": null,
      "outputs": []
    },
    {
      "cell_type": "markdown",
      "source": [
        "### Type I and Type II Errors\n",
        "\n",
        "https://towardsdatascience.com/statistics-for-data-scientists-f2456d26c5a5\n",
        "\n",
        "Type I Error means rejecting the True null hypothesis and accepting the alternate hypothesis. It is a false positive. A smoke detector detecting smoke when there is no smoke.\n",
        "Type II Error means accepting the null hypothesis when an alternate hypothesis is true. It is a false negative. When fire alarm fails to detect fire.\n",
        "\n",
        "### Alpha and Beta Level\n",
        "\n",
        "Alpha level is also known as the significance level, α. It is the probability of making the wrong decision,i.e., rejecting the null hypothesis when it is true. Low alpha levels mean that we need strong evidence to be able to reject the null hypothesis. This means that alpha level of 1% requires more statistical evidence than 5%.\n",
        "\n",
        "Why is 0.05 (5%) used as significance level so commonly?\n",
        "\n",
        "The smaller the alpha level, the little is the chance to reject True Null hypothesis. And, also the smaller is the chance to reject the False null hypothesis, because of the tiny area. The more you try to avoid Type I Error, the more you are likely to make a Type II Error.\n",
        "\n",
        "A confidence level is 1 - α, which means accepting the null hypothesis when it is True.\n",
        "Beta level means the probability of making a Type II Error, i.e., rejecting the Alternate hypothesis when it is True.\n",
        "\n",
        "### Confustion Matrix\n",
        "\n",
        "In the field of machine learning and specifically the problem of statistical classification, a confusion matrix, also known as an error matrix, is a specific table layout that allows visualization of the performance of an algorithm, typically a supervised learning one (in unsupervised learning it is usually called a matching matrix)... It is a special kind of contingency table, with two dimensions (\"actual\" and \"predicted\"), and identical sets of \"classes\" in both dimensions (each combination of dimension and class is a variable in the contingency table). They provide our True Negatives, False Positives, False Negatives, and True Positives, from which we derive Accuracy, Precision, and Recall.\n",
        "\n",
        "https://en.wikipedia.org/wiki/Confusion_matrix\n",
        "\n",
        "**Note**: Because of the of the output sklearn provides, we will structure our table different from what Wikipedia says.\n",
        "\n",
        "Confused? Please be aware of the distinction. In this course we will be using the sklearn matrix. There is a way to change the rows and columns to match Wikipedia's matrix by adding labels: confusion_matrix(y_test, predictions, labels=\\[1, 0\\])."
      ],
      "metadata": {
        "id": "ti19ssbydipj"
      },
      "id": "ti19ssbydipj"
    },
    {
      "cell_type": "code",
      "execution_count": null,
      "id": "e88e170c",
      "metadata": {
        "id": "e88e170c",
        "outputId": "fdbef523-0cb8-473a-a90e-5a6489d7f033",
        "colab": {
          "base_uri": "https://localhost:8080/",
          "height": 206
        }
      },
      "outputs": [
        {
          "output_type": "execute_result",
          "data": {
            "text/plain": [
              "   Feature_1  Feature_2  Target\n",
              "0  -1.355723   0.932216       0\n",
              "1  -1.448966   0.628289       0\n",
              "2  -0.259349  -0.792658       0\n",
              "3   0.815272  -0.205096       1\n",
              "4   1.430197   1.342170       1"
            ],
            "text/html": [
              "\n",
              "  <div id=\"df-a6a40181-7336-4927-a9ff-b89b07d343e8\" class=\"colab-df-container\">\n",
              "    <div>\n",
              "<style scoped>\n",
              "    .dataframe tbody tr th:only-of-type {\n",
              "        vertical-align: middle;\n",
              "    }\n",
              "\n",
              "    .dataframe tbody tr th {\n",
              "        vertical-align: top;\n",
              "    }\n",
              "\n",
              "    .dataframe thead th {\n",
              "        text-align: right;\n",
              "    }\n",
              "</style>\n",
              "<table border=\"1\" class=\"dataframe\">\n",
              "  <thead>\n",
              "    <tr style=\"text-align: right;\">\n",
              "      <th></th>\n",
              "      <th>Feature_1</th>\n",
              "      <th>Feature_2</th>\n",
              "      <th>Target</th>\n",
              "    </tr>\n",
              "  </thead>\n",
              "  <tbody>\n",
              "    <tr>\n",
              "      <th>0</th>\n",
              "      <td>-1.355723</td>\n",
              "      <td>0.932216</td>\n",
              "      <td>0</td>\n",
              "    </tr>\n",
              "    <tr>\n",
              "      <th>1</th>\n",
              "      <td>-1.448966</td>\n",
              "      <td>0.628289</td>\n",
              "      <td>0</td>\n",
              "    </tr>\n",
              "    <tr>\n",
              "      <th>2</th>\n",
              "      <td>-0.259349</td>\n",
              "      <td>-0.792658</td>\n",
              "      <td>0</td>\n",
              "    </tr>\n",
              "    <tr>\n",
              "      <th>3</th>\n",
              "      <td>0.815272</td>\n",
              "      <td>-0.205096</td>\n",
              "      <td>1</td>\n",
              "    </tr>\n",
              "    <tr>\n",
              "      <th>4</th>\n",
              "      <td>1.430197</td>\n",
              "      <td>1.342170</td>\n",
              "      <td>1</td>\n",
              "    </tr>\n",
              "  </tbody>\n",
              "</table>\n",
              "</div>\n",
              "    <div class=\"colab-df-buttons\">\n",
              "\n",
              "  <div class=\"colab-df-container\">\n",
              "    <button class=\"colab-df-convert\" onclick=\"convertToInteractive('df-a6a40181-7336-4927-a9ff-b89b07d343e8')\"\n",
              "            title=\"Convert this dataframe to an interactive table.\"\n",
              "            style=\"display:none;\">\n",
              "\n",
              "  <svg xmlns=\"http://www.w3.org/2000/svg\" height=\"24px\" viewBox=\"0 -960 960 960\">\n",
              "    <path d=\"M120-120v-720h720v720H120Zm60-500h600v-160H180v160Zm220 220h160v-160H400v160Zm0 220h160v-160H400v160ZM180-400h160v-160H180v160Zm440 0h160v-160H620v160ZM180-180h160v-160H180v160Zm440 0h160v-160H620v160Z\"/>\n",
              "  </svg>\n",
              "    </button>\n",
              "\n",
              "  <style>\n",
              "    .colab-df-container {\n",
              "      display:flex;\n",
              "      gap: 12px;\n",
              "    }\n",
              "\n",
              "    .colab-df-convert {\n",
              "      background-color: #E8F0FE;\n",
              "      border: none;\n",
              "      border-radius: 50%;\n",
              "      cursor: pointer;\n",
              "      display: none;\n",
              "      fill: #1967D2;\n",
              "      height: 32px;\n",
              "      padding: 0 0 0 0;\n",
              "      width: 32px;\n",
              "    }\n",
              "\n",
              "    .colab-df-convert:hover {\n",
              "      background-color: #E2EBFA;\n",
              "      box-shadow: 0px 1px 2px rgba(60, 64, 67, 0.3), 0px 1px 3px 1px rgba(60, 64, 67, 0.15);\n",
              "      fill: #174EA6;\n",
              "    }\n",
              "\n",
              "    .colab-df-buttons div {\n",
              "      margin-bottom: 4px;\n",
              "    }\n",
              "\n",
              "    [theme=dark] .colab-df-convert {\n",
              "      background-color: #3B4455;\n",
              "      fill: #D2E3FC;\n",
              "    }\n",
              "\n",
              "    [theme=dark] .colab-df-convert:hover {\n",
              "      background-color: #434B5C;\n",
              "      box-shadow: 0px 1px 3px 1px rgba(0, 0, 0, 0.15);\n",
              "      filter: drop-shadow(0px 1px 2px rgba(0, 0, 0, 0.3));\n",
              "      fill: #FFFFFF;\n",
              "    }\n",
              "  </style>\n",
              "\n",
              "    <script>\n",
              "      const buttonEl =\n",
              "        document.querySelector('#df-a6a40181-7336-4927-a9ff-b89b07d343e8 button.colab-df-convert');\n",
              "      buttonEl.style.display =\n",
              "        google.colab.kernel.accessAllowed ? 'block' : 'none';\n",
              "\n",
              "      async function convertToInteractive(key) {\n",
              "        const element = document.querySelector('#df-a6a40181-7336-4927-a9ff-b89b07d343e8');\n",
              "        const dataTable =\n",
              "          await google.colab.kernel.invokeFunction('convertToInteractive',\n",
              "                                                    [key], {});\n",
              "        if (!dataTable) return;\n",
              "\n",
              "        const docLinkHtml = 'Like what you see? Visit the ' +\n",
              "          '<a target=\"_blank\" href=https://colab.research.google.com/notebooks/data_table.ipynb>data table notebook</a>'\n",
              "          + ' to learn more about interactive tables.';\n",
              "        element.innerHTML = '';\n",
              "        dataTable['output_type'] = 'display_data';\n",
              "        await google.colab.output.renderOutput(dataTable, element);\n",
              "        const docLink = document.createElement('div');\n",
              "        docLink.innerHTML = docLinkHtml;\n",
              "        element.appendChild(docLink);\n",
              "      }\n",
              "    </script>\n",
              "  </div>\n",
              "\n",
              "\n",
              "<div id=\"df-020d95f3-fd36-4b6f-b0b3-b3c327577ad1\">\n",
              "  <button class=\"colab-df-quickchart\" onclick=\"quickchart('df-020d95f3-fd36-4b6f-b0b3-b3c327577ad1')\"\n",
              "            title=\"Suggest charts\"\n",
              "            style=\"display:none;\">\n",
              "\n",
              "<svg xmlns=\"http://www.w3.org/2000/svg\" height=\"24px\"viewBox=\"0 0 24 24\"\n",
              "     width=\"24px\">\n",
              "    <g>\n",
              "        <path d=\"M19 3H5c-1.1 0-2 .9-2 2v14c0 1.1.9 2 2 2h14c1.1 0 2-.9 2-2V5c0-1.1-.9-2-2-2zM9 17H7v-7h2v7zm4 0h-2V7h2v10zm4 0h-2v-4h2v4z\"/>\n",
              "    </g>\n",
              "</svg>\n",
              "  </button>\n",
              "\n",
              "<style>\n",
              "  .colab-df-quickchart {\n",
              "      --bg-color: #E8F0FE;\n",
              "      --fill-color: #1967D2;\n",
              "      --hover-bg-color: #E2EBFA;\n",
              "      --hover-fill-color: #174EA6;\n",
              "      --disabled-fill-color: #AAA;\n",
              "      --disabled-bg-color: #DDD;\n",
              "  }\n",
              "\n",
              "  [theme=dark] .colab-df-quickchart {\n",
              "      --bg-color: #3B4455;\n",
              "      --fill-color: #D2E3FC;\n",
              "      --hover-bg-color: #434B5C;\n",
              "      --hover-fill-color: #FFFFFF;\n",
              "      --disabled-bg-color: #3B4455;\n",
              "      --disabled-fill-color: #666;\n",
              "  }\n",
              "\n",
              "  .colab-df-quickchart {\n",
              "    background-color: var(--bg-color);\n",
              "    border: none;\n",
              "    border-radius: 50%;\n",
              "    cursor: pointer;\n",
              "    display: none;\n",
              "    fill: var(--fill-color);\n",
              "    height: 32px;\n",
              "    padding: 0;\n",
              "    width: 32px;\n",
              "  }\n",
              "\n",
              "  .colab-df-quickchart:hover {\n",
              "    background-color: var(--hover-bg-color);\n",
              "    box-shadow: 0 1px 2px rgba(60, 64, 67, 0.3), 0 1px 3px 1px rgba(60, 64, 67, 0.15);\n",
              "    fill: var(--button-hover-fill-color);\n",
              "  }\n",
              "\n",
              "  .colab-df-quickchart-complete:disabled,\n",
              "  .colab-df-quickchart-complete:disabled:hover {\n",
              "    background-color: var(--disabled-bg-color);\n",
              "    fill: var(--disabled-fill-color);\n",
              "    box-shadow: none;\n",
              "  }\n",
              "\n",
              "  .colab-df-spinner {\n",
              "    border: 2px solid var(--fill-color);\n",
              "    border-color: transparent;\n",
              "    border-bottom-color: var(--fill-color);\n",
              "    animation:\n",
              "      spin 1s steps(1) infinite;\n",
              "  }\n",
              "\n",
              "  @keyframes spin {\n",
              "    0% {\n",
              "      border-color: transparent;\n",
              "      border-bottom-color: var(--fill-color);\n",
              "      border-left-color: var(--fill-color);\n",
              "    }\n",
              "    20% {\n",
              "      border-color: transparent;\n",
              "      border-left-color: var(--fill-color);\n",
              "      border-top-color: var(--fill-color);\n",
              "    }\n",
              "    30% {\n",
              "      border-color: transparent;\n",
              "      border-left-color: var(--fill-color);\n",
              "      border-top-color: var(--fill-color);\n",
              "      border-right-color: var(--fill-color);\n",
              "    }\n",
              "    40% {\n",
              "      border-color: transparent;\n",
              "      border-right-color: var(--fill-color);\n",
              "      border-top-color: var(--fill-color);\n",
              "    }\n",
              "    60% {\n",
              "      border-color: transparent;\n",
              "      border-right-color: var(--fill-color);\n",
              "    }\n",
              "    80% {\n",
              "      border-color: transparent;\n",
              "      border-right-color: var(--fill-color);\n",
              "      border-bottom-color: var(--fill-color);\n",
              "    }\n",
              "    90% {\n",
              "      border-color: transparent;\n",
              "      border-bottom-color: var(--fill-color);\n",
              "    }\n",
              "  }\n",
              "</style>\n",
              "\n",
              "  <script>\n",
              "    async function quickchart(key) {\n",
              "      const quickchartButtonEl =\n",
              "        document.querySelector('#' + key + ' button');\n",
              "      quickchartButtonEl.disabled = true;  // To prevent multiple clicks.\n",
              "      quickchartButtonEl.classList.add('colab-df-spinner');\n",
              "      try {\n",
              "        const charts = await google.colab.kernel.invokeFunction(\n",
              "            'suggestCharts', [key], {});\n",
              "      } catch (error) {\n",
              "        console.error('Error during call to suggestCharts:', error);\n",
              "      }\n",
              "      quickchartButtonEl.classList.remove('colab-df-spinner');\n",
              "      quickchartButtonEl.classList.add('colab-df-quickchart-complete');\n",
              "    }\n",
              "    (() => {\n",
              "      let quickchartButtonEl =\n",
              "        document.querySelector('#df-020d95f3-fd36-4b6f-b0b3-b3c327577ad1 button');\n",
              "      quickchartButtonEl.style.display =\n",
              "        google.colab.kernel.accessAllowed ? 'block' : 'none';\n",
              "    })();\n",
              "  </script>\n",
              "</div>\n",
              "\n",
              "    </div>\n",
              "  </div>\n"
            ],
            "application/vnd.google.colaboratory.intrinsic+json": {
              "type": "dataframe",
              "variable_name": "df",
              "summary": "{\n  \"name\": \"df\",\n  \"rows\": 1000,\n  \"fields\": [\n    {\n      \"column\": \"Feature_1\",\n      \"properties\": {\n        \"dtype\": \"number\",\n        \"std\": 1.4046250431162741,\n        \"min\": -4.2942513217687175,\n        \"max\": 3.121590939320713,\n        \"num_unique_values\": 1000,\n        \"samples\": [\n          1.2134743307881093,\n          1.4457053601756988,\n          -2.768989442665923\n        ],\n        \"semantic_type\": \"\",\n        \"description\": \"\"\n      }\n    },\n    {\n      \"column\": \"Feature_2\",\n      \"properties\": {\n        \"dtype\": \"number\",\n        \"std\": 1.0366145843927108,\n        \"min\": -2.259024508484018,\n        \"max\": 4.295845438104047,\n        \"num_unique_values\": 1000,\n        \"samples\": [\n          0.3258809595165969,\n          1.8082290550746918,\n          1.4634665518739447\n        ],\n        \"semantic_type\": \"\",\n        \"description\": \"\"\n      }\n    },\n    {\n      \"column\": \"Target\",\n      \"properties\": {\n        \"dtype\": \"number\",\n        \"std\": 0,\n        \"min\": 0,\n        \"max\": 1,\n        \"num_unique_values\": 2,\n        \"samples\": [\n          1,\n          0\n        ],\n        \"semantic_type\": \"\",\n        \"description\": \"\"\n      }\n    }\n  ]\n}"
            }
          },
          "metadata": {},
          "execution_count": 43
        }
      ],
      "source": [
        "import numpy as np\n",
        "import pandas as pd\n",
        "from sklearn.datasets import make_classification\n",
        "import matplotlib.pyplot as plt\n",
        "\n",
        "# Create dataset\n",
        "n = 1000 # number of observations\n",
        "f = 2 # number of features\n",
        "inform = 2 # number of meaningful features\n",
        "features, binary_class = make_classification(n_samples=n, n_features=f,\n",
        "                                             n_informative=inform, n_redundant=0,\n",
        "                                             n_clusters_per_class=1, random_state=13)\n",
        "\n",
        "# Create a dataframe of the features and add the binary class (label, output)\n",
        "df = pd.DataFrame(features)\n",
        "df.columns = ['Feature_1', 'Feature_2']\n",
        "df['Target'] = binary_class\n",
        "df.head()"
      ]
    },
    {
      "cell_type": "code",
      "execution_count": null,
      "id": "6a61283f",
      "metadata": {
        "id": "6a61283f"
      },
      "outputs": [],
      "source": [
        "from sklearn.model_selection import train_test_split\n",
        "\n",
        "# X_train, X_test split\n",
        "X_train, X_test, y_train, y_test = train_test_split(df.drop('Target', axis=1), df['Target'], test_size=0.20)\n",
        "\n",
        "from sklearn.preprocessing import StandardScaler\n",
        "sc = StandardScaler()\n",
        "X_train = sc.fit_transform(X_train)\n",
        "X_test = sc.transform(X_test)"
      ]
    },
    {
      "cell_type": "code",
      "execution_count": null,
      "id": "66005c9b",
      "metadata": {
        "id": "66005c9b"
      },
      "outputs": [],
      "source": [
        "# Create model\n",
        "from sklearn.linear_model import LogisticRegression\n",
        "\n",
        "model = LogisticRegression(solver='liblinear')\n",
        "model.fit(X_train,y_train)\n",
        "predictions = model.predict(X_test)"
      ]
    },
    {
      "cell_type": "markdown",
      "id": "66b7e244",
      "metadata": {
        "id": "66b7e244"
      },
      "source": [
        "**The Solver (liblinear)**: Solvers are used to minimize the loss function which in turn provides our best coefficients. Please see the documentation to learn about the five different solvers.\n",
        "\n",
        "https://scikit-learn.org/stable/modules/generated/sklearn.linear_model.LogisticRegression.html\n"
      ]
    },
    {
      "cell_type": "code",
      "execution_count": null,
      "id": "0d6c34b5",
      "metadata": {
        "id": "0d6c34b5",
        "outputId": "61316cd7-b05e-43d3-eca9-162a69ba1ef5",
        "colab": {
          "base_uri": "https://localhost:8080/"
        }
      },
      "outputs": [
        {
          "output_type": "stream",
          "name": "stdout",
          "text": [
            "Confusion Matrix\n",
            "[[82 16]\n",
            " [19 83]]\n",
            "\n",
            "Here is what the numbers represent from the sklLearn output\n",
            "\n",
            "                 predicted\n",
            "                   |  0  |  1\n",
            "           --------------------\n",
            "           class 0 | TN  |  FP\n",
            "  actual   --------------------\n",
            "           class 1 | FN  |  TP\n",
            "\n",
            "\n",
            "Here is what the numbers represent from the Wikipedia article\n",
            "\n",
            "                 actual\n",
            "                   |  1  |  0\n",
            "           --------------------\n",
            "           class 1 | TP  |  FP\n",
            "predicted  --------------------\n",
            "           class 0 | FN  |  TN\n",
            "\n"
          ]
        }
      ],
      "source": [
        "# View confusion matrix\n",
        "from sklearn.metrics import roc_curve, roc_auc_score, confusion_matrix, classification_report\n",
        "\n",
        "tn, fp, fn, tp = confusion_matrix(y_test, predictions).ravel()\n",
        "print('Confusion Matrix')\n",
        "print(confusion_matrix(y_test, predictions))\n",
        "print()\n",
        "print('Here is what the numbers represent from the sklLearn output')\n",
        "print('''\n",
        "                 predicted\n",
        "                   |  0  |  1\n",
        "           --------------------\n",
        "           class 0 | TN  |  FP\n",
        "  actual   --------------------\n",
        "           class 1 | FN  |  TP\n",
        "''')\n",
        "print()\n",
        "print('Here is what the numbers represent from the Wikipedia article')\n",
        "print('''\n",
        "                 actual\n",
        "                   |  1  |  0\n",
        "           --------------------\n",
        "           class 1 | TP  |  FP\n",
        "predicted  --------------------\n",
        "           class 0 | FN  |  TN\n",
        "''')"
      ]
    },
    {
      "cell_type": "code",
      "execution_count": null,
      "id": "f7f60915",
      "metadata": {
        "id": "f7f60915",
        "outputId": "678f5444-1e79-4e9d-de42-d7cd4f38782d",
        "colab": {
          "base_uri": "https://localhost:8080/",
          "height": 174
        }
      },
      "outputs": [
        {
          "output_type": "execute_result",
          "data": {
            "text/plain": [
              "Predicted    0   1  All\n",
              "Actual                 \n",
              "0           82  16   98\n",
              "1           19  83  102\n",
              "All        101  99  200"
            ],
            "text/html": [
              "\n",
              "  <div id=\"df-99f479e8-2ef2-4e27-b5e5-3ebebddb3ebd\" class=\"colab-df-container\">\n",
              "    <div>\n",
              "<style scoped>\n",
              "    .dataframe tbody tr th:only-of-type {\n",
              "        vertical-align: middle;\n",
              "    }\n",
              "\n",
              "    .dataframe tbody tr th {\n",
              "        vertical-align: top;\n",
              "    }\n",
              "\n",
              "    .dataframe thead th {\n",
              "        text-align: right;\n",
              "    }\n",
              "</style>\n",
              "<table border=\"1\" class=\"dataframe\">\n",
              "  <thead>\n",
              "    <tr style=\"text-align: right;\">\n",
              "      <th>Predicted</th>\n",
              "      <th>0</th>\n",
              "      <th>1</th>\n",
              "      <th>All</th>\n",
              "    </tr>\n",
              "    <tr>\n",
              "      <th>Actual</th>\n",
              "      <th></th>\n",
              "      <th></th>\n",
              "      <th></th>\n",
              "    </tr>\n",
              "  </thead>\n",
              "  <tbody>\n",
              "    <tr>\n",
              "      <th>0</th>\n",
              "      <td>82</td>\n",
              "      <td>16</td>\n",
              "      <td>98</td>\n",
              "    </tr>\n",
              "    <tr>\n",
              "      <th>1</th>\n",
              "      <td>19</td>\n",
              "      <td>83</td>\n",
              "      <td>102</td>\n",
              "    </tr>\n",
              "    <tr>\n",
              "      <th>All</th>\n",
              "      <td>101</td>\n",
              "      <td>99</td>\n",
              "      <td>200</td>\n",
              "    </tr>\n",
              "  </tbody>\n",
              "</table>\n",
              "</div>\n",
              "    <div class=\"colab-df-buttons\">\n",
              "\n",
              "  <div class=\"colab-df-container\">\n",
              "    <button class=\"colab-df-convert\" onclick=\"convertToInteractive('df-99f479e8-2ef2-4e27-b5e5-3ebebddb3ebd')\"\n",
              "            title=\"Convert this dataframe to an interactive table.\"\n",
              "            style=\"display:none;\">\n",
              "\n",
              "  <svg xmlns=\"http://www.w3.org/2000/svg\" height=\"24px\" viewBox=\"0 -960 960 960\">\n",
              "    <path d=\"M120-120v-720h720v720H120Zm60-500h600v-160H180v160Zm220 220h160v-160H400v160Zm0 220h160v-160H400v160ZM180-400h160v-160H180v160Zm440 0h160v-160H620v160ZM180-180h160v-160H180v160Zm440 0h160v-160H620v160Z\"/>\n",
              "  </svg>\n",
              "    </button>\n",
              "\n",
              "  <style>\n",
              "    .colab-df-container {\n",
              "      display:flex;\n",
              "      gap: 12px;\n",
              "    }\n",
              "\n",
              "    .colab-df-convert {\n",
              "      background-color: #E8F0FE;\n",
              "      border: none;\n",
              "      border-radius: 50%;\n",
              "      cursor: pointer;\n",
              "      display: none;\n",
              "      fill: #1967D2;\n",
              "      height: 32px;\n",
              "      padding: 0 0 0 0;\n",
              "      width: 32px;\n",
              "    }\n",
              "\n",
              "    .colab-df-convert:hover {\n",
              "      background-color: #E2EBFA;\n",
              "      box-shadow: 0px 1px 2px rgba(60, 64, 67, 0.3), 0px 1px 3px 1px rgba(60, 64, 67, 0.15);\n",
              "      fill: #174EA6;\n",
              "    }\n",
              "\n",
              "    .colab-df-buttons div {\n",
              "      margin-bottom: 4px;\n",
              "    }\n",
              "\n",
              "    [theme=dark] .colab-df-convert {\n",
              "      background-color: #3B4455;\n",
              "      fill: #D2E3FC;\n",
              "    }\n",
              "\n",
              "    [theme=dark] .colab-df-convert:hover {\n",
              "      background-color: #434B5C;\n",
              "      box-shadow: 0px 1px 3px 1px rgba(0, 0, 0, 0.15);\n",
              "      filter: drop-shadow(0px 1px 2px rgba(0, 0, 0, 0.3));\n",
              "      fill: #FFFFFF;\n",
              "    }\n",
              "  </style>\n",
              "\n",
              "    <script>\n",
              "      const buttonEl =\n",
              "        document.querySelector('#df-99f479e8-2ef2-4e27-b5e5-3ebebddb3ebd button.colab-df-convert');\n",
              "      buttonEl.style.display =\n",
              "        google.colab.kernel.accessAllowed ? 'block' : 'none';\n",
              "\n",
              "      async function convertToInteractive(key) {\n",
              "        const element = document.querySelector('#df-99f479e8-2ef2-4e27-b5e5-3ebebddb3ebd');\n",
              "        const dataTable =\n",
              "          await google.colab.kernel.invokeFunction('convertToInteractive',\n",
              "                                                    [key], {});\n",
              "        if (!dataTable) return;\n",
              "\n",
              "        const docLinkHtml = 'Like what you see? Visit the ' +\n",
              "          '<a target=\"_blank\" href=https://colab.research.google.com/notebooks/data_table.ipynb>data table notebook</a>'\n",
              "          + ' to learn more about interactive tables.';\n",
              "        element.innerHTML = '';\n",
              "        dataTable['output_type'] = 'display_data';\n",
              "        await google.colab.output.renderOutput(dataTable, element);\n",
              "        const docLink = document.createElement('div');\n",
              "        docLink.innerHTML = docLinkHtml;\n",
              "        element.appendChild(docLink);\n",
              "      }\n",
              "    </script>\n",
              "  </div>\n",
              "\n",
              "\n",
              "<div id=\"df-290ec7ff-ffa0-4a30-a806-bae03de0f07a\">\n",
              "  <button class=\"colab-df-quickchart\" onclick=\"quickchart('df-290ec7ff-ffa0-4a30-a806-bae03de0f07a')\"\n",
              "            title=\"Suggest charts\"\n",
              "            style=\"display:none;\">\n",
              "\n",
              "<svg xmlns=\"http://www.w3.org/2000/svg\" height=\"24px\"viewBox=\"0 0 24 24\"\n",
              "     width=\"24px\">\n",
              "    <g>\n",
              "        <path d=\"M19 3H5c-1.1 0-2 .9-2 2v14c0 1.1.9 2 2 2h14c1.1 0 2-.9 2-2V5c0-1.1-.9-2-2-2zM9 17H7v-7h2v7zm4 0h-2V7h2v10zm4 0h-2v-4h2v4z\"/>\n",
              "    </g>\n",
              "</svg>\n",
              "  </button>\n",
              "\n",
              "<style>\n",
              "  .colab-df-quickchart {\n",
              "      --bg-color: #E8F0FE;\n",
              "      --fill-color: #1967D2;\n",
              "      --hover-bg-color: #E2EBFA;\n",
              "      --hover-fill-color: #174EA6;\n",
              "      --disabled-fill-color: #AAA;\n",
              "      --disabled-bg-color: #DDD;\n",
              "  }\n",
              "\n",
              "  [theme=dark] .colab-df-quickchart {\n",
              "      --bg-color: #3B4455;\n",
              "      --fill-color: #D2E3FC;\n",
              "      --hover-bg-color: #434B5C;\n",
              "      --hover-fill-color: #FFFFFF;\n",
              "      --disabled-bg-color: #3B4455;\n",
              "      --disabled-fill-color: #666;\n",
              "  }\n",
              "\n",
              "  .colab-df-quickchart {\n",
              "    background-color: var(--bg-color);\n",
              "    border: none;\n",
              "    border-radius: 50%;\n",
              "    cursor: pointer;\n",
              "    display: none;\n",
              "    fill: var(--fill-color);\n",
              "    height: 32px;\n",
              "    padding: 0;\n",
              "    width: 32px;\n",
              "  }\n",
              "\n",
              "  .colab-df-quickchart:hover {\n",
              "    background-color: var(--hover-bg-color);\n",
              "    box-shadow: 0 1px 2px rgba(60, 64, 67, 0.3), 0 1px 3px 1px rgba(60, 64, 67, 0.15);\n",
              "    fill: var(--button-hover-fill-color);\n",
              "  }\n",
              "\n",
              "  .colab-df-quickchart-complete:disabled,\n",
              "  .colab-df-quickchart-complete:disabled:hover {\n",
              "    background-color: var(--disabled-bg-color);\n",
              "    fill: var(--disabled-fill-color);\n",
              "    box-shadow: none;\n",
              "  }\n",
              "\n",
              "  .colab-df-spinner {\n",
              "    border: 2px solid var(--fill-color);\n",
              "    border-color: transparent;\n",
              "    border-bottom-color: var(--fill-color);\n",
              "    animation:\n",
              "      spin 1s steps(1) infinite;\n",
              "  }\n",
              "\n",
              "  @keyframes spin {\n",
              "    0% {\n",
              "      border-color: transparent;\n",
              "      border-bottom-color: var(--fill-color);\n",
              "      border-left-color: var(--fill-color);\n",
              "    }\n",
              "    20% {\n",
              "      border-color: transparent;\n",
              "      border-left-color: var(--fill-color);\n",
              "      border-top-color: var(--fill-color);\n",
              "    }\n",
              "    30% {\n",
              "      border-color: transparent;\n",
              "      border-left-color: var(--fill-color);\n",
              "      border-top-color: var(--fill-color);\n",
              "      border-right-color: var(--fill-color);\n",
              "    }\n",
              "    40% {\n",
              "      border-color: transparent;\n",
              "      border-right-color: var(--fill-color);\n",
              "      border-top-color: var(--fill-color);\n",
              "    }\n",
              "    60% {\n",
              "      border-color: transparent;\n",
              "      border-right-color: var(--fill-color);\n",
              "    }\n",
              "    80% {\n",
              "      border-color: transparent;\n",
              "      border-right-color: var(--fill-color);\n",
              "      border-bottom-color: var(--fill-color);\n",
              "    }\n",
              "    90% {\n",
              "      border-color: transparent;\n",
              "      border-bottom-color: var(--fill-color);\n",
              "    }\n",
              "  }\n",
              "</style>\n",
              "\n",
              "  <script>\n",
              "    async function quickchart(key) {\n",
              "      const quickchartButtonEl =\n",
              "        document.querySelector('#' + key + ' button');\n",
              "      quickchartButtonEl.disabled = true;  // To prevent multiple clicks.\n",
              "      quickchartButtonEl.classList.add('colab-df-spinner');\n",
              "      try {\n",
              "        const charts = await google.colab.kernel.invokeFunction(\n",
              "            'suggestCharts', [key], {});\n",
              "      } catch (error) {\n",
              "        console.error('Error during call to suggestCharts:', error);\n",
              "      }\n",
              "      quickchartButtonEl.classList.remove('colab-df-spinner');\n",
              "      quickchartButtonEl.classList.add('colab-df-quickchart-complete');\n",
              "    }\n",
              "    (() => {\n",
              "      let quickchartButtonEl =\n",
              "        document.querySelector('#df-290ec7ff-ffa0-4a30-a806-bae03de0f07a button');\n",
              "      quickchartButtonEl.style.display =\n",
              "        google.colab.kernel.accessAllowed ? 'block' : 'none';\n",
              "    })();\n",
              "  </script>\n",
              "</div>\n",
              "\n",
              "    </div>\n",
              "  </div>\n"
            ],
            "application/vnd.google.colaboratory.intrinsic+json": {
              "type": "dataframe",
              "summary": "{\n  \"name\": \"pd\",\n  \"rows\": 3,\n  \"fields\": [\n    {\n      \"column\": \"Actual\",\n      \"properties\": {\n        \"dtype\": \"string\",\n        \"num_unique_values\": 3,\n        \"samples\": [\n          0,\n          1,\n          \"All\"\n        ],\n        \"semantic_type\": \"\",\n        \"description\": \"\"\n      }\n    },\n    {\n      \"column\": 0,\n      \"properties\": {\n        \"dtype\": \"number\",\n        \"std\": 42,\n        \"min\": 19,\n        \"max\": 101,\n        \"num_unique_values\": 3,\n        \"samples\": [\n          82,\n          19,\n          101\n        ],\n        \"semantic_type\": \"\",\n        \"description\": \"\"\n      }\n    },\n    {\n      \"column\": 1,\n      \"properties\": {\n        \"dtype\": \"number\",\n        \"std\": 44,\n        \"min\": 16,\n        \"max\": 99,\n        \"num_unique_values\": 3,\n        \"samples\": [\n          16,\n          83,\n          99\n        ],\n        \"semantic_type\": \"\",\n        \"description\": \"\"\n      }\n    },\n    {\n      \"column\": \"All\",\n      \"properties\": {\n        \"dtype\": \"number\",\n        \"std\": 57,\n        \"min\": 98,\n        \"max\": 200,\n        \"num_unique_values\": 3,\n        \"samples\": [\n          98,\n          102,\n          200\n        ],\n        \"semantic_type\": \"\",\n        \"description\": \"\"\n      }\n    }\n  ]\n}"
            }
          },
          "metadata": {},
          "execution_count": 47
        }
      ],
      "source": [
        "# Compare with crosstab\n",
        "pd.crosstab(y_test, predictions, rownames=['Actual'], colnames=['Predicted'],margins=True)"
      ]
    },
    {
      "cell_type": "code",
      "execution_count": null,
      "id": "54508921",
      "metadata": {
        "id": "54508921",
        "outputId": "379c6f64-1875-4f69-9646-929567870bb0",
        "colab": {
          "base_uri": "https://localhost:8080/",
          "height": 472
        }
      },
      "outputs": [
        {
          "output_type": "display_data",
          "data": {
            "text/plain": [
              "<Figure size 640x480 with 1 Axes>"
            ],
            "image/png": "[encoded data removed]"
          },
          "metadata": {}
        }
      ],
      "source": [
        "# review our plot\n",
        "from matplotlib.colors import ListedColormap\n",
        "\n",
        "X_set, y_set = X_test, y_test\n",
        "X1, X2 = np.meshgrid(np.arange(start = X_set[:, 0].min() - 1, stop = X_set[:, 0].max() + 1, step = 0.01),\n",
        "                     np.arange(start = X_set[:, 1].min() - 1, stop = X_set[:, 1].max() + 1, step = 0.01))\n",
        "\n",
        "plt.contourf(X1, X2, model.predict(np.array([X1.ravel(), X2.ravel()]).T).reshape(X1.shape),\n",
        "             alpha = 0.75, cmap = ListedColormap(('green', 'yellow')))\n",
        "\n",
        "plt.xlim(X1.min(), X1.max())\n",
        "plt.ylim(X2.min(), X2.max())\n",
        "\n",
        "for i, j in enumerate(np.unique(y_set)):\n",
        "    plt.scatter(X_set[y_set == j, 0], X_set[y_set == j, 1],\n",
        "                color = ListedColormap(('blue', 'red'))(i), label = j)\n",
        "\n",
        "plt.title('Logistic Regression (Test Set)')\n",
        "plt.xlabel('Domain')\n",
        "plt.ylabel('Range')\n",
        "plt.legend()\n",
        "plt.show()"
      ]
    },
    {
      "cell_type": "code",
      "execution_count": null,
      "id": "85920841",
      "metadata": {
        "id": "85920841",
        "outputId": "3ab355a1-4e00-410c-d81c-599b4d6bdb88",
        "colab": {
          "base_uri": "https://localhost:8080/",
          "height": 416
        }
      },
      "outputs": [
        {
          "output_type": "display_data",
          "data": {
            "text/plain": [
              "<Figure size 1000x500 with 2 Axes>"
            ],
            "image/png": "[encoded data removed]"
          },
          "metadata": {}
        }
      ],
      "source": [
        "# Compare KDE plots for probabilities and normed probabilities\n",
        "import seaborn as sns\n",
        "import scipy\n",
        "\n",
        "import warnings\n",
        "warnings.filterwarnings('ignore')\n",
        "\n",
        "fig, (ax1, ax2) = plt.subplots(1,2, figsize=(10,5))\n",
        "\n",
        "probs=model.predict_proba(X_test)[:,1]\n",
        "sns.kdeplot(probs[y_test==0], shade=False, color='blue', label='Class 0', ax=ax1);\n",
        "sns.kdeplot(probs[y_test==1], shade=False, color='red', label='Class 1', ax=ax1);\n",
        "ax1.axvline(x=.5, color='black')\n",
        "ax1.set_title('Probabilities')\n",
        "ax1.set(xlabel='Probabilities', ylabel='Probability Density')\n",
        "\n",
        "mean = probs[y_test==0].mean()\n",
        "std = probs[y_test==0].std()\n",
        "x = np.linspace(probs[y_test==0].min(), probs[y_test==0].max(), 100)\n",
        "y = scipy.stats.norm.pdf(x,mean,std)\n",
        "ax2.plot(x, y, color='blue', label='Class 0')\n",
        "\n",
        "mean = probs[y_test==1].mean()\n",
        "std = probs[y_test==1].std()\n",
        "x = np.linspace(probs[y_test==1].min(), probs[y_test==1].max(), 100)\n",
        "y = scipy.stats.norm.pdf(x,mean,std)\n",
        "ax2.plot(x, y, color='red', label='Class 1')\n",
        "\n",
        "x_threshold = 0.5\n",
        "ax2.axvline(x=x_threshold,color='black')\n",
        "\n",
        "ax2.set_title('Probabilities (Normalized)')\n",
        "ax2.set(xlabel='Probabilities', ylabel='Probability Density')\n",
        "\n",
        "ax1.legend(loc='upper center')\n",
        "ax2.legend(loc='upper center')\n",
        "plt.tight_layout()\n",
        "plt.show()"
      ]
    },
    {
      "cell_type": "code",
      "execution_count": null,
      "id": "55fa2341",
      "metadata": {
        "id": "55fa2341",
        "outputId": "5a9c23b0-2954-444a-dcb8-a9c2feff9a2f",
        "colab": {
          "base_uri": "https://localhost:8080/",
          "height": 487
        }
      },
      "outputs": [
        {
          "output_type": "display_data",
          "data": {
            "text/plain": [
              "<Figure size 640x480 with 1 Axes>"
            ],
            "image/png": "[encoded data removed]"
          },
          "metadata": {}
        }
      ],
      "source": [
        "# visualize TN, FN, FP, TP\n",
        "import math\n",
        "import matplotlib.patches as mpatches\n",
        "\n",
        "x_threshold = 0.5\n",
        "tn, fp, fn, tp = confusion_matrix(y_test,predictions).ravel()\n",
        "\n",
        "mean_0 = probs[y_test==0].mean()\n",
        "std_0 = probs[y_test==0].std()\n",
        "x_0 = np.linspace(probs[y_test==0].min(), probs[y_test==0].max(), 100)\n",
        "y_0 = scipy.stats.norm.pdf(x_0,mean_0,std_0)\n",
        "\n",
        "mean_1 = probs[y_test==1].mean()\n",
        "std_1 = probs[y_test==1].std()\n",
        "x_1 = np.linspace(probs[y_test==1].min(), probs[y_test==1].max(), 100)\n",
        "y_1 = scipy.stats.norm.pdf(x_1,mean_1,std_1)\n",
        "\n",
        "plt.plot(x_0, y_0, color='black')\n",
        "plt.fill_between(x_0, y_0, color='blue', alpha=1)\n",
        "\n",
        "plt.plot(x,y, color='black')\n",
        "plt.fill_between(x_1, y_1, color='red', alpha=1)\n",
        "\n",
        "ptx_0 = np.linspace(x_threshold, probs[y_test==0].max(), 100)\n",
        "pty_0 = scipy.stats.norm.pdf(ptx_0,mean_0,std_0)\n",
        "plt.fill_between(ptx_0, pty_0, color='yellow', alpha=1)\n",
        "\n",
        "ptx_1 = np.linspace(probs[y_test==1].min(), x_threshold, 100)\n",
        "pty_1 = scipy.stats.norm.pdf(ptx_1,mean_1,std_1)\n",
        "plt.fill_between(ptx_1, pty_1, color='green', alpha=1)\n",
        "\n",
        "tn_patch = mpatches.Patch(color='blue', label='True Negatives (TN): ' + str(tn))\n",
        "fp_patch = mpatches.Patch(color='yellow', label='False Positives (FP): ' + str(fp))\n",
        "fn_patch = mpatches.Patch(color='green', label='False Negatives (FN): ' + str(fn))\n",
        "tp_patch = mpatches.Patch(color='red', label='True Positives (TP): ' + str(tp))\n",
        "plt.legend(handles=[tn_patch,fp_patch,fn_patch,tp_patch], loc=2)\n",
        "\n",
        "plt.title('Probability Distributions with Threshold',fontsize=10)\n",
        "plt.axvline(x=x_threshold,color='black')\n",
        "plt.xlabel('Value')\n",
        "plt.ylabel('Density')\n",
        "\n",
        "plt.tight_layout()"
      ]
    },
    {
      "cell_type": "markdown",
      "id": "a6a4f31b",
      "metadata": {
        "id": "a6a4f31b"
      },
      "source": [
        "### The Classification Report\n",
        "\n",
        "Consider a fraudualent credit card dataset where there may be a 1 (for fraudulent activity) per 1000 0s of normal activity. We wouldn't need to build a predictive model to make correct predictions 99% of the time. The data itself lets us do that. We need metrics that tell us that the model we build is learning about the relevant data and that it predicts what it is suppose to predict. This gets back to our Precision Recall Tradeoff.\n",
        "\n",
        "**Precision**: The sum of observations correctly classified as positive out of the total observations classified as positive. From the formula, tp / (tp + fp), we can see we want to mimimize fp (false positives), or type I errors, which is sounding an alarm when there is no fire.\n",
        "\n",
        "**Recall**: The sum of observations correctly classified as positive out of the total actual positives. From the forumula, tp / (tp + fn), we can see we want to minimize fn (false negatives), or type II errors, which is not sounding an alarm when there is a fire."
      ]
    },
    {
      "cell_type": "code",
      "execution_count": null,
      "id": "e3691916",
      "metadata": {
        "id": "e3691916",
        "outputId": "418ee9eb-3a0e-427d-def2-90aa479e14b1",
        "colab": {
          "base_uri": "https://localhost:8080/"
        }
      },
      "outputs": [
        {
          "output_type": "stream",
          "name": "stdout",
          "text": [
            "[[82 16]\n",
            " [19 83]]\n",
            "              precision    recall  f1-score   support\n",
            "\n",
            "           0       0.81      0.84      0.82        98\n",
            "           1       0.84      0.81      0.83       102\n",
            "\n",
            "    accuracy                           0.82       200\n",
            "   macro avg       0.83      0.83      0.82       200\n",
            "weighted avg       0.83      0.82      0.83       200\n",
            "\n"
          ]
        }
      ],
      "source": [
        "from sklearn.metrics import classification_report, confusion_matrix\n",
        "\n",
        "print(confusion_matrix(y_test, predictions))\n",
        "print(classification_report(y_test, predictions, labels=[0, 1]))"
      ]
    },
    {
      "cell_type": "markdown",
      "id": "240381d0",
      "metadata": {
        "id": "240381d0"
      },
      "source": [
        "We know about accuracy, precision, and recall and we've talked about f1-score as being the harmonic mean of precision and recall (f1 score = 2 * (precision * recall) / (precision + recall)).\n",
        "\n",
        "* support: the number of observations labeled 0 or 1 (remember the pie chart we made of the target?)\n",
        "* macro avg: the average between the two classes (e.g. (prec 0 + prec 1) / 2\n",
        "* weighted avg: the average between the two classes taking into account the number of their observations (e.g. ((prec0 * score0) + (prec 1 * score1)) / total)\n",
        "\n",
        "A classification report provides a little more information by providing metrics for each class. For example, for class 0, our recall is higher than our precision, which tells us that there are fewer false negatives than false positives in class 0."
      ]
    },
    {
      "cell_type": "markdown",
      "id": "de7fb3b2",
      "metadata": {
        "id": "de7fb3b2"
      },
      "source": [
        "### Underfitting and Overfitting\n",
        "\n",
        "In statistics, overfitting is \"the production of an analysis that corresponds too closely or exactly to a particular set of data, and may therefore fail to fit additional data or predict future observations reliably\". An overfitted model is a statistical model that contains more parameters than can be justified by the data.\n",
        "\n",
        "<img src='https://docs.aws.amazon.com/images/machine-learning/latest/dg/images/mlconcepts_image5.png' alt='underfitting overfitting' />\n",
        "\n",
        "https://docs.aws.amazon.com/machine-learning/latest/dg/model-fit-underfitting-vs-overfitting.html\n",
        "\n",
        "If you're overfitting, or you are getting great training scores and poor  test scores, you might be overfitting so try removing the lesser performing features. The model is just memorizing the training data.\n",
        "\n",
        "Underfitting occurs when a statistical model cannot adequately capture the underlying structure of the data. An under-fitted model is a model where some parameters or terms that would appear in a correctly specified model are missing.[2] Under-fitting would occur, for example, when fitting a linear model to non-linear data. Such a model will tend to have poor predictive performance.\n",
        "\n",
        "If you're underfitting, or you are getting poor training scores and test scores, you might be underfitting so try adding more data or more features.\n",
        "\n",
        "https://en.wikipedia.org/wiki/Overfitting"
      ]
    },
    {
      "cell_type": "markdown",
      "id": "958ec329",
      "metadata": {
        "id": "958ec329"
      },
      "source": [
        "### Bias Variance Tradeoff\n",
        "\n",
        "In statistics and machine learning, the bias–variance tradeoff is the property of a model that the variance of the parameter estimates across samples can be reduced by increasing the bias in the estimated parameters. The bias–variance dilemma or bias–variance problem is the conflict in trying to simultaneously minimize these two sources of error that prevent supervised learning algorithms from generalizing beyond their training set.\n",
        "\n",
        "https://en.wikipedia.org/wiki/Bias%E2%80%93variance_tradeoff\n",
        "\n",
        "Please become familiar with this image:\n",
        "\n",
        "<img src='https://www.kdnuggets.com/wp-content/uploads/bias-and-variance.jpg' alt='bias variance tradeoff' />\n",
        "\n",
        "Please read the article responsible for the image:\n",
        "\n",
        "https://www.kdnuggets.com/2016/08/bias-variance-tradeoff-overview.html\n",
        "\n",
        "#### A Formula\n",
        "\n",
        "$E[(\\hat{y} - y)^2] = E[(\\hat{y} - E[\\hat{y})^2] + (E[\\hat{y}] - y)^2$\n",
        "<br />MSE = Variance + Bias^2\n",
        "* where y = given y, (ground truth)\n",
        "* $\\hat{y}$ = prediction\n",
        "* $E[\\hat{y}]$ = expected value or average of predictions\n",
        "* error = $\\frac{fp + fn}{total}$\n",
        "* Bias = error in training\n",
        "* Variance = range of predictions, how much an estimate of the target function will change if different data was is\n",
        "\n",
        "<table width='50%' style='margin-right: 100%'>\n",
        "    <tr>\n",
        "        <td>Training Error</td>\n",
        "        <td>1%</td>\n",
        "        <td>15%</td>\n",
        "        <td>16%</td>\n",
        "        <td>1%</td>\n",
        "    </tr>\n",
        "    <tr>\n",
        "        <td>Testing Error</td>\n",
        "        <td>15%</td>\n",
        "        <td>16%</td>\n",
        "        <td>33%</td>\n",
        "        <td>1%</td>\n",
        "    </tr>\n",
        "    <tr>\n",
        "        <td></td>\n",
        "        <td>lo bias</td>\n",
        "        <td>hi bias</td>\n",
        "        <td>hi bias</td>\n",
        "        <td>lo bias</td>\n",
        "    </tr>\n",
        "    <tr>\n",
        "        <td></td>\n",
        "        <td>hi var</td>\n",
        "        <td>lo var</td>\n",
        "        <td>hi var</td>\n",
        "        <td>lo var</td>\n",
        "    </tr>\n",
        "</table>\n",
        "\n",
        "https://www.mastersindatascience.org/learning/difference-between-bias-and-variance/"
      ]
    },
    {
      "cell_type": "markdown",
      "id": "8b04dcf2",
      "metadata": {
        "id": "8b04dcf2"
      },
      "source": [
        "### Precision Recall Tradeoff\n",
        "\n",
        "In pattern recognition, information retrieval and classification (machine learning), precision (also called positive predictive value) is the fraction of relevant instances among the retrieved instances, while recall (also known as sensitivity) is the fraction of relevant instances that were retrieved. Both precision and recall are therefore based on relevance... Accuracy can be a misleading metric for imbalanced data sets. Consider a sample with 95 negative and 5 positive values. Classifying all values as negative in this case gives 0.95 accuracy score.\n",
        "\n",
        "https://en.wikipedia.org/wiki/Precision_and_recall\n",
        "\n",
        "In cases of imbalanced data, precision, recall, and f1 score become useful metrics. Precision tells us the proportion of data that was predicted was actually predicted correctly. Recall, also known as the True Positive Rate, is the probability that an actual positive will be predicted to be positive.\n",
        "\n",
        "Precision (also called positive predictive value) is the fraction of relevant instances among the retrieved instances, while recall (also known as sensitivity) is the fraction of relevant instances that were retrieved. Both precision and recall are therefore based on relevance.\n",
        "\n",
        "https://en.wikipedia.org/wiki/Precision_and_recall\n",
        "\n",
        "<img src='https://miro.medium.com/v2/resize:fit:640/format:webp/1*GM10sFuFBAbhwBt2scuP1g.png' alt='precision recall tradeoff' />\n",
        "\n",
        "https://datascience-george.medium.com/the-precision-recall-trade-off-aa295faba140\n",
        "\n",
        "The following is a visualization of our true negatives, false positives, false negatives, and true positives from the data set generated with make_classification."
      ]
    },
    {
      "cell_type": "code",
      "execution_count": null,
      "id": "bd34a890",
      "metadata": {
        "scrolled": true,
        "id": "bd34a890",
        "outputId": "80300513-f216-4ea9-942b-6fa2f714d1fe",
        "colab": {
          "base_uri": "https://localhost:8080/"
        }
      },
      "outputs": [
        {
          "output_type": "stream",
          "name": "stdout",
          "text": [
            "Confusion Matrix\n",
            "\n",
            "\n",
            "           survived predicted\n",
            "                   |  0   |  1\n",
            "           -----------------------  -----------------------------------------\n",
            "           no      | 90  |  10     fpr (type I error)  | tnr\n",
            "  actual   -----------------------  -----------------------------------------\n",
            "           yes     | 9   |  91     tpr (recall)        | fnr (type II error)\n",
            "\n",
            "                    for   | precision\n",
            "           ----------------------------\n",
            "                    npv   | fdr\n",
            "\n",
            "\n"
          ]
        }
      ],
      "source": [
        "tn, fp, fn, tp = confusion_matrix(y_test, predictions).ravel()\n",
        "print('Confusion Matrix')\n",
        "print()\n",
        "print(f'''\n",
        "           survived predicted\n",
        "                   |  0   |  1\n",
        "           -----------------------  -----------------------------------------\n",
        "           no      | {tn}  |  {fp}     fpr (type I error)  | tnr\n",
        "  actual   -----------------------  -----------------------------------------\n",
        "           yes     | {fn}   |  {tp}     tpr (recall)        | fnr (type II error)\n",
        "\n",
        "                    for   | precision\n",
        "           ----------------------------\n",
        "                    npv   | fdr\n",
        "\n",
        "''')"
      ]
    },
    {
      "cell_type": "markdown",
      "id": "11e9c355",
      "metadata": {
        "id": "11e9c355"
      },
      "source": [
        "### Metrics\n",
        "\n",
        "* tn = pred 0 actual 0\n",
        "* fp = pred 1 actual 0\n",
        "* fn = pred 0 actual 1\n",
        "* tp = pred 1 actual 1\n",
        "* acc(uracy) = $\\frac{tn + tp}{total}$\n",
        "* error = $\\frac{fp + fn}{total}$\n",
        "* prev(alence) = $\\frac{fn + tp}{total}$\n",
        "* queue = $\\frac{fp + tp}{total}$\n",
        "* tpr = $\\frac{tp}{tp + fn}$\n",
        "    * true positive rate\n",
        "    * recall\n",
        "    * sensitivity\n",
        "    * prob of detection\n",
        "    * 1 - fnr\n",
        "* fnr = $\\frac{fn}{tp + fn}$\n",
        "    * false negative rate\n",
        "    * type II error\n",
        "    * 1 - tpr\n",
        "* tnr = $\\frac{tn}{tn + fp}$\n",
        "    * true negative rate\n",
        "    * specificity\n",
        "    * 1 - fpr\n",
        "* fpr = $\\frac{fp}{tn + fp}$\n",
        "    * false positive rate\n",
        "    * type I error\n",
        "    * fall out\n",
        "    * prob of false claim\n",
        "    * 1 - tnr\n",
        "* ppv = $\\frac{tp}{tp + fp}$\n",
        "    * positive predicted value\n",
        "    * precision\n",
        "    * 1 - fdr\n",
        "* fdr = $\\frac{fp}{tp + fp}$\n",
        "    * false discovery rate\n",
        "    * 1 - ppv\n",
        "* npv = $\\frac{tn}{tn + fn}$\n",
        "    * negative predicted value\n",
        "    * 1 - for\n",
        "* for = $\\frac{fn}{tn + fn}$\n",
        "    * false omission rate\n",
        "    * 1 - npv\n",
        "* liklihood ratio+ (lr+) = $\\frac{tpr}{fpr}$\n",
        "    * roc\n",
        "* liklihood ratio- (lr-) = $\\frac{fnr}{tnr}$\n",
        "* diagnostic odds ratio = $\\frac{lr+}{lr-}$\n",
        "* f1 score = 2 * $\\frac{precision-recall}{precision+recall}$\n",
        "* Youden's J = sensitivity + specificity - 1 = tpr - fpr\n",
        "* Matthew's Correlation Coefficient = $\\frac{(tp*tn)-(fp*tp)}{\\sqrt{(tp+fp)(tp+fn)(tn+fp)(tn+fn)}}$\n",
        "  "
      ]
    },
    {
      "cell_type": "markdown",
      "id": "ff6c95dc",
      "metadata": {
        "id": "ff6c95dc"
      },
      "source": [
        "## Model Comparisons"
      ]
    },
    {
      "cell_type": "code",
      "execution_count": null,
      "id": "5d590f9d",
      "metadata": {
        "id": "5d590f9d",
        "outputId": "c82f1859-e904-4f9c-c31d-72946f7a95c6",
        "colab": {
          "base_uri": "https://localhost:8080/"
        }
      },
      "outputs": [
        {
          "output_type": "stream",
          "name": "stdout",
          "text": [
            "(400, 5)\n",
            "    User ID  Gender   Age  EstimatedSalary  Purchased\n",
            "0  15624510    Male  19.0          19000.0          0\n",
            "1  15810944    Male  35.0          20000.0          0\n",
            "2  15668575  Female  26.0          43000.0          0\n",
            "3  15603246  Female  27.0          57000.0          0\n",
            "4  15804002    Male  19.0          76000.0          0\n",
            "<class 'pandas.core.frame.DataFrame'>\n",
            "RangeIndex: 400 entries, 0 to 399\n",
            "Data columns (total 5 columns):\n",
            " #   Column           Non-Null Count  Dtype  \n",
            "---  ------           --------------  -----  \n",
            " 0   User ID          400 non-null    int64  \n",
            " 1   Gender           400 non-null    object \n",
            " 2   Age              400 non-null    float64\n",
            " 3   EstimatedSalary  400 non-null    float64\n",
            " 4   Purchased        400 non-null    int64  \n",
            "dtypes: float64(2), int64(2), object(1)\n",
            "memory usage: 15.8+ KB\n",
            "None\n"
          ]
        }
      ],
      "source": [
        "# get data\n",
        "import numpy as np\n",
        "import pandas as pd\n",
        "import matplotlib.pyplot as plt\n",
        "\n",
        "comparisons = pd.read_csv('https://raw.githubusercontent.com/sudarshan-koirala/K-Nearest-Neighbors-Social-Network-Ads/master/Social_Network_Ads.csv')\n",
        "print(comparisons.shape)\n",
        "print(comparisons.head())\n",
        "print(comparisons.info())"
      ]
    },
    {
      "cell_type": "code",
      "execution_count": null,
      "id": "d89773a1",
      "metadata": {
        "id": "d89773a1"
      },
      "outputs": [],
      "source": [
        "# get X and y and train test split\n",
        "from sklearn.model_selection import train_test_split\n",
        "\n",
        "X_train, X_test, y_train, y_test = train_test_split(comparisons.drop(['User ID', 'Gender', 'Purchased'], axis=1),\n",
        "                                                    comparisons.Purchased,\n",
        "                                                    test_size=0.2, random_state=42)"
      ]
    },
    {
      "cell_type": "code",
      "execution_count": null,
      "id": "f36d229f",
      "metadata": {
        "id": "f36d229f"
      },
      "outputs": [],
      "source": [
        "# scale data\n",
        "from sklearn.preprocessing import StandardScaler\n",
        "\n",
        "sc = StandardScaler()\n",
        "X_train = sc.fit_transform(X_train.values)\n",
        "X_test = sc.transform(X_test.values)"
      ]
    },
    {
      "cell_type": "markdown",
      "id": "57789339",
      "metadata": {
        "id": "57789339"
      },
      "source": [
        "### Logistic Regression"
      ]
    },
    {
      "cell_type": "code",
      "execution_count": null,
      "id": "faf5afde",
      "metadata": {
        "id": "faf5afde",
        "outputId": "b88dc5de-baf9-4231-a8d7-32cbc1d5243d",
        "colab": {
          "base_uri": "https://localhost:8080/",
          "height": 524
        }
      },
      "outputs": [
        {
          "output_type": "stream",
          "name": "stdout",
          "text": [
            "[[50  2]\n",
            " [ 9 19]]\n",
            "0.8625\n"
          ]
        },
        {
          "output_type": "display_data",
          "data": {
            "text/plain": [
              "<Figure size 640x480 with 1 Axes>"
            ],
            "image/png": "[encoded data removed]"
          },
          "metadata": {}
        }
      ],
      "source": [
        "# model, predict, evaluate, and plot\n",
        "from matplotlib.colors import ListedColormap\n",
        "from sklearn.linear_model import LogisticRegression\n",
        "from sklearn.metrics import confusion_matrix, accuracy_score\n",
        "\n",
        "model = LogisticRegression(random_state=42)\n",
        "model.fit(X_train, y_train)\n",
        "predictions = model.predict(X_test)\n",
        "\n",
        "print(confusion_matrix(y_test, predictions))\n",
        "print(accuracy_score(y_test, predictions))\n",
        "\n",
        "X_set, y_set = sc.inverse_transform(X_test), y_test\n",
        "X1, X2 = np.meshgrid(np.arange(start = X_set[:, 0].min() - 10, stop = X_set[:, 0].max() + 10, step = 0.25),\n",
        "                     np.arange(start = X_set[:, 1].min() - 1000, stop = X_set[:, 1].max() + 1000, step = 0.25))\n",
        "\n",
        "plt.contourf(X1, X2, model.predict(sc.transform(np.array([X1.ravel(), X2.ravel()]).T)).reshape(X1.shape),\n",
        "             alpha = 0.75, cmap = ListedColormap(('lightsalmon', 'lightblue')))\n",
        "\n",
        "plt.xlim(X1.min(), X1.max())\n",
        "plt.ylim(X2.min(), X2.max())\n",
        "\n",
        "for i, j in enumerate(np.unique(y_set)):\n",
        "    plt.scatter(X_set[y_set == j, 0], X_set[y_set == j, 1], color = ListedColormap(('red', 'blue'))(i), label = j)\n",
        "\n",
        "plt.title('Logistic Regression (Test set)')\n",
        "plt.xlabel('Age')\n",
        "plt.ylabel('Estimated Salary')\n",
        "plt.legend()\n",
        "plt.show()"
      ]
    },
    {
      "cell_type": "markdown",
      "id": "8e75f1e1",
      "metadata": {
        "id": "8e75f1e1"
      },
      "source": [
        "### Multinomial Logistic Regression\n",
        "\n",
        "* Multinomial Logistic Regression Notebook"
      ]
    },
    {
      "cell_type": "markdown",
      "id": "2c7d153d",
      "metadata": {
        "id": "2c7d153d"
      },
      "source": [
        "### K Nearest Neighbor\n",
        "\n",
        "* https://en.wikipedia.org/wiki/K-nearest_neighbors_algorithm#/media/File:KnnClassification.svg\n",
        "* Choose the number of K neighbors\n",
        "* Within the perimeter, count the number of each class\n",
        "* New data point is assigned the class with the highest count"
      ]
    },
    {
      "cell_type": "code",
      "execution_count": null,
      "id": "afc58cda",
      "metadata": {
        "id": "afc58cda",
        "outputId": "4196d894-b970-4d23-dca3-fc32db1b01f5",
        "colab": {
          "base_uri": "https://localhost:8080/"
        }
      },
      "outputs": [
        {
          "output_type": "stream",
          "name": "stdout",
          "text": [
            "[[48  4]\n",
            " [ 3 25]]\n",
            "0.9125\n"
          ]
        }
      ],
      "source": [
        "from sklearn.neighbors import KNeighborsClassifier\n",
        "\n",
        "model = KNeighborsClassifier(n_neighbors=5, metric='minkowski', p=2)\n",
        "model.fit(X_train, y_train)\n",
        "predictions = model.predict(X_test)\n",
        "\n",
        "print(confusion_matrix(y_test, predictions))\n",
        "print(accuracy_score(y_test, predictions))"
      ]
    },
    {
      "cell_type": "markdown",
      "id": "2d105266",
      "metadata": {
        "id": "2d105266"
      },
      "source": [
        "### Support Vector Classifier\n",
        "\n",
        "* https://en.wikipedia.org/wiki/Support-vector_machine#/media/File:SVM_margin.png\n",
        "* Linearly separable\n",
        "* Identify the hyperplane (similar to line of best fit used in regression)\n",
        "* Find the support vectors\n",
        "* Maximize the margin\n",
        "* Identify negative and positive hyperplanes\n",
        "* Compares apples that look like oranges and vice versa that reside near the margin (support vectors)\n",
        "* Support Vectors Notebook\n"
      ]
    },
    {
      "cell_type": "code",
      "execution_count": null,
      "id": "7424c6df",
      "metadata": {
        "id": "7424c6df",
        "outputId": "a3d80c27-3cd3-4961-9665-1316bb11c00a",
        "colab": {
          "base_uri": "https://localhost:8080/"
        }
      },
      "outputs": [
        {
          "output_type": "stream",
          "name": "stdout",
          "text": [
            "[[50  2]\n",
            " [ 9 19]]\n",
            "0.8625\n"
          ]
        }
      ],
      "source": [
        "from sklearn.svm import SVC\n",
        "\n",
        "model = SVC(kernel='linear', random_state=42)\n",
        "model.fit(X_train, y_train)\n",
        "predictions = model.predict(X_test)\n",
        "\n",
        "print(confusion_matrix(y_test, predictions))\n",
        "print(accuracy_score(y_test, predictions))"
      ]
    },
    {
      "cell_type": "markdown",
      "id": "61052698",
      "metadata": {
        "id": "61052698"
      },
      "source": [
        "### SVC with Kernel\n"
      ]
    },
    {
      "cell_type": "code",
      "execution_count": null,
      "id": "9cdfe9a8",
      "metadata": {
        "id": "9cdfe9a8",
        "outputId": "eee7e4df-ae99-4119-a42b-5f918cf0518b",
        "colab": {
          "base_uri": "https://localhost:8080/"
        }
      },
      "outputs": [
        {
          "output_type": "stream",
          "name": "stdout",
          "text": [
            "[[47  5]\n",
            " [ 1 27]]\n",
            "0.925\n"
          ]
        }
      ],
      "source": [
        "from sklearn.svm import SVC\n",
        "\n",
        "model = SVC(kernel='rbf', random_state=42)\n",
        "model.fit(X_train, y_train)\n",
        "predictions = model.predict(X_test)\n",
        "\n",
        "print(confusion_matrix(y_test, predictions))\n",
        "print(accuracy_score(y_test, predictions))"
      ]
    },
    {
      "cell_type": "markdown",
      "id": "e925c73c",
      "metadata": {
        "id": "e925c73c"
      },
      "source": [
        "### Naive Bayes\n",
        "\n",
        "* Naive Bayes Notebook\n"
      ]
    },
    {
      "cell_type": "code",
      "execution_count": null,
      "id": "48bdb78a",
      "metadata": {
        "id": "48bdb78a",
        "outputId": "9ae9f2fc-e1a6-4e14-fb52-d6e739f270ef",
        "colab": {
          "base_uri": "https://localhost:8080/"
        }
      },
      "outputs": [
        {
          "output_type": "stream",
          "name": "stdout",
          "text": [
            "[[50  2]\n",
            " [ 3 25]]\n",
            "0.9375\n"
          ]
        }
      ],
      "source": [
        "from sklearn.naive_bayes import GaussianNB\n",
        "\n",
        "model = GaussianNB()\n",
        "model.fit(X_train, y_train)\n",
        "predictions = model.predict(X_test)\n",
        "\n",
        "print(confusion_matrix(y_test, predictions))\n",
        "print(accuracy_score(y_test, predictions))"
      ]
    },
    {
      "cell_type": "markdown",
      "id": "ce8506c3",
      "metadata": {
        "id": "ce8506c3"
      },
      "source": [
        "### Decision Tree Classifier\n",
        "\n",
        "* https://www.kdnuggets.com/2020/01/decision-tree-algorithm-explained.html\n",
        "\n",
        "#### Terms\n",
        "\n",
        "* Root node\n",
        "* Splitting\n",
        "* Decision node\n",
        "* Leaf / terminal node\n",
        "* Pruning\n",
        "* Branch\n",
        "* Parent and child nodes\n",
        "\n",
        "#### Attribute Selection Measures\n",
        "\n",
        "* Gini index\n",
        "* Entropy\n",
        "* Information gain\n",
        "* Gain ratio\n",
        "* Reduction in variance\n",
        "* Chi-square\n",
        "\n",
        "More next week"
      ]
    },
    {
      "cell_type": "code",
      "execution_count": null,
      "id": "ac08c44d",
      "metadata": {
        "id": "ac08c44d",
        "outputId": "70098c64-fd12-49c6-fe1f-a893f9f9ea9c",
        "colab": {
          "base_uri": "https://localhost:8080/"
        }
      },
      "outputs": [
        {
          "output_type": "stream",
          "name": "stdout",
          "text": [
            "[[46  6]\n",
            " [ 7 21]]\n",
            "0.8375\n"
          ]
        }
      ],
      "source": [
        "from sklearn.tree import DecisionTreeClassifier\n",
        "\n",
        "model = DecisionTreeClassifier(criterion='entropy', random_state=42)\n",
        "model.fit(X_train, y_train)\n",
        "predictions = model.predict(X_test)\n",
        "\n",
        "print(confusion_matrix(y_test, predictions))\n",
        "print(accuracy_score(y_test, predictions))"
      ]
    },
    {
      "cell_type": "markdown",
      "id": "2d5a0ad6",
      "metadata": {
        "id": "2d5a0ad6"
      },
      "source": [
        "### Random Forest Classifier\n",
        "\n",
        "* Random sample of X_train when building trees\n",
        "* Random subsets of features\n",
        "* Bagging\n",
        "\n",
        "More next week"
      ]
    },
    {
      "cell_type": "code",
      "execution_count": null,
      "id": "7d31e9bc",
      "metadata": {
        "id": "7d31e9bc",
        "outputId": "df25d25c-402a-4a2d-d1e3-e9d34964b512",
        "colab": {
          "base_uri": "https://localhost:8080/"
        }
      },
      "outputs": [
        {
          "output_type": "stream",
          "name": "stdout",
          "text": [
            "[[47  5]\n",
            " [ 6 22]]\n",
            "0.8625\n"
          ]
        }
      ],
      "source": [
        "from sklearn.ensemble import RandomForestClassifier\n",
        "\n",
        "model = RandomForestClassifier(n_estimators=10, criterion='entropy', random_state=42)\n",
        "model.fit(X_train, y_train)\n",
        "predictions = model.predict(X_test)\n",
        "\n",
        "print(confusion_matrix(y_test, predictions))\n",
        "print(accuracy_score(y_test, predictions))"
      ]
    }
  ],
  "metadata": {
    "kernelspec": {
      "display_name": "Python 3 (ipykernel)",
      "language": "python",
      "name": "python3"
    },
    "language_info": {
      "codemirror_mode": {
        "name": "ipython",
        "version": 3
      },
      "file_extension": ".py",
      "mimetype": "text/x-python",
      "name": "python",
      "nbconvert_exporter": "python",
      "pygments_lexer": "ipython3",
      "version": "3.9.7"
    },
    "colab": {
      "provenance": [],
      "toc_visible": true,
      "include_colab_link": true
    }
  },
  "nbformat": 4,
  "nbformat_minor": 5
}